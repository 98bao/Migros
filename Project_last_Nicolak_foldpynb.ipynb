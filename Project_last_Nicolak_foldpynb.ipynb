{
  "nbformat": 4,
  "nbformat_minor": 0,
  "metadata": {
    "colab": {
      "name": "Project_last_Nicolak-foldpynb",
      "provenance": [],
      "collapsed_sections": [],
      "toc_visible": true,
      "include_colab_link": true
    },
    "kernelspec": {
      "name": "python3",
      "display_name": "Python 3"
    },
    "accelerator": "GPU"
  },
  "cells": [
    {
      "cell_type": "markdown",
      "metadata": {
        "id": "view-in-github",
        "colab_type": "text"
      },
      "source": [
        "<a href=\"https://colab.research.google.com/github/98bao/Migros/blob/main/Project_last_Nicolak_foldpynb.ipynb\" target=\"_parent\"><img src=\"https://colab.research.google.com/assets/colab-badge.svg\" alt=\"Open In Colab\"/></a>"
      ]
    },
    {
      "cell_type": "markdown",
      "metadata": {
        "id": "XrzyRYGbESJu"
      },
      "source": [
        "#DMML2020 - Project\n",
        "![mod-fr-logo.png](data:image/png;base64,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)\n",
        "##Classification problem\n",
        "In this project we analyze the data to know if a tweet is about a real disaster (target = 1) or not (target = 0).\n",
        "\n",
        "\n",
        "In this first iteration we just fit the training data in the Logistic regression and observe the accuracy."
      ]
    },
    {
      "cell_type": "markdown",
      "metadata": {
        "id": "tO9MSBRePXde"
      },
      "source": [
        "#Report 📋\n",
        "  1) At first we submitted a simple logistic regression without data cleaning which gave us a satisfying accuracy of **0.805** on AICrowd\n",
        "  \n",
        "  2) We cleaned the text by deleting unecessary elements, then applied a logistic regression with cross validation (LRCV). Although the model built on the train data is pretty good, the accuracy on AICrowd got lower: **0.797**\n",
        "\n",
        "  3) We used the Random Forest Classifier (RFC) and its model accuracy seemed very promising (0.97 for the train data) however, whilst submitting to AICrowd we got only a result of **0.77**. It seems like we are missing an important point as our accuracy keeps getting lower. Perhaps our model is overfitting the train data, thus we have to correct our parameters"
      ]
    },
    {
      "cell_type": "markdown",
      "metadata": {
        "id": "N4NAEzRJulWP"
      },
      "source": [
        "#Importing useful tools 🧰"
      ]
    },
    {
      "cell_type": "code",
      "metadata": {
        "id": "8uznVfXhudk5"
      },
      "source": [
        "import multiprocessing\n",
        "cores = multiprocessing.cpu_count()"
      ],
      "execution_count": 65,
      "outputs": []
    },
    {
      "cell_type": "code",
      "metadata": {
        "id": "jD-6gZ29AwoF"
      },
      "source": [
        "#clear output\n",
        "%%capture \n",
        "# Install and update spaCy\n",
        "!pip install -U spacy\n",
        "\n",
        "!python -m spacy download en"
      ],
      "execution_count": 2,
      "outputs": []
    },
    {
      "cell_type": "code",
      "metadata": {
        "id": "U6zvOnxtT_-A"
      },
      "source": [
        "import spacy\r\n",
        "from spacy import displacy"
      ],
      "execution_count": 66,
      "outputs": []
    },
    {
      "cell_type": "code",
      "metadata": {
        "id": "C6d2BmSEP_x_"
      },
      "source": [
        "import spacy\r\n",
        "from spacy import displacy"
      ],
      "execution_count": 67,
      "outputs": []
    },
    {
      "cell_type": "code",
      "metadata": {
        "colab": {
          "base_uri": "https://localhost:8080/"
        },
        "id": "TyLj5HdK0vWr",
        "outputId": "b5a2a799-2a9b-4fda-af14-8dec44879497"
      },
      "source": [
        "!pip install pyspellchecker"
      ],
      "execution_count": 5,
      "outputs": [
        {
          "output_type": "stream",
          "text": [
            "Collecting pyspellchecker\n",
            "\u001b[?25l  Downloading https://files.pythonhosted.org/packages/f1/96/827c132397d0eb5731c1eda05dbfb019ede064ca8c7d0f329160ce0a4acd/pyspellchecker-0.5.5-py2.py3-none-any.whl (1.9MB)\n",
            "\r\u001b[K     |▏                               | 10kB 19.2MB/s eta 0:00:01\r\u001b[K     |▍                               | 20kB 26.1MB/s eta 0:00:01\r\u001b[K     |▌                               | 30kB 24.6MB/s eta 0:00:01\r\u001b[K     |▊                               | 40kB 21.5MB/s eta 0:00:01\r\u001b[K     |▉                               | 51kB 19.0MB/s eta 0:00:01\r\u001b[K     |█                               | 61kB 15.2MB/s eta 0:00:01\r\u001b[K     |█▏                              | 71kB 15.9MB/s eta 0:00:01\r\u001b[K     |█▍                              | 81kB 15.9MB/s eta 0:00:01\r\u001b[K     |█▌                              | 92kB 15.1MB/s eta 0:00:01\r\u001b[K     |█▊                              | 102kB 14.8MB/s eta 0:00:01\r\u001b[K     |█▉                              | 112kB 14.8MB/s eta 0:00:01\r\u001b[K     |██                              | 122kB 14.8MB/s eta 0:00:01\r\u001b[K     |██▎                             | 133kB 14.8MB/s eta 0:00:01\r\u001b[K     |██▍                             | 143kB 14.8MB/s eta 0:00:01\r\u001b[K     |██▋                             | 153kB 14.8MB/s eta 0:00:01\r\u001b[K     |██▊                             | 163kB 14.8MB/s eta 0:00:01\r\u001b[K     |███                             | 174kB 14.8MB/s eta 0:00:01\r\u001b[K     |███                             | 184kB 14.8MB/s eta 0:00:01\r\u001b[K     |███▎                            | 194kB 14.8MB/s eta 0:00:01\r\u001b[K     |███▍                            | 204kB 14.8MB/s eta 0:00:01\r\u001b[K     |███▋                            | 215kB 14.8MB/s eta 0:00:01\r\u001b[K     |███▊                            | 225kB 14.8MB/s eta 0:00:01\r\u001b[K     |████                            | 235kB 14.8MB/s eta 0:00:01\r\u001b[K     |████▏                           | 245kB 14.8MB/s eta 0:00:01\r\u001b[K     |████▎                           | 256kB 14.8MB/s eta 0:00:01\r\u001b[K     |████▌                           | 266kB 14.8MB/s eta 0:00:01\r\u001b[K     |████▋                           | 276kB 14.8MB/s eta 0:00:01\r\u001b[K     |████▉                           | 286kB 14.8MB/s eta 0:00:01\r\u001b[K     |█████                           | 296kB 14.8MB/s eta 0:00:01\r\u001b[K     |█████▏                          | 307kB 14.8MB/s eta 0:00:01\r\u001b[K     |█████▎                          | 317kB 14.8MB/s eta 0:00:01\r\u001b[K     |█████▌                          | 327kB 14.8MB/s eta 0:00:01\r\u001b[K     |█████▋                          | 337kB 14.8MB/s eta 0:00:01\r\u001b[K     |█████▉                          | 348kB 14.8MB/s eta 0:00:01\r\u001b[K     |██████                          | 358kB 14.8MB/s eta 0:00:01\r\u001b[K     |██████▏                         | 368kB 14.8MB/s eta 0:00:01\r\u001b[K     |██████▍                         | 378kB 14.8MB/s eta 0:00:01\r\u001b[K     |██████▌                         | 389kB 14.8MB/s eta 0:00:01\r\u001b[K     |██████▊                         | 399kB 14.8MB/s eta 0:00:01\r\u001b[K     |██████▉                         | 409kB 14.8MB/s eta 0:00:01\r\u001b[K     |███████                         | 419kB 14.8MB/s eta 0:00:01\r\u001b[K     |███████▏                        | 430kB 14.8MB/s eta 0:00:01\r\u001b[K     |███████▍                        | 440kB 14.8MB/s eta 0:00:01\r\u001b[K     |███████▌                        | 450kB 14.8MB/s eta 0:00:01\r\u001b[K     |███████▊                        | 460kB 14.8MB/s eta 0:00:01\r\u001b[K     |████████                        | 471kB 14.8MB/s eta 0:00:01\r\u001b[K     |████████                        | 481kB 14.8MB/s eta 0:00:01\r\u001b[K     |████████▎                       | 491kB 14.8MB/s eta 0:00:01\r\u001b[K     |████████▍                       | 501kB 14.8MB/s eta 0:00:01\r\u001b[K     |████████▋                       | 512kB 14.8MB/s eta 0:00:01\r\u001b[K     |████████▊                       | 522kB 14.8MB/s eta 0:00:01\r\u001b[K     |█████████                       | 532kB 14.8MB/s eta 0:00:01\r\u001b[K     |█████████                       | 542kB 14.8MB/s eta 0:00:01\r\u001b[K     |█████████▎                      | 552kB 14.8MB/s eta 0:00:01\r\u001b[K     |█████████▍                      | 563kB 14.8MB/s eta 0:00:01\r\u001b[K     |█████████▋                      | 573kB 14.8MB/s eta 0:00:01\r\u001b[K     |█████████▉                      | 583kB 14.8MB/s eta 0:00:01\r\u001b[K     |██████████                      | 593kB 14.8MB/s eta 0:00:01\r\u001b[K     |██████████▏                     | 604kB 14.8MB/s eta 0:00:01\r\u001b[K     |██████████▎                     | 614kB 14.8MB/s eta 0:00:01\r\u001b[K     |██████████▌                     | 624kB 14.8MB/s eta 0:00:01\r\u001b[K     |██████████▋                     | 634kB 14.8MB/s eta 0:00:01\r\u001b[K     |██████████▉                     | 645kB 14.8MB/s eta 0:00:01\r\u001b[K     |███████████                     | 655kB 14.8MB/s eta 0:00:01\r\u001b[K     |███████████▏                    | 665kB 14.8MB/s eta 0:00:01\r\u001b[K     |███████████▎                    | 675kB 14.8MB/s eta 0:00:01\r\u001b[K     |███████████▌                    | 686kB 14.8MB/s eta 0:00:01\r\u001b[K     |███████████▊                    | 696kB 14.8MB/s eta 0:00:01\r\u001b[K     |███████████▉                    | 706kB 14.8MB/s eta 0:00:01\r\u001b[K     |████████████                    | 716kB 14.8MB/s eta 0:00:01\r\u001b[K     |████████████▏                   | 727kB 14.8MB/s eta 0:00:01\r\u001b[K     |████████████▍                   | 737kB 14.8MB/s eta 0:00:01\r\u001b[K     |████████████▌                   | 747kB 14.8MB/s eta 0:00:01\r\u001b[K     |████████████▊                   | 757kB 14.8MB/s eta 0:00:01\r\u001b[K     |████████████▉                   | 768kB 14.8MB/s eta 0:00:01\r\u001b[K     |█████████████                   | 778kB 14.8MB/s eta 0:00:01\r\u001b[K     |█████████████▏                  | 788kB 14.8MB/s eta 0:00:01\r\u001b[K     |█████████████▍                  | 798kB 14.8MB/s eta 0:00:01\r\u001b[K     |█████████████▋                  | 808kB 14.8MB/s eta 0:00:01\r\u001b[K     |█████████████▊                  | 819kB 14.8MB/s eta 0:00:01\r\u001b[K     |██████████████                  | 829kB 14.8MB/s eta 0:00:01\r\u001b[K     |██████████████                  | 839kB 14.8MB/s eta 0:00:01\r\u001b[K     |██████████████▎                 | 849kB 14.8MB/s eta 0:00:01\r\u001b[K     |██████████████▍                 | 860kB 14.8MB/s eta 0:00:01\r\u001b[K     |██████████████▋                 | 870kB 14.8MB/s eta 0:00:01\r\u001b[K     |██████████████▊                 | 880kB 14.8MB/s eta 0:00:01\r\u001b[K     |███████████████                 | 890kB 14.8MB/s eta 0:00:01\r\u001b[K     |███████████████                 | 901kB 14.8MB/s eta 0:00:01\r\u001b[K     |███████████████▎                | 911kB 14.8MB/s eta 0:00:01\r\u001b[K     |███████████████▌                | 921kB 14.8MB/s eta 0:00:01\r\u001b[K     |███████████████▋                | 931kB 14.8MB/s eta 0:00:01\r\u001b[K     |███████████████▉                | 942kB 14.8MB/s eta 0:00:01\r\u001b[K     |████████████████                | 952kB 14.8MB/s eta 0:00:01\r\u001b[K     |████████████████▏               | 962kB 14.8MB/s eta 0:00:01\r\u001b[K     |████████████████▎               | 972kB 14.8MB/s eta 0:00:01\r\u001b[K     |████████████████▌               | 983kB 14.8MB/s eta 0:00:01\r\u001b[K     |████████████████▋               | 993kB 14.8MB/s eta 0:00:01\r\u001b[K     |████████████████▉               | 1.0MB 14.8MB/s eta 0:00:01\r\u001b[K     |█████████████████               | 1.0MB 14.8MB/s eta 0:00:01\r\u001b[K     |█████████████████▏              | 1.0MB 14.8MB/s eta 0:00:01\r\u001b[K     |█████████████████▍              | 1.0MB 14.8MB/s eta 0:00:01\r\u001b[K     |█████████████████▌              | 1.0MB 14.8MB/s eta 0:00:01\r\u001b[K     |█████████████████▊              | 1.1MB 14.8MB/s eta 0:00:01\r\u001b[K     |█████████████████▉              | 1.1MB 14.8MB/s eta 0:00:01\r\u001b[K     |██████████████████              | 1.1MB 14.8MB/s eta 0:00:01\r\u001b[K     |██████████████████▏             | 1.1MB 14.8MB/s eta 0:00:01\r\u001b[K     |██████████████████▍             | 1.1MB 14.8MB/s eta 0:00:01\r\u001b[K     |██████████████████▌             | 1.1MB 14.8MB/s eta 0:00:01\r\u001b[K     |██████████████████▊             | 1.1MB 14.8MB/s eta 0:00:01\r\u001b[K     |██████████████████▉             | 1.1MB 14.8MB/s eta 0:00:01\r\u001b[K     |███████████████████             | 1.1MB 14.8MB/s eta 0:00:01\r\u001b[K     |███████████████████▎            | 1.1MB 14.8MB/s eta 0:00:01\r\u001b[K     |███████████████████▍            | 1.2MB 14.8MB/s eta 0:00:01\r\u001b[K     |███████████████████▋            | 1.2MB 14.8MB/s eta 0:00:01\r\u001b[K     |███████████████████▊            | 1.2MB 14.8MB/s eta 0:00:01\r\u001b[K     |████████████████████            | 1.2MB 14.8MB/s eta 0:00:01\r\u001b[K     |████████████████████            | 1.2MB 14.8MB/s eta 0:00:01\r\u001b[K     |████████████████████▎           | 1.2MB 14.8MB/s eta 0:00:01\r\u001b[K     |████████████████████▍           | 1.2MB 14.8MB/s eta 0:00:01\r\u001b[K     |████████████████████▋           | 1.2MB 14.8MB/s eta 0:00:01\r\u001b[K     |████████████████████▊           | 1.2MB 14.8MB/s eta 0:00:01\r\u001b[K     |█████████████████████           | 1.2MB 14.8MB/s eta 0:00:01\r\u001b[K     |█████████████████████▏          | 1.3MB 14.8MB/s eta 0:00:01\r\u001b[K     |█████████████████████▎          | 1.3MB 14.8MB/s eta 0:00:01\r\u001b[K     |█████████████████████▌          | 1.3MB 14.8MB/s eta 0:00:01\r\u001b[K     |█████████████████████▋          | 1.3MB 14.8MB/s eta 0:00:01\r\u001b[K     |█████████████████████▉          | 1.3MB 14.8MB/s eta 0:00:01\r\u001b[K     |██████████████████████          | 1.3MB 14.8MB/s eta 0:00:01\r\u001b[K     |██████████████████████▏         | 1.3MB 14.8MB/s eta 0:00:01\r\u001b[K     |██████████████████████▎         | 1.3MB 14.8MB/s eta 0:00:01\r\u001b[K     |██████████████████████▌         | 1.3MB 14.8MB/s eta 0:00:01\r\u001b[K     |██████████████████████▋         | 1.4MB 14.8MB/s eta 0:00:01\r\u001b[K     |██████████████████████▉         | 1.4MB 14.8MB/s eta 0:00:01\r\u001b[K     |███████████████████████         | 1.4MB 14.8MB/s eta 0:00:01\r\u001b[K     |███████████████████████▏        | 1.4MB 14.8MB/s eta 0:00:01\r\u001b[K     |███████████████████████▍        | 1.4MB 14.8MB/s eta 0:00:01\r\u001b[K     |███████████████████████▌        | 1.4MB 14.8MB/s eta 0:00:01\r\u001b[K     |███████████████████████▊        | 1.4MB 14.8MB/s eta 0:00:01\r\u001b[K     |███████████████████████▉        | 1.4MB 14.8MB/s eta 0:00:01\r\u001b[K     |████████████████████████        | 1.4MB 14.8MB/s eta 0:00:01\r\u001b[K     |████████████████████████▏       | 1.4MB 14.8MB/s eta 0:00:01\r\u001b[K     |████████████████████████▍       | 1.5MB 14.8MB/s eta 0:00:01\r\u001b[K     |████████████████████████▌       | 1.5MB 14.8MB/s eta 0:00:01\r\u001b[K     |████████████████████████▊       | 1.5MB 14.8MB/s eta 0:00:01\r\u001b[K     |█████████████████████████       | 1.5MB 14.8MB/s eta 0:00:01\r\u001b[K     |█████████████████████████       | 1.5MB 14.8MB/s eta 0:00:01\r\u001b[K     |█████████████████████████▎      | 1.5MB 14.8MB/s eta 0:00:01\r\u001b[K     |█████████████████████████▍      | 1.5MB 14.8MB/s eta 0:00:01\r\u001b[K     |█████████████████████████▋      | 1.5MB 14.8MB/s eta 0:00:01\r\u001b[K     |█████████████████████████▊      | 1.5MB 14.8MB/s eta 0:00:01\r\u001b[K     |██████████████████████████      | 1.5MB 14.8MB/s eta 0:00:01\r\u001b[K     |██████████████████████████      | 1.6MB 14.8MB/s eta 0:00:01\r\u001b[K     |██████████████████████████▎     | 1.6MB 14.8MB/s eta 0:00:01\r\u001b[K     |██████████████████████████▍     | 1.6MB 14.8MB/s eta 0:00:01\r\u001b[K     |██████████████████████████▋     | 1.6MB 14.8MB/s eta 0:00:01\r\u001b[K     |██████████████████████████▉     | 1.6MB 14.8MB/s eta 0:00:01\r\u001b[K     |███████████████████████████     | 1.6MB 14.8MB/s eta 0:00:01\r\u001b[K     |███████████████████████████▏    | 1.6MB 14.8MB/s eta 0:00:01\r\u001b[K     |███████████████████████████▎    | 1.6MB 14.8MB/s eta 0:00:01\r\u001b[K     |███████████████████████████▌    | 1.6MB 14.8MB/s eta 0:00:01\r\u001b[K     |███████████████████████████▋    | 1.6MB 14.8MB/s eta 0:00:01\r\u001b[K     |███████████████████████████▉    | 1.7MB 14.8MB/s eta 0:00:01\r\u001b[K     |████████████████████████████    | 1.7MB 14.8MB/s eta 0:00:01\r\u001b[K     |████████████████████████████▏   | 1.7MB 14.8MB/s eta 0:00:01\r\u001b[K     |████████████████████████████▎   | 1.7MB 14.8MB/s eta 0:00:01\r\u001b[K     |████████████████████████████▌   | 1.7MB 14.8MB/s eta 0:00:01\r\u001b[K     |████████████████████████████▊   | 1.7MB 14.8MB/s eta 0:00:01\r\u001b[K     |████████████████████████████▉   | 1.7MB 14.8MB/s eta 0:00:01\r\u001b[K     |█████████████████████████████   | 1.7MB 14.8MB/s eta 0:00:01\r\u001b[K     |█████████████████████████████▏  | 1.7MB 14.8MB/s eta 0:00:01\r\u001b[K     |█████████████████████████████▍  | 1.8MB 14.8MB/s eta 0:00:01\r\u001b[K     |█████████████████████████████▌  | 1.8MB 14.8MB/s eta 0:00:01\r\u001b[K     |█████████████████████████████▊  | 1.8MB 14.8MB/s eta 0:00:01\r\u001b[K     |█████████████████████████████▉  | 1.8MB 14.8MB/s eta 0:00:01\r\u001b[K     |██████████████████████████████  | 1.8MB 14.8MB/s eta 0:00:01\r\u001b[K     |██████████████████████████████▏ | 1.8MB 14.8MB/s eta 0:00:01\r\u001b[K     |██████████████████████████████▍ | 1.8MB 14.8MB/s eta 0:00:01\r\u001b[K     |██████████████████████████████▋ | 1.8MB 14.8MB/s eta 0:00:01\r\u001b[K     |██████████████████████████████▊ | 1.8MB 14.8MB/s eta 0:00:01\r\u001b[K     |███████████████████████████████ | 1.8MB 14.8MB/s eta 0:00:01\r\u001b[K     |███████████████████████████████ | 1.9MB 14.8MB/s eta 0:00:01\r\u001b[K     |███████████████████████████████▎| 1.9MB 14.8MB/s eta 0:00:01\r\u001b[K     |███████████████████████████████▍| 1.9MB 14.8MB/s eta 0:00:01\r\u001b[K     |███████████████████████████████▋| 1.9MB 14.8MB/s eta 0:00:01\r\u001b[K     |███████████████████████████████▊| 1.9MB 14.8MB/s eta 0:00:01\r\u001b[K     |████████████████████████████████| 1.9MB 14.8MB/s eta 0:00:01\r\u001b[K     |████████████████████████████████| 1.9MB 14.8MB/s \n",
            "\u001b[?25hInstalling collected packages: pyspellchecker\n",
            "Successfully installed pyspellchecker-0.5.5\n"
          ],
          "name": "stdout"
        }
      ]
    },
    {
      "cell_type": "code",
      "metadata": {
        "id": "JIExIErC2XEE"
      },
      "source": [
        "from textblob import TextBlob\n"
      ],
      "execution_count": 6,
      "outputs": []
    },
    {
      "cell_type": "code",
      "metadata": {
        "id": "BL8FAIy_D97-"
      },
      "source": [
        "#clear output\n",
        "%%capture \n",
        "\n",
        "#Importing useful extensions\n",
        "import numpy as np\n",
        "import pandas as pd\n",
        "import re\n",
        "\n",
        "from sklearn.feature_extraction.text import CountVectorizer, TfidfVectorizer\n",
        "from sklearn.pipeline import Pipeline\n",
        "\n",
        "import string\n",
        "from spellchecker import SpellChecker\n",
        "\n",
        "from spacy.lang.en.stop_words import STOP_WORDS\n",
        "from spacy.lang.en import English\n",
        "from sklearn.model_selection import train_test_split\n",
        "from sklearn.linear_model import LogisticRegression\n",
        "from sklearn.metrics import confusion_matrix, accuracy_score, precision_score, recall_score, f1_score\n",
        "from sklearn.model_selection import GridSearchCV\n",
        "from sklearn.svm import SVC\n",
        "from gensim.parsing.preprocessing import remove_stopwords"
      ],
      "execution_count": 7,
      "outputs": []
    },
    {
      "cell_type": "code",
      "metadata": {
        "id": "bH9yC_JryZH9"
      },
      "source": [
        "import matplotlib.pyplot as plt\n"
      ],
      "execution_count": 8,
      "outputs": []
    },
    {
      "cell_type": "markdown",
      "metadata": {
        "id": "Rs646BIHutyE"
      },
      "source": [
        "#Importing the project dataframes in the notebook 📚\n",
        "In the following cells, we import some raw dataframes that we are going to use for the project"
      ]
    },
    {
      "cell_type": "code",
      "metadata": {
        "id": "-SI2JEC6p6MW",
        "colab": {
          "base_uri": "https://localhost:8080/",
          "height": 204
        },
        "outputId": "70b7415c-608d-421e-d879-ad319fbe65b8"
      },
      "source": [
        "#Reading the dataframe to build our model\n",
        "df_train = pd.read_csv(\"https://raw.githubusercontent.com/98bao/Migros/main/data/training_data.csv\")\n",
        "df_train.head(5)"
      ],
      "execution_count": 68,
      "outputs": [
        {
          "output_type": "execute_result",
          "data": {
            "text/html": [
              "<div>\n",
              "<style scoped>\n",
              "    .dataframe tbody tr th:only-of-type {\n",
              "        vertical-align: middle;\n",
              "    }\n",
              "\n",
              "    .dataframe tbody tr th {\n",
              "        vertical-align: top;\n",
              "    }\n",
              "\n",
              "    .dataframe thead th {\n",
              "        text-align: right;\n",
              "    }\n",
              "</style>\n",
              "<table border=\"1\" class=\"dataframe\">\n",
              "  <thead>\n",
              "    <tr style=\"text-align: right;\">\n",
              "      <th></th>\n",
              "      <th>id</th>\n",
              "      <th>keyword</th>\n",
              "      <th>location</th>\n",
              "      <th>text</th>\n",
              "      <th>target</th>\n",
              "    </tr>\n",
              "  </thead>\n",
              "  <tbody>\n",
              "    <tr>\n",
              "      <th>0</th>\n",
              "      <td>3738</td>\n",
              "      <td>destroyed</td>\n",
              "      <td>USA</td>\n",
              "      <td>Black Eye 9: A space battle occurred at Star O...</td>\n",
              "      <td>0</td>\n",
              "    </tr>\n",
              "    <tr>\n",
              "      <th>1</th>\n",
              "      <td>853</td>\n",
              "      <td>bioterror</td>\n",
              "      <td>NaN</td>\n",
              "      <td>#world FedEx no longer to transport bioterror ...</td>\n",
              "      <td>0</td>\n",
              "    </tr>\n",
              "    <tr>\n",
              "      <th>2</th>\n",
              "      <td>10540</td>\n",
              "      <td>windstorm</td>\n",
              "      <td>Palm Beach County, FL</td>\n",
              "      <td>Reality Training: Train falls off elevated tra...</td>\n",
              "      <td>1</td>\n",
              "    </tr>\n",
              "    <tr>\n",
              "      <th>3</th>\n",
              "      <td>5988</td>\n",
              "      <td>hazardous</td>\n",
              "      <td>USA</td>\n",
              "      <td>#Taiwan Grace: expect that large rocks trees m...</td>\n",
              "      <td>1</td>\n",
              "    </tr>\n",
              "    <tr>\n",
              "      <th>4</th>\n",
              "      <td>6328</td>\n",
              "      <td>hostage</td>\n",
              "      <td>Australia</td>\n",
              "      <td>New ISIS Video: ISIS Threatens to Behead Croat...</td>\n",
              "      <td>1</td>\n",
              "    </tr>\n",
              "  </tbody>\n",
              "</table>\n",
              "</div>"
            ],
            "text/plain": [
              "      id    keyword  ...                                               text target\n",
              "0   3738  destroyed  ...  Black Eye 9: A space battle occurred at Star O...      0\n",
              "1    853  bioterror  ...  #world FedEx no longer to transport bioterror ...      0\n",
              "2  10540  windstorm  ...  Reality Training: Train falls off elevated tra...      1\n",
              "3   5988  hazardous  ...  #Taiwan Grace: expect that large rocks trees m...      1\n",
              "4   6328    hostage  ...  New ISIS Video: ISIS Threatens to Behead Croat...      1\n",
              "\n",
              "[5 rows x 5 columns]"
            ]
          },
          "metadata": {
            "tags": []
          },
          "execution_count": 68
        }
      ]
    },
    {
      "cell_type": "code",
      "metadata": {
        "id": "WKe5CpOADsUu",
        "colab": {
          "base_uri": "https://localhost:8080/",
          "height": 235
        },
        "outputId": "6a8cd109-d7c7-4687-ff8f-b4f46382b20b"
      },
      "source": [
        "#Reading dataframe which is going to be tested\n",
        "df_test = pd.read_csv(\"https://raw.githubusercontent.com/98bao/Migros/main/data/test_data.csv\")\n",
        "df_test.head(6)"
      ],
      "execution_count": 69,
      "outputs": [
        {
          "output_type": "execute_result",
          "data": {
            "text/html": [
              "<div>\n",
              "<style scoped>\n",
              "    .dataframe tbody tr th:only-of-type {\n",
              "        vertical-align: middle;\n",
              "    }\n",
              "\n",
              "    .dataframe tbody tr th {\n",
              "        vertical-align: top;\n",
              "    }\n",
              "\n",
              "    .dataframe thead th {\n",
              "        text-align: right;\n",
              "    }\n",
              "</style>\n",
              "<table border=\"1\" class=\"dataframe\">\n",
              "  <thead>\n",
              "    <tr style=\"text-align: right;\">\n",
              "      <th></th>\n",
              "      <th>id</th>\n",
              "      <th>keyword</th>\n",
              "      <th>location</th>\n",
              "      <th>text</th>\n",
              "    </tr>\n",
              "  </thead>\n",
              "  <tbody>\n",
              "    <tr>\n",
              "      <th>0</th>\n",
              "      <td>9972</td>\n",
              "      <td>tsunami</td>\n",
              "      <td>NaN</td>\n",
              "      <td>Crptotech tsunami and banks.\\n http://t.co/KHz...</td>\n",
              "    </tr>\n",
              "    <tr>\n",
              "      <th>1</th>\n",
              "      <td>9865</td>\n",
              "      <td>traumatised</td>\n",
              "      <td>Portsmouth, UK</td>\n",
              "      <td>I'm that traumatised that I can't even spell p...</td>\n",
              "    </tr>\n",
              "    <tr>\n",
              "      <th>2</th>\n",
              "      <td>1937</td>\n",
              "      <td>burning%20buildings</td>\n",
              "      <td>NaN</td>\n",
              "      <td>@foxnewsvideo @AIIAmericanGirI @ANHQDC So ... ...</td>\n",
              "    </tr>\n",
              "    <tr>\n",
              "      <th>3</th>\n",
              "      <td>3560</td>\n",
              "      <td>desolate</td>\n",
              "      <td>NaN</td>\n",
              "      <td>Me watching Law &amp;amp; Order (IB: @sauldale305)...</td>\n",
              "    </tr>\n",
              "    <tr>\n",
              "      <th>4</th>\n",
              "      <td>2731</td>\n",
              "      <td>crushed</td>\n",
              "      <td>bahstun/porta reeko</td>\n",
              "      <td>Papi absolutely crushed that ball</td>\n",
              "    </tr>\n",
              "    <tr>\n",
              "      <th>5</th>\n",
              "      <td>10020</td>\n",
              "      <td>twister</td>\n",
              "      <td>NaN</td>\n",
              "      <td>Brain twister let drop up telly structuring ca...</td>\n",
              "    </tr>\n",
              "  </tbody>\n",
              "</table>\n",
              "</div>"
            ],
            "text/plain": [
              "      id  ...                                               text\n",
              "0   9972  ...  Crptotech tsunami and banks.\\n http://t.co/KHz...\n",
              "1   9865  ...  I'm that traumatised that I can't even spell p...\n",
              "2   1937  ...  @foxnewsvideo @AIIAmericanGirI @ANHQDC So ... ...\n",
              "3   3560  ...  Me watching Law &amp; Order (IB: @sauldale305)...\n",
              "4   2731  ...                  Papi absolutely crushed that ball\n",
              "5  10020  ...  Brain twister let drop up telly structuring ca...\n",
              "\n",
              "[6 rows x 4 columns]"
            ]
          },
          "metadata": {
            "tags": []
          },
          "execution_count": 69
        }
      ]
    },
    {
      "cell_type": "code",
      "metadata": {
        "id": "GPXIETd0XWep"
      },
      "source": [
        "#Reading the sample submission\n",
        "sample_submission = pd.read_csv(\"https://raw.githubusercontent.com/98bao/Migros/main/data/sample_submission.csv\")"
      ],
      "execution_count": 70,
      "outputs": []
    },
    {
      "cell_type": "markdown",
      "metadata": {
        "id": "7VsqXyB2Rt_R"
      },
      "source": [
        "#Exploratory data analysis 🕵️\n",
        "\n",
        "1.   Base rate\n",
        "2.   List item\n",
        "\n"
      ]
    },
    {
      "cell_type": "markdown",
      "metadata": {
        "id": "IQNMU60cLMIN"
      },
      "source": [
        "####1. Base rate\n",
        "This indicate how often the most common value appears in the dataframe. We have to obtain an accuracy that is superior to the base rate to say that our classifier is well made."
      ]
    },
    {
      "cell_type": "code",
      "metadata": {
        "id": "xwbEL3b8GFtO",
        "colab": {
          "base_uri": "https://localhost:8080/"
        },
        "outputId": "e6086fc3-b153-4851-e4a8-5373049da387"
      },
      "source": [
        "#Base rate of the train df\n",
        "df_train['target'].value_counts() /len(df_train) \n",
        "\n",
        "#The base rate of this dataframe is 0.572"
      ],
      "execution_count": null,
      "outputs": [
        {
          "output_type": "execute_result",
          "data": {
            "text/plain": [
              "0    0.571936\n",
              "1    0.428064\n",
              "Name: target, dtype: float64"
            ]
          },
          "metadata": {
            "tags": []
          },
          "execution_count": 27
        }
      ]
    },
    {
      "cell_type": "code",
      "metadata": {
        "colab": {
          "base_uri": "https://localhost:8080/"
        },
        "id": "5MrFFGBsTTgn",
        "outputId": "502ec798-972c-41b0-c205-5280e911e83d"
      },
      "source": [
        "#Are there null values ?\n",
        "print(df_train.text.isnull().sum())\n",
        "print(df_train.keyword.isnull().sum())"
      ],
      "execution_count": null,
      "outputs": [
        {
          "output_type": "stream",
          "text": [
            "0\n",
            "55\n"
          ],
          "name": "stdout"
        }
      ]
    },
    {
      "cell_type": "code",
      "metadata": {
        "id": "XklcbmNOKTzn",
        "colab": {
          "base_uri": "https://localhost:8080/"
        },
        "outputId": "ce10199f-b2ab-4ad4-a2ae-3eeb0f83e01e"
      },
      "source": [
        "df_train.info()\n"
      ],
      "execution_count": null,
      "outputs": [
        {
          "output_type": "stream",
          "text": [
            "<class 'pandas.core.frame.DataFrame'>\n",
            "RangeIndex: 6471 entries, 0 to 6470\n",
            "Data columns (total 5 columns):\n",
            " #   Column    Non-Null Count  Dtype \n",
            "---  ------    --------------  ----- \n",
            " 0   id        6471 non-null   int64 \n",
            " 1   keyword   6416 non-null   object\n",
            " 2   location  4330 non-null   object\n",
            " 3   text      6471 non-null   object\n",
            " 4   target    6471 non-null   int64 \n",
            "dtypes: int64(2), object(3)\n",
            "memory usage: 252.9+ KB\n"
          ],
          "name": "stdout"
        }
      ]
    },
    {
      "cell_type": "markdown",
      "metadata": {
        "id": "xr07BaekKej2"
      },
      "source": [
        "#Building the tokenizer 🤖\n",
        "In the following part, we create our tokenizer which will be used to analyze the text column"
      ]
    },
    {
      "cell_type": "code",
      "metadata": {
        "id": "WP_WL2YrJ3nF",
        "colab": {
          "base_uri": "https://localhost:8080/",
          "height": 89
        },
        "outputId": "4561f591-f2c4-43e8-ff5f-68b4149e5e26"
      },
      "source": [
        "#Create Tokenizer\n",
        "\n",
        "#Stopwords\n",
        "stop_words = spacy.lang.en.stop_words.STOP_WORDS\n",
        "#Punctuation\n",
        "punctuations = string.punctuation\n",
        "\n",
        "sp = spacy.load('en_core_web_sm')\n",
        "\n",
        "#Tokenizer function\n",
        "def spacy_tokenizer(sentence):\n",
        "    mytokens = sp(sentence)\n",
        "\n",
        "# Lemmatize each token and convert each token into lowercase\n",
        "    mytokens = [ word.lemma_.lower().strip() if word.lemma_ != \"-PRON-\" else word.lower_ for word in mytokens ]  \n",
        "# Remove stop words and punctuation\n",
        "    mytokens = [ word for word in mytokens if word not in stop_words and word not in punctuations ]\n",
        "# Remove words with two letters or less\n",
        "    mytokens = [ word for word in mytokens if len(word)>2 ]   \n",
        "# Return preprocessed list of tokens\n",
        "    return mytokens\n",
        "#demo\n",
        "review = df_train[\"text\"].sample()\n",
        "review.values[0]\n"
      ],
      "execution_count": 30,
      "outputs": [
        {
          "output_type": "stream",
          "text": [
            "/usr/local/lib/python3.6/dist-packages/spacy/util.py:275: UserWarning: [W031] Model 'en_core_web_sm' (2.2.5) requires spaCy v2.2 and is incompatible with the current spaCy version (2.3.5). This may lead to unexpected results or runtime errors. To resolve this, download a newer compatible model or retrain your custom model with the current spaCy version. For more details and available updates, run: python -m spacy validate\n",
            "  warnings.warn(warn_msg)\n"
          ],
          "name": "stderr"
        },
        {
          "output_type": "execute_result",
          "data": {
            "application/vnd.google.colaboratory.intrinsic+json": {
              "type": "string"
            },
            "text/plain": [
              "'Hollywood movie about trapped miners released in Chile'"
            ]
          },
          "metadata": {
            "tags": []
          },
          "execution_count": 30
        }
      ]
    },
    {
      "cell_type": "code",
      "metadata": {
        "id": "y3nifglrKSf_"
      },
      "source": [
        "#TF-IDF feature vector\n",
        "tfidf_vector = TfidfVectorizer(tokenizer=spacy_tokenizer)"
      ],
      "execution_count": null,
      "outputs": []
    },
    {
      "cell_type": "markdown",
      "metadata": {
        "id": "b6MnoVaZLu3O"
      },
      "source": [
        "#Logistic regression and pipeline\n",
        "\n",
        "Our first iteration of the model: *No treatement of the dataframe*, just fitted in a logistic regression to see the result. We submitted this first try on AICrowd to check the accuracy of an uncleaned database.\n",
        "\n"
      ]
    },
    {
      "cell_type": "code",
      "metadata": {
        "id": "gq2BiGZiHYQc"
      },
      "source": [
        "#Setting up the train test split\n",
        "\n",
        "#First for the training data\n",
        "X = df_train['text']\n",
        "y = df_train['target']\n",
        "# Train test split\n",
        "X_train, X_test, y_train, y_test = train_test_split(X, y, test_size=0.2, random_state=123)"
      ],
      "execution_count": null,
      "outputs": []
    },
    {
      "cell_type": "code",
      "metadata": {
        "id": "3Vy-0-0O8bjC"
      },
      "source": [
        ""
      ],
      "execution_count": null,
      "outputs": []
    },
    {
      "cell_type": "code",
      "metadata": {
        "id": "d6Ys-_WFL7tL"
      },
      "source": [
        "#Linear reg\n",
        "LR = LogisticRegression(solver=\"lbfgs\", max_iter=100)\n",
        "\n",
        "#pipeline\n",
        "pipe = Pipeline([('vectorizer', tfidf_vector),\n",
        "                 ('classifier', LR)])"
      ],
      "execution_count": null,
      "outputs": []
    },
    {
      "cell_type": "code",
      "metadata": {
        "id": "lRVjRHl8MEWv",
        "colab": {
          "base_uri": "https://localhost:8080/"
        },
        "outputId": "076e8cb1-a8ba-479f-816f-599ba38cbb32"
      },
      "source": [
        "pipe.fit(X_train, y_train)"
      ],
      "execution_count": null,
      "outputs": [
        {
          "output_type": "execute_result",
          "data": {
            "text/plain": [
              "Pipeline(memory=None,\n",
              "         steps=[('vectorizer',\n",
              "                 TfidfVectorizer(analyzer='word', binary=False,\n",
              "                                 decode_error='strict',\n",
              "                                 dtype=<class 'numpy.float64'>,\n",
              "                                 encoding='utf-8', input='content',\n",
              "                                 lowercase=True, max_df=1.0, max_features=None,\n",
              "                                 min_df=1, ngram_range=(1, 1), norm='l2',\n",
              "                                 preprocessor=None, smooth_idf=True,\n",
              "                                 stop_words=None, strip_accents=None,\n",
              "                                 sublinear_tf=False,\n",
              "                                 token_patt...,\n",
              "                                 tokenizer=<function spacy_tokenizer at 0x7fb1ee75dae8>,\n",
              "                                 use_idf=True, vocabulary=None)),\n",
              "                ('classifier',\n",
              "                 LogisticRegression(C=1.0, class_weight=None, dual=False,\n",
              "                                    fit_intercept=True, intercept_scaling=1,\n",
              "                                    l1_ratio=None, max_iter=100,\n",
              "                                    multi_class='auto', n_jobs=None,\n",
              "                                    penalty='l2', random_state=None,\n",
              "                                    solver='lbfgs', tol=0.0001, verbose=0,\n",
              "                                    warm_start=False))],\n",
              "         verbose=False)"
            ]
          },
          "metadata": {
            "tags": []
          },
          "execution_count": 46
        }
      ]
    },
    {
      "cell_type": "markdown",
      "metadata": {
        "id": "vkaJup57POCU"
      },
      "source": [
        "####Accuracy"
      ]
    },
    {
      "cell_type": "code",
      "metadata": {
        "id": "7p1LnofbPKVw",
        "colab": {
          "base_uri": "https://localhost:8080/"
        },
        "outputId": "933db666-3d18-4506-c491-ea8f46017f2c"
      },
      "source": [
        "#Accuracy of the train data\n",
        "y_pred_train = pipe.predict(X_train)\n",
        "print(f\"TRAIN ACCURACY SCORE:\\n{accuracy_score(y_train, y_pred_train):.4f}\")\n",
        "print(f\"CONFUSION MATRIX:\\n{confusion_matrix(y_train, y_pred_train)}\")"
      ],
      "execution_count": null,
      "outputs": [
        {
          "output_type": "stream",
          "text": [
            "TRAIN ACCURACY SCORE:\n",
            "0.8906\n",
            "CONFUSION MATRIX:\n",
            "[[2852   82]\n",
            " [ 477 1698]]\n"
          ],
          "name": "stdout"
        }
      ]
    },
    {
      "cell_type": "code",
      "metadata": {
        "id": "DuqMFRCtIOdm",
        "colab": {
          "base_uri": "https://localhost:8080/"
        },
        "outputId": "48afda45-7790-458c-c541-0c2b0e49db15"
      },
      "source": [
        "#Accuracy of the test data\n",
        "y_pred_test = pipe.predict(X_test)\n",
        "print(f\"TEST ACCURACY SCORE:\\n{accuracy_score(y_test, y_pred_test):.4f}\")\n",
        "print(f\"CONFUSION MATRIX:\\n{confusion_matrix(y_test, y_pred_test)}\")"
      ],
      "execution_count": null,
      "outputs": [
        {
          "output_type": "stream",
          "text": [
            "TEST ACCURACY SCORE:\n",
            "0.8091\n",
            "CONFUSION MATRIX:\n",
            "[[681  61]\n",
            " [183 353]]\n"
          ],
          "name": "stdout"
        }
      ]
    },
    {
      "cell_type": "markdown",
      "metadata": {
        "id": "rLiBgJB_Rsg3"
      },
      "source": [
        "####Using keywords only\n",
        "This is a test to see if using only the keywords would give a good accuracy"
      ]
    },
    {
      "cell_type": "code",
      "metadata": {
        "id": "9EmmQH-AFcBC",
        "colab": {
          "base_uri": "https://localhost:8080/"
        },
        "outputId": "b6659409-942d-450d-94cf-2e51f44e7171"
      },
      "source": [
        "#Replace null value by an arbitrary string\n",
        "df_train.keyword.fillna(value = 'nokeyword', inplace = True)\n",
        "\n",
        "#Verify\n",
        "df_train.keyword.isnull().sum()"
      ],
      "execution_count": null,
      "outputs": [
        {
          "output_type": "execute_result",
          "data": {
            "text/plain": [
              "0"
            ]
          },
          "metadata": {
            "tags": []
          },
          "execution_count": 52
        }
      ]
    },
    {
      "cell_type": "code",
      "metadata": {
        "id": "f8EzaA20Savc"
      },
      "source": [
        "#Using keyword in the model\n",
        "features = ['keyword', 'text']\n",
        "\n",
        "X = df_train['keyword']\n",
        "y = df_train['target']\n",
        "# Train test split\n",
        "X_train, X_test, y_train, y_test = train_test_split(X, y, test_size=0.2, random_state=123)"
      ],
      "execution_count": null,
      "outputs": []
    },
    {
      "cell_type": "code",
      "metadata": {
        "id": "sXph3lkWSpAt"
      },
      "source": [
        "#Linear reg\n",
        "LR = LogisticRegression(solver=\"lbfgs\", max_iter=100)\n",
        "\n",
        "#pipeline\n",
        "pipe = Pipeline([('vectorizer', tfidf_vector),\n",
        "                 ('classifier', LR)])\n",
        "\n"
      ],
      "execution_count": null,
      "outputs": []
    },
    {
      "cell_type": "code",
      "metadata": {
        "colab": {
          "base_uri": "https://localhost:8080/"
        },
        "id": "G0CScxfjfMmK",
        "outputId": "8d11c091-981b-46eb-9cff-8b259292e5fb"
      },
      "source": [
        "#Fit\n",
        "pipe.fit(X_train, y_train)"
      ],
      "execution_count": null,
      "outputs": [
        {
          "output_type": "execute_result",
          "data": {
            "text/plain": [
              "Pipeline(memory=None,\n",
              "         steps=[('vectorizer',\n",
              "                 TfidfVectorizer(analyzer='word', binary=False,\n",
              "                                 decode_error='strict',\n",
              "                                 dtype=<class 'numpy.float64'>,\n",
              "                                 encoding='utf-8', input='content',\n",
              "                                 lowercase=True, max_df=1.0, max_features=None,\n",
              "                                 min_df=1, ngram_range=(1, 1), norm='l2',\n",
              "                                 preprocessor=None, smooth_idf=True,\n",
              "                                 stop_words=None, strip_accents=None,\n",
              "                                 sublinear_tf=False,\n",
              "                                 token_patt...,\n",
              "                                 tokenizer=<function spacy_tokenizer at 0x7f8d94447950>,\n",
              "                                 use_idf=True, vocabulary=None)),\n",
              "                ('classifier',\n",
              "                 LogisticRegression(C=1.0, class_weight=None, dual=False,\n",
              "                                    fit_intercept=True, intercept_scaling=1,\n",
              "                                    l1_ratio=None, max_iter=100,\n",
              "                                    multi_class='auto', n_jobs=None,\n",
              "                                    penalty='l2', random_state=None,\n",
              "                                    solver='lbfgs', tol=0.0001, verbose=0,\n",
              "                                    warm_start=False))],\n",
              "         verbose=False)"
            ]
          },
          "metadata": {
            "tags": []
          },
          "execution_count": 55
        }
      ]
    },
    {
      "cell_type": "code",
      "metadata": {
        "colab": {
          "base_uri": "https://localhost:8080/"
        },
        "id": "4EZ8O3oWxSwB",
        "outputId": "3b1102ef-4a58-4cdd-9c75-4493d6c39262"
      },
      "source": [
        "#Accuracy of the train data\n",
        "y_pred_train = pipe.predict(X_train)\n",
        "print(f\"TRAIN ACCURACY SCORE:\\n{accuracy_score(y_train, y_pred_train):.4f}\")\n",
        "print(f\"CONFUSION MATRIX:\\n{confusion_matrix(y_train, y_pred_train)}\")"
      ],
      "execution_count": null,
      "outputs": [
        {
          "output_type": "stream",
          "text": [
            "TRAIN ACCURACY SCORE:\n",
            "0.7361\n",
            "CONFUSION MATRIX:\n",
            "[[2374  587]\n",
            " [ 779 1436]]\n"
          ],
          "name": "stdout"
        }
      ]
    },
    {
      "cell_type": "code",
      "metadata": {
        "colab": {
          "base_uri": "https://localhost:8080/"
        },
        "id": "lFe2AOa0sRb9",
        "outputId": "0b1de2cf-9245-471d-fa3e-39929e374331"
      },
      "source": [
        "#Accuracy of the test data\n",
        "y_pred_test = pipe.predict(X_test)\n",
        "print(f\"TEST ACCURACY SCORE:\\n{accuracy_score(y_test, y_pred_test):.4f}\")\n",
        "print(f\"CONFUSION MATRIX:\\n{confusion_matrix(y_test, y_pred_test)}\")"
      ],
      "execution_count": null,
      "outputs": [
        {
          "output_type": "stream",
          "text": [
            "TEST ACCURACY SCORE:\n",
            "0.7174\n",
            "CONFUSION MATRIX:\n",
            "[[583 157]\n",
            " [209 346]]\n"
          ],
          "name": "stdout"
        }
      ]
    },
    {
      "cell_type": "markdown",
      "metadata": {
        "id": "7tID-6k-Hb9u"
      },
      "source": [
        "#Data cleaning 🧼\n",
        "To further improve the accuracy of our model, we cleaned the text column by removing unecessary elements such as URL, Tags and noise."
      ]
    },
    {
      "cell_type": "code",
      "metadata": {
        "id": "jEl30HhBxnIq"
      },
      "source": [
        "#Need to replace NaN values by blank spaces otherwise some funtions wont run  ----> is it right only on df_test ? \n",
        "df_test['text'] = df_test['text'].replace(np.nan, '')\n"
      ],
      "execution_count": 31,
      "outputs": []
    },
    {
      "cell_type": "code",
      "metadata": {
        "id": "Rv_0IeC8vPnv"
      },
      "source": [
        "\n",
        "#Clean duplicates\n",
        "df_train =  df_train.drop_duplicates(subset=['text'], keep='first')\n",
        "\n",
        "#replacing \"%20\" with space\n",
        "df_train['keyword'] = df_train['keyword'].replace('%20', ' ', regex = True)\n",
        "df_train['text'] = df_train['text'].replace('%20', ' ', regex = True)\n",
        "df_test['keyword'] = df_test['keyword'].replace('%20', ' ', regex = True)\n",
        "df_test['text'] = df_test['text'].replace('%20', ' ', regex = True)\n",
        "\n",
        "#removing twitter tags\n",
        "def remove_tags(text):\n",
        "  text = re.sub(r'@\\S+','',text)\n",
        "  return text\n",
        "\n",
        "df_train['text'] = df_train['text'].apply(lambda x: remove_tags(x))\n",
        "df_test['text'] = df_test['text'].apply(lambda x: remove_tags(x))\n",
        "\n",
        "#removing hashtags\n",
        "def remove_hash(text):\n",
        "  text = re.sub('#','',text)\n",
        "  return text\n",
        "\n",
        "df_train['text'] = df_train['text'].apply(lambda x: remove_hash(x))\n",
        "df_test['text'] = df_test['text'].apply(lambda x: remove_hash(x))\n",
        "\n",
        "#removing amp\n",
        "def amp(text):\n",
        "  text = re.sub('&amp;', '', text)\n",
        "  return text\n",
        "  \n",
        "df_train['text'] = df_train['text'].apply(lambda x: amp(x))\n",
        "df_test['text'] = df_test['text'].apply(lambda x: amp(x))\n",
        "\n",
        "#removing url\n",
        "def remove_url(text):\n",
        "  text = re.sub(r'http\\S+', '', text)\n",
        "  return text\n",
        "  \n",
        "df_train['text'] = df_train['text'].apply(lambda x: remove_url(x))\n",
        "df_test['text'] = df_test['text'].apply(lambda x: remove_url(x))\n",
        "\n"
      ],
      "execution_count": 32,
      "outputs": []
    },
    {
      "cell_type": "code",
      "metadata": {
        "id": "AjQPXRdU24_n"
      },
      "source": [
        ""
      ],
      "execution_count": null,
      "outputs": []
    },
    {
      "cell_type": "code",
      "metadata": {
        "id": "IyYc1rJcG0bF"
      },
      "source": [
        "#removing noises\n",
        "def remove_noise(text):\n",
        "  text = re.sub('RT ', '', text)\n",
        "  return text\n",
        "df_train['text'] = df_train['text'].apply(lambda x: remove_noise(x))\n",
        "df_test['text'] = df_test['text'].apply(lambda x: remove_noise(x))\n"
      ],
      "execution_count": 33,
      "outputs": []
    },
    {
      "cell_type": "code",
      "metadata": {
        "id": "xoNp4mFkB4zL"
      },
      "source": [
        "\n",
        "# Remove other strange characters noise\n",
        "def remove_noise_1(text):\n",
        "  \n",
        "  text = re.sub('&', '', text)\n",
        "  text = re.sub('', '', text)\n",
        "  text = re.sub('ûªs','',text)\n",
        "  return text\n",
        "\n",
        "df_train['text'] = df_train['text'].apply(lambda x: remove_noise_1(x))\n",
        "df_test['text'] = df_test['text'].apply(lambda x: remove_noise_1(x))\n",
        "\n",
        "#Remove multiple spaces and spaces from Start and End \n",
        "def remove_multiple_spaces(text):\n",
        "  text = re.sub(r\"\\s+\",\" \", text, flags = re.I)\n",
        "  text = re.sub(r\"^\\s+\", \"\", text)\n",
        "  return text\n",
        "df_train['text'] = df_train['text'].apply(lambda x: remove_multiple_spaces(x))\n",
        "df_test['text'] = df_test['text'].apply(lambda x: remove_multiple_spaces(x))\n",
        "\n",
        "#Remove uppercase character\n",
        "def remove_uppercase(text):\n",
        "   text = text.lower()\n",
        "   return text\n",
        "df_train['text'] = df_train['text'].apply(lambda x: remove_uppercase(x))\n",
        "df_test['text'] = df_test['text'].apply(lambda x: remove_uppercase(x))\n",
        "\n"
      ],
      "execution_count": 34,
      "outputs": []
    },
    {
      "cell_type": "markdown",
      "metadata": {
        "id": "T0l-J25GYsga"
      },
      "source": [
        "I did not use Following text cleaning methods (only above methods) and i obtained accuracy of 0.8177 with simple logreg.\n",
        "\n",
        "- Removing all the numbers makes prediction worse (i have got worst result removing them using the same random_state set on train test split andd on logreg). Maybe we have to mantain dates and remove only  \"strange\" numbers? (if so HOOOOOW?) \n",
        "- \n",
        "\n",
        "\n"
      ]
    },
    {
      "cell_type": "code",
      "metadata": {
        "id": "wqkyG-1FLUkz"
      },
      "source": [
        "# Remove Stopwords\n",
        "def remove_stopword(text):\n",
        "  text= remove_stopwords(text)\n",
        "  return text\n",
        "  \n",
        "df_train['text'] = df_train['text'].apply(lambda x: remove_stopword(x))\n",
        "df_test['text'] = df_test['text'].apply(lambda x: remove_stopword(x))\n",
        "\n",
        "#Remove uppercase character\n",
        "def remove_uppercase(text):\n",
        "   text = text.lower()\n",
        "   return text\n",
        "df_train['text'] = df_train['text'].apply(lambda x: remove_uppercase(x))\n",
        "df_test['text'] = df_test['text'].apply(lambda x: remove_uppercase(x))\n",
        "\n",
        "## Remove single charachters\n",
        "def remove_single_characters(text):\n",
        "   text = re.sub(r\"\\s+[a-zA-Z]\\s+\", \" \", text)\n",
        "   return text\n",
        "df_train['text'] = df_train['text'].apply(lambda x: remove_single_characters(x))\n",
        "df_test['text'] = df_test['text'].apply(lambda x: remove_single_characters(x))\n"
      ],
      "execution_count": null,
      "outputs": []
    },
    {
      "cell_type": "code",
      "metadata": {
        "id": "X1Qajgdr4JCH"
      },
      "source": [
        "# remove digits\n",
        "def remove_digits(text):\n",
        "  text = re.sub(r\"\\d\", \"\", text)\n",
        "  return text\n",
        "\n",
        "df_train['text'] = df_train['text'].apply(lambda x: remove_digits(x))\n",
        "df_test['text'] = df_test['text'].apply(lambda x: remove_digits(x))\n",
        "\n",
        "#Remove multiple spaces and spaces from Start and End \n",
        "def remove_multiple_spaces(text):\n",
        "  text = re.sub(r\"\\s+\",\" \", text, flags = re.I)\n",
        "  text = re.sub(r\"^\\s+\", \"\", text)\n",
        "  return text\n",
        "df_train['text'] = df_train['text'].apply(lambda x: remove_multiple_spaces(x))\n",
        "df_test['text'] = df_test['text'].apply(lambda x: remove_multiple_spaces(x))\n",
        "\n",
        "# Remove single charachters\n",
        "def remove_single_characters(text):\n",
        "   text = re.sub(r\"\\s+[a-zA-Z]\\s+\", \" \", text)\n",
        "   return text\n",
        "df_train['text'] = df_train['text'].apply(lambda x: remove_single_characters(x))\n",
        "df_test['text'] = df_test['text'].apply(lambda x: remove_single_characters(x))\n",
        "\n",
        "#Remove uppercase character\n",
        "def remove_uppercase(text):\n",
        "   text = text.lower()\n",
        "   return text\n",
        "df_train['text'] = df_train['text'].apply(lambda x: remove_uppercase(x))\n",
        "df_test['text'] = df_test['text'].apply(lambda x: remove_uppercase(x))\n",
        "\n",
        "# Remove other strange characters noise\n",
        "def remove_noise_1(text):\n",
        "  text = re.sub('û_', '',text)\n",
        "  text = re.sub('û', '', text)\n",
        "  text = re.sub('&', '', text)\n",
        "  text = re.sub('', '', text)\n",
        "  text = re.sub('ª', '', text)\n",
        "  text = re.sub('ûªs', '',text)\n",
        "  return text\n",
        "df_train['text'] = df_train['text'].apply(lambda x: remove_noise_1(x))\n",
        "df_test['text'] = df_test['text'].apply(lambda x: remove_noise_1(x))\n",
        "\n",
        "\n",
        "#removing punctuation\n",
        "def remove_punct(text):\n",
        "  text = \"\".join([char for char in text if char not in string.punctuation])\n",
        "  text = re.sub(r\"[0-9]+\", \"\", text)\n",
        "  return text\n",
        "\n",
        "df_train['text'] = df_train['text'].apply(lambda x: remove_punct(x))\n",
        "df_test['text'] = df_test['text'].apply(lambda x: remove_punct(x))"
      ],
      "execution_count": null,
      "outputs": []
    },
    {
      "cell_type": "code",
      "metadata": {
        "id": "wJk-Uz782a0E"
      },
      "source": [
        "#Spellchecking the text (it takes too much time)\n",
        "#df_train.text.apply(lambda txt: ''.join(TextBlob(txt).correct()))\n"
      ],
      "execution_count": null,
      "outputs": []
    },
    {
      "cell_type": "code",
      "metadata": {
        "colab": {
          "base_uri": "https://localhost:8080/",
          "height": 181
        },
        "id": "e613_cDzZ-zx",
        "outputId": "87838a9e-8591-4379-9014-4c10464c37bb"
      },
      "source": [
        "lalo =\"il campione di; calcio,  9999999 non. ri!!spetta le re??gole!!!!!! ???????????\"\n",
        "remove_punct(lalo)"
      ],
      "execution_count": null,
      "outputs": [
        {
          "output_type": "error",
          "ename": "NameError",
          "evalue": "ignored",
          "traceback": [
            "\u001b[0;31m---------------------------------------------------------------------------\u001b[0m",
            "\u001b[0;31mNameError\u001b[0m                                 Traceback (most recent call last)",
            "\u001b[0;32m<ipython-input-16-e241884b1728>\u001b[0m in \u001b[0;36m<module>\u001b[0;34m()\u001b[0m\n\u001b[1;32m      1\u001b[0m \u001b[0mlalo\u001b[0m \u001b[0;34m=\u001b[0m\u001b[0;34m\"il campione di; calcio,  9999999 non. ri!!spetta le re??gole!!!!!! ???????????\"\u001b[0m\u001b[0;34m\u001b[0m\u001b[0;34m\u001b[0m\u001b[0m\n\u001b[0;32m----> 2\u001b[0;31m \u001b[0mremove_punct\u001b[0m\u001b[0;34m(\u001b[0m\u001b[0mlalo\u001b[0m\u001b[0;34m)\u001b[0m\u001b[0;34m\u001b[0m\u001b[0;34m\u001b[0m\u001b[0m\n\u001b[0m",
            "\u001b[0;31mNameError\u001b[0m: name 'remove_punct' is not defined"
          ]
        }
      ]
    },
    {
      "cell_type": "code",
      "metadata": {
        "id": "CGVWfOwHvXZK"
      },
      "source": [
        "#Convert dataframes to csv file to check if the rows of text looks good\n",
        "df_train['text'].to_csv('df_train.csv')\n",
        "df_test.to_csv('df_test.csv')\n"
      ],
      "execution_count": null,
      "outputs": []
    },
    {
      "cell_type": "code",
      "metadata": {
        "id": "v-2qYTNiUG2h",
        "colab": {
          "base_uri": "https://localhost:8080/"
        },
        "outputId": "6592560c-1749-414a-fb78-5d442c125e1e"
      },
      "source": [
        "# We begin by grouping text message by target \n",
        "df_train_grouped =df_train[['target','text']].groupby(by='target').agg(lambda x: ' '.join(x))\n",
        "corpus = df_train_grouped['text']\n",
        "print(corpus)\n",
        "corpus0 = corpus[[0]]\n",
        "corpus1 = corpus[[1]]\n",
        "# Now we create a funcion in order to find the most common words\n",
        "def get_top_n_words(corpus, n=None):\n",
        "    vec = CountVectorizer().fit(corpus)\n",
        "    bag_of_words = vec.transform(corpus)\n",
        "    sum_words = bag_of_words.sum(axis=0) \n",
        "    words_freq = [(word, sum_words[0, idx]) for word, idx in     vec.vocabulary_.items()]\n",
        "    words_freq =sorted(words_freq, key = lambda x: x[1], reverse=True)\n",
        "    return words_freq[:n]"
      ],
      "execution_count": null,
      "outputs": [
        {
          "output_type": "stream",
          "text": [
            "target\n",
            "0    black eye 9: a space battle occurred at star o...\n",
            "1    reality training: train falls off elevated tra...\n",
            "Name: text, dtype: object\n"
          ],
          "name": "stdout"
        }
      ]
    },
    {
      "cell_type": "code",
      "metadata": {
        "id": "gMx43xZrUHqn",
        "colab": {
          "base_uri": "https://localhost:8080/"
        },
        "outputId": "a79e20e3-9bc5-4833-8347-a235367020e4"
      },
      "source": [
        "Whole_tweets_most_common_words = get_top_n_words(corpus, 100)\n",
        "print(Whole_tweets_most_common_words)\n",
        "df = pd.DataFrame(Whole_tweets_most_common_words, columns= ['Token', 'Frequency'])\n",
        "Tweets_0_most_common_words = get_top_n_words(corpus0, 30)\n",
        "Tweets_1_most_common_words = get_top_n_words(corpus1, 30)\n",
        "print(\"Corpus 0 :\", Tweets_0_most_common_words)\n",
        "print(\"Corpus 1 :\", Tweets_1_most_common_words)\n",
        "df1 = pd.DataFrame(Tweets_1_most_common_words, columns= ['Token', 'Frequency'])\n",
        "df0 = pd.DataFrame(Tweets_0_most_common_words, columns= ['Token', 'Frequency'])\n"
      ],
      "execution_count": null,
      "outputs": [
        {
          "output_type": "stream",
          "text": [
            "[('the', 502), ('like', 284), ('it', 270), ('you', 206), ('in', 166), ('people', 156), ('don', 156), ('new', 154), ('news', 137), ('emergency', 127), ('video', 123), ('disaster', 113), ('my', 111), ('we', 109), ('re', 108), ('is', 108), ('to', 107), ('police', 106), ('and', 100), ('this', 100), ('burning', 99), ('man', 99), ('body', 99), ('got', 98), ('that', 96), ('day', 95), ('storm', 95), ('know', 95), ('can', 95), ('buildings', 93), ('time', 93), ('what', 90), ('going', 88), ('nuclear', 87), ('love', 86), ('there', 85), ('now', 85), ('crash', 84), ('fire', 83), ('california', 83), ('fires', 82), ('suicide', 81), ('world', 80), ('good', 80), ('today', 79), ('if', 79), ('all', 78), ('dead', 77), ('he', 75), ('accident', 73), ('bomb', 72), ('me', 71), ('how', 71), ('they', 71), ('life', 70), ('attack', 70), ('no', 69), ('car', 69), ('think', 68), ('of', 68), ('home', 67), ('on', 67), ('train', 67), ('let', 66), ('but', 66), ('death', 66), ('way', 66), ('killed', 66), ('years', 64), ('war', 64), ('hiroshima', 64), ('help', 63), ('year', 63), ('right', 62), ('want', 62), ('us', 60), ('mass', 60), ('look', 59), ('so', 59), ('school', 58), ('need', 57), ('lol', 57), ('work', 56), ('gt', 56), ('collapse', 56), ('wreck', 54), ('for', 54), ('ve', 54), ('2015', 53), ('bombing', 53), ('not', 52), ('great', 52), ('forest', 52), ('old', 51), ('û_', 51), ('army', 51), ('just', 51), ('ll', 50), ('come', 49), ('watch', 49)]\n",
            "Corpus 0 : [('the', 295), ('like', 202), ('it', 193), ('you', 177), ('don', 115), ('new', 113), ('my', 88), ('body', 88), ('in', 81), ('video', 79), ('love', 78), ('people', 78), ('re', 76), ('can', 76), ('got', 74), ('know', 73), ('is', 72), ('day', 70), ('emergency', 67), ('to', 67), ('that', 67), ('time', 67), ('and', 63), ('going', 62), ('if', 62), ('man', 61), ('what', 59), ('good', 59), ('we', 58), ('me', 57)]\n",
            "Corpus 1 : [('the', 207), ('news', 97), ('in', 85), ('disaster', 83), ('like', 82), ('police', 81), ('people', 78), ('it', 77), ('california', 77), ('suicide', 74), ('fires', 71), ('storm', 68), ('hiroshima', 63), ('buildings', 62), ('killed', 62), ('emergency', 60), ('nuclear', 59), ('crash', 56), ('train', 55), ('fire', 55), ('accident', 54), ('attack', 51), ('we', 51), ('burning', 51), ('bombing', 50), ('bomb', 48), ('this', 46), ('wildfire', 45), ('video', 44), ('dead', 44)]\n"
          ],
          "name": "stdout"
        }
      ]
    },
    {
      "cell_type": "code",
      "metadata": {
        "id": "H_ywEew9ahwH"
      },
      "source": [
        "def barchart_most_frequent_words(data, title):\n",
        "    plt.style.use('dark_background')\n",
        "    token= data['Token']\n",
        "    frequency = data['Frequency']\n",
        "    plt.bar(token, frequency)\n",
        "    plt.title(title)\n",
        "    plt.xlabel('Most frequent Words')\n",
        "    plt.ylabel('Frequency')\n",
        "    return plt.show()"
      ],
      "execution_count": null,
      "outputs": []
    },
    {
      "cell_type": "code",
      "metadata": {
        "id": "4qnVxFNianO_",
        "colab": {
          "base_uri": "https://localhost:8080/",
          "height": 683
        },
        "outputId": "5f822edd-0624-44d4-e1ce-9fd282579e19"
      },
      "source": [
        "plt.rcParams['figure.figsize']= (30, 5)\n",
        "# Barchart Most important word \n",
        "barchart_most_frequent_words(df1, 'Most frequent words in Tweets that support real disaster')\n",
        "barchart_most_frequent_words (df0, 'Most frequent words in Tweets that does not support real disaster')"
      ],
      "execution_count": null,
      "outputs": [
        {
          "output_type": "display_data",
          "data": {
            "image/png": "[encoded data removed]",
            "text/plain": [
              "<Figure size 2160x360 with 1 Axes>"
            ]
          },
          "metadata": {
            "tags": []
          }
        },
        {
          "output_type": "display_data",
          "data": {
            "image/png": "[encoded data removed]",
            "text/plain": [
              "<Figure size 2160x360 with 1 Axes>"
            ]
          },
          "metadata": {
            "tags": []
          }
        }
      ]
    },
    {
      "cell_type": "markdown",
      "metadata": {
        "id": "m-esoujZbwzk"
      },
      "source": [
        "#Logistic regression and pipeline after Data cleaning \n",
        "\n",
        "Our second iteration of the model: *treatement of the dataframe with text cleaning*, fitted in a logistic regression to see the result.\n",
        "\n"
      ]
    },
    {
      "cell_type": "code",
      "metadata": {
        "id": "JEj02Wx3bPbn"
      },
      "source": [
        "#Setting up the train test split\n",
        "#First for the training data\n",
        "X = df_train['text']\n",
        "y = df_train['target']\n",
        "# Train test split\n",
        "X_train, X_test, y_train, y_test = train_test_split(X, y, test_size=0.2, random_state=0)"
      ],
      "execution_count": 132,
      "outputs": []
    },
    {
      "cell_type": "code",
      "metadata": {
        "id": "Zi-LT4fOPewE"
      },
      "source": [
        "#TF-IDF feature vector\n",
        "tfidf_vector = TfidfVectorizer(tokenizer=spacy_tokenizer, ngram_range=(1, 1), min_df=1, max_df=1.0, analyzer='word')"
      ],
      "execution_count": 133,
      "outputs": []
    },
    {
      "cell_type": "code",
      "metadata": {
        "id": "iEaTRydWbS-4"
      },
      "source": [
        "#Linear reg\n",
        "LR = LogisticRegression(solver=\"lbfgs\", max_iter=1000, random_state=72, C=10.0)\n",
        "\n",
        "#pipeline\n",
        "pipe = Pipeline([('vectorizer', tfidf_vector),\n",
        "                 ('classifier', LR)])"
      ],
      "execution_count": 145,
      "outputs": []
    },
    {
      "cell_type": "code",
      "metadata": {
        "id": "GvImkegsbZ0m",
        "colab": {
          "base_uri": "https://localhost:8080/"
        },
        "outputId": "5f4663fa-1700-41d4-c193-14bd9c69fb67"
      },
      "source": [
        "pipe.fit(X_train, y_train)"
      ],
      "execution_count": 146,
      "outputs": [
        {
          "output_type": "execute_result",
          "data": {
            "text/plain": [
              "Pipeline(memory=None,\n",
              "         steps=[('vectorizer',\n",
              "                 TfidfVectorizer(analyzer='word', binary=False,\n",
              "                                 decode_error='strict',\n",
              "                                 dtype=<class 'numpy.float64'>,\n",
              "                                 encoding='utf-8', input='content',\n",
              "                                 lowercase=True, max_df=1.0, max_features=None,\n",
              "                                 min_df=1, ngram_range=(1, 1), norm='l2',\n",
              "                                 preprocessor=None, smooth_idf=True,\n",
              "                                 stop_words=None, strip_accents=None,\n",
              "                                 sublinear_tf=False,\n",
              "                                 token_patt...,\n",
              "                                 tokenizer=<function spacy_tokenizer at 0x7f2ed3048ea0>,\n",
              "                                 use_idf=True, vocabulary=None)),\n",
              "                ('classifier',\n",
              "                 LogisticRegression(C=10.0, class_weight=None, dual=False,\n",
              "                                    fit_intercept=True, intercept_scaling=1,\n",
              "                                    l1_ratio=None, max_iter=1000,\n",
              "                                    multi_class='auto', n_jobs=None,\n",
              "                                    penalty='l2', random_state=72,\n",
              "                                    solver='lbfgs', tol=0.0001, verbose=0,\n",
              "                                    warm_start=False))],\n",
              "         verbose=False)"
            ]
          },
          "metadata": {
            "tags": []
          },
          "execution_count": 146
        }
      ]
    },
    {
      "cell_type": "code",
      "metadata": {
        "id": "qRAIymHcbgY8",
        "colab": {
          "base_uri": "https://localhost:8080/"
        },
        "outputId": "220f289f-bbdc-4e55-f445-cb3f2b5b6071"
      },
      "source": [
        "#Accuracy of the train data\n",
        "y_pred_train = pipe.predict(X_train)\n",
        "print(f\"TRAIN ACCURACY SCORE:\\n{accuracy_score(y_train, y_pred_train):.4f}\")\n",
        "print(f\"CONFUSION MATRIX:\\n{confusion_matrix(y_train, y_pred_train)}\")"
      ],
      "execution_count": 143,
      "outputs": [
        {
          "output_type": "stream",
          "text": [
            "TRAIN ACCURACY SCORE:\n",
            "0.9260\n",
            "CONFUSION MATRIX:\n",
            "[[2879   68]\n",
            " [ 315 1914]]\n"
          ],
          "name": "stdout"
        }
      ]
    },
    {
      "cell_type": "code",
      "metadata": {
        "id": "HaUS9H3YbprO",
        "colab": {
          "base_uri": "https://localhost:8080/"
        },
        "outputId": "94acb8a7-5cde-49a9-a4d4-da6fbddeb46a"
      },
      "source": [
        "#Accuracy of the test data\n",
        "y_pred_test = pipe.predict(X_test)\n",
        "print(f\"TEST ACCURACY SCORE:\\n{accuracy_score(y_test, y_pred_test):.4f}\")\n",
        "print(f\"CONFUSION MATRIX:\\n{confusion_matrix(y_test, y_pred_test)}\")"
      ],
      "execution_count": 144,
      "outputs": [
        {
          "output_type": "stream",
          "text": [
            "TEST ACCURACY SCORE:\n",
            "0.7969\n",
            "CONFUSION MATRIX:\n",
            "[[639 115]\n",
            " [148 393]]\n"
          ],
          "name": "stdout"
        }
      ]
    },
    {
      "cell_type": "code",
      "metadata": {
        "id": "Dnm23MNsdYCf",
        "colab": {
          "base_uri": "https://localhost:8080/",
          "height": 419
        },
        "outputId": "3c8fb192-9f9e-49cf-a19e-a3d19617bf80"
      },
      "source": [
        "target_test = pipe.predict(df_test['text'])\n",
        "target_test =pd.DataFrame(target_test)\n",
        "target_test"
      ],
      "execution_count": null,
      "outputs": [
        {
          "output_type": "execute_result",
          "data": {
            "text/html": [
              "<div>\n",
              "<style scoped>\n",
              "    .dataframe tbody tr th:only-of-type {\n",
              "        vertical-align: middle;\n",
              "    }\n",
              "\n",
              "    .dataframe tbody tr th {\n",
              "        vertical-align: top;\n",
              "    }\n",
              "\n",
              "    .dataframe thead th {\n",
              "        text-align: right;\n",
              "    }\n",
              "</style>\n",
              "<table border=\"1\" class=\"dataframe\">\n",
              "  <thead>\n",
              "    <tr style=\"text-align: right;\">\n",
              "      <th></th>\n",
              "      <th>0</th>\n",
              "    </tr>\n",
              "  </thead>\n",
              "  <tbody>\n",
              "    <tr>\n",
              "      <th>0</th>\n",
              "      <td>0</td>\n",
              "    </tr>\n",
              "    <tr>\n",
              "      <th>1</th>\n",
              "      <td>0</td>\n",
              "    </tr>\n",
              "    <tr>\n",
              "      <th>2</th>\n",
              "      <td>1</td>\n",
              "    </tr>\n",
              "    <tr>\n",
              "      <th>3</th>\n",
              "      <td>0</td>\n",
              "    </tr>\n",
              "    <tr>\n",
              "      <th>4</th>\n",
              "      <td>0</td>\n",
              "    </tr>\n",
              "    <tr>\n",
              "      <th>...</th>\n",
              "      <td>...</td>\n",
              "    </tr>\n",
              "    <tr>\n",
              "      <th>1137</th>\n",
              "      <td>1</td>\n",
              "    </tr>\n",
              "    <tr>\n",
              "      <th>1138</th>\n",
              "      <td>1</td>\n",
              "    </tr>\n",
              "    <tr>\n",
              "      <th>1139</th>\n",
              "      <td>1</td>\n",
              "    </tr>\n",
              "    <tr>\n",
              "      <th>1140</th>\n",
              "      <td>0</td>\n",
              "    </tr>\n",
              "    <tr>\n",
              "      <th>1141</th>\n",
              "      <td>1</td>\n",
              "    </tr>\n",
              "  </tbody>\n",
              "</table>\n",
              "<p>1142 rows × 1 columns</p>\n",
              "</div>"
            ],
            "text/plain": [
              "      0\n",
              "0     0\n",
              "1     0\n",
              "2     1\n",
              "3     0\n",
              "4     0\n",
              "...  ..\n",
              "1137  1\n",
              "1138  1\n",
              "1139  1\n",
              "1140  0\n",
              "1141  1\n",
              "\n",
              "[1142 rows x 1 columns]"
            ]
          },
          "metadata": {
            "tags": []
          },
          "execution_count": 109
        }
      ]
    },
    {
      "cell_type": "code",
      "metadata": {
        "id": "QidaT9DidiOG"
      },
      "source": [
        "sample_submission.assign(target = target_test)\n",
        "target_test.to_csv('submission_newparams.csv', index=False)\n"
      ],
      "execution_count": null,
      "outputs": []
    },
    {
      "cell_type": "markdown",
      "metadata": {
        "id": "uSZJWMbCQG6e"
      },
      "source": [
        "#Logistic Regression with  K-Fold cross-validation\r\n",
        "We have seen that the accurancy result from the Logistic regression can present significat change based on the split of the train_ test data(from about 0.78 to 0.82). In fact the train_test split change every time we run the code.\r\n",
        "For that reason we decided to use k-fold cross validation for the test train split. Using this method we can split..."
      ]
    },
    {
      "cell_type": "code",
      "metadata": {
        "id": "seIOAK0EaFPE"
      },
      "source": [
        "import numpy as np\r\n",
        "from sklearn.model_selection import KFold\r\n",
        "from sklearn.model_selection import StratifiedKFold\r\n",
        "folds= StratifiedKFold(n_splits=3)\r\n",
        "X = df_train['text']\r\n",
        "y = df_train['target']"
      ],
      "execution_count": 101,
      "outputs": []
    },
    {
      "cell_type": "code",
      "metadata": {
        "id": "z1dGeSobZlMV"
      },
      "source": [
        "# Setting up the train_test Split using StratifiedKfold \r\n",
        "folds= StratifiedKFold(n_splits=10)\r\n",
        "\r\n",
        "metrics =[]\r\n",
        "\r\n",
        "for  train_index, test_index in kf.split(df_train):\r\n",
        "     X_train, X_test, y_train, y_test = X[train_index], X[test_index], y[train_index], y[test_index]\r\n",
        "     tfidf_vector = TfidfVectorizer(tokenizer=spacy_tokenizer, ngram_range=(4, 3), min_df=1, max_df=1.0, analyzer='char')\r\n",
        "     X_train_td = tfidf_vector.fit_transform(X_train)\r\n",
        "     X_test_td = tfidf_vector.transform(X_test)\r\n",
        "     LR = LogisticRegression(solver=\"lbfgs\", max_iter=1000, random_state=72)\r\n",
        "     LR.fit(X_train_td, y_train)\r\n",
        "     y_pred_class = LR.predict(X_test_td)\r\n",
        "     metric.append(accuracy_score(y_test, y_pred_class))\r\n",
        "     metric = np.array(metric)\r\n",
        "print(metric)"
      ],
      "execution_count": 98,
      "outputs": []
    },
    {
      "cell_type": "code",
      "metadata": {
        "colab": {
          "base_uri": "https://localhost:8080/"
        },
        "id": "F8J3jUzdm7os",
        "outputId": "bca6ce25-cc59-4be6-e457-a854ef054831"
      },
      "source": [
        "metric = np.array(metric)\r\n",
        "print(metric)"
      ],
      "execution_count": 108,
      "outputs": [
        {
          "output_type": "stream",
          "text": [
            "[0.79415855 0.80945758 0.76634214 0.79972184 0.8038943  0.81919332\n",
            " 0.78859527 0.79694019 0.81502086 0.79415855]\n"
          ],
          "name": "stdout"
        }
      ]
    },
    {
      "cell_type": "code",
      "metadata": {
        "colab": {
          "base_uri": "https://localhost:8080/"
        },
        "id": "O-WWtIginXQI",
        "outputId": "a275f634-95cd-47fc-cdb6-298db9cd8738"
      },
      "source": [
        "print('Mean accurancy:', np.mean(metric, axis=0))\r\n",
        "print('Std for accuracy:', np.std(metric, axis=0))"
      ],
      "execution_count": 104,
      "outputs": [
        {
          "output_type": "stream",
          "text": [
            "Mean accurancy: 0.7987482614742698\n",
            "Std for accuracy: 0.01422517804016908\n"
          ],
          "name": "stdout"
        }
      ]
    },
    {
      "cell_type": "markdown",
      "metadata": {
        "id": "yu9CsS1KgwS0"
      },
      "source": [
        "## Cross validation Model selection  "
      ]
    },
    {
      "cell_type": "code",
      "metadata": {
        "id": "2xtIi3leho-h"
      },
      "source": [
        "# define features \r\n",
        "X = df_train['text']\r\n",
        "y = df_train['target']\r\n",
        "# Define vectorizer \r\n",
        "tfidf_vector = TfidfVectorizer(tokenizer=spacy_tokenizer, ngram_range=(1, 1), min_df=1, max_df=1.0, analyzer='word')\r\n",
        "X_tdf_vec = tfidf_vector.fit_transform(X)"
      ],
      "execution_count": 88,
      "outputs": []
    },
    {
      "cell_type": "code",
      "metadata": {
        "colab": {
          "base_uri": "https://localhost:8080/"
        },
        "id": "NIK6Fbq8aXoA",
        "outputId": "49774253-b2ac-4af0-ca91-9735261cc702"
      },
      "source": [
        "# 10-fold cross-validation with the logistic regression\r\n",
        "scores =cross_val_score(LogisticRegression(), X_tdf_vec, y, cv=10, scoring='accuracy')\r\n",
        "scores = np.array(scores)\r\n",
        "print('Score_mean:', np.mean(scores))\r\n",
        "print('Score_sdt:', np.std(scores))"
      ],
      "execution_count": 96,
      "outputs": [
        {
          "output_type": "stream",
          "text": [
            "Score_mean: 0.7973996794321369\n",
            "Score_sdt: 0.019073823555234484\n"
          ],
          "name": "stdout"
        }
      ]
    },
    {
      "cell_type": "code",
      "metadata": {
        "colab": {
          "base_uri": "https://localhost:8080/"
        },
        "id": "UNZ0IvVih59s",
        "outputId": "fa724d30-9323-4eec-f2e1-3b6948f998f7"
      },
      "source": [
        "#10- fold cross-validation with the random forrest classifier\r\n",
        "scores_lrcv =cross_val_score(RandomForestClassifier(), X_tdf_vec, y, cv=10, scoring='accuracy')\r\n",
        "scores_lrcv = np.array(scores_lrcv)\r\n",
        "print('Score_mean:', np.mean(scores_lrcv))\r\n",
        "print('Score_sdt:', np.std(scores_lrcv))"
      ],
      "execution_count": 101,
      "outputs": [
        {
          "output_type": "stream",
          "text": [
            "Score_mean: 0.785037304176923\n",
            "Score_sdt: 0.0205436967113259\n"
          ],
          "name": "stdout"
        }
      ]
    },
    {
      "cell_type": "code",
      "metadata": {
        "colab": {
          "base_uri": "https://localhost:8080/"
        },
        "id": "h5fPXb65jwBX",
        "outputId": "31d22abd-bf04-4e47-e72c-a322dc776dde"
      },
      "source": [
        "from sklearn.neighbors import KNeighborsClassifier\r\n",
        "# 10-fold cross-vaidation KNN model k=15\r\n",
        "knn = KNeighborsClassifier(n_neighbors=15)\r\n",
        "scores_knn =cross_val_score(knn, X_tdf_vec, y, cv=10, scoring='accuracy')\r\n",
        "scores_knn =np.array(scores_knn)\r\n",
        "print('Score_mean:', np.mean(scores_knn))\r\n",
        "print('Score_std:',  np.std(scores_knn))"
      ],
      "execution_count": 116,
      "outputs": [
        {
          "output_type": "stream",
          "text": [
            "Score_mean: 0.7842668918274276\n",
            "Score_std: 0.016112445077314175\n"
          ],
          "name": "stdout"
        }
      ]
    },
    {
      "cell_type": "code",
      "metadata": {
        "colab": {
          "base_uri": "https://localhost:8080/"
        },
        "id": "xZNeiD-ZmwIV",
        "outputId": "575e4485-6c7b-4325-a912-4520d2fcdcfb"
      },
      "source": [
        "# search for an optimal value of K for KNN\r\n",
        "\r\n",
        "# range of k we want to try\r\n",
        "k_range = range(1, 31)\r\n",
        "# empty list to store scores\r\n",
        "k_scores = []\r\n",
        "\r\n",
        "# 1. we will loop through reasonable values of k\r\n",
        "for k in k_range:\r\n",
        "    # 2. run KNeighborsClassifier with k neighbours\r\n",
        "    knn = KNeighborsClassifier(n_neighbors=k)\r\n",
        "    # 3. obtain cross_val_score for KNeighborsClassifier with k neighbours\r\n",
        "    scores= cross_val_score(knn, X_tdf_vec, y, cv=10, scoring='accuracy')\r\n",
        "    # 4. append mean of scores for k neighbors to k_scores list\r\n",
        "    k_scores.append(scores.mean())\r\n",
        "\r\n",
        "\r\n",
        "print(k_scores)"
      ],
      "execution_count": 108,
      "outputs": [
        {
          "output_type": "stream",
          "text": [
            "[0.7366685271051577, 0.7462483542274887, 0.7601560860190432, 0.7657204667315435, 0.77190570916099, 0.77051133436373, 0.7757651649588796, 0.7736018089186558, 0.7811764172725019, 0.7770040261797088, 0.7824128933157783, 0.7799394641937145, 0.7816393802354646, 0.7819487377640393, 0.7842668918274276, 0.7766941916156238, 0.7787029881504379, 0.7777753926002251, 0.7785493827160495, 0.7746844410097888, 0.777776108153491, 0.7754577155723472, 0.7763869807468468, 0.773140754097735, 0.7793228957963632, 0.7725210849695652, 0.7762314671704162, 0.769430371896884, 0.7722126815120118, 0.7688128494285115]\n"
          ],
          "name": "stdout"
        }
      ]
    },
    {
      "cell_type": "code",
      "metadata": {
        "colab": {
          "base_uri": "https://localhost:8080/",
          "height": 296
        },
        "id": "xTtUkfWjnWCX",
        "outputId": "c4590d5e-8655-49f7-c886-9e512d0b746e"
      },
      "source": [
        "import matplotlib.pyplot as plt\r\n",
        "%matplotlib inline\r\n",
        "# Plot how accuracy changes as we vary k\r\n",
        "plt.style.use('dark_background')\r\n",
        "plt.plot(k_range, k_scores)\r\n",
        "plt.xlabel('Value of K for KNN')\r\n",
        "plt.ylabel('Cross-validated accuracy')"
      ],
      "execution_count": 111,
      "outputs": [
        {
          "output_type": "execute_result",
          "data": {
            "text/plain": [
              "Text(0, 0.5, 'Cross-validated accuracy')"
            ]
          },
          "metadata": {
            "tags": []
          },
          "execution_count": 111
        },
        {
          "output_type": "display_data",
          "data": {
            "image/png": "[encoded data removed]",
            "text/plain": [
              "<Figure size 432x288 with 1 Axes>"
            ]
          },
          "metadata": {
            "tags": []
          }
        }
      ]
    },
    {
      "cell_type": "markdown",
      "metadata": {
        "id": "38GnzUOSYlVi"
      },
      "source": [
        "#Logistic regression improvement \n",
        "\n",
        "In order to achieve a better result we proceed as follow: \n",
        "- Exploration of Logistic regression parameters\n",
        "- Optimize TF-IDF parameters\n",
        "- optimize logistic regression parameters with gridSearchCV \n",
        "- Try some dimensionality reduction in order to improve accurancy and speed (Standardization and PCA)\n"
      ]
    },
    {
      "cell_type": "markdown",
      "metadata": {
        "id": "wasgvlWk04Cu"
      },
      "source": [
        "### Exploring Logistic Regression Parameters scores using cross-validation"
      ]
    },
    {
      "cell_type": "code",
      "metadata": {
        "id": "829UZe8rrm_3"
      },
      "source": [
        "LR = LogisticRegression(solver=\"lbfgs\", max_iter=1000, random_state=72)"
      ],
      "execution_count": null,
      "outputs": []
    },
    {
      "cell_type": "code",
      "metadata": {
        "colab": {
          "base_uri": "https://localhost:8080/"
        },
        "id": "johjpnk_q3eO",
        "outputId": "264d945f-9f2b-4235-917e-deb3d9c222e8"
      },
      "source": [
        "# search for an optimal solver \r\n",
        "\r\n",
        "# Type of solver we want to try \r\n",
        "solvers= ['lbfgs', 'saga', 'sag', 'liblinear', 'newton-cg'] \r\n",
        "# empty list to store scores\r\n",
        "solver_scores = []\r\n",
        "\r\n",
        "# 1. we will loop through type of solver \r\n",
        "for k in solvers:\r\n",
        "    # 2. run logistic Regression  with k solver\r\n",
        "    LR = LogisticRegression(solver=k, max_iter=1000, random_state=72)\r\n",
        "    # 3. obtain cross_val_score for Logistic Regression  with k Solver\r\n",
        "    scores= cross_val_score(LR, X_tdf_vec, y, cv=10, scoring='accuracy')\r\n",
        "    # 4. append mean of scores for k solver to solver_scores list\r\n",
        "    solver_scores.append(scores.mean())\r\n",
        "\r\n",
        "\r\n",
        "print(solver_scores)"
      ],
      "execution_count": 159,
      "outputs": [
        {
          "output_type": "stream",
          "text": [
            "[0.7973996794321369, 0.7975542389375465, 0.7975542389375465, 0.7977087984429561, 0.7975542389375465]\n"
          ],
          "name": "stdout"
        }
      ]
    },
    {
      "cell_type": "code",
      "metadata": {
        "colab": {
          "base_uri": "https://localhost:8080/",
          "height": 312
        },
        "id": "UeIfLbNYzf_F",
        "outputId": "9130f47e-066c-46d9-9372-a8156a156000"
      },
      "source": [
        "plt.style.use('dark_background')\r\n",
        "plt.title('Evolution of score by changing solver')\r\n",
        "plt.plot(solvers, solver_scores)\r\n",
        "plt.xlabel('solver')\r\n",
        "plt.ylabel('Score')"
      ],
      "execution_count": 160,
      "outputs": [
        {
          "output_type": "execute_result",
          "data": {
            "text/plain": [
              "Text(0, 0.5, 'Score')"
            ]
          },
          "metadata": {
            "tags": []
          },
          "execution_count": 160
        },
        {
          "output_type": "display_data",
          "data": {
            "image/png": "[encoded data removed]",
            "text/plain": [
              "<Figure size 432x288 with 1 Axes>"
            ]
          },
          "metadata": {
            "tags": []
          }
        }
      ]
    },
    {
      "cell_type": "code",
      "metadata": {
        "colab": {
          "base_uri": "https://localhost:8080/"
        },
        "id": "hVk42jTTs6I9",
        "outputId": "20fc9e7d-8aa2-41d1-d334-f3ec4220ed57"
      },
      "source": [
        "#search for optimal C parameter \r\n",
        "\r\n",
        " \r\n",
        "\r\n",
        "C_param = [1.0, 2.0, 3.0, 4.0, 5.0, 6.0, 7.0, 8.0, 9.0, 10.0, 11.0, 12.0, 13.0, 14.0, 15.0, 16.0, 17.0, 18.0, 19.0, 20.0]\r\n",
        "C_score= []\r\n",
        "# 1. we will loop through reasonable values of C\r\n",
        "for k in C_param:\r\n",
        "    # 2. run LogisticRegression  with value of C=k\r\n",
        "    LR = LogisticRegression(solver='saga', max_iter=1000, random_state=72, C=k)\r\n",
        "    # 3. obtain cross_val_score for LogisticRegression with value of C=k \r\n",
        "    scores_C= cross_val_score(LR, X_tdf_vec, y, cv=10, scoring='accuracy')\r\n",
        "    # 4. append mean of scores for C=k to C_score list\r\n",
        "    C_score.append(scores_C.mean())\r\n",
        "\r\n",
        "\r\n",
        "print(max_C_score)"
      ],
      "execution_count": 161,
      "outputs": [
        {
          "output_type": "stream",
          "text": [
            "[0.7975542389375465, 0.799409430037972, 0.7991003110271528, 0.7990995954738872, 0.7983265594290839, 0.7992546320148073, 0.798327513500105, 0.7967828725170303, 0.7960105520254928, 0.7950831949930353, 0.7943108745014978, 0.7932294349991414, 0.7924568759898488, 0.7919931974736201, 0.791220399946572, 0.7910656019234071, 0.7909108039002424, 0.7907562443948327, 0.7898288873623753, 0.7893654473639018]\n"
          ],
          "name": "stdout"
        }
      ]
    },
    {
      "cell_type": "code",
      "metadata": {
        "colab": {
          "base_uri": "https://localhost:8080/",
          "height": 312
        },
        "id": "cj5qrTMNyxPg",
        "outputId": "851fd651-7c8f-4e9a-9d5f-0249c653218e"
      },
      "source": [
        "plt.style.use('dark_background')\r\n",
        "plt.title('Evolution of score by changing C parameters')\r\n",
        "plt.plot(C_param, C_score)\r\n",
        "plt.xlabel('Value of C')\r\n",
        "plt.ylabel('Score')"
      ],
      "execution_count": 162,
      "outputs": [
        {
          "output_type": "execute_result",
          "data": {
            "text/plain": [
              "Text(0, 0.5, 'Score')"
            ]
          },
          "metadata": {
            "tags": []
          },
          "execution_count": 162
        },
        {
          "output_type": "display_data",
          "data": {
            "image/png": "[encoded data removed]",
            "text/plain": [
              "<Figure size 432x288 with 1 Axes>"
            ]
          },
          "metadata": {
            "tags": []
          }
        }
      ]
    },
    {
      "cell_type": "code",
      "metadata": {
        "colab": {
          "base_uri": "https://localhost:8080/"
        },
        "id": "eQFyhfu52CCF",
        "outputId": "897a4774-8a60-4b0c-ccc0-25ddae9a489c"
      },
      "source": [
        "#search for optimal max_iter\r\n",
        "# range of k we want to try\r\n",
        " \r\n",
        "# empty list to store scores\r\n",
        "max_iter = [100, 200, 500, 1000, 2000]\r\n",
        "max_iter_score= []\r\n",
        "# 1. we will loop through reasonable values of max_iter\r\n",
        "for k in max_iter:\r\n",
        "    # 2. run LogisticRegression with max_iter=k\r\n",
        "    LR = LogisticRegression(solver='saga', max_iter=k, random_state=72, C=k)\r\n",
        "    # 3. obtain cross_val_score for LogisticRegression with max_iter= k\r\n",
        "    scores_iter= cross_val_score(LR, X_tdf_vec, y, cv=10, scoring='accuracy')\r\n",
        "    # 4. append mean of scores for max_iter=k\r\n",
        "    max_iter_score.append(scores_iter.mean())\r\n",
        "\r\n",
        "\r\n",
        "print(max_iter_score)"
      ],
      "execution_count": 164,
      "outputs": [
        {
          "output_type": "stream",
          "text": [
            "/usr/local/lib/python3.6/dist-packages/sklearn/linear_model/_sag.py:330: ConvergenceWarning: The max_iter was reached which means the coef_ did not converge\n",
            "  \"the coef_ did not converge\", ConvergenceWarning)\n",
            "/usr/local/lib/python3.6/dist-packages/sklearn/linear_model/_sag.py:330: ConvergenceWarning: The max_iter was reached which means the coef_ did not converge\n",
            "  \"the coef_ did not converge\", ConvergenceWarning)\n",
            "/usr/local/lib/python3.6/dist-packages/sklearn/linear_model/_sag.py:330: ConvergenceWarning: The max_iter was reached which means the coef_ did not converge\n",
            "  \"the coef_ did not converge\", ConvergenceWarning)\n",
            "/usr/local/lib/python3.6/dist-packages/sklearn/linear_model/_sag.py:330: ConvergenceWarning: The max_iter was reached which means the coef_ did not converge\n",
            "  \"the coef_ did not converge\", ConvergenceWarning)\n",
            "/usr/local/lib/python3.6/dist-packages/sklearn/linear_model/_sag.py:330: ConvergenceWarning: The max_iter was reached which means the coef_ did not converge\n",
            "  \"the coef_ did not converge\", ConvergenceWarning)\n",
            "/usr/local/lib/python3.6/dist-packages/sklearn/linear_model/_sag.py:330: ConvergenceWarning: The max_iter was reached which means the coef_ did not converge\n",
            "  \"the coef_ did not converge\", ConvergenceWarning)\n",
            "/usr/local/lib/python3.6/dist-packages/sklearn/linear_model/_sag.py:330: ConvergenceWarning: The max_iter was reached which means the coef_ did not converge\n",
            "  \"the coef_ did not converge\", ConvergenceWarning)\n",
            "/usr/local/lib/python3.6/dist-packages/sklearn/linear_model/_sag.py:330: ConvergenceWarning: The max_iter was reached which means the coef_ did not converge\n",
            "  \"the coef_ did not converge\", ConvergenceWarning)\n",
            "/usr/local/lib/python3.6/dist-packages/sklearn/linear_model/_sag.py:330: ConvergenceWarning: The max_iter was reached which means the coef_ did not converge\n",
            "  \"the coef_ did not converge\", ConvergenceWarning)\n",
            "/usr/local/lib/python3.6/dist-packages/sklearn/linear_model/_sag.py:330: ConvergenceWarning: The max_iter was reached which means the coef_ did not converge\n",
            "  \"the coef_ did not converge\", ConvergenceWarning)\n",
            "/usr/local/lib/python3.6/dist-packages/sklearn/linear_model/_sag.py:330: ConvergenceWarning: The max_iter was reached which means the coef_ did not converge\n",
            "  \"the coef_ did not converge\", ConvergenceWarning)\n",
            "/usr/local/lib/python3.6/dist-packages/sklearn/linear_model/_sag.py:330: ConvergenceWarning: The max_iter was reached which means the coef_ did not converge\n",
            "  \"the coef_ did not converge\", ConvergenceWarning)\n",
            "/usr/local/lib/python3.6/dist-packages/sklearn/linear_model/_sag.py:330: ConvergenceWarning: The max_iter was reached which means the coef_ did not converge\n",
            "  \"the coef_ did not converge\", ConvergenceWarning)\n",
            "/usr/local/lib/python3.6/dist-packages/sklearn/linear_model/_sag.py:330: ConvergenceWarning: The max_iter was reached which means the coef_ did not converge\n",
            "  \"the coef_ did not converge\", ConvergenceWarning)\n",
            "/usr/local/lib/python3.6/dist-packages/sklearn/linear_model/_sag.py:330: ConvergenceWarning: The max_iter was reached which means the coef_ did not converge\n",
            "  \"the coef_ did not converge\", ConvergenceWarning)\n",
            "/usr/local/lib/python3.6/dist-packages/sklearn/linear_model/_sag.py:330: ConvergenceWarning: The max_iter was reached which means the coef_ did not converge\n",
            "  \"the coef_ did not converge\", ConvergenceWarning)\n",
            "/usr/local/lib/python3.6/dist-packages/sklearn/linear_model/_sag.py:330: ConvergenceWarning: The max_iter was reached which means the coef_ did not converge\n",
            "  \"the coef_ did not converge\", ConvergenceWarning)\n",
            "/usr/local/lib/python3.6/dist-packages/sklearn/linear_model/_sag.py:330: ConvergenceWarning: The max_iter was reached which means the coef_ did not converge\n",
            "  \"the coef_ did not converge\", ConvergenceWarning)\n",
            "/usr/local/lib/python3.6/dist-packages/sklearn/linear_model/_sag.py:330: ConvergenceWarning: The max_iter was reached which means the coef_ did not converge\n",
            "  \"the coef_ did not converge\", ConvergenceWarning)\n",
            "/usr/local/lib/python3.6/dist-packages/sklearn/linear_model/_sag.py:330: ConvergenceWarning: The max_iter was reached which means the coef_ did not converge\n",
            "  \"the coef_ did not converge\", ConvergenceWarning)\n",
            "/usr/local/lib/python3.6/dist-packages/sklearn/linear_model/_sag.py:330: ConvergenceWarning: The max_iter was reached which means the coef_ did not converge\n",
            "  \"the coef_ did not converge\", ConvergenceWarning)\n",
            "/usr/local/lib/python3.6/dist-packages/sklearn/linear_model/_sag.py:330: ConvergenceWarning: The max_iter was reached which means the coef_ did not converge\n",
            "  \"the coef_ did not converge\", ConvergenceWarning)\n",
            "/usr/local/lib/python3.6/dist-packages/sklearn/linear_model/_sag.py:330: ConvergenceWarning: The max_iter was reached which means the coef_ did not converge\n",
            "  \"the coef_ did not converge\", ConvergenceWarning)\n",
            "/usr/local/lib/python3.6/dist-packages/sklearn/linear_model/_sag.py:330: ConvergenceWarning: The max_iter was reached which means the coef_ did not converge\n",
            "  \"the coef_ did not converge\", ConvergenceWarning)\n",
            "/usr/local/lib/python3.6/dist-packages/sklearn/linear_model/_sag.py:330: ConvergenceWarning: The max_iter was reached which means the coef_ did not converge\n",
            "  \"the coef_ did not converge\", ConvergenceWarning)\n",
            "/usr/local/lib/python3.6/dist-packages/sklearn/linear_model/_sag.py:330: ConvergenceWarning: The max_iter was reached which means the coef_ did not converge\n",
            "  \"the coef_ did not converge\", ConvergenceWarning)\n",
            "/usr/local/lib/python3.6/dist-packages/sklearn/linear_model/_sag.py:330: ConvergenceWarning: The max_iter was reached which means the coef_ did not converge\n",
            "  \"the coef_ did not converge\", ConvergenceWarning)\n",
            "/usr/local/lib/python3.6/dist-packages/sklearn/linear_model/_sag.py:330: ConvergenceWarning: The max_iter was reached which means the coef_ did not converge\n",
            "  \"the coef_ did not converge\", ConvergenceWarning)\n",
            "/usr/local/lib/python3.6/dist-packages/sklearn/linear_model/_sag.py:330: ConvergenceWarning: The max_iter was reached which means the coef_ did not converge\n",
            "  \"the coef_ did not converge\", ConvergenceWarning)\n",
            "/usr/local/lib/python3.6/dist-packages/sklearn/linear_model/_sag.py:330: ConvergenceWarning: The max_iter was reached which means the coef_ did not converge\n",
            "  \"the coef_ did not converge\", ConvergenceWarning)\n"
          ],
          "name": "stderr"
        },
        {
          "output_type": "stream",
          "text": [
            "[0.7834926631938481, 0.7814833896235236, 0.781482912588013, 0.7804012345679012, 0.7788558780315606]\n"
          ],
          "name": "stdout"
        }
      ]
    },
    {
      "cell_type": "code",
      "metadata": {
        "colab": {
          "base_uri": "https://localhost:8080/",
          "height": 313
        },
        "id": "sZNYU1E94mXu",
        "outputId": "9cb9663d-19a6-4aa1-9cc7-9d2399b9e8e6"
      },
      "source": [
        "plt.style.use('dark_background')\r\n",
        "plt.title('Evolution of score by changing C parameters')\r\n",
        "plt.plot(max_iter, max_iter_score)\r\n",
        "plt.xlabel('max_iter')\r\n",
        "plt.ylabel('Score')"
      ],
      "execution_count": 166,
      "outputs": [
        {
          "output_type": "execute_result",
          "data": {
            "text/plain": [
              "Text(0, 0.5, 'Score')"
            ]
          },
          "metadata": {
            "tags": []
          },
          "execution_count": 166
        },
        {
          "output_type": "display_data",
          "data": {
            "image/png": "[encoded data removed]",
            "text/plain": [
              "<Figure size 432x288 with 1 Axes>"
            ]
          },
          "metadata": {
            "tags": []
          }
        }
      ]
    },
    {
      "cell_type": "markdown",
      "metadata": {
        "id": "I6e_rZ3HJR22"
      },
      "source": [
        "#Optimize the parameters of the TfidfVectorizer\n",
        "\n",
        "In these chapter we are going to see if there are TF-IDF parameters who works better for our analysis."
      ]
    },
    {
      "cell_type": "code",
      "metadata": {
        "id": "ZfgEGPDfLUmX"
      },
      "source": [
        "# Evaluate the model\n",
        "def evaluate(true, pred):\n",
        "    precision = precision_score(true, pred)\n",
        "    recall = recall_score(true, pred)\n",
        "    f1 = f1_score(true, pred)\n",
        "    print(f\"CONFUSION MATRIX:\\n{confusion_matrix(true, pred)}\")\n",
        "    print(f\"ACCURACY SCORE:\\n{accuracy_score(true, pred):.4f}\")\n",
        "    print(f\"CLASSIFICATION REPORT:\\n\\tPrecision: {precision:.4f}\\n\\tRecall: {recall:.4f}\\n\\tF1_Score: {f1:.4f}\")"
      ],
      "execution_count": null,
      "outputs": []
    },
    {
      "cell_type": "code",
      "metadata": {
        "id": "YGtAjqgUJe2x"
      },
      "source": [
        "# Create list of configs\n",
        "def configs():\n",
        "\n",
        "    models = list()\n",
        "    \n",
        "    # Define config lists\n",
        "    ngram_range = [(1,1), (1,2), (1, 3), (2, 2), (2, 3), (3, 3), (3, 4)]\n",
        "    min_df = [1]\n",
        "    max_df = [1.0]\n",
        "    analyzer=['word', 'char']\n",
        "    \n",
        "    # Create config instances\n",
        "    for n in ngram_range:\n",
        "        for i in min_df:\n",
        "            for j in max_df:\n",
        "              for a in analyzer:\n",
        "                    cfg = [n, i, j, a]\n",
        "                    models.append(cfg)\n",
        "    return models\n",
        "\n",
        "configs = configs()"
      ],
      "execution_count": null,
      "outputs": []
    },
    {
      "cell_type": "code",
      "metadata": {
        "colab": {
          "base_uri": "https://localhost:8080/"
        },
        "id": "F5wn2K6SJkn5",
        "outputId": "5793fa10-b55a-465b-a29c-9e7787f19990"
      },
      "source": [
        "# Define list for result\n",
        "result = []\n",
        "\n",
        "for config in configs:\n",
        "\n",
        "    # Redefine vectorizer\n",
        "    tfidf_vector = TfidfVectorizer(tokenizer=spacy_tokenizer, \n",
        "                                   ngram_range=config[0],\n",
        "                                   min_df=config[1], max_df=config[2], analyzer=config[3])\n",
        "\n",
        "    # Define classifier\n",
        "    LR = LogisticRegression(solver=\"lbfgs\", max_iter=1000, random_state=72)\n",
        "\n",
        "    # Create pipeline\n",
        "    pipe = Pipeline([('vectorizer', tfidf_vector),\n",
        "                 ('classifier', LR)])\n",
        "\n",
        "    # Fit model on training set\n",
        "    pipe.fit(X_train, y_train)\n",
        "\n",
        "    # Predictions\n",
        "    y_pred = pipe.predict(X_test)\n",
        "\n",
        "    # Print accuracy on test set\n",
        "    print(\"CONFIG: \", config)\n",
        "    evaluate(y_test, y_pred)\n",
        "    print(\"-----------------------\")\n",
        "\n",
        "    # Append to result\n",
        "    result.append([config, accuracy_score(y_test, y_pred)])"
      ],
      "execution_count": null,
      "outputs": [
        {
          "output_type": "stream",
          "text": [
            "CONFIG:  [(1, 1), 1, 1.0, 'word']\n",
            "CONFUSION MATRIX:\n",
            "[[676  76]\n",
            " [161 365]]\n",
            "ACCURACY SCORE:\n",
            "0.8146\n",
            "CLASSIFICATION REPORT:\n",
            "\tPrecision: 0.8277\n",
            "\tRecall: 0.6939\n",
            "\tF1_Score: 0.7549\n",
            "-----------------------\n",
            "CONFIG:  [(1, 1), 1, 1.0, 'char']\n",
            "CONFUSION MATRIX:\n",
            "[[583 169]\n",
            " [249 277]]\n",
            "ACCURACY SCORE:\n",
            "0.6729\n",
            "CLASSIFICATION REPORT:\n",
            "\tPrecision: 0.6211\n",
            "\tRecall: 0.5266\n",
            "\tF1_Score: 0.5700\n",
            "-----------------------\n",
            "CONFIG:  [(1, 2), 1, 1.0, 'word']\n",
            "CONFUSION MATRIX:\n",
            "[[669  83]\n",
            " [165 361]]\n",
            "ACCURACY SCORE:\n",
            "0.8059\n",
            "CLASSIFICATION REPORT:\n",
            "\tPrecision: 0.8131\n",
            "\tRecall: 0.6863\n",
            "\tF1_Score: 0.7443\n",
            "-----------------------\n",
            "CONFIG:  [(1, 2), 1, 1.0, 'char']\n",
            "CONFUSION MATRIX:\n",
            "[[626 126]\n",
            " [198 328]]\n",
            "ACCURACY SCORE:\n",
            "0.7465\n",
            "CLASSIFICATION REPORT:\n",
            "\tPrecision: 0.7225\n",
            "\tRecall: 0.6236\n",
            "\tF1_Score: 0.6694\n",
            "-----------------------\n",
            "CONFIG:  [(1, 3), 1, 1.0, 'word']\n",
            "CONFUSION MATRIX:\n",
            "[[673  79]\n",
            " [168 358]]\n",
            "ACCURACY SCORE:\n",
            "0.8067\n",
            "CLASSIFICATION REPORT:\n",
            "\tPrecision: 0.8192\n",
            "\tRecall: 0.6806\n",
            "\tF1_Score: 0.7435\n",
            "-----------------------\n",
            "CONFIG:  [(1, 3), 1, 1.0, 'char']\n",
            "CONFUSION MATRIX:\n",
            "[[658  94]\n",
            " [179 347]]\n",
            "ACCURACY SCORE:\n",
            "0.7864\n",
            "CLASSIFICATION REPORT:\n",
            "\tPrecision: 0.7868\n",
            "\tRecall: 0.6597\n",
            "\tF1_Score: 0.7177\n",
            "-----------------------\n",
            "CONFIG:  [(2, 2), 1, 1.0, 'word']\n",
            "CONFUSION MATRIX:\n",
            "[[727  25]\n",
            " [309 217]]\n",
            "ACCURACY SCORE:\n",
            "0.7387\n",
            "CLASSIFICATION REPORT:\n",
            "\tPrecision: 0.8967\n",
            "\tRecall: 0.4125\n",
            "\tF1_Score: 0.5651\n",
            "-----------------------\n",
            "CONFIG:  [(2, 2), 1, 1.0, 'char']\n",
            "CONFUSION MATRIX:\n",
            "[[627 125]\n",
            " [199 327]]\n",
            "ACCURACY SCORE:\n",
            "0.7465\n",
            "CLASSIFICATION REPORT:\n",
            "\tPrecision: 0.7235\n",
            "\tRecall: 0.6217\n",
            "\tF1_Score: 0.6687\n",
            "-----------------------\n",
            "CONFIG:  [(2, 3), 1, 1.0, 'word']\n",
            "CONFUSION MATRIX:\n",
            "[[731  21]\n",
            " [313 213]]\n",
            "ACCURACY SCORE:\n",
            "0.7387\n",
            "CLASSIFICATION REPORT:\n",
            "\tPrecision: 0.9103\n",
            "\tRecall: 0.4049\n",
            "\tF1_Score: 0.5605\n",
            "-----------------------\n",
            "CONFIG:  [(2, 3), 1, 1.0, 'char']\n",
            "CONFUSION MATRIX:\n",
            "[[661  91]\n",
            " [175 351]]\n",
            "ACCURACY SCORE:\n",
            "0.7919\n",
            "CLASSIFICATION REPORT:\n",
            "\tPrecision: 0.7941\n",
            "\tRecall: 0.6673\n",
            "\tF1_Score: 0.7252\n",
            "-----------------------\n",
            "CONFIG:  [(3, 3), 1, 1.0, 'word']\n",
            "CONFUSION MATRIX:\n",
            "[[741  11]\n",
            " [379 147]]\n",
            "ACCURACY SCORE:\n",
            "0.6948\n",
            "CLASSIFICATION REPORT:\n",
            "\tPrecision: 0.9304\n",
            "\tRecall: 0.2795\n",
            "\tF1_Score: 0.4298\n",
            "-----------------------\n",
            "CONFIG:  [(3, 3), 1, 1.0, 'char']\n",
            "CONFUSION MATRIX:\n",
            "[[669  83]\n",
            " [173 353]]\n",
            "ACCURACY SCORE:\n",
            "0.7997\n",
            "CLASSIFICATION REPORT:\n",
            "\tPrecision: 0.8096\n",
            "\tRecall: 0.6711\n",
            "\tF1_Score: 0.7339\n",
            "-----------------------\n",
            "CONFIG:  [(3, 4), 1, 1.0, 'word']\n",
            "CONFUSION MATRIX:\n",
            "[[741  11]\n",
            " [381 145]]\n",
            "ACCURACY SCORE:\n",
            "0.6933\n",
            "CLASSIFICATION REPORT:\n",
            "\tPrecision: 0.9295\n",
            "\tRecall: 0.2757\n",
            "\tF1_Score: 0.4252\n",
            "-----------------------\n",
            "CONFIG:  [(3, 4), 1, 1.0, 'char']\n",
            "CONFUSION MATRIX:\n",
            "[[684  68]\n",
            " [172 354]]\n",
            "ACCURACY SCORE:\n",
            "0.8122\n",
            "CLASSIFICATION REPORT:\n",
            "\tPrecision: 0.8389\n",
            "\tRecall: 0.6730\n",
            "\tF1_Score: 0.7468\n",
            "-----------------------\n"
          ],
          "name": "stdout"
        }
      ]
    },
    {
      "cell_type": "markdown",
      "metadata": {
        "id": "DqxEnhAFNV1-"
      },
      "source": [
        ""
      ]
    },
    {
      "cell_type": "markdown",
      "metadata": {
        "id": "MByWiCnhNx-4"
      },
      "source": [
        "### From this analysis we find out that there is some parameters that works better then the default ones specifically:\n",
        "- ngram_range: (3, 4)\n",
        "- min_df[1]\n",
        "- max_df[1.0]\n",
        "- Analyzer: 'char'\n",
        "\n",
        "\n",
        "Improvement in test accurancy score from 0.7989 to 0.8099"
      ]
    },
    {
      "cell_type": "code",
      "metadata": {
        "id": "jS_P6aifQ5Lm"
      },
      "source": [
        "# Improved TF-IDF tokenizer\n",
        "tfidf_vector = TfidfVectorizer(tokenizer=spacy_tokenizer, ngram_range=(3, 4), min_df=1, max_df=1.0, analyzer='char')"
      ],
      "execution_count": null,
      "outputs": []
    },
    {
      "cell_type": "markdown",
      "metadata": {
        "id": "BVu5osrWZyoV"
      },
      "source": [
        "###Optimize logistic regression parameters with gridSearchCV \n",
        "The above logistic regression was run with the default parameters.In this chapter we are trying to improve the accurancy by tuning the hyperparameters using the \"GridSearch\" method. \n"
      ]
    },
    {
      "cell_type": "code",
      "metadata": {
        "colab": {
          "base_uri": "https://localhost:8080/"
        },
        "id": "z5gfIN-Rg9-t",
        "outputId": "26e765e2-c03e-49b7-8da2-31ba3960af27"
      },
      "source": [
        "from sklearn.feature_extraction.text import TfidfVectorizer\n",
        "\n",
        "# Define vectorizer - use above cleaning function\n",
        "tfidf_vector = TfidfVectorizer(tokenizer=spacy_tokenizer, ngram_range=(3, 4), min_df=1, max_df=1.0, analyzer='char')\n",
        "\n",
        "# Fit and transform X_train and X_test\n",
        "X_train_vec = tfidf_vector.fit_transform(X_train)\n",
        "X_test_vec = tfidf_vector.transform(X_test)\n",
        "X_test_vec_s = tfidf_vector.transform(df_test['text'])\n",
        "print(X_train_vec.shape)\n",
        "print(X_test_vec.shape)\n",
        "print(X_test_vec_s.shape)\n",
        "X_train_vec"
      ],
      "execution_count": 33,
      "outputs": [
        {
          "output_type": "stream",
          "text": [
            "(2, 12)\n",
            "(2, 12)\n",
            "(1142, 12)\n"
          ],
          "name": "stdout"
        },
        {
          "output_type": "execute_result",
          "data": {
            "text/plain": [
              "<2x12 sparse matrix of type '<class 'numpy.float64'>'\n",
              "\twith 12 stored elements in Compressed Sparse Row format>"
            ]
          },
          "metadata": {
            "tags": []
          },
          "execution_count": 33
        }
      ]
    },
    {
      "cell_type": "code",
      "metadata": {
        "id": "mmN_hFRHZ4sd"
      },
      "source": [
        "# Gridsearch Logistic regression\n",
        "from sklearn.model_selection import GridSearchCV\n",
        "from sklearn import linear_model,  datasets\n",
        "\n",
        "parameters = dict({'solver': ['lbfgs', 'saga'], 'C':[1, 10]})\n",
        "LR = LogisticRegression(max_iter=1000, random_state=72)\n",
        "\n",
        "clf = GridSearchCV(\n",
        "    LR, parameters, scoring='accuracy'\n",
        "    )\n",
        "best_clf = clf.fit(X_train_vec, y_train)"
      ],
      "execution_count": null,
      "outputs": []
    },
    {
      "cell_type": "code",
      "metadata": {
        "colab": {
          "base_uri": "https://localhost:8080/"
        },
        "id": "j6aOKmSBpx9G",
        "outputId": "ab7cebba-2e90-401f-c4e3-6f2f4e931dac"
      },
      "source": [
        "best_clf"
      ],
      "execution_count": null,
      "outputs": [
        {
          "output_type": "execute_result",
          "data": {
            "text/plain": [
              "GridSearchCV(cv=None, error_score=nan,\n",
              "             estimator=LogisticRegression(C=1.0, class_weight=None, dual=False,\n",
              "                                          fit_intercept=True,\n",
              "                                          intercept_scaling=1, l1_ratio=None,\n",
              "                                          max_iter=1000, multi_class='auto',\n",
              "                                          n_jobs=None, penalty='l2',\n",
              "                                          random_state=72, solver='lbfgs',\n",
              "                                          tol=0.0001, verbose=0,\n",
              "                                          warm_start=False),\n",
              "             iid='deprecated', n_jobs=None,\n",
              "             param_grid={'C': [1, 10], 'solver': ['lbfgs', 'saga']},\n",
              "             pre_dispatch='2*n_jobs', refit=True, return_train_score=False,\n",
              "             scoring='accuracy', verbose=0)"
            ]
          },
          "metadata": {
            "tags": []
          },
          "execution_count": 118
        }
      ]
    },
    {
      "cell_type": "code",
      "metadata": {
        "id": "NocUTLUG1Cma"
      },
      "source": [
        ""
      ],
      "execution_count": null,
      "outputs": []
    },
    {
      "cell_type": "code",
      "metadata": {
        "colab": {
          "base_uri": "https://localhost:8080/"
        },
        "id": "SGLUADjEteHC",
        "outputId": "e1f43491-e960-48d0-85cc-fa3b71baae5e"
      },
      "source": [
        "y_pred_test_vec = best_clf.predict(X_test_vec)\r\n",
        "print(f\"TEST ACCURACY SCORE:\\n{accuracy_score(y_test, y_pred_test_vec):.4f}\")\r\n",
        "print(f\"CONFUSION MATRIX:\\n{confusion_matrix(y_test, y_pred_test_vec)}\")"
      ],
      "execution_count": null,
      "outputs": [
        {
          "output_type": "stream",
          "text": [
            "TEST ACCURACY SCORE:\n",
            "0.8114\n",
            "CONFUSION MATRIX:\n",
            "[[684  68]\n",
            " [173 353]]\n"
          ],
          "name": "stdout"
        }
      ]
    },
    {
      "cell_type": "code",
      "metadata": {
        "colab": {
          "base_uri": "https://localhost:8080/"
        },
        "id": "f__1NhCLxAGT",
        "outputId": "22ced1d3-40b5-4f37-c982-a2de3591736c"
      },
      "source": [
        "df_test['text'].shape"
      ],
      "execution_count": null,
      "outputs": [
        {
          "output_type": "execute_result",
          "data": {
            "text/plain": [
              "(1142,)"
            ]
          },
          "metadata": {
            "tags": []
          },
          "execution_count": 120
        }
      ]
    },
    {
      "cell_type": "code",
      "metadata": {
        "colab": {
          "base_uri": "https://localhost:8080/"
        },
        "id": "tsdggm7_waKj",
        "outputId": "4d4a8bd0-533e-40ab-8990-6ffa1950bb9b"
      },
      "source": [
        "\r\n",
        "tfidf_vector = TfidfVectorizer(tokenizer=spacy_tokenizer, ngram_range=(3, 4), min_df=1, max_df=1.0, analyzer='char')\r\n",
        "X_test_vec_s = tfidf_vector.fit_transform(df_test['text'])\r\n",
        "print(X_test_vec_s.shape)\r\n",
        "print(X_test_vec.shape)"
      ],
      "execution_count": null,
      "outputs": [
        {
          "output_type": "stream",
          "text": [
            "(1142, 29145)\n",
            "(1278, 59155)\n"
          ],
          "name": "stdout"
        }
      ]
    },
    {
      "cell_type": "code",
      "metadata": {
        "colab": {
          "base_uri": "https://localhost:8080/"
        },
        "id": "txjB38LS1GOy",
        "outputId": "3f7e4e75-cf20-4329-dacf-e91957430aef"
      },
      "source": [
        "y_pred_test_vec = best_clf.predict(X_test_vec_s)\r\n",
        "y_pred_test_vec"
      ],
      "execution_count": null,
      "outputs": [
        {
          "output_type": "execute_result",
          "data": {
            "text/plain": [
              "array([0, 0, 1, ..., 1, 0, 1])"
            ]
          },
          "metadata": {
            "tags": []
          },
          "execution_count": 122
        }
      ]
    },
    {
      "cell_type": "code",
      "metadata": {
        "colab": {
          "base_uri": "https://localhost:8080/",
          "height": 419
        },
        "id": "9lGMtSlBuxhc",
        "outputId": "d94ea5a7-5d84-4dc5-af12-b3b6f3803589"
      },
      "source": [
        "target_test = best_clf.predict(X_test_vec_s)\r\n",
        "target_test =pd.DataFrame(target_test)\r\n",
        "target_test"
      ],
      "execution_count": null,
      "outputs": [
        {
          "output_type": "execute_result",
          "data": {
            "text/html": [
              "<div>\n",
              "<style scoped>\n",
              "    .dataframe tbody tr th:only-of-type {\n",
              "        vertical-align: middle;\n",
              "    }\n",
              "\n",
              "    .dataframe tbody tr th {\n",
              "        vertical-align: top;\n",
              "    }\n",
              "\n",
              "    .dataframe thead th {\n",
              "        text-align: right;\n",
              "    }\n",
              "</style>\n",
              "<table border=\"1\" class=\"dataframe\">\n",
              "  <thead>\n",
              "    <tr style=\"text-align: right;\">\n",
              "      <th></th>\n",
              "      <th>0</th>\n",
              "    </tr>\n",
              "  </thead>\n",
              "  <tbody>\n",
              "    <tr>\n",
              "      <th>0</th>\n",
              "      <td>0</td>\n",
              "    </tr>\n",
              "    <tr>\n",
              "      <th>1</th>\n",
              "      <td>0</td>\n",
              "    </tr>\n",
              "    <tr>\n",
              "      <th>2</th>\n",
              "      <td>1</td>\n",
              "    </tr>\n",
              "    <tr>\n",
              "      <th>3</th>\n",
              "      <td>0</td>\n",
              "    </tr>\n",
              "    <tr>\n",
              "      <th>4</th>\n",
              "      <td>0</td>\n",
              "    </tr>\n",
              "    <tr>\n",
              "      <th>...</th>\n",
              "      <td>...</td>\n",
              "    </tr>\n",
              "    <tr>\n",
              "      <th>1137</th>\n",
              "      <td>1</td>\n",
              "    </tr>\n",
              "    <tr>\n",
              "      <th>1138</th>\n",
              "      <td>1</td>\n",
              "    </tr>\n",
              "    <tr>\n",
              "      <th>1139</th>\n",
              "      <td>1</td>\n",
              "    </tr>\n",
              "    <tr>\n",
              "      <th>1140</th>\n",
              "      <td>0</td>\n",
              "    </tr>\n",
              "    <tr>\n",
              "      <th>1141</th>\n",
              "      <td>1</td>\n",
              "    </tr>\n",
              "  </tbody>\n",
              "</table>\n",
              "<p>1142 rows × 1 columns</p>\n",
              "</div>"
            ],
            "text/plain": [
              "      0\n",
              "0     0\n",
              "1     0\n",
              "2     1\n",
              "3     0\n",
              "4     0\n",
              "...  ..\n",
              "1137  1\n",
              "1138  1\n",
              "1139  1\n",
              "1140  0\n",
              "1141  1\n",
              "\n",
              "[1142 rows x 1 columns]"
            ]
          },
          "metadata": {
            "tags": []
          },
          "execution_count": 123
        }
      ]
    },
    {
      "cell_type": "code",
      "metadata": {
        "id": "Mx8504ELwGVh"
      },
      "source": [
        "sample_submission.assign(target = target_test)\r\n",
        "target_test.to_csv('submission_gridsearch.csv', index=False)\r\n"
      ],
      "execution_count": null,
      "outputs": []
    },
    {
      "cell_type": "markdown",
      "metadata": {
        "id": "lT2R0A5PaBvV"
      },
      "source": [
        "### Dimensionality reduction in order to improve accurancy and speed (Standardization and PCA)"
      ]
    },
    {
      "cell_type": "code",
      "metadata": {
        "id": "xhtI18TCaOGu"
      },
      "source": [
        "from sklearn.preprocessing import StandardScaler\n",
        "from sklearn.decomposition import PCA\n",
        "import numpy as np\n",
        "import time"
      ],
      "execution_count": null,
      "outputs": []
    },
    {
      "cell_type": "code",
      "metadata": {
        "id": "IUMstUWuE0Cw"
      },
      "source": [
        "# Define vectorizer - use above cleaning function\r\n",
        "tfidf_vector = TfidfVectorizer(tokenizer=spacy_tokenizer, ngram_range=(3, 4), min_df=1, max_df=1.0, analyzer='char')"
      ],
      "execution_count": null,
      "outputs": []
    },
    {
      "cell_type": "code",
      "metadata": {
        "colab": {
          "base_uri": "https://localhost:8080/"
        },
        "id": "CYFmjpfEc4RG",
        "outputId": "f7288dcd-f2fb-4763-a521-8d948e9656d5"
      },
      "source": [
        "# Vectorize the text\n",
        "\n",
        "from sklearn.feature_extraction.text import TfidfVectorizer\n",
        "\n",
        "# Define vectorizer - use above cleaning function\n",
        "tfidf_vector = TfidfVectorizer(tokenizer=spacy_tokenizer, ngram_range=(3, 4), min_df=1, max_df=1.0, analyzer='char')\n",
        "\n",
        "# Fit and transform X_train and X_test\n",
        "X_train_vec = tfidf_vector.fit_transform(X_train).toarray()\n",
        "X_test_vec = tfidf_vector.fit_transform(X_test).toarray()\n",
        "print(X_train_vec.shape)\n",
        "print(X_train_vec)\n",
        "print(X_test_vec.shape)\n"
      ],
      "execution_count": null,
      "outputs": [
        {
          "output_type": "stream",
          "text": [
            "(5109, 59028)\n",
            "[[0. 0. 0. ... 0. 0. 0.]\n",
            " [0. 0. 0. ... 0. 0. 0.]\n",
            " [0. 0. 0. ... 0. 0. 0.]\n",
            " ...\n",
            " [0. 0. 0. ... 0. 0. 0.]\n",
            " [0. 0. 0. ... 0. 0. 0.]\n",
            " [0. 0. 0. ... 0. 0. 0.]]\n",
            "(1278, 30376)\n"
          ],
          "name": "stdout"
        }
      ]
    },
    {
      "cell_type": "code",
      "metadata": {
        "id": "xlUSc706FmlO"
      },
      "source": [
        ""
      ],
      "execution_count": null,
      "outputs": []
    },
    {
      "cell_type": "markdown",
      "metadata": {
        "id": "5mVrLKqfmrOj"
      },
      "source": [
        "###PCA"
      ]
    },
    {
      "cell_type": "code",
      "metadata": {
        "id": "1DhZ2CXvFNax"
      },
      "source": [
        "# Define Scaler\r\n",
        "scaler = StandardScaler()\r\n",
        "\r\n",
        "# Define PCA\r\n",
        "pca = PCA(n_components=2000)\r\n",
        "\r\n",
        "# Example on X_train_vec\r\n",
        "X_train_vec_pca = pca.fit_transform(X_train_vec)"
      ],
      "execution_count": null,
      "outputs": []
    },
    {
      "cell_type": "code",
      "metadata": {
        "colab": {
          "base_uri": "https://localhost:8080/"
        },
        "id": "j7yTM6-KJ89P",
        "outputId": "e4628705-d9aa-4b9e-a31d-ab6e998ff6a2"
      },
      "source": [
        "print('Shape after PCA: ', X_train_vec_pca)\r\n",
        "print('Number of components:', pca.n_components_)\r\n",
        "print('Explained variance ratio: ', sum(pca.explained_variance_ratio_))"
      ],
      "execution_count": null,
      "outputs": [
        {
          "output_type": "stream",
          "text": [
            "Shape after PCA:  PCA(copy=True, iterated_power='auto', n_components=5000, random_state=None,\n",
            "    svd_solver='auto', tol=0.0, whiten=False)\n",
            "Number of components: 5000\n",
            "Explained variance ratio:  1.0000000000000007\n"
          ],
          "name": "stdout"
        }
      ]
    },
    {
      "cell_type": "markdown",
      "metadata": {
        "id": "_XzoFFdFisvD"
      },
      "source": [
        "###Logistic regression \r\n",
        "- with PCA and standardization\r\n"
      ]
    },
    {
      "cell_type": "code",
      "metadata": {
        "id": "CM58f260jE8d"
      },
      "source": [
        "from sklearn.linear_model import LogisticRegression\r\n",
        "from sklearn.pipeline import Pipeline\r\n",
        "import time"
      ],
      "execution_count": null,
      "outputs": []
    },
    {
      "cell_type": "code",
      "metadata": {
        "id": "GJLys6XLkKQf",
        "colab": {
          "base_uri": "https://localhost:8080/",
          "height": 375
        },
        "outputId": "f7ee955b-63c6-4293-a7e9-a7b403050f80"
      },
      "source": [
        "# With PCA\n",
        "\n",
        "# Define Model\n",
        "pipe = Pipeline([\n",
        "                 ('pca', pca),\n",
        "                 ('logistic reg', LR),\n",
        "                 ])\n",
        "# Fit model\n",
        "start = time.time()\n",
        "pipe.fit(X_train_vec, y_train)\n",
        "end = time.time()\n",
        "print('Time: ', round(end-start, 4))\n",
        "print('Train Accuracy: ', round(pipe.score(X_train_vec, y_train), 4))\n",
        "print('Test Accuracy: ', round(pipe.score(X_test_vec, y_test), 4))"
      ],
      "execution_count": null,
      "outputs": [
        {
          "output_type": "stream",
          "text": [
            "Time:  477.4866\n",
            "Train Accuracy:  0.8655\n"
          ],
          "name": "stdout"
        },
        {
          "output_type": "error",
          "ename": "ValueError",
          "evalue": "ignored",
          "traceback": [
            "\u001b[0;31m---------------------------------------------------------------------------\u001b[0m",
            "\u001b[0;31mValueError\u001b[0m                                Traceback (most recent call last)",
            "\u001b[0;32m<ipython-input-132-14c4fa446c3e>\u001b[0m in \u001b[0;36m<module>\u001b[0;34m()\u001b[0m\n\u001b[1;32m     12\u001b[0m \u001b[0mprint\u001b[0m\u001b[0;34m(\u001b[0m\u001b[0;34m'Time: '\u001b[0m\u001b[0;34m,\u001b[0m \u001b[0mround\u001b[0m\u001b[0;34m(\u001b[0m\u001b[0mend\u001b[0m\u001b[0;34m-\u001b[0m\u001b[0mstart\u001b[0m\u001b[0;34m,\u001b[0m \u001b[0;36m4\u001b[0m\u001b[0;34m)\u001b[0m\u001b[0;34m)\u001b[0m\u001b[0;34m\u001b[0m\u001b[0;34m\u001b[0m\u001b[0m\n\u001b[1;32m     13\u001b[0m \u001b[0mprint\u001b[0m\u001b[0;34m(\u001b[0m\u001b[0;34m'Train Accuracy: '\u001b[0m\u001b[0;34m,\u001b[0m \u001b[0mround\u001b[0m\u001b[0;34m(\u001b[0m\u001b[0mpipe\u001b[0m\u001b[0;34m.\u001b[0m\u001b[0mscore\u001b[0m\u001b[0;34m(\u001b[0m\u001b[0mX_train_vec\u001b[0m\u001b[0;34m,\u001b[0m \u001b[0my_train\u001b[0m\u001b[0;34m)\u001b[0m\u001b[0;34m,\u001b[0m \u001b[0;36m4\u001b[0m\u001b[0;34m)\u001b[0m\u001b[0;34m)\u001b[0m\u001b[0;34m\u001b[0m\u001b[0;34m\u001b[0m\u001b[0m\n\u001b[0;32m---> 14\u001b[0;31m \u001b[0mprint\u001b[0m\u001b[0;34m(\u001b[0m\u001b[0;34m'Test Accuracy: '\u001b[0m\u001b[0;34m,\u001b[0m \u001b[0mround\u001b[0m\u001b[0;34m(\u001b[0m\u001b[0mpipe\u001b[0m\u001b[0;34m.\u001b[0m\u001b[0mscore\u001b[0m\u001b[0;34m(\u001b[0m\u001b[0mX_test_vec\u001b[0m\u001b[0;34m,\u001b[0m \u001b[0my_test\u001b[0m\u001b[0;34m)\u001b[0m\u001b[0;34m,\u001b[0m \u001b[0;36m4\u001b[0m\u001b[0;34m)\u001b[0m\u001b[0;34m)\u001b[0m\u001b[0;34m\u001b[0m\u001b[0;34m\u001b[0m\u001b[0m\n\u001b[0m",
            "\u001b[0;32m/usr/local/lib/python3.6/dist-packages/sklearn/utils/metaestimators.py\u001b[0m in \u001b[0;36m<lambda>\u001b[0;34m(*args, **kwargs)\u001b[0m\n\u001b[1;32m    114\u001b[0m \u001b[0;34m\u001b[0m\u001b[0m\n\u001b[1;32m    115\u001b[0m         \u001b[0;31m# lambda, but not partial, allows help() to work with update_wrapper\u001b[0m\u001b[0;34m\u001b[0m\u001b[0;34m\u001b[0m\u001b[0;34m\u001b[0m\u001b[0m\n\u001b[0;32m--> 116\u001b[0;31m         \u001b[0mout\u001b[0m \u001b[0;34m=\u001b[0m \u001b[0;32mlambda\u001b[0m \u001b[0;34m*\u001b[0m\u001b[0margs\u001b[0m\u001b[0;34m,\u001b[0m \u001b[0;34m**\u001b[0m\u001b[0mkwargs\u001b[0m\u001b[0;34m:\u001b[0m \u001b[0mself\u001b[0m\u001b[0;34m.\u001b[0m\u001b[0mfn\u001b[0m\u001b[0;34m(\u001b[0m\u001b[0mobj\u001b[0m\u001b[0;34m,\u001b[0m \u001b[0;34m*\u001b[0m\u001b[0margs\u001b[0m\u001b[0;34m,\u001b[0m \u001b[0;34m**\u001b[0m\u001b[0mkwargs\u001b[0m\u001b[0;34m)\u001b[0m\u001b[0;34m\u001b[0m\u001b[0;34m\u001b[0m\u001b[0m\n\u001b[0m\u001b[1;32m    117\u001b[0m         \u001b[0;31m# update the docstring of the returned function\u001b[0m\u001b[0;34m\u001b[0m\u001b[0;34m\u001b[0m\u001b[0;34m\u001b[0m\u001b[0m\n\u001b[1;32m    118\u001b[0m         \u001b[0mupdate_wrapper\u001b[0m\u001b[0;34m(\u001b[0m\u001b[0mout\u001b[0m\u001b[0;34m,\u001b[0m \u001b[0mself\u001b[0m\u001b[0;34m.\u001b[0m\u001b[0mfn\u001b[0m\u001b[0;34m)\u001b[0m\u001b[0;34m\u001b[0m\u001b[0;34m\u001b[0m\u001b[0m\n",
            "\u001b[0;32m/usr/local/lib/python3.6/dist-packages/sklearn/pipeline.py\u001b[0m in \u001b[0;36mscore\u001b[0;34m(self, X, y, sample_weight)\u001b[0m\n\u001b[1;32m    613\u001b[0m         \u001b[0mXt\u001b[0m \u001b[0;34m=\u001b[0m \u001b[0mX\u001b[0m\u001b[0;34m\u001b[0m\u001b[0;34m\u001b[0m\u001b[0m\n\u001b[1;32m    614\u001b[0m         \u001b[0;32mfor\u001b[0m \u001b[0m_\u001b[0m\u001b[0;34m,\u001b[0m \u001b[0mname\u001b[0m\u001b[0;34m,\u001b[0m \u001b[0mtransform\u001b[0m \u001b[0;32min\u001b[0m \u001b[0mself\u001b[0m\u001b[0;34m.\u001b[0m\u001b[0m_iter\u001b[0m\u001b[0;34m(\u001b[0m\u001b[0mwith_final\u001b[0m\u001b[0;34m=\u001b[0m\u001b[0;32mFalse\u001b[0m\u001b[0;34m)\u001b[0m\u001b[0;34m:\u001b[0m\u001b[0;34m\u001b[0m\u001b[0;34m\u001b[0m\u001b[0m\n\u001b[0;32m--> 615\u001b[0;31m             \u001b[0mXt\u001b[0m \u001b[0;34m=\u001b[0m \u001b[0mtransform\u001b[0m\u001b[0;34m.\u001b[0m\u001b[0mtransform\u001b[0m\u001b[0;34m(\u001b[0m\u001b[0mXt\u001b[0m\u001b[0;34m)\u001b[0m\u001b[0;34m\u001b[0m\u001b[0;34m\u001b[0m\u001b[0m\n\u001b[0m\u001b[1;32m    616\u001b[0m         \u001b[0mscore_params\u001b[0m \u001b[0;34m=\u001b[0m \u001b[0;34m{\u001b[0m\u001b[0;34m}\u001b[0m\u001b[0;34m\u001b[0m\u001b[0;34m\u001b[0m\u001b[0m\n\u001b[1;32m    617\u001b[0m         \u001b[0;32mif\u001b[0m \u001b[0msample_weight\u001b[0m \u001b[0;32mis\u001b[0m \u001b[0;32mnot\u001b[0m \u001b[0;32mNone\u001b[0m\u001b[0;34m:\u001b[0m\u001b[0;34m\u001b[0m\u001b[0;34m\u001b[0m\u001b[0m\n",
            "\u001b[0;32m/usr/local/lib/python3.6/dist-packages/sklearn/decomposition/_base.py\u001b[0m in \u001b[0;36mtransform\u001b[0;34m(self, X)\u001b[0m\n\u001b[1;32m    127\u001b[0m         \u001b[0mX\u001b[0m \u001b[0;34m=\u001b[0m \u001b[0mcheck_array\u001b[0m\u001b[0;34m(\u001b[0m\u001b[0mX\u001b[0m\u001b[0;34m)\u001b[0m\u001b[0;34m\u001b[0m\u001b[0;34m\u001b[0m\u001b[0m\n\u001b[1;32m    128\u001b[0m         \u001b[0;32mif\u001b[0m \u001b[0mself\u001b[0m\u001b[0;34m.\u001b[0m\u001b[0mmean_\u001b[0m \u001b[0;32mis\u001b[0m \u001b[0;32mnot\u001b[0m \u001b[0;32mNone\u001b[0m\u001b[0;34m:\u001b[0m\u001b[0;34m\u001b[0m\u001b[0;34m\u001b[0m\u001b[0m\n\u001b[0;32m--> 129\u001b[0;31m             \u001b[0mX\u001b[0m \u001b[0;34m=\u001b[0m \u001b[0mX\u001b[0m \u001b[0;34m-\u001b[0m \u001b[0mself\u001b[0m\u001b[0;34m.\u001b[0m\u001b[0mmean_\u001b[0m\u001b[0;34m\u001b[0m\u001b[0;34m\u001b[0m\u001b[0m\n\u001b[0m\u001b[1;32m    130\u001b[0m         \u001b[0mX_transformed\u001b[0m \u001b[0;34m=\u001b[0m \u001b[0mnp\u001b[0m\u001b[0;34m.\u001b[0m\u001b[0mdot\u001b[0m\u001b[0;34m(\u001b[0m\u001b[0mX\u001b[0m\u001b[0;34m,\u001b[0m \u001b[0mself\u001b[0m\u001b[0;34m.\u001b[0m\u001b[0mcomponents_\u001b[0m\u001b[0;34m.\u001b[0m\u001b[0mT\u001b[0m\u001b[0;34m)\u001b[0m\u001b[0;34m\u001b[0m\u001b[0;34m\u001b[0m\u001b[0m\n\u001b[1;32m    131\u001b[0m         \u001b[0;32mif\u001b[0m \u001b[0mself\u001b[0m\u001b[0;34m.\u001b[0m\u001b[0mwhiten\u001b[0m\u001b[0;34m:\u001b[0m\u001b[0;34m\u001b[0m\u001b[0;34m\u001b[0m\u001b[0m\n",
            "\u001b[0;31mValueError\u001b[0m: operands could not be broadcast together with shapes (1278,30376) (59028,) "
          ]
        }
      ]
    },
    {
      "cell_type": "code",
      "metadata": {
        "colab": {
          "base_uri": "https://localhost:8080/"
        },
        "id": "ihMh9YbcgkwE",
        "outputId": "e6a9265a-83c1-4377-f368-66f55b72ab6d"
      },
      "source": [
        "print(X_test_vec.shape)\r\n",
        "print(y_test.shape)"
      ],
      "execution_count": null,
      "outputs": [
        {
          "output_type": "stream",
          "text": [
            "(1278, 30376)\n",
            "(1278,)\n"
          ],
          "name": "stdout"
        }
      ]
    },
    {
      "cell_type": "code",
      "metadata": {
        "colab": {
          "base_uri": "https://localhost:8080/"
        },
        "id": "YCHoKRlehdNT",
        "outputId": "69c8ce72-63d8-4a20-e197-b12962590869"
      },
      "source": [
        "print(X_train_vec.shape)\r\n",
        "print(y_train.shape)"
      ],
      "execution_count": null,
      "outputs": [
        {
          "output_type": "stream",
          "text": [
            "(5109, 59028)\n",
            "(5109,)\n"
          ],
          "name": "stdout"
        }
      ]
    },
    {
      "cell_type": "code",
      "metadata": {
        "colab": {
          "base_uri": "https://localhost:8080/",
          "height": 232
        },
        "id": "5WqjDfbhigKX",
        "outputId": "f853033b-a946-4327-e4d0-ed6186930e33"
      },
      "source": [
        "# Define Scaler\n",
        "scaler = StandardScaler()\n",
        "\n",
        "# Define PCA\n",
        "pca = PCA(n_components=5000)\n",
        "\n",
        "# Example on X_train_vec\n",
        "X_train_vec_pca = pca.fit_transform(X_train_vec)\n",
        "print('Shape after PCA: ', X_train_vec_pca.shape)\n",
        "print('Number of components: ', pca.n_components_)\n",
        "print('Explained variance ratio: ', sum(pca.explained_variance_ratio_))"
      ],
      "execution_count": null,
      "outputs": [
        {
          "output_type": "error",
          "ename": "NameError",
          "evalue": "ignored",
          "traceback": [
            "\u001b[0;31m---------------------------------------------------------------------------\u001b[0m",
            "\u001b[0;31mNameError\u001b[0m                                 Traceback (most recent call last)",
            "\u001b[0;32m<ipython-input-4-355a6d5acb25>\u001b[0m in \u001b[0;36m<module>\u001b[0;34m()\u001b[0m\n\u001b[1;32m      1\u001b[0m \u001b[0;31m# Define Scaler\u001b[0m\u001b[0;34m\u001b[0m\u001b[0;34m\u001b[0m\u001b[0;34m\u001b[0m\u001b[0m\n\u001b[0;32m----> 2\u001b[0;31m \u001b[0mscaler\u001b[0m \u001b[0;34m=\u001b[0m \u001b[0mStandardScaler\u001b[0m\u001b[0;34m(\u001b[0m\u001b[0;34m)\u001b[0m\u001b[0;34m\u001b[0m\u001b[0;34m\u001b[0m\u001b[0m\n\u001b[0m\u001b[1;32m      3\u001b[0m \u001b[0;34m\u001b[0m\u001b[0m\n\u001b[1;32m      4\u001b[0m \u001b[0;31m# Define PCA\u001b[0m\u001b[0;34m\u001b[0m\u001b[0;34m\u001b[0m\u001b[0;34m\u001b[0m\u001b[0m\n\u001b[1;32m      5\u001b[0m \u001b[0mpca\u001b[0m \u001b[0;34m=\u001b[0m \u001b[0mPCA\u001b[0m\u001b[0;34m(\u001b[0m\u001b[0mn_components\u001b[0m\u001b[0;34m=\u001b[0m\u001b[0;36m5000\u001b[0m\u001b[0;34m)\u001b[0m\u001b[0;34m\u001b[0m\u001b[0;34m\u001b[0m\u001b[0m\n",
            "\u001b[0;31mNameError\u001b[0m: name 'StandardScaler' is not defined"
          ]
        }
      ]
    },
    {
      "cell_type": "code",
      "metadata": {
        "colab": {
          "base_uri": "https://localhost:8080/"
        },
        "id": "EcHtlOKLovUl",
        "outputId": "878efcf7-4305-44f2-f195-127e26fb3b49"
      },
      "source": [
        "# With Standardization\r\n",
        "from sklearn.linear_model import LogisticRegression\r\n",
        "from sklearn.pipeline import Pipeline\r\n",
        "import time\r\n",
        " # Define classifier\r\n",
        "LR = LogisticRegression(solver=\"lbfgs\", max_iter=2000, random_state=72)\r\n",
        "# Define Model\r\n",
        "pipe = Pipeline([('scaler', scaler),\r\n",
        "                 ('logistic reg', LogisticRegression())\r\n",
        "                 ])\r\n",
        "\r\n",
        "# Fit model\r\n",
        "pipe.fit(X_train_vec, y_train)\r\n",
        "print('Train Accuracy: ', round(pipe.score(X_train_vec, y_train), 4))\r\n",
        "print('Test Accuracy: ', round(pipe.score(X_test_vec, y_test), 4))"
      ],
      "execution_count": null,
      "outputs": [
        {
          "output_type": "stream",
          "text": [
            "/usr/local/lib/python3.6/dist-packages/sklearn/linear_model/_logistic.py:940: ConvergenceWarning: lbfgs failed to converge (status=1):\n",
            "STOP: TOTAL NO. of ITERATIONS REACHED LIMIT.\n",
            "\n",
            "Increase the number of iterations (max_iter) or scale the data as shown in:\n",
            "    https://scikit-learn.org/stable/modules/preprocessing.html\n",
            "Please also refer to the documentation for alternative solver options:\n",
            "    https://scikit-learn.org/stable/modules/linear_model.html#logistic-regression\n",
            "  extra_warning_msg=_LOGISTIC_SOLVER_CONVERGENCE_MSG)\n"
          ],
          "name": "stderr"
        },
        {
          "output_type": "stream",
          "text": [
            "Train Accuracy:  0.9979\n",
            "Test Accuracy:  0.7398\n"
          ],
          "name": "stdout"
        }
      ]
    },
    {
      "cell_type": "code",
      "metadata": {
        "id": "FOtLwc45kM9S",
        "colab": {
          "base_uri": "https://localhost:8080/",
          "height": 232
        },
        "outputId": "416fd3c9-489a-4607-850d-f860e3261100"
      },
      "source": [
        "# With PCA and standardization\n",
        "from sklearn.linear_model import LogisticRegression\n",
        "from sklearn.pipeline import Pipeline\n",
        "import time\n",
        "\n",
        "# Define Model\n",
        "pipe = Pipeline([\n",
        "                 ('scaler', scaler),\n",
        "                 ('pca', pca),\n",
        "                 ('logistic reg', LR),\n",
        "                 ])\n",
        "# Fit model\n",
        "start = time.time()\n",
        "pipe.fit(X_train_vec, y_train)\n",
        "end = time.time()\n",
        "print('Time: ', round(end-start, 4))\n",
        "print('Train Accuracy: ', round(pipe.score(X_train_vec, y_train), 4))\n",
        "print('Test Accuracy: ', round(pipe.score(X_test_vec, y_test), 4))"
      ],
      "execution_count": null,
      "outputs": [
        {
          "output_type": "error",
          "ename": "NameError",
          "evalue": "ignored",
          "traceback": [
            "\u001b[0;31m---------------------------------------------------------------------------\u001b[0m",
            "\u001b[0;31mNameError\u001b[0m                                 Traceback (most recent call last)",
            "\u001b[0;32m<ipython-input-3-f46c769cd24f>\u001b[0m in \u001b[0;36m<module>\u001b[0;34m()\u001b[0m\n\u001b[1;32m      4\u001b[0m \u001b[0;31m# Define Model\u001b[0m\u001b[0;34m\u001b[0m\u001b[0;34m\u001b[0m\u001b[0;34m\u001b[0m\u001b[0m\n\u001b[1;32m      5\u001b[0m pipe = Pipeline([\n\u001b[0;32m----> 6\u001b[0;31m                  \u001b[0;34m(\u001b[0m\u001b[0;34m'scaler'\u001b[0m\u001b[0;34m,\u001b[0m \u001b[0mscaler\u001b[0m\u001b[0;34m)\u001b[0m\u001b[0;34m,\u001b[0m\u001b[0;34m\u001b[0m\u001b[0;34m\u001b[0m\u001b[0m\n\u001b[0m\u001b[1;32m      7\u001b[0m                  \u001b[0;34m(\u001b[0m\u001b[0;34m'pca'\u001b[0m\u001b[0;34m,\u001b[0m \u001b[0mpca\u001b[0m\u001b[0;34m)\u001b[0m\u001b[0;34m,\u001b[0m\u001b[0;34m\u001b[0m\u001b[0;34m\u001b[0m\u001b[0m\n\u001b[1;32m      8\u001b[0m                  \u001b[0;34m(\u001b[0m\u001b[0;34m'logistic reg'\u001b[0m\u001b[0;34m,\u001b[0m \u001b[0mLR\u001b[0m\u001b[0;34m)\u001b[0m\u001b[0;34m,\u001b[0m\u001b[0;34m\u001b[0m\u001b[0;34m\u001b[0m\u001b[0m\n",
            "\u001b[0;31mNameError\u001b[0m: name 'scaler' is not defined"
          ]
        }
      ]
    },
    {
      "cell_type": "markdown",
      "metadata": {
        "id": "NDbV_klpaMtr"
      },
      "source": [
        "#Using different classifiers 👨‍💻\n",
        "\n",
        "We tried different classifier to know which one could predict the best our model\n",
        "\n",
        "##Logistic regression with cross validation"
      ]
    },
    {
      "cell_type": "code",
      "metadata": {
        "id": "esE7sSgDD0W-"
      },
      "source": [
        "#Setting up the train test split\n",
        "\n",
        "#First for the training data\n",
        "X = df_train['text']\n",
        "y = df_train['target']\n",
        "# Train test split\n",
        "X_train, X_test, y_train, y_test = train_test_split(X, y, test_size=0.2, random_state=0,stratify=y )"
      ],
      "execution_count": 167,
      "outputs": []
    },
    {
      "cell_type": "code",
      "metadata": {
        "id": "X_f-4J4Ec3-Z"
      },
      "source": [
        "#Logistic regressin cross validation\n",
        "from sklearn.linear_model import LogisticRegressionCV\n",
        "LRCV = LRCV = LogisticRegressionCV(solver='lbfgs', cv=5, max_iter=1000, random_state=72)\n",
        "#Create pipeline\n",
        "pipe = Pipeline([('vectorizer', tfidf_vector),\n",
        "                 ('classifier', LRCV)])\n",
        "\n"
      ],
      "execution_count": 168,
      "outputs": []
    },
    {
      "cell_type": "code",
      "metadata": {
        "colab": {
          "base_uri": "https://localhost:8080/"
        },
        "id": "-u_W7jCSxFuT",
        "outputId": "6effbbdc-3ac1-484c-c574-e46d565edc66"
      },
      "source": [
        "#Fit\n",
        "pipe.fit(X_train,y_train)"
      ],
      "execution_count": 169,
      "outputs": [
        {
          "output_type": "execute_result",
          "data": {
            "text/plain": [
              "Pipeline(memory=None,\n",
              "         steps=[('vectorizer',\n",
              "                 TfidfVectorizer(analyzer='word', binary=False,\n",
              "                                 decode_error='strict',\n",
              "                                 dtype=<class 'numpy.float64'>,\n",
              "                                 encoding='utf-8', input='content',\n",
              "                                 lowercase=True, max_df=1.0, max_features=None,\n",
              "                                 min_df=1, ngram_range=(1, 1), norm='l2',\n",
              "                                 preprocessor=None, smooth_idf=True,\n",
              "                                 stop_words=None, strip_accents=None,\n",
              "                                 sublinear_tf=False,\n",
              "                                 token_patt...\n",
              "                                 tokenizer=<function spacy_tokenizer at 0x7f2ed3048ea0>,\n",
              "                                 use_idf=True, vocabulary=None)),\n",
              "                ('classifier',\n",
              "                 LogisticRegressionCV(Cs=10, class_weight=None, cv=5,\n",
              "                                      dual=False, fit_intercept=True,\n",
              "                                      intercept_scaling=1.0, l1_ratios=None,\n",
              "                                      max_iter=1000, multi_class='auto',\n",
              "                                      n_jobs=None, penalty='l2',\n",
              "                                      random_state=72, refit=True, scoring=None,\n",
              "                                      solver='lbfgs', tol=0.0001, verbose=0))],\n",
              "         verbose=False)"
            ]
          },
          "metadata": {
            "tags": []
          },
          "execution_count": 169
        }
      ]
    },
    {
      "cell_type": "code",
      "metadata": {
        "colab": {
          "base_uri": "https://localhost:8080/"
        },
        "id": "AyiGzPk7xHKx",
        "outputId": "c01ff980-9f31-44a7-cba0-b2505fb169d6"
      },
      "source": [
        "#Accuracy of the train data\n",
        "y_pred_train = pipe.predict(X_train)\n",
        "print(f\"TRAIN ACCURACY SCORE:\\n{accuracy_score(y_train, y_pred_train):.4f}\")\n",
        "print(f\"CONFUSION MATRIX:\\n{confusion_matrix(y_train, y_pred_train)}\")"
      ],
      "execution_count": 170,
      "outputs": [
        {
          "output_type": "stream",
          "text": [
            "TRAIN ACCURACY SCORE:\n",
            "0.9449\n",
            "CONFUSION MATRIX:\n",
            "[[2906   54]\n",
            " [ 231 1985]]\n"
          ],
          "name": "stdout"
        }
      ]
    },
    {
      "cell_type": "code",
      "metadata": {
        "colab": {
          "base_uri": "https://localhost:8080/"
        },
        "id": "zI2EZnmQEfKV",
        "outputId": "e6a3d6e7-c7cc-4bca-ac7c-164631cf1ceb"
      },
      "source": [
        "#Accuracy of the test data\n",
        "y_pred_test = pipe.predict(X_test)\n",
        "print(f\"TEST ACCURACY SCORE:\\n{accuracy_score(y_test, y_pred_test):.4f}\")\n",
        "print(f\"CONFUSION MATRIX:\\n{confusion_matrix(y_test, y_pred_test)}\")"
      ],
      "execution_count": 171,
      "outputs": [
        {
          "output_type": "stream",
          "text": [
            "TEST ACCURACY SCORE:\n",
            "0.7776\n",
            "CONFUSION MATRIX:\n",
            "[[629 112]\n",
            " [176 378]]\n"
          ],
          "name": "stdout"
        }
      ]
    },
    {
      "cell_type": "code",
      "metadata": {
        "colab": {
          "base_uri": "https://localhost:8080/"
        },
        "id": "-vD9wEX2Igze",
        "outputId": "375397b4-8575-4584-aa07-0a521ee3cfbd"
      },
      "source": [
        "target_test = pipe.predict(df_test['text'])\n",
        "target_test"
      ],
      "execution_count": null,
      "outputs": [
        {
          "output_type": "execute_result",
          "data": {
            "text/plain": [
              "array([0, 0, 1, ..., 1, 0, 1])"
            ]
          },
          "metadata": {
            "tags": []
          },
          "execution_count": 104
        }
      ]
    },
    {
      "cell_type": "code",
      "metadata": {
        "id": "sz8uqYQqIhfP"
      },
      "source": [
        "sample_submission.target = target_test\n",
        "sample_submission.to_csv('submission-12.csv', index=False)"
      ],
      "execution_count": null,
      "outputs": []
    },
    {
      "cell_type": "markdown",
      "metadata": {
        "id": "TxIlB9TLtoQG"
      },
      "source": [
        "##Random forest classifier 🌳🌳🌳\n",
        "According to the documentation, the RFC looks like the most fitting classifier for our case. Thus we allocated a lot of ressources to improve its accuracy: in the section below there is a take on parameters tuning for RFC."
      ]
    },
    {
      "cell_type": "code",
      "metadata": {
        "id": "vSo9mpXdvwUv"
      },
      "source": [
        "from sklearn.ensemble import RandomForestClassifier"
      ],
      "execution_count": 99,
      "outputs": []
    },
    {
      "cell_type": "code",
      "metadata": {
        "id": "petfEC5-Mblp"
      },
      "source": [
        "#Setting up the train test split\n",
        "\n",
        "#First for the training data\n",
        "X = df_train['text']\n",
        "y = df_train['target']\n",
        "# Train test split\n",
        "X_train, X_test, y_train, y_test = train_test_split(X, y, test_size=0.2, random_state=42)"
      ],
      "execution_count": null,
      "outputs": []
    },
    {
      "cell_type": "code",
      "metadata": {
        "id": "a8kaQNLzwu3n"
      },
      "source": [
        "#Define classifier\n",
        "RFC = RandomForestClassifier(n_estimators = 16,max_depth = 60,random_state =42)\n",
        "#Create pipeline\n",
        "pipe = Pipeline([('vectorizer', tfidf_vector),\n",
        "                 ('classifier', RFC)])"
      ],
      "execution_count": null,
      "outputs": []
    },
    {
      "cell_type": "code",
      "metadata": {
        "colab": {
          "base_uri": "https://localhost:8080/"
        },
        "id": "RAtRRzNCxYYw",
        "outputId": "6fe466aa-be1b-4f5d-b3a7-749b09472af3"
      },
      "source": [
        "#Fit\n",
        "pipe.fit(X_train, y_train)"
      ],
      "execution_count": null,
      "outputs": [
        {
          "output_type": "execute_result",
          "data": {
            "text/plain": [
              "Pipeline(memory=None,\n",
              "         steps=[('vectorizer',\n",
              "                 TfidfVectorizer(analyzer='char', binary=False,\n",
              "                                 decode_error='strict',\n",
              "                                 dtype=<class 'numpy.float64'>,\n",
              "                                 encoding='utf-8', input='content',\n",
              "                                 lowercase=True, max_df=1.0, max_features=None,\n",
              "                                 min_df=1, ngram_range=(3, 4), norm='l2',\n",
              "                                 preprocessor=None, smooth_idf=True,\n",
              "                                 stop_words=None, strip_accents=None,\n",
              "                                 sublinear_tf=False,\n",
              "                                 token_patt...\n",
              "                 RandomForestClassifier(bootstrap=True, ccp_alpha=0.0,\n",
              "                                        class_weight=None, criterion='gini',\n",
              "                                        max_depth=60, max_features='auto',\n",
              "                                        max_leaf_nodes=None, max_samples=None,\n",
              "                                        min_impurity_decrease=0.0,\n",
              "                                        min_impurity_split=None,\n",
              "                                        min_samples_leaf=1, min_samples_split=2,\n",
              "                                        min_weight_fraction_leaf=0.0,\n",
              "                                        n_estimators=16, n_jobs=None,\n",
              "                                        oob_score=False, random_state=42,\n",
              "                                        verbose=0, warm_start=False))],\n",
              "         verbose=False)"
            ]
          },
          "metadata": {
            "tags": []
          },
          "execution_count": 109
        }
      ]
    },
    {
      "cell_type": "code",
      "metadata": {
        "colab": {
          "base_uri": "https://localhost:8080/"
        },
        "id": "cbiQfd8kxeV0",
        "outputId": "caa328c6-a78d-4553-8b75-57fff8a3570e"
      },
      "source": [
        "#Accuracy of the train data\n",
        "y_pred_train = pipe.predict(X_train)\n",
        "print(f\"TRAIN ACCURACY SCORE:\\n{accuracy_score(y_train, y_pred_train):.4f}\")\n",
        "print(f\"CONFUSION MATRIX:\\n{confusion_matrix(y_train, y_pred_train)}\")"
      ],
      "execution_count": null,
      "outputs": [
        {
          "output_type": "stream",
          "text": [
            "TRAIN ACCURACY SCORE:\n",
            "0.9541\n",
            "CONFUSION MATRIX:\n",
            "[[2792    7]\n",
            " [ 211 1742]]\n"
          ],
          "name": "stdout"
        }
      ]
    },
    {
      "cell_type": "code",
      "metadata": {
        "colab": {
          "base_uri": "https://localhost:8080/"
        },
        "id": "SkhvhW1OLpKv",
        "outputId": "70f14f71-f41e-4dfd-fd3a-1c9854e3386d"
      },
      "source": [
        "#Accuracy of the test data\n",
        "y_pred_test = pipe.predict(X_test)\n",
        "print(f\"TEST ACCURACY SCORE:\\n{accuracy_score(y_test, y_pred_test):.4f}\")\n",
        "print(f\"CONFUSION MATRIX:\\n{confusion_matrix(y_test, y_pred_test)}\")"
      ],
      "execution_count": null,
      "outputs": [
        {
          "output_type": "stream",
          "text": [
            "TEST ACCURACY SCORE:\n",
            "0.7593\n",
            "CONFUSION MATRIX:\n",
            "[[628  90]\n",
            " [196 274]]\n"
          ],
          "name": "stdout"
        }
      ]
    },
    {
      "cell_type": "code",
      "metadata": {
        "id": "2VPRXs6gJ3aI",
        "colab": {
          "base_uri": "https://localhost:8080/"
        },
        "outputId": "0d49a794-009f-471a-edea-2538546dbc4e"
      },
      "source": [
        "target_test = pipe.predict(df_test['text'])\n",
        "target_test"
      ],
      "execution_count": null,
      "outputs": [
        {
          "output_type": "execute_result",
          "data": {
            "text/plain": [
              "array([0, 0, 1, ..., 0, 0, 1])"
            ]
          },
          "metadata": {
            "tags": []
          },
          "execution_count": 40
        }
      ]
    },
    {
      "cell_type": "code",
      "metadata": {
        "id": "yKGv4yYUJ4hX"
      },
      "source": [
        "sample_submission.target = target_test\n",
        "sample_submission.to_csv('submission-13.csv', index=False)"
      ],
      "execution_count": null,
      "outputs": []
    },
    {
      "cell_type": "markdown",
      "metadata": {
        "id": "vB6_uh6N4oRD"
      },
      "source": [
        "####Plot different values of parameters to find which one is optimal\n",
        "####1. n_estimator"
      ]
    },
    {
      "cell_type": "code",
      "metadata": {
        "id": "ZyFadvdwtU7i"
      },
      "source": [
        "#packages needed for graphs\n",
        "from sklearn.metrics import roc_curve, auc\n",
        "import matplotlib as mpl\n",
        "import matplotlib.pyplot as plt\n",
        "from matplotlib.legend_handler import HandlerLine2D"
      ],
      "execution_count": null,
      "outputs": []
    },
    {
      "cell_type": "code",
      "metadata": {
        "id": "HQXct903rr8p",
        "colab": {
          "base_uri": "https://localhost:8080/",
          "height": 232
        },
        "outputId": "6509b7dd-1ba8-4bee-bba1-f1172664ba06"
      },
      "source": [
        "#Create array of values for n_estimators\n",
        "n_estimators = [1, 2, 4, 8, 16, 32, 64, 100, 200]\n",
        "\n",
        "#Build function to test value of array in the model\n",
        "train_results = []\n",
        "test_results = []\n",
        "for estimator in n_estimators:\n",
        "   RFC = RandomForestClassifier(n_estimators=estimator, n_jobs=-1) \n",
        "   pipe = Pipeline([('vectorizer', tfidf_vector),\n",
        "                 ('classifier', RFC)])\n",
        "   pipe.fit(X_train, y_train)\n",
        "   #Training data curve\n",
        "   train_pred = pipe.predict(X_train)\n",
        "   false_positive_rate, true_positive_rate, thresholds = roc_curve(y_train, train_pred)\n",
        "   roc_auc = auc(false_positive_rate, true_positive_rate)\n",
        "   train_results.append(roc_auc)\n",
        "   #Test data curve\n",
        "   y_pred = pipe.predict(X_test)\n",
        "   false_positive_rate, true_positive_rate, thresholds = roc_curve(y_test, y_pred)\n",
        "   roc_auc = auc(false_positive_rate, true_positive_rate)\n",
        "   test_results.append(roc_auc)\n"
      ],
      "execution_count": null,
      "outputs": [
        {
          "output_type": "error",
          "ename": "NameError",
          "evalue": "ignored",
          "traceback": [
            "\u001b[0;31m---------------------------------------------------------------------------\u001b[0m",
            "\u001b[0;31mNameError\u001b[0m                                 Traceback (most recent call last)",
            "\u001b[0;32m<ipython-input-25-c7ce7879240c>\u001b[0m in \u001b[0;36m<module>\u001b[0;34m()\u001b[0m\n\u001b[1;32m      6\u001b[0m \u001b[0mtest_results\u001b[0m \u001b[0;34m=\u001b[0m \u001b[0;34m[\u001b[0m\u001b[0;34m]\u001b[0m\u001b[0;34m\u001b[0m\u001b[0;34m\u001b[0m\u001b[0m\n\u001b[1;32m      7\u001b[0m \u001b[0;32mfor\u001b[0m \u001b[0mestimator\u001b[0m \u001b[0;32min\u001b[0m \u001b[0mn_estimators\u001b[0m\u001b[0;34m:\u001b[0m\u001b[0;34m\u001b[0m\u001b[0;34m\u001b[0m\u001b[0m\n\u001b[0;32m----> 8\u001b[0;31m    \u001b[0mRFC\u001b[0m \u001b[0;34m=\u001b[0m \u001b[0mRandomForestClassifier\u001b[0m\u001b[0;34m(\u001b[0m\u001b[0mn_estimators\u001b[0m\u001b[0;34m=\u001b[0m\u001b[0mestimator\u001b[0m\u001b[0;34m,\u001b[0m \u001b[0mn_jobs\u001b[0m\u001b[0;34m=\u001b[0m\u001b[0;34m-\u001b[0m\u001b[0;36m1\u001b[0m\u001b[0;34m)\u001b[0m\u001b[0;34m\u001b[0m\u001b[0;34m\u001b[0m\u001b[0m\n\u001b[0m\u001b[1;32m      9\u001b[0m    pipe = Pipeline([('vectorizer', tfidf_vector),\n\u001b[1;32m     10\u001b[0m                  ('classifier', RFC)])\n",
            "\u001b[0;31mNameError\u001b[0m: name 'RandomForestClassifier' is not defined"
          ]
        }
      ]
    },
    {
      "cell_type": "code",
      "metadata": {
        "colab": {
          "base_uri": "https://localhost:8080/",
          "height": 282
        },
        "id": "gCUWK84i4k1X",
        "outputId": "8b8d724d-71f4-4228-8b70-2184c456c9c9"
      },
      "source": [
        "#Plotting the curves for train and test accuracy\n",
        "line1, = plt.plot(n_estimators, train_results, 'b', label='Train AUC')\n",
        "line2, = plt.plot(n_estimators, test_results, 'r', label='Test AUC')\n",
        "plt.legend(handler_map={line1: HandlerLine2D(numpoints=2)})\n",
        "plt.ylabel('AUC score')\n",
        "plt.xlabel('n_estimators')\n",
        "plt.show()\n",
        "#We can see below a maximum for is between [25;50]"
      ],
      "execution_count": null,
      "outputs": [
        {
          "output_type": "display_data",
          "data": {
            "image/png": "[encoded data removed]",
            "text/plain": [
              "<Figure size 432x288 with 1 Axes>"
            ]
          },
          "metadata": {
            "tags": [],
            "needs_background": "light"
          }
        }
      ]
    },
    {
      "cell_type": "markdown",
      "metadata": {
        "id": "pkpmuKAA5NGH"
      },
      "source": [
        "####2. max_depth"
      ]
    },
    {
      "cell_type": "code",
      "metadata": {
        "id": "93GLpTsJ5Uzx"
      },
      "source": [
        "#Tune max_depths parameters, analyze value between 1 and 100\n",
        "max_depths = np.linspace(1, 32, 32, endpoint=True)\n",
        "train_results = []\n",
        "test_results = []\n",
        "#Creating a function\n",
        "for max_depth in max_depths:\n",
        "   RFC = RandomForestClassifier(max_depth=max_depth, n_jobs=-1)\n",
        "   \n",
        "   pipe.fit(X_train, y_train)\n",
        "   \n",
        "   #Train data curve\n",
        "   train_pred = pipe.predict(X_train)\n",
        "   false_positive_rate, true_positive_rate, thresholds = roc_curve(y_train, train_pred)\n",
        "   roc_auc = auc(false_positive_rate, true_positive_rate)\n",
        "   train_results.append(roc_auc)\n",
        "   #Test data curve\n",
        "   y_pred = pipe.predict(X_test)\n",
        "   false_positive_rate, true_positive_rate, thresholds = roc_curve(y_test, y_pred)\n",
        "   roc_auc = auc(false_positive_rate, true_positive_rate)\n",
        "   test_results.append(roc_auc)"
      ],
      "execution_count": null,
      "outputs": []
    },
    {
      "cell_type": "code",
      "metadata": {
        "id": "Yi0PjfWW7VkC",
        "colab": {
          "base_uri": "https://localhost:8080/",
          "height": 283
        },
        "outputId": "8be268f5-506e-4df0-cb01-e957fccd1704"
      },
      "source": [
        "#Plotting the curves for train and test accuracy\n",
        "line1, = plt.plot(max_depths, train_results, 'b', label='Train AUC')\n",
        "line2, = plt.plot(max_depths, test_results, 'r', label='Test AUC')\n",
        "plt.legend(handler_map={line1: HandlerLine2D(numpoints=2)})\n",
        "plt.ylabel('AUC score')\n",
        "plt.xlabel('Tree depth')\n",
        "plt.show()"
      ],
      "execution_count": null,
      "outputs": [
        {
          "output_type": "display_data",
          "data": {
            "image/png": "[encoded data removed]",
            "text/plain": [
              "<Figure size 432x288 with 1 Axes>"
            ]
          },
          "metadata": {
            "tags": [],
            "needs_background": "light"
          }
        }
      ]
    },
    {
      "cell_type": "markdown",
      "metadata": {
        "id": "XHBHDVl0Kxvn"
      },
      "source": [
        "####3. min_samples_split"
      ]
    },
    {
      "cell_type": "code",
      "metadata": {
        "id": "EDqN1iS7Kw_E"
      },
      "source": [
        "#Want to know what values between 10% or 100% of the samples is needed\n",
        "min_samples_splits = np.linspace(0.1, 1.0, 10, endpoint=True)\n",
        "train_results = []\n",
        "test_results = []\n",
        "#the function\n",
        "for min_samples_split in min_samples_splits:\n",
        "   RFC = RandomForestClassifier(min_samples_split=min_samples_split)\n",
        "   #Train data curve\n",
        "   pipe.fit(X_train, y_train)\n",
        "   train_pred = pipe.predict(X_train)\n",
        "   false_positive_rate, true_positive_rate, thresholds = roc_curve(y_train, train_pred)\n",
        "   roc_auc = auc(false_positive_rate, true_positive_rate)\n",
        "   train_results.append(roc_auc)\n",
        "   #Test data curve\n",
        "   y_pred = pipe.predict(X_test)\n",
        "   false_positive_rate, true_positive_rate, thresholds = roc_curve(y_test, y_pred)\n",
        "   roc_auc = auc(false_positive_rate, true_positive_rate)\n",
        "   test_results.append(roc_auc)"
      ],
      "execution_count": null,
      "outputs": []
    },
    {
      "cell_type": "code",
      "metadata": {
        "id": "QXyvuG04Lurj"
      },
      "source": [
        "#Plotting the curves for train and test accuracy\n",
        "line1, = plt.plot(min_samples_splits, train_results, 'b', label='Train AUC')\n",
        "line2, = plt.plot(min_samples_splits, test_results, 'r', label='Test AUC')\n",
        "plt.legend(handler_map={line1: HandlerLine2D(numpoints=2)})\n",
        "plt.ylabel('AUC score')\n",
        "plt.xlabel('min samples split')\n",
        "plt.show()"
      ],
      "execution_count": null,
      "outputs": []
    },
    {
      "cell_type": "markdown",
      "metadata": {
        "id": "n4h1hR5KMziS"
      },
      "source": [
        "####4. max_features"
      ]
    },
    {
      "cell_type": "code",
      "metadata": {
        "id": "J-bh5b-zM24c"
      },
      "source": [
        "#nb of features to consider when looking for the best split\n",
        "max_features = list(range(1,df_train.shape[1]))\n",
        "train_results = []\n",
        "test_results = []\n",
        "#the function\n",
        "for max_feature in max_features:\n",
        "   RFC = RandomForestClassifier(max_features=max_feature)   \n",
        "   pipe.fit(x_train, y_train)\n",
        "   #Train data curve\n",
        "   train_pred = pipe.predict(X_train)\n",
        "   false_positive_rate, true_positive_rate, thresholds = roc_curve(y_train, train_pred)\n",
        "   roc_auc = auc(false_positive_rate, true_positive_rate)\n",
        "   train_results.append(roc_auc)\n",
        "   #Test data curve\n",
        "   y_pred = pipe.predict(X_test)\n",
        "   false_positive_rate, true_positive_rate, thresholds = roc_curve(y_test, y_pred)\n",
        "   roc_auc = auc(false_positive_rate, true_positive_rate)\n",
        "   test_results.append(roc_auc)"
      ],
      "execution_count": null,
      "outputs": []
    },
    {
      "cell_type": "code",
      "metadata": {
        "id": "bwPtXfTLM73H"
      },
      "source": [
        "#Plotting the curves for train and test accuracy\n",
        "line1, = plt.plot(max_features, train_results, 'b', label='Train AUC')\n",
        "line2, = plt.plot(max_features, test_results, 'r, label='Test AUC')\n",
        "plt.legend(handler_map={line1: HandlerLine2D(numpoints=2)})\n",
        "plt.ylabel('AUC score')\n",
        "plt.xlabel('max features')\n",
        "plt.show()"
      ],
      "execution_count": null,
      "outputs": []
    },
    {
      "cell_type": "code",
      "metadata": {
        "id": "si11qISpMTBj"
      },
      "source": [
        ""
      ],
      "execution_count": null,
      "outputs": []
    },
    {
      "cell_type": "markdown",
      "metadata": {
        "id": "iQxubR10T8oJ"
      },
      "source": [
        "##Submission 👀\n",
        "This is the code that we use to create the submission. To use it, we can just copy/paste it below the classifier of our choice and rename the .csv file."
      ]
    },
    {
      "cell_type": "code",
      "metadata": {
        "id": "BbciTNBET70C"
      },
      "source": [
        "target_test = pipe.predict(df_test['text'])\n",
        "target_test"
      ],
      "execution_count": null,
      "outputs": []
    },
    {
      "cell_type": "code",
      "metadata": {
        "id": "8OvzdksGVZST"
      },
      "source": [
        "sample_submission.assign(target = target_test)\n",
        "sample_submission.to_csv('submission-n.csv', index=False)"
      ],
      "execution_count": null,
      "outputs": []
    },
    {
      "cell_type": "code",
      "metadata": {
        "id": "6JKiR4pNpVDF"
      },
      "source": [
        ""
      ],
      "execution_count": null,
      "outputs": []
    }
  ]
}