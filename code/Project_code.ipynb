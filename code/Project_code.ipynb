{
  "nbformat": 4,
  "nbformat_minor": 0,
  "metadata": {
    "colab": {
      "name": "Project_code.ipynb",
      "provenance": [],
      "toc_visible": true,
      "include_colab_link": true
    },
    "kernelspec": {
      "name": "python3",
      "display_name": "Python 3"
    }
  },
  "cells": [
    {
      "cell_type": "markdown",
      "metadata": {
        "id": "view-in-github",
        "colab_type": "text"
      },
      "source": [
        "<a href=\"https://colab.research.google.com/github/98bao/Migros/blob/main/code/Project_code.ipynb\" target=\"_parent\"><img src=\"https://colab.research.google.com/assets/colab-badge.svg\" alt=\"Open In Colab\"/></a>"
      ]
    },
    {
      "cell_type": "markdown",
      "metadata": {
        "id": "FGNhY5CXVz6s"
      },
      "source": [
        "#DMML2020 - Project\r\n",
        "![mod-fr-logo.png](data:image/png;base64,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)\r\n",
        "##Classification problem\r\n",
        "In this project we analyze the data to know if a tweet is about a real disaster (target = 1) or not (target = 0).\r\n",
        "A detailed description of the course of action can be found in the file Report.\r\n",
        "\r\n",
        "---\r\n",
        "\r\n"
      ]
    },
    {
      "cell_type": "markdown",
      "metadata": {
        "id": "hON3KcYPWf1H"
      },
      "source": [
        "# Importing useful tools 🧰"
      ]
    },
    {
      "cell_type": "code",
      "metadata": {
        "id": "-Jn4nx8AWSOC"
      },
      "source": [
        "import multiprocessing\r\n",
        "cores = multiprocessing.cpu_count()"
      ],
      "execution_count": 1,
      "outputs": []
    },
    {
      "cell_type": "code",
      "metadata": {
        "id": "G0_E26sAWebB"
      },
      "source": [
        "#clear output\r\n",
        "%%capture \r\n",
        "# Install and update spaCy\r\n",
        "!pip install -U spacy\r\n",
        "!python -m spacy download en"
      ],
      "execution_count": 2,
      "outputs": []
    },
    {
      "cell_type": "code",
      "metadata": {
        "colab": {
          "base_uri": "https://localhost:8080/"
        },
        "id": "kGDG_G_kkDYa",
        "outputId": "be9bd2d6-7f9c-4ac3-d8d6-965736602b90"
      },
      "source": [
        "import nltk\r\n",
        "nltk.download('wordnet')"
      ],
      "execution_count": 3,
      "outputs": [
        {
          "output_type": "stream",
          "text": [
            "[nltk_data] Downloading package wordnet to /root/nltk_data...\n",
            "[nltk_data]   Package wordnet is already up-to-date!\n"
          ],
          "name": "stdout"
        },
        {
          "output_type": "execute_result",
          "data": {
            "text/plain": [
              "True"
            ]
          },
          "metadata": {
            "tags": []
          },
          "execution_count": 3
        }
      ]
    },
    {
      "cell_type": "code",
      "metadata": {
        "id": "2jN4KIuaW8sW"
      },
      "source": [
        "#Importing useful extensions\r\n",
        "import numpy as np\r\n",
        "import pandas as pd\r\n",
        "import re\r\n",
        "import string\r\n",
        "import matplotlib.pyplot as plt\r\n",
        "import spacy\r\n",
        "\r\n",
        "from spacy import displacy\r\n",
        "from sklearn.feature_extraction.text import CountVectorizer, TfidfVectorizer\r\n",
        "from sklearn.pipeline import Pipeline\r\n",
        "from spacy.lang.en.stop_words import STOP_WORDS\r\n",
        "from spacy.lang.en import English\r\n",
        "from sklearn.model_selection import train_test_split\r\n",
        "from sklearn.linear_model import LogisticRegression\r\n",
        "from sklearn.ensemble import RandomForestClassifier\r\n",
        "from sklearn.metrics import confusion_matrix, accuracy_score, precision_score, recall_score, f1_score\r\n",
        "from sklearn.model_selection import GridSearchCV\r\n",
        "from sklearn.svm import SVC\r\n",
        "from gensim.parsing.preprocessing import remove_stopwords\r\n",
        "from gensim.models.doc2vec import TaggedDocument\r\n",
        "from gensim.models import Doc2Vec"
      ],
      "execution_count": 4,
      "outputs": []
    },
    {
      "cell_type": "markdown",
      "metadata": {
        "id": "fxc6jgRhWuqu"
      },
      "source": [
        "# Importing the project dataframes in the notebook 📚\r\n",
        "In the following cells, we import some raw dataframes that we are going to use for the project"
      ]
    },
    {
      "cell_type": "code",
      "metadata": {
        "id": "-SI2JEC6p6MW",
        "colab": {
          "base_uri": "https://localhost:8080/",
          "height": 0
        },
        "outputId": "ead59a39-3f96-45e9-e09d-70b9f6c35518"
      },
      "source": [
        "#Reading the dataframe to build our model\n",
        "df_train = pd.read_csv(\"https://raw.githubusercontent.com/98bao/Migros/main/data/training_data.csv\")\n",
        "df_train.head(5)\n"
      ],
      "execution_count": 5,
      "outputs": [
        {
          "output_type": "execute_result",
          "data": {
            "text/html": [
              "<div>\n",
              "<style scoped>\n",
              "    .dataframe tbody tr th:only-of-type {\n",
              "        vertical-align: middle;\n",
              "    }\n",
              "\n",
              "    .dataframe tbody tr th {\n",
              "        vertical-align: top;\n",
              "    }\n",
              "\n",
              "    .dataframe thead th {\n",
              "        text-align: right;\n",
              "    }\n",
              "</style>\n",
              "<table border=\"1\" class=\"dataframe\">\n",
              "  <thead>\n",
              "    <tr style=\"text-align: right;\">\n",
              "      <th></th>\n",
              "      <th>id</th>\n",
              "      <th>keyword</th>\n",
              "      <th>location</th>\n",
              "      <th>text</th>\n",
              "      <th>target</th>\n",
              "    </tr>\n",
              "  </thead>\n",
              "  <tbody>\n",
              "    <tr>\n",
              "      <th>0</th>\n",
              "      <td>3738</td>\n",
              "      <td>destroyed</td>\n",
              "      <td>USA</td>\n",
              "      <td>Black Eye 9: A space battle occurred at Star O...</td>\n",
              "      <td>0</td>\n",
              "    </tr>\n",
              "    <tr>\n",
              "      <th>1</th>\n",
              "      <td>853</td>\n",
              "      <td>bioterror</td>\n",
              "      <td>NaN</td>\n",
              "      <td>#world FedEx no longer to transport bioterror ...</td>\n",
              "      <td>0</td>\n",
              "    </tr>\n",
              "    <tr>\n",
              "      <th>2</th>\n",
              "      <td>10540</td>\n",
              "      <td>windstorm</td>\n",
              "      <td>Palm Beach County, FL</td>\n",
              "      <td>Reality Training: Train falls off elevated tra...</td>\n",
              "      <td>1</td>\n",
              "    </tr>\n",
              "    <tr>\n",
              "      <th>3</th>\n",
              "      <td>5988</td>\n",
              "      <td>hazardous</td>\n",
              "      <td>USA</td>\n",
              "      <td>#Taiwan Grace: expect that large rocks trees m...</td>\n",
              "      <td>1</td>\n",
              "    </tr>\n",
              "    <tr>\n",
              "      <th>4</th>\n",
              "      <td>6328</td>\n",
              "      <td>hostage</td>\n",
              "      <td>Australia</td>\n",
              "      <td>New ISIS Video: ISIS Threatens to Behead Croat...</td>\n",
              "      <td>1</td>\n",
              "    </tr>\n",
              "  </tbody>\n",
              "</table>\n",
              "</div>"
            ],
            "text/plain": [
              "      id    keyword  ...                                               text target\n",
              "0   3738  destroyed  ...  Black Eye 9: A space battle occurred at Star O...      0\n",
              "1    853  bioterror  ...  #world FedEx no longer to transport bioterror ...      0\n",
              "2  10540  windstorm  ...  Reality Training: Train falls off elevated tra...      1\n",
              "3   5988  hazardous  ...  #Taiwan Grace: expect that large rocks trees m...      1\n",
              "4   6328    hostage  ...  New ISIS Video: ISIS Threatens to Behead Croat...      1\n",
              "\n",
              "[5 rows x 5 columns]"
            ]
          },
          "metadata": {
            "tags": []
          },
          "execution_count": 5
        }
      ]
    },
    {
      "cell_type": "code",
      "metadata": {
        "colab": {
          "base_uri": "https://localhost:8080/",
          "height": 0
        },
        "id": "-pBjlX5qZBR8",
        "outputId": "900e0774-f481-4f77-d438-2f863ac785eb"
      },
      "source": [
        "#Reading dataframe which is going to be tested\r\n",
        "df_test = pd.read_csv(\"https://raw.githubusercontent.com/98bao/Migros/main/data/test_data.csv\")\r\n",
        "df_test.head(5)"
      ],
      "execution_count": 6,
      "outputs": [
        {
          "output_type": "execute_result",
          "data": {
            "text/html": [
              "<div>\n",
              "<style scoped>\n",
              "    .dataframe tbody tr th:only-of-type {\n",
              "        vertical-align: middle;\n",
              "    }\n",
              "\n",
              "    .dataframe tbody tr th {\n",
              "        vertical-align: top;\n",
              "    }\n",
              "\n",
              "    .dataframe thead th {\n",
              "        text-align: right;\n",
              "    }\n",
              "</style>\n",
              "<table border=\"1\" class=\"dataframe\">\n",
              "  <thead>\n",
              "    <tr style=\"text-align: right;\">\n",
              "      <th></th>\n",
              "      <th>id</th>\n",
              "      <th>keyword</th>\n",
              "      <th>location</th>\n",
              "      <th>text</th>\n",
              "    </tr>\n",
              "  </thead>\n",
              "  <tbody>\n",
              "    <tr>\n",
              "      <th>0</th>\n",
              "      <td>9972</td>\n",
              "      <td>tsunami</td>\n",
              "      <td>NaN</td>\n",
              "      <td>Crptotech tsunami and banks.\\n http://t.co/KHz...</td>\n",
              "    </tr>\n",
              "    <tr>\n",
              "      <th>1</th>\n",
              "      <td>9865</td>\n",
              "      <td>traumatised</td>\n",
              "      <td>Portsmouth, UK</td>\n",
              "      <td>I'm that traumatised that I can't even spell p...</td>\n",
              "    </tr>\n",
              "    <tr>\n",
              "      <th>2</th>\n",
              "      <td>1937</td>\n",
              "      <td>burning%20buildings</td>\n",
              "      <td>NaN</td>\n",
              "      <td>@foxnewsvideo @AIIAmericanGirI @ANHQDC So ... ...</td>\n",
              "    </tr>\n",
              "    <tr>\n",
              "      <th>3</th>\n",
              "      <td>3560</td>\n",
              "      <td>desolate</td>\n",
              "      <td>NaN</td>\n",
              "      <td>Me watching Law &amp;amp; Order (IB: @sauldale305)...</td>\n",
              "    </tr>\n",
              "    <tr>\n",
              "      <th>4</th>\n",
              "      <td>2731</td>\n",
              "      <td>crushed</td>\n",
              "      <td>bahstun/porta reeko</td>\n",
              "      <td>Papi absolutely crushed that ball</td>\n",
              "    </tr>\n",
              "  </tbody>\n",
              "</table>\n",
              "</div>"
            ],
            "text/plain": [
              "     id  ...                                               text\n",
              "0  9972  ...  Crptotech tsunami and banks.\\n http://t.co/KHz...\n",
              "1  9865  ...  I'm that traumatised that I can't even spell p...\n",
              "2  1937  ...  @foxnewsvideo @AIIAmericanGirI @ANHQDC So ... ...\n",
              "3  3560  ...  Me watching Law &amp; Order (IB: @sauldale305)...\n",
              "4  2731  ...                  Papi absolutely crushed that ball\n",
              "\n",
              "[5 rows x 4 columns]"
            ]
          },
          "metadata": {
            "tags": []
          },
          "execution_count": 6
        }
      ]
    },
    {
      "cell_type": "code",
      "metadata": {
        "id": "GmXH-nG0ZUCb"
      },
      "source": [
        "#Reading the sample submission\r\n",
        "sample_submission = pd.read_csv(\"https://raw.githubusercontent.com/98bao/Migros/main/data/sample_submission.csv\")"
      ],
      "execution_count": 7,
      "outputs": []
    },
    {
      "cell_type": "code",
      "metadata": {
        "id": "RUpzg9Khq5KZ"
      },
      "source": [
        "#new column for the last chapter\r\n",
        "df_train['Text_keyword'] = (df_train['keyword'] + ' ' +  df_train['text']).astype(str)"
      ],
      "execution_count": 8,
      "outputs": []
    },
    {
      "cell_type": "markdown",
      "metadata": {
        "id": "SrbNidEiZX0c"
      },
      "source": [
        "# Exploratory data analysis 🕵️\r\n",
        "\r\n",
        "In the following cells, we explore the train dataset which we will be using to build a model. the subsection will describe the attributes listed below:\r\n",
        "\r\n",
        "* Dataframe description   \r\n",
        "* Base rate \r\n",
        "* Location \r\n",
        "* Keywords\r\n",
        "* Text \r\n"
      ]
    },
    {
      "cell_type": "markdown",
      "metadata": {
        "id": "eHBkJSPAZ4WE"
      },
      "source": [
        "## Data description \r\n",
        "\r\n",
        "Short description to have an estimate the dataframe we will be using."
      ]
    },
    {
      "cell_type": "code",
      "metadata": {
        "colab": {
          "base_uri": "https://localhost:8080/"
        },
        "id": "x5lQd0ihZ3P6",
        "outputId": "b5d5a2a9-9186-48aa-bffa-810e534e8d18"
      },
      "source": [
        "#shape of data \r\n",
        "print(\"Shape of data:\", df_train.shape)\r\n",
        "print (\"Number of Rows:\", df_train.shape[0])\r\n",
        "print (\"Number of Columns\", df_train.shape[1])"
      ],
      "execution_count": null,
      "outputs": [
        {
          "output_type": "stream",
          "text": [
            "Shape of data: (6471, 5)\n",
            "Number of Rows: 6471\n",
            "Number of Columns 5\n"
          ],
          "name": "stdout"
        }
      ]
    },
    {
      "cell_type": "code",
      "metadata": {
        "colab": {
          "base_uri": "https://localhost:8080/"
        },
        "id": "voHUhQ35ad88",
        "outputId": "c42cea45-f420-49d6-fb83-608bc7b2ce82"
      },
      "source": [
        "#Name of columns\r\n",
        "df_train.columns"
      ],
      "execution_count": null,
      "outputs": [
        {
          "output_type": "execute_result",
          "data": {
            "text/plain": [
              "Index(['id', 'keyword', 'location', 'text', 'target'], dtype='object')"
            ]
          },
          "metadata": {
            "tags": []
          },
          "execution_count": 18
        }
      ]
    },
    {
      "cell_type": "code",
      "metadata": {
        "colab": {
          "base_uri": "https://localhost:8080/"
        },
        "id": "MbMVE50IaiaZ",
        "outputId": "ccf42e77-cc52-4e48-8fcf-174af2ea71de"
      },
      "source": [
        "#Sample of the column 'text' which will be analyzed\r\n",
        "print(\"Train set sample:\", df_train['text'].sample().values[0])\r\n",
        "print(\"Test set sample:\", df_test['text'].sample().values[0])"
      ],
      "execution_count": null,
      "outputs": [
        {
          "output_type": "stream",
          "text": [
            "Train set sample: Lately I been stressing make me wanna put a fuck nigga on a stretcher!\n",
            "Test set sample: disinfo: Warfighting Robots Could Reduce Civilian Casualties So Calling for a Ban Now Is ... -... http://t.co/yUinMErQ2s #criticalmedia\n"
          ],
          "name": "stdout"
        }
      ]
    },
    {
      "cell_type": "code",
      "metadata": {
        "colab": {
          "base_uri": "https://localhost:8080/"
        },
        "id": "JhLTOCxfbFxN",
        "outputId": "6d0bafff-7b92-4b7e-d40b-2c2230418355"
      },
      "source": [
        "#Null values \r\n",
        "df_train.isnull().sum()"
      ],
      "execution_count": null,
      "outputs": [
        {
          "output_type": "execute_result",
          "data": {
            "text/plain": [
              "id             0\n",
              "keyword       55\n",
              "location    2141\n",
              "text           0\n",
              "target         0\n",
              "dtype: int64"
            ]
          },
          "metadata": {
            "tags": []
          },
          "execution_count": 19
        }
      ]
    },
    {
      "cell_type": "markdown",
      "metadata": {
        "id": "YDDiqtXQbLCE"
      },
      "source": [
        "## Base rate\r\n",
        "An indication of how often the most common value appears in the dataframe. We have to obtain an accuracy that is superior to the base rate to say that our classifier is well made."
      ]
    },
    {
      "cell_type": "code",
      "metadata": {
        "colab": {
          "base_uri": "https://localhost:8080/"
        },
        "id": "gPTC0rSNb5PW",
        "outputId": "4b27f723-ad9a-451a-aaf0-25d632c2164e"
      },
      "source": [
        "#Number of tweets in df_train  that support or not a real disaster \r\n",
        "Tweets_support = len(df_train[df_train['target'] == 1])\r\n",
        "Tweets_does_not_support = len(df_train[df_train['target'] == 0])\r\n",
        "print(\"Number of tweets that does not support a real disaster : \", Tweets_does_not_support)\r\n",
        "print(\"Number of tweets that support a real disaster:\", Tweets_support)"
      ],
      "execution_count": null,
      "outputs": [
        {
          "output_type": "stream",
          "text": [
            "Number of tweets that does not support a real disaster :  3701\n",
            "Number of tweets that support a real disaster: 2770\n"
          ],
          "name": "stdout"
        }
      ]
    },
    {
      "cell_type": "code",
      "metadata": {
        "colab": {
          "base_uri": "https://localhost:8080/"
        },
        "id": "xkPHwuPRcMW1",
        "outputId": "701967b9-d71a-4588-8418-232d55d70f9f"
      },
      "source": [
        "#Base rate of the train df\r\n",
        "r = df_train['target'].value_counts() /len(df_train) \r\n",
        "print(\"Base rate =\", max(r))"
      ],
      "execution_count": null,
      "outputs": [
        {
          "output_type": "stream",
          "text": [
            "Base rate = 0.5719363313243703\n"
          ],
          "name": "stdout"
        }
      ]
    },
    {
      "cell_type": "markdown",
      "metadata": {
        "id": "JrEE1FBjcbRR"
      },
      "source": [
        "## Location\r\n",
        "\r\n",
        "Exploration about the location in this dataset. There are 2922 different location present in the train set."
      ]
    },
    {
      "cell_type": "code",
      "metadata": {
        "id": "Fr5YhhwJcYMv"
      },
      "source": [
        "df_train['location']"
      ],
      "execution_count": null,
      "outputs": []
    },
    {
      "cell_type": "code",
      "metadata": {
        "colab": {
          "base_uri": "https://localhost:8080/"
        },
        "id": "vGy_xp-RdEw2",
        "outputId": "56932bf8-8fdb-4a32-827d-772d63b38f0a"
      },
      "source": [
        "#Location null values\r\n",
        "df_train.location.isnull().sum()"
      ],
      "execution_count": null,
      "outputs": [
        {
          "output_type": "execute_result",
          "data": {
            "text/plain": [
              "2141"
            ]
          },
          "metadata": {
            "tags": []
          },
          "execution_count": 22
        }
      ]
    },
    {
      "cell_type": "code",
      "metadata": {
        "colab": {
          "base_uri": "https://localhost:8080/"
        },
        "id": "SnOBCe98dK70",
        "outputId": "325f9ed1-b86f-43db-fb4e-2db0349405de"
      },
      "source": [
        "# Number of location\r\n",
        "loc_len =len(df_train['location'].unique())\r\n",
        "print(\"Number of locations:\", loc_len)"
      ],
      "execution_count": null,
      "outputs": [
        {
          "output_type": "stream",
          "text": [
            "Number of locations: 2922\n"
          ],
          "name": "stdout"
        }
      ]
    },
    {
      "cell_type": "markdown",
      "metadata": {
        "id": "lj_1o-iPdiQm"
      },
      "source": [
        "## Keywords\r\n",
        "\r\n",
        "Following some information about the attribute keyword. There are 222 different keywords available in this dataset."
      ]
    },
    {
      "cell_type": "code",
      "metadata": {
        "id": "lF--h1wzdyrS"
      },
      "source": [
        "df_train['keyword']"
      ],
      "execution_count": null,
      "outputs": []
    },
    {
      "cell_type": "code",
      "metadata": {
        "colab": {
          "base_uri": "https://localhost:8080/"
        },
        "id": "ANXH_6BHd2qd",
        "outputId": "c71acb04-e353-42ae-d2a2-7017acdf3eef"
      },
      "source": [
        "#Location null values\r\n",
        "df_train.keyword.isnull().sum()"
      ],
      "execution_count": null,
      "outputs": [
        {
          "output_type": "execute_result",
          "data": {
            "text/plain": [
              "55"
            ]
          },
          "metadata": {
            "tags": []
          },
          "execution_count": 24
        }
      ]
    },
    {
      "cell_type": "code",
      "metadata": {
        "colab": {
          "base_uri": "https://localhost:8080/"
        },
        "id": "opDPaXxTd-Vo",
        "outputId": "9c77195a-a5b1-4ef2-a4bb-c617c0705601"
      },
      "source": [
        "#Number of keywords\r\n",
        "key_len = len(df_train['keyword'].unique())\r\n",
        "print(\"Number of keywords:\", key_len)\r\n"
      ],
      "execution_count": null,
      "outputs": [
        {
          "output_type": "stream",
          "text": [
            "Number of keywords: 222\n"
          ],
          "name": "stdout"
        }
      ]
    },
    {
      "cell_type": "markdown",
      "metadata": {
        "id": "evHyV_kMeq3l"
      },
      "source": [
        "## Text\r\n",
        "In this section we first present some general information about the attribute text. We then explore the words in the tweets more in detail.\r\n",
        "\r\n"
      ]
    },
    {
      "cell_type": "code",
      "metadata": {
        "colab": {
          "base_uri": "https://localhost:8080/"
        },
        "id": "YW2KoD-wep4N",
        "outputId": "db48d836-e47e-4218-e441-1292f8c0554a"
      },
      "source": [
        "#Total number of words in the train set\r\n",
        "print(\"Total Number of Words in train set:\", df_train['text'].apply(lambda x: len(x.split(' '))).sum())\r\n",
        "\r\n",
        "#Total number of words in the test set\r\n",
        "print(\"Total Number of Words in test set:\", df_test['text'].apply(lambda x: len(x.split(' '))).sum())"
      ],
      "execution_count": null,
      "outputs": [
        {
          "output_type": "stream",
          "text": [
            "Total Number of Words in train set: 96544\n",
            "Total Number of Words in test set: 17110\n"
          ],
          "name": "stdout"
        }
      ]
    },
    {
      "cell_type": "code",
      "metadata": {
        "colab": {
          "base_uri": "https://localhost:8080/"
        },
        "id": "SsHdoMG2fHbB",
        "outputId": "54fb1b04-80cc-4266-a49a-dd897cf18fb5"
      },
      "source": [
        "#Check duplicates \r\n",
        "print('Entire Duplicated rows:', df_train.duplicated().sum())\r\n",
        "print('Duplicated Text:', df_train['text'].duplicated().sum())\r\n",
        "print('Duplicated Keywords:', df_train['keyword'].duplicated().sum())\r\n",
        "print('Duplicate Locations:', df_train['location'].duplicated().sum())"
      ],
      "execution_count": null,
      "outputs": [
        {
          "output_type": "stream",
          "text": [
            "Entire Duplicated rows: 0\n",
            "Duplicated Text: 84\n",
            "Duplicated Keywords: 6249\n",
            "Duplicate Locations: 3549\n"
          ],
          "name": "stdout"
        }
      ]
    },
    {
      "cell_type": "code",
      "metadata": {
        "colab": {
          "base_uri": "https://localhost:8080/"
        },
        "id": "SynDNempfN41",
        "outputId": "fedafea6-0e2e-4bb2-e945-98aa4391f83c"
      },
      "source": [
        "#Column Text grouped by target in the train set (real disaster = 1)\r\n",
        "df_train_grouped =df_train[['target','text']].groupby(by='target').agg(lambda x: ' '.join(x))\r\n",
        "corpus = df_train_grouped['text']\r\n",
        "corpus0 = corpus[[0]]\r\n",
        "corpus1 = corpus[[1]]\r\n",
        "print(corpus)"
      ],
      "execution_count": null,
      "outputs": [
        {
          "output_type": "stream",
          "text": [
            "target\n",
            "0    Black Eye 9: A space battle occurred at Star O...\n",
            "1    Reality Training: Train falls off elevated tra...\n",
            "Name: text, dtype: object\n"
          ],
          "name": "stdout"
        }
      ]
    },
    {
      "cell_type": "code",
      "metadata": {
        "colab": {
          "base_uri": "https://localhost:8080/"
        },
        "id": "wn6kWuDSfqMY",
        "outputId": "d36f5382-9edc-4f06-99ee-e834e97cea6e"
      },
      "source": [
        "#Number of tweets about a real disaster and number of fake tweets\r\n",
        "print(\"Number of tweets not about a real disaster:\", corpus0.apply(lambda x: len(x.split(' '))).sum())\r\n",
        "print(\"Number of tweets about a real disaster:\", corpus1.apply(lambda x: len(x.split(' '))).sum())"
      ],
      "execution_count": null,
      "outputs": [
        {
          "output_type": "stream",
          "text": [
            "Number of tweets not about a real disaster: 54373\n",
            "Number of tweets about a real disaster: 42171\n"
          ],
          "name": "stdout"
        }
      ]
    },
    {
      "cell_type": "markdown",
      "metadata": {
        "id": "dJ0MVq1Ahk7n"
      },
      "source": [
        "The following barcharts shows most common words in Tweets. This analisis can help us finding words which are very frequent in whole Tweets but that do not give much information for the Classification. The first thing that we can notice is that most frequent words are Stopwords, this kind of words do not give information so the have to be removed. Second thing that can be noticed are words like \"ù_\" \"http\" \"https\" \"amp\" or \"co\" that are extremely frequent in the database but did not give much information quite the opposite they represent disturbance, for that reason they have to be removed in order to improve accuracy results. "
      ]
    },
    {
      "cell_type": "code",
      "metadata": {
        "id": "VS03OKvhhrU1"
      },
      "source": [
        "#Function that find most common words\r\n",
        "def get_top_n_words(corpus, n=None):\r\n",
        "    vec = CountVectorizer().fit(corpus)\r\n",
        "    bag_of_words = vec.transform(corpus)\r\n",
        "    sum_words = bag_of_words.sum(axis=0) \r\n",
        "    words_freq = [(word, sum_words[0, idx]) for word, idx in     vec.vocabulary_.items()]\r\n",
        "    words_freq =sorted(words_freq, key = lambda x: x[1], reverse=True)\r\n",
        "    return words_freq[:n]"
      ],
      "execution_count": null,
      "outputs": []
    },
    {
      "cell_type": "code",
      "metadata": {
        "colab": {
          "base_uri": "https://localhost:8080/"
        },
        "id": "8rypjay6h0X-",
        "outputId": "7d53a90f-7c9e-474f-b50c-7807a8c6710f"
      },
      "source": [
        "Whole_tweets_most_common_words = get_top_n_words(corpus, 35)\r\n",
        "Tweets_0_most_common_words = get_top_n_words(corpus0, 35)\r\n",
        "Tweets_1_most_common_words = get_top_n_words(corpus1, 33)\r\n",
        "print(\"Corpus:\", Whole_tweets_most_common_words)\r\n",
        "print(\"Corpus 0 :\", Tweets_0_most_common_words)\r\n",
        "print(\"Corpus 1 :\", Tweets_1_most_common_words)\r\n",
        "df =  pd.DataFrame(Whole_tweets_most_common_words, columns= ['Token', 'Frequency'])\r\n",
        "df1 = pd.DataFrame(Tweets_1_most_common_words, columns= ['Token', 'Frequency'])\r\n",
        "df0 = pd.DataFrame(Tweets_0_most_common_words, columns= ['Token', 'Frequency'])"
      ],
      "execution_count": null,
      "outputs": [
        {
          "output_type": "stream",
          "text": [
            "Corpus: [('co', 4038), ('http', 3663), ('the', 2755), ('in', 1687), ('to', 1649), ('of', 1547), ('and', 1189), ('is', 811), ('you', 769), ('for', 754), ('on', 736), ('it', 658), ('my', 597), ('that', 521), ('with', 496), ('by', 465), ('at', 451), ('this', 402), ('https', 355), ('from', 354), ('are', 341), ('be', 335), ('was', 333), ('have', 329), ('û_', 295), ('amp', 294), ('like', 290), ('me', 287), ('as', 283), ('just', 282), ('up', 278), ('but', 275), ('so', 271), ('not', 253), ('your', 253)]\n",
            "Corpus 0 : [('co', 1892), ('http', 1645), ('the', 1600), ('to', 998), ('and', 762), ('of', 754), ('in', 700), ('you', 642), ('is', 513), ('my', 479), ('it', 454), ('for', 416), ('on', 370), ('that', 345), ('with', 333), ('this', 248), ('https', 239), ('be', 235), ('me', 233), ('by', 219), ('have', 207), ('so', 206), ('like', 206), ('just', 204), ('are', 201), ('your', 198), ('at', 195), ('was', 189), ('but', 188), ('amp', 176), ('can', 174), ('not', 173), ('out', 169), ('up', 166), ('all', 165)]\n",
            "Corpus 1 : [('co', 2146), ('http', 2018), ('the', 1155), ('in', 987), ('of', 793), ('to', 651), ('and', 427), ('on', 366), ('for', 338), ('is', 298), ('at', 256), ('by', 246), ('from', 206), ('it', 204), ('that', 176), ('with', 163), ('after', 157), ('this', 154), ('fire', 151), ('û_', 145), ('as', 145), ('was', 144), ('are', 140), ('you', 127), ('news', 122), ('have', 122), ('my', 118), ('amp', 118), ('https', 116), ('up', 112), ('over', 112), ('disaster', 108), ('more', 107)]\n"
          ],
          "name": "stdout"
        }
      ]
    },
    {
      "cell_type": "code",
      "metadata": {
        "colab": {
          "base_uri": "https://localhost:8080/",
          "height": 381
        },
        "id": "ivbMQPL7h8tJ",
        "outputId": "6d5cc414-82f2-4478-ac2c-a05c5a1d5ff2"
      },
      "source": [
        "#Most frequent 10 words in tweets that support real disaster \r\n",
        "def barchart_most_frequent_words(data, title):\r\n",
        "    plt.style.use('dark_background')\r\n",
        "    token= data['Token']\r\n",
        "    frequency = data['Frequency']\r\n",
        "    plt.bar(token, frequency)\r\n",
        "    plt.title(title)\r\n",
        "    plt.xlabel('Most frequent Words')\r\n",
        "    plt.ylabel('Frequency')\r\n",
        "    return plt.show()\r\n",
        "\r\n",
        "plt.rcParams['figure.figsize']= (30, 5)\r\n",
        "# Barchart Most important word \r\n",
        "barchart_most_frequent_words(df, 'Most frequent words in Tweets')\r\n",
        "barchart_most_frequent_words(df1, 'Most frequent words in Tweets that support real disaster')\r\n",
        "barchart_most_frequent_words (df0, 'Most frequent words in Tweets that does not support real disaster')"
      ],
      "execution_count": null,
      "outputs": [
        {
          "output_type": "display_data",
          "data": {
            "image/png": "[encoded data removed]",
            "text/plain": [
              "<Figure size 2160x360 with 1 Axes>"
            ]
          },
          "metadata": {
            "tags": []
          }
        },
        {
          "output_type": "display_data",
          "data": {
            "image/png": "[encoded data removed]",
            "text/plain": [
              "<Figure size 2160x360 with 1 Axes>"
            ]
          },
          "metadata": {
            "tags": []
          }
        },
        {
          "output_type": "display_data",
          "data": {
            "image/png": "[encoded data removed]",
            "text/plain": [
              "<Figure size 2160x360 with 1 Axes>"
            ]
          },
          "metadata": {
            "tags": []
          }
        }
      ]
    },
    {
      "cell_type": "markdown",
      "metadata": {
        "id": "psUbq13MiMXP"
      },
      "source": [
        "# Building the tokenizer 🤖\r\n",
        "In the following part, we create our tokenizer which will be used to analyze the text column."
      ]
    },
    {
      "cell_type": "code",
      "metadata": {
        "colab": {
          "base_uri": "https://localhost:8080/"
        },
        "id": "8OgDpm1YicLS",
        "outputId": "090d3847-949c-440c-8f5f-34f9e3ccb0ca"
      },
      "source": [
        "#Create Tokenizer\r\n",
        "\r\n",
        "#Stopwords\r\n",
        "stop_words = spacy.lang.en.stop_words.STOP_WORDS\r\n",
        "#Punctuation\r\n",
        "punctuations = string.punctuation\r\n",
        "\r\n",
        "sp = spacy.load('en_core_web_sm')\r\n",
        "\r\n",
        "#Tokenizer function\r\n",
        "def spacy_tokenizer(sentence):\r\n",
        "  mytokens = sp(sentence)\r\n",
        "\r\n",
        "  #Lemmatize each token and convert each token into lowercase\r\n",
        "  mytokens = [ word.lemma_.lower().strip() if word.lemma_ != \"-PRON-\" else word.lower_ for word in mytokens ]  \r\n",
        "  #Remove stop words and punctuation\r\n",
        "  mytokens = [ word for word in mytokens if word not in stop_words and word not in punctuations ]\r\n",
        "  #Remove words with two letters or less\r\n",
        "  mytokens = [ word for word in mytokens if len(word)>2 ]   \r\n",
        "  #Return preprocessed list of tokens\r\n",
        "  return mytokens\r\n",
        "\r\n",
        "#demo\r\n",
        "review = df_train[\"text\"].sample()\r\n",
        "demo = spacy_tokenizer(review.values[0])\r\n",
        "demo"
      ],
      "execution_count": 9,
      "outputs": [
        {
          "output_type": "execute_result",
          "data": {
            "text/plain": [
              "['wwi',\n",
              " 'wwii',\n",
              " 'japanese',\n",
              " 'army',\n",
              " 'navy',\n",
              " 'military',\n",
              " 'japan',\n",
              " 'leather',\n",
              " 'watch',\n",
              " 'war',\n",
              " 'mido',\n",
              " 'ww1',\n",
              " 'read',\n",
              " 'ebay',\n",
              " 'http://t.co/f9j3l2yjl4',\n",
              " 'http://t.co/mwwwowcayo']"
            ]
          },
          "metadata": {
            "tags": []
          },
          "execution_count": 9
        }
      ]
    },
    {
      "cell_type": "markdown",
      "metadata": {
        "id": "oD1Sh0uLkdFh"
      },
      "source": [
        "To improve the token, we tried to stemm the words with the following code snippet:\r\n",
        "\r\n",
        "    ps = PorterStemmer()\r\n",
        "    stemmed_words = [ps.stem(w)for w in mytokens]\r\n",
        "    lemmatizer = WordNetLemmatize()\r\n",
        "    lemma_words = [lemmatizerlemmatize(w, pos='a')for w in stemmed_words]\r\n",
        "\r\n",
        "Soon we realized that it did not improve the accuracy, so we removed it from the tokenizer function."
      ]
    },
    {
      "cell_type": "markdown",
      "metadata": {
        "id": "Fy4RjwchlJMx"
      },
      "source": [
        "# Logistic regression and pipeline before data cleaning 📉\r\n",
        "\r\n",
        "Our first iteration of the model: *No treatement of the dataframe*, just fitted in a logistic regression to see the result. We submitted this first try on AICrowd to check the accuracy of an uncleaned database.\r\n"
      ]
    },
    {
      "cell_type": "code",
      "metadata": {
        "id": "2oAxMueNl3Ud"
      },
      "source": [
        "#Setting up the train test split\r\n",
        "\r\n",
        "#First for the training data\r\n",
        "X = df_train['text']\r\n",
        "y = df_train['target']\r\n",
        "# Train test split\r\n",
        "X_train, X_test, y_train, y_test = train_test_split(X, y, test_size=0.2, random_state=123)"
      ],
      "execution_count": 10,
      "outputs": []
    },
    {
      "cell_type": "code",
      "metadata": {
        "id": "0DIUpFjiD9p_"
      },
      "source": [
        "#TF-IDF feature vector\r\n",
        "tfidf_vector = TfidfVectorizer(tokenizer=spacy_tokenizer)"
      ],
      "execution_count": 11,
      "outputs": []
    },
    {
      "cell_type": "code",
      "metadata": {
        "id": "3oLbmUp1l9KF"
      },
      "source": [
        "#Linear reg\r\n",
        "LR = LogisticRegression(solver=\"lbfgs\", max_iter=1000, random_state=72)\r\n",
        "\r\n",
        "#pipeline\r\n",
        "pipe = Pipeline([('vectorizer', tfidf_vector),\r\n",
        "                 ('classifier', LR)])"
      ],
      "execution_count": 12,
      "outputs": []
    },
    {
      "cell_type": "code",
      "metadata": {
        "colab": {
          "base_uri": "https://localhost:8080/"
        },
        "id": "uBlcW-8Al_5Z",
        "outputId": "92588f19-d4bf-42eb-a399-857bd316a219"
      },
      "source": [
        "pipe.fit(X_train, y_train)"
      ],
      "execution_count": 13,
      "outputs": [
        {
          "output_type": "execute_result",
          "data": {
            "text/plain": [
              "Pipeline(memory=None,\n",
              "         steps=[('vectorizer',\n",
              "                 TfidfVectorizer(analyzer='word', binary=False,\n",
              "                                 decode_error='strict',\n",
              "                                 dtype=<class 'numpy.float64'>,\n",
              "                                 encoding='utf-8', input='content',\n",
              "                                 lowercase=True, max_df=1.0, max_features=None,\n",
              "                                 min_df=1, ngram_range=(1, 1), norm='l2',\n",
              "                                 preprocessor=None, smooth_idf=True,\n",
              "                                 stop_words=None, strip_accents=None,\n",
              "                                 sublinear_tf=False,\n",
              "                                 token_patt...',\n",
              "                                 tokenizer=<function spacy_tokenizer at 0x7f93eae112f0>,\n",
              "                                 use_idf=True, vocabulary=None)),\n",
              "                ('classifier',\n",
              "                 LogisticRegression(C=1.0, class_weight=None, dual=False,\n",
              "                                    fit_intercept=True, intercept_scaling=1,\n",
              "                                    l1_ratio=None, max_iter=1000,\n",
              "                                    multi_class='auto', n_jobs=None,\n",
              "                                    penalty='l2', random_state=72,\n",
              "                                    solver='lbfgs', tol=0.0001, verbose=0,\n",
              "                                    warm_start=False))],\n",
              "         verbose=False)"
            ]
          },
          "metadata": {
            "tags": []
          },
          "execution_count": 13
        }
      ]
    },
    {
      "cell_type": "markdown",
      "metadata": {
        "id": "V1WeNWxFmDwp"
      },
      "source": [
        "#### Accuracy"
      ]
    },
    {
      "cell_type": "code",
      "metadata": {
        "colab": {
          "base_uri": "https://localhost:8080/"
        },
        "id": "ZDrXbT1mmDCw",
        "outputId": "3e4d3e90-389b-42a9-fcca-2784bed22e2a"
      },
      "source": [
        "#Accuracy of the train data\r\n",
        "y_pred_train = pipe.predict(X_train)\r\n",
        "print(f\"TRAIN ACCURACY SCORE:\\n{accuracy_score(y_train, y_pred_train):.4f}\")\r\n",
        "print(f\"CONFUSION MATRIX:\\n{confusion_matrix(y_train, y_pred_train)}\")"
      ],
      "execution_count": 14,
      "outputs": [
        {
          "output_type": "stream",
          "text": [
            "TRAIN ACCURACY SCORE:\n",
            "0.8937\n",
            "CONFUSION MATRIX:\n",
            "[[2882   79]\n",
            " [ 471 1744]]\n"
          ],
          "name": "stdout"
        }
      ]
    },
    {
      "cell_type": "code",
      "metadata": {
        "colab": {
          "base_uri": "https://localhost:8080/"
        },
        "id": "9Fl5w_LzmIWE",
        "outputId": "bf0c44bd-a6b8-4c38-d677-1053d88cad08"
      },
      "source": [
        "#Accuracy of the test data\r\n",
        "y_pred_test = pipe.predict(X_test)\r\n",
        "print(f\"TEST ACCURACY SCORE:\\n{accuracy_score(y_test, y_pred_test):.4f}\")\r\n",
        "print(f\"CONFUSION MATRIX:\\n{confusion_matrix(y_test, y_pred_test)}\")"
      ],
      "execution_count": 15,
      "outputs": [
        {
          "output_type": "stream",
          "text": [
            "TEST ACCURACY SCORE:\n",
            "0.7884\n",
            "CONFUSION MATRIX:\n",
            "[[656  84]\n",
            " [190 365]]\n"
          ],
          "name": "stdout"
        }
      ]
    },
    {
      "cell_type": "markdown",
      "metadata": {
        "id": "6T2LrivOmNZ3"
      },
      "source": [
        "## Using keywords only\r\n",
        "This is a test to see if using only the keywords would give a good accuracy"
      ]
    },
    {
      "cell_type": "code",
      "metadata": {
        "colab": {
          "base_uri": "https://localhost:8080/"
        },
        "id": "NDkFONVAmRJk",
        "outputId": "5dd26523-8b71-4428-f9ae-b920c56300bc"
      },
      "source": [
        "#Replace null value by an arbitrary string\r\n",
        "df_train.keyword.fillna(value = 'nokeyword', inplace = True)\r\n",
        "\r\n",
        "#Verify\r\n",
        "df_train.keyword.isnull().sum()"
      ],
      "execution_count": 16,
      "outputs": [
        {
          "output_type": "execute_result",
          "data": {
            "text/plain": [
              "0"
            ]
          },
          "metadata": {
            "tags": []
          },
          "execution_count": 16
        }
      ]
    },
    {
      "cell_type": "code",
      "metadata": {
        "id": "8Atv36kAmS-w"
      },
      "source": [
        "#Using keyword in the model\r\n",
        "features = ['keyword', 'text']\r\n",
        "\r\n",
        "X = df_train['keyword']\r\n",
        "y = df_train['target']\r\n",
        "# Train test split\r\n",
        "X_train, X_test, y_train, y_test = train_test_split(X, y, test_size=0.2, random_state=123)"
      ],
      "execution_count": 17,
      "outputs": []
    },
    {
      "cell_type": "code",
      "metadata": {
        "id": "B-hwxt4amUpN"
      },
      "source": [
        "#Linear reg\r\n",
        "LR = LogisticRegression(solver=\"lbfgs\", max_iter=100)\r\n",
        "\r\n",
        "#pipeline\r\n",
        "pipe = Pipeline([('vectorizer', tfidf_vector),\r\n",
        "                 ('classifier', LR)])\r\n"
      ],
      "execution_count": 18,
      "outputs": []
    },
    {
      "cell_type": "code",
      "metadata": {
        "colab": {
          "base_uri": "https://localhost:8080/"
        },
        "id": "BNFLgrFGmXn4",
        "outputId": "3b6047bc-6d52-41eb-a5a7-c05a919732a1"
      },
      "source": [
        "#Fit\r\n",
        "pipe.fit(X_train, y_train)"
      ],
      "execution_count": 19,
      "outputs": [
        {
          "output_type": "execute_result",
          "data": {
            "text/plain": [
              "Pipeline(memory=None,\n",
              "         steps=[('vectorizer',\n",
              "                 TfidfVectorizer(analyzer='word', binary=False,\n",
              "                                 decode_error='strict',\n",
              "                                 dtype=<class 'numpy.float64'>,\n",
              "                                 encoding='utf-8', input='content',\n",
              "                                 lowercase=True, max_df=1.0, max_features=None,\n",
              "                                 min_df=1, ngram_range=(1, 1), norm='l2',\n",
              "                                 preprocessor=None, smooth_idf=True,\n",
              "                                 stop_words=None, strip_accents=None,\n",
              "                                 sublinear_tf=False,\n",
              "                                 token_patt...,\n",
              "                                 tokenizer=<function spacy_tokenizer at 0x7f93eae112f0>,\n",
              "                                 use_idf=True, vocabulary=None)),\n",
              "                ('classifier',\n",
              "                 LogisticRegression(C=1.0, class_weight=None, dual=False,\n",
              "                                    fit_intercept=True, intercept_scaling=1,\n",
              "                                    l1_ratio=None, max_iter=100,\n",
              "                                    multi_class='auto', n_jobs=None,\n",
              "                                    penalty='l2', random_state=None,\n",
              "                                    solver='lbfgs', tol=0.0001, verbose=0,\n",
              "                                    warm_start=False))],\n",
              "         verbose=False)"
            ]
          },
          "metadata": {
            "tags": []
          },
          "execution_count": 19
        }
      ]
    },
    {
      "cell_type": "code",
      "metadata": {
        "colab": {
          "base_uri": "https://localhost:8080/"
        },
        "id": "QgDz_HC3mZdL",
        "outputId": "fcdf8f49-1a9a-411c-8353-693a6da30aad"
      },
      "source": [
        "#Accuracy of the train data\r\n",
        "y_pred_train = pipe.predict(X_train)\r\n",
        "print(f\"TRAIN ACCURACY SCORE:\\n{accuracy_score(y_train, y_pred_train):.4f}\")\r\n",
        "print(f\"CONFUSION MATRIX:\\n{confusion_matrix(y_train, y_pred_train)}\")\r\n",
        "\r\n",
        "#Accuracy of the test data\r\n",
        "y_pred_test = pipe.predict(X_test)\r\n",
        "print(f\"TEST ACCURACY SCORE:\\n{accuracy_score(y_test, y_pred_test):.4f}\")\r\n",
        "print(f\"CONFUSION MATRIX:\\n{confusion_matrix(y_test, y_pred_test)}\")"
      ],
      "execution_count": 20,
      "outputs": [
        {
          "output_type": "stream",
          "text": [
            "TRAIN ACCURACY SCORE:\n",
            "0.7361\n",
            "CONFUSION MATRIX:\n",
            "[[2374  587]\n",
            " [ 779 1436]]\n",
            "TEST ACCURACY SCORE:\n",
            "0.7174\n",
            "CONFUSION MATRIX:\n",
            "[[583 157]\n",
            " [209 346]]\n"
          ],
          "name": "stdout"
        }
      ]
    },
    {
      "cell_type": "markdown",
      "metadata": {
        "id": "x2yyrO-_mrLO"
      },
      "source": [
        "# Data cleaning 🧼\r\n",
        "To further improve the accuracy of our model, we cleaned the text column by removing unecessary elements such as URL, Tags and noise."
      ]
    },
    {
      "cell_type": "code",
      "metadata": {
        "id": "DkmcFiB97Fv1"
      },
      "source": [
        "#Need to replace NaN values by blank spaces otherwise some funtions wont run\r\n",
        "df_test['text'] = df_test['text'].replace(np.nan, '')"
      ],
      "execution_count": 21,
      "outputs": []
    },
    {
      "cell_type": "code",
      "metadata": {
        "id": "nvFu7PEa75YH"
      },
      "source": [
        "#Clean duplicates\r\n",
        "df_train =  df_train.drop_duplicates(subset=['text'], keep='first')\r\n",
        "\r\n",
        "#replacing \"%20\" with space\r\n",
        "df_train['keyword'] = df_train['keyword'].replace('%20', ' ', regex = True)\r\n",
        "df_train['text'] = df_train['text'].replace('%20', ' ', regex = True)\r\n",
        "df_test['keyword'] = df_test['keyword'].replace('%20', ' ', regex = True)\r\n",
        "df_test['text'] = df_test['text'].replace('%20', ' ', regex = True)\r\n",
        "df_train['Text_keyword'] = df_train['Text_keyword'].replace('%20', ' ', regex = True)\r\n",
        "\r\n",
        "\r\n",
        "#removing twitter tags\r\n",
        "def remove_tags(text):\r\n",
        "  text = re.sub(r'@\\S+','',text)\r\n",
        "  return text\r\n",
        "\r\n",
        "df_train['text'] = df_train['text'].apply(lambda x: remove_tags(x))\r\n",
        "df_test['text'] = df_test['text'].apply(lambda x: remove_tags(x))\r\n",
        "df_train['Text_keyword'] = df_train['Text_keyword'].apply(lambda x: remove_tags(x))\r\n",
        "\r\n",
        "\r\n",
        "#removing hashtags\r\n",
        "def remove_hash(text):\r\n",
        "  text = re.sub('#','',text)\r\n",
        "  return text\r\n",
        "\r\n",
        "df_train['text'] = df_train['text'].apply(lambda x: remove_hash(x))\r\n",
        "df_test['text'] = df_test['text'].apply(lambda x: remove_hash(x))\r\n",
        "df_train['Text_keyword'] = df_train['Text_keyword'].apply(lambda x: remove_hash(x))\r\n",
        "\r\n",
        "\r\n",
        "#removing amp\r\n",
        "def remove_amp(text):\r\n",
        "  text = re.sub('&amp;', '', text)\r\n",
        "  return text\r\n",
        "  \r\n",
        "df_train['text'] = df_train['text'].apply(lambda x: remove_amp(x))\r\n",
        "df_test['text'] = df_test['text'].apply(lambda x: remove_amp(x))\r\n",
        "df_train['Text_keyword'] = df_train['Text_keyword'].apply(lambda x: remove_amp(x))\r\n",
        "\r\n",
        "\r\n",
        "#removing url\r\n",
        "def remove_url(text):\r\n",
        "  text = re.sub(r'http\\S+', '', text)\r\n",
        "  return text\r\n",
        "  \r\n",
        "df_train['text'] = df_train['text'].apply(lambda x: remove_url(x))\r\n",
        "df_test['text'] = df_test['text'].apply(lambda x: remove_url(x))\r\n",
        "df_train['Text_keyword'] = df_train['Text_keyword'].apply(lambda x: remove_url(x))\r\n",
        "\r\n",
        "#removing other noises\r\n",
        "def remove_noise(text):\r\n",
        "  text = re.sub('RT ', '', text)\r\n",
        "  text = re.sub(' co ', '', text)\r\n",
        "  return text\r\n",
        "\r\n",
        "df_train['text'] = df_train['text'].apply(lambda x: remove_noise(x))\r\n",
        "df_test['text'] = df_test['text'].apply(lambda x: remove_noise(x))\r\n",
        "df_train['Text_keyword'] = df_train['Text_keyword'].apply(lambda x: remove_noise(x))\r\n",
        "\r\n",
        "\r\n",
        "#Remove other strange characters noise\r\n",
        "def remove_noise_1(text):\r\n",
        "  text = re.sub(' û_ ', '',text)\r\n",
        "  text = re.sub('©', ' ', text)\r\n",
        "  text = re.sub(' ûªs ', '',text)\r\n",
        "  return text\r\n",
        "\r\n",
        "df_train['text'] = df_train['text'].apply(lambda x: remove_noise_1(x))\r\n",
        "df_test['text'] = df_test['text'].apply(lambda x: remove_noise_1(x))\r\n",
        "df_train['Text_keyword'] = df_train['Text_keyword'].apply(lambda x: remove_noise_1(x))\r\n",
        "\r\n",
        "\r\n",
        "#Remove multiple spaces and spaces from Start and End \r\n",
        "def remove_multiple_spaces(text):\r\n",
        "  text = re.sub(r\"\\s+\",\" \", text, flags = re.I)\r\n",
        "  text = re.sub(r\"^\\s+\", \"\", text)\r\n",
        "  return text\r\n",
        "\r\n",
        "df_train['text'] = df_train['text'].apply(lambda x: remove_multiple_spaces(x))\r\n",
        "df_test['text'] = df_test['text'].apply(lambda x: remove_multiple_spaces(x))\r\n",
        "df_train['Text_keyword'] = df_train['Text_keyword'].apply(lambda x: remove_multiple_spaces(x))\r\n",
        "\r\n",
        "\r\n",
        "#Remove uppercase character\r\n",
        "def remove_uppercase(text):\r\n",
        "   text = text.lower()\r\n",
        "   return text\r\n",
        "df_train['text'] = df_train['text'].apply(lambda x: remove_uppercase(x))\r\n",
        "df_test['text'] = df_test['text'].apply(lambda x: remove_uppercase(x))\r\n",
        "df_train['Text_keyword'] = df_train['Text_keyword'].apply(lambda x: remove_uppercase(x))\r\n",
        "\r\n",
        "\r\n",
        "#Remove single charachters\r\n",
        "def remove_single_characters(text):\r\n",
        "   text = re.sub(r\"\\s+[a-zA-Z]\\s+\", \" \", text)\r\n",
        "   return text\r\n",
        "\r\n",
        "df_train['text'] = df_train['text'].apply(lambda x: remove_single_characters(x))\r\n",
        "df_test['text'] = df_test['text'].apply(lambda x: remove_single_characters(x))\r\n",
        "df_train['Text_keyword'] = df_train['Text_keyword'].apply(lambda x: remove_single_characters(x))"
      ],
      "execution_count": 22,
      "outputs": []
    },
    {
      "cell_type": "markdown",
      "metadata": {
        "id": "NkWEmNisAP7p"
      },
      "source": [
        "While cleaning the dataset we realized, that too much cleaning can lead to information loss and therefore worsen the accuracy. \r\n",
        "\r\n",
        "The following text cleaning methods lead in our case to worse accuracy:\r\n",
        "\r\n",
        "* Number:\r\n",
        "\r\n",
        "  Removing all the numbers makes prediction worse. That could be because of dates and ages which provides usefull information to the machine learning algorithm. \r\n",
        "```\r\n",
        "# remove digits\r\n",
        "def remove_digits(text):\r\n",
        "  text = re.sub(r\"\\d\", \"\", text)\r\n",
        "  return text\r\n",
        "df_train['text'] = df_train['text'].apply(lambda x: remove_digits(x))\r\n",
        "df_test['text'] = df_test['text'].apply(lambda x: remove_digits(x))\r\n",
        "```\r\n",
        "\r\n",
        "* Stopwords:\r\n",
        "\r\n",
        "  Since stopwords are removed in the tokenizer function, it does not necessarily improve the accuracy.\r\n",
        "```\r\n",
        "# Remove Stopwords\r\n",
        "def remove_stopword(text):\r\n",
        "  text= remove_stopwords(text)\r\n",
        "  return text\r\n",
        "df_train['text'] = df_train['text'].apply(lambda x: remove_stopword(x))\r\n",
        "df_test['text'] = df_test['text'].apply(lambda x: remove_stopword(x))\r\n",
        "```\r\n",
        "\r\n",
        "* Punctuation:\r\n",
        "\r\n",
        "  Same as stopword, punctuation will be removed in the tokenizer function.\r\n",
        "```\r\n",
        "#removing punctuation\r\n",
        "def remove_punct(text):\r\n",
        "  text = \"\".join([char for char in text if char not in string.punctuation])\r\n",
        "  text = re.sub(r\"[0-9]+\", \"\", text)\r\n",
        "  return text\r\n",
        "df_train['text'] = df_train['text'].apply(lambda x: remove_punct(x))\r\n",
        "df_test['text'] = df_test['text'].apply(lambda x: remove_punct(x))\r\n",
        "```\r\n",
        "\r\n",
        "* Noices:\r\n",
        "\r\n",
        "  We realized we could not delete too much noices and special characters, since words started to loose their meaning. So we decided to remove the following code from the data cleaning part.\r\n",
        "\r\n",
        "```\r\n",
        "# remove other strange characters noise\r\n",
        "def remove_noise_1(text):\r\n",
        "  text = re.sub(' & ', '', text)\r\n",
        "  text = re.sub(' û ', '', text)\r\n",
        "  text = re.sub('&', '', text)\r\n",
        "  text = re.sub('', '', text)\r\n",
        "  text = re.sub('ª', '', text)\r\n",
        "  return text\r\n",
        "```"
      ]
    },
    {
      "cell_type": "markdown",
      "metadata": {
        "id": "Ga9193MuDHC4"
      },
      "source": [
        "# Logistic regression and pipeline after data cleaning 📈\r\n",
        "\r\n",
        "Our second iteration of the model: *treatement of the dataframe with text cleaning*, fitted in a logistic regression to see the result.\r\n"
      ]
    },
    {
      "cell_type": "code",
      "metadata": {
        "id": "P1GhSIS3Df-r"
      },
      "source": [
        "#Setting up the train test split\r\n",
        "#First for the training data\r\n",
        "X = df_train['text']\r\n",
        "y = df_train['target']\r\n",
        "# Train test split\r\n",
        "X_train, X_test, y_train, y_test = train_test_split(X, y, test_size=0.2, random_state=123)"
      ],
      "execution_count": 23,
      "outputs": []
    },
    {
      "cell_type": "code",
      "metadata": {
        "id": "yKgSFtA7D7R3"
      },
      "source": [
        "#TF-IDF feature vector\r\n",
        "tfidf_vector = TfidfVectorizer(tokenizer=spacy_tokenizer)"
      ],
      "execution_count": 24,
      "outputs": []
    },
    {
      "cell_type": "code",
      "metadata": {
        "id": "Zl0YhT7wD5Gj"
      },
      "source": [
        "#Linear reg\r\n",
        "LR = LogisticRegression(solver=\"lbfgs\", max_iter=1000, random_state=72)\r\n",
        "\r\n",
        "#pipeline\r\n",
        "pipe = Pipeline([('vectorizer', tfidf_vector),\r\n",
        "                 ('classifier', LR)])"
      ],
      "execution_count": 25,
      "outputs": []
    },
    {
      "cell_type": "code",
      "metadata": {
        "colab": {
          "base_uri": "https://localhost:8080/"
        },
        "id": "g70aDQD-EC80",
        "outputId": "e50f7bf3-3591-4955-fb44-0d6b88c0582f"
      },
      "source": [
        "pipe.fit(X_train, y_train)"
      ],
      "execution_count": 26,
      "outputs": [
        {
          "output_type": "execute_result",
          "data": {
            "text/plain": [
              "Pipeline(memory=None,\n",
              "         steps=[('vectorizer',\n",
              "                 TfidfVectorizer(analyzer='word', binary=False,\n",
              "                                 decode_error='strict',\n",
              "                                 dtype=<class 'numpy.float64'>,\n",
              "                                 encoding='utf-8', input='content',\n",
              "                                 lowercase=True, max_df=1.0, max_features=None,\n",
              "                                 min_df=1, ngram_range=(1, 1), norm='l2',\n",
              "                                 preprocessor=None, smooth_idf=True,\n",
              "                                 stop_words=None, strip_accents=None,\n",
              "                                 sublinear_tf=False,\n",
              "                                 token_patt...',\n",
              "                                 tokenizer=<function spacy_tokenizer at 0x7f93eae112f0>,\n",
              "                                 use_idf=True, vocabulary=None)),\n",
              "                ('classifier',\n",
              "                 LogisticRegression(C=1.0, class_weight=None, dual=False,\n",
              "                                    fit_intercept=True, intercept_scaling=1,\n",
              "                                    l1_ratio=None, max_iter=1000,\n",
              "                                    multi_class='auto', n_jobs=None,\n",
              "                                    penalty='l2', random_state=72,\n",
              "                                    solver='lbfgs', tol=0.0001, verbose=0,\n",
              "                                    warm_start=False))],\n",
              "         verbose=False)"
            ]
          },
          "metadata": {
            "tags": []
          },
          "execution_count": 26
        }
      ]
    },
    {
      "cell_type": "markdown",
      "metadata": {
        "id": "QN-_2JvnEIHZ"
      },
      "source": [
        "#### Accuracy"
      ]
    },
    {
      "cell_type": "code",
      "metadata": {
        "colab": {
          "base_uri": "https://localhost:8080/"
        },
        "id": "pt9Jk45fEKhu",
        "outputId": "9616ba26-62bd-4ce5-ad74-f783f28dfe7f"
      },
      "source": [
        "#Accuracy of the train data\r\n",
        "y_pred_train = pipe.predict(X_train)\r\n",
        "print(f\"TRAIN ACCURACY SCORE:\\n{accuracy_score(y_train, y_pred_train):.4f}\")\r\n",
        "print(f\"CONFUSION MATRIX:\\n{confusion_matrix(y_train, y_pred_train)}\")"
      ],
      "execution_count": 27,
      "outputs": [
        {
          "output_type": "stream",
          "text": [
            "TRAIN ACCURACY SCORE:\n",
            "0.8871\n",
            "CONFUSION MATRIX:\n",
            "[[2829   98]\n",
            " [ 479 1703]]\n"
          ],
          "name": "stdout"
        }
      ]
    },
    {
      "cell_type": "code",
      "metadata": {
        "colab": {
          "base_uri": "https://localhost:8080/"
        },
        "id": "O6htzipCER2U",
        "outputId": "97e0f09a-c139-4f3c-e22a-d60b963ef0e7"
      },
      "source": [
        "#Accuracy of the test data\r\n",
        "y_pred_test = pipe.predict(X_test)\r\n",
        "print(f\"TEST ACCURACY SCORE:\\n{accuracy_score(y_test, y_pred_test):.4f}\")\r\n",
        "print(f\"CONFUSION MATRIX:\\n{confusion_matrix(y_test, y_pred_test)}\")"
      ],
      "execution_count": 28,
      "outputs": [
        {
          "output_type": "stream",
          "text": [
            "TEST ACCURACY SCORE:\n",
            "0.7887\n",
            "CONFUSION MATRIX:\n",
            "[[660  89]\n",
            " [181 348]]\n"
          ],
          "name": "stdout"
        }
      ]
    },
    {
      "cell_type": "markdown",
      "metadata": {
        "id": "UpBPDcnJFMDY"
      },
      "source": [
        "# Using different classifiers 👨‍💻\r\n",
        "\r\n",
        "We tried different classifier to know which one could predict the best our model.\r\n",
        "\r\n",
        "We tried the methods below:\r\n",
        "* Random forest classifier\r\n",
        "* Doc2Vec"
      ]
    },
    {
      "cell_type": "markdown",
      "metadata": {
        "id": "xBuQ4iL0IUGW"
      },
      "source": [
        "## Random forest classifier\r\n",
        "\r\n",
        "According to the documentation, the RFC looks like the most fitting classifier for our case. Thus we allocated a lot of ressources to improve its accuracy: in the section below there is a take on parameters tuning for RFC."
      ]
    },
    {
      "cell_type": "code",
      "metadata": {
        "id": "9uy1k2g-I-XK"
      },
      "source": [
        "#Setting up the train test split\r\n",
        "\r\n",
        "#First for the training data\r\n",
        "X = df_train['text']\r\n",
        "y = df_train['target']\r\n",
        "# Train test split\r\n",
        "X_train, X_test, y_train, y_test = train_test_split(X, y, test_size=0.2, random_state=72)"
      ],
      "execution_count": null,
      "outputs": []
    },
    {
      "cell_type": "code",
      "metadata": {
        "id": "0pX6sb1WJN5E"
      },
      "source": [
        "#Define classifier\r\n",
        "RFC = RandomForestClassifier(n_estimators = 16,max_depth = 60,random_state =72)\r\n",
        "#Create pipeline\r\n",
        "pipe = Pipeline([('vectorizer', tfidf_vector),\r\n",
        "                 ('classifier', RFC)])"
      ],
      "execution_count": null,
      "outputs": []
    },
    {
      "cell_type": "code",
      "metadata": {
        "colab": {
          "base_uri": "https://localhost:8080/"
        },
        "id": "B44-anBxJQCc",
        "outputId": "65eb4087-5340-45f1-9f96-7ccec017407b"
      },
      "source": [
        "#Fit\r\n",
        "pipe.fit(X_train, y_train)"
      ],
      "execution_count": null,
      "outputs": [
        {
          "output_type": "execute_result",
          "data": {
            "text/plain": [
              "Pipeline(memory=None,\n",
              "         steps=[('vectorizer',\n",
              "                 TfidfVectorizer(analyzer='word', binary=False,\n",
              "                                 decode_error='strict',\n",
              "                                 dtype=<class 'numpy.float64'>,\n",
              "                                 encoding='utf-8', input='content',\n",
              "                                 lowercase=True, max_df=1.0, max_features=None,\n",
              "                                 min_df=1, ngram_range=(1, 1), norm='l2',\n",
              "                                 preprocessor=None, smooth_idf=True,\n",
              "                                 stop_words=None, strip_accents=None,\n",
              "                                 sublinear_tf=False,\n",
              "                                 token_patt...\n",
              "                 RandomForestClassifier(bootstrap=True, ccp_alpha=0.0,\n",
              "                                        class_weight=None, criterion='gini',\n",
              "                                        max_depth=60, max_features='auto',\n",
              "                                        max_leaf_nodes=None, max_samples=None,\n",
              "                                        min_impurity_decrease=0.0,\n",
              "                                        min_impurity_split=None,\n",
              "                                        min_samples_leaf=1, min_samples_split=2,\n",
              "                                        min_weight_fraction_leaf=0.0,\n",
              "                                        n_estimators=16, n_jobs=None,\n",
              "                                        oob_score=False, random_state=72,\n",
              "                                        verbose=0, warm_start=False))],\n",
              "         verbose=False)"
            ]
          },
          "metadata": {
            "tags": []
          },
          "execution_count": 75
        }
      ]
    },
    {
      "cell_type": "markdown",
      "metadata": {
        "id": "WIpsvN4TJZ_X"
      },
      "source": [
        "#### Accuracy"
      ]
    },
    {
      "cell_type": "code",
      "metadata": {
        "colab": {
          "base_uri": "https://localhost:8080/"
        },
        "id": "3F6U1-toJZDC",
        "outputId": "f0d51b2b-7bca-4f28-9049-db24a0935e5c"
      },
      "source": [
        "#Accuracy of the train data\r\n",
        "y_pred_train = pipe.predict(X_train)\r\n",
        "print(f\"TRAIN ACCURACY SCORE:\\n{accuracy_score(y_train, y_pred_train):.4f}\")\r\n",
        "print(f\"CONFUSION MATRIX:\\n{confusion_matrix(y_train, y_pred_train)}\")"
      ],
      "execution_count": null,
      "outputs": [
        {
          "output_type": "stream",
          "text": [
            "TRAIN ACCURACY SCORE:\n",
            "0.8374\n",
            "CONFUSION MATRIX:\n",
            "[[2776   11]\n",
            " [ 757 1179]]\n"
          ],
          "name": "stdout"
        }
      ]
    },
    {
      "cell_type": "code",
      "metadata": {
        "colab": {
          "base_uri": "https://localhost:8080/"
        },
        "id": "BlOTO9lbJjuj",
        "outputId": "047d372a-0159-4197-a250-4403a06ac713"
      },
      "source": [
        "#Accuracy of the test data\r\n",
        "y_pred_test = pipe.predict(X_test)\r\n",
        "print(f\"TEST ACCURACY SCORE:\\n{accuracy_score(y_test, y_pred_test):.4f}\")\r\n",
        "print(f\"CONFUSION MATRIX:\\n{confusion_matrix(y_test, y_pred_test)}\")"
      ],
      "execution_count": null,
      "outputs": [
        {
          "output_type": "stream",
          "text": [
            "TEST ACCURACY SCORE:\n",
            "0.7409\n",
            "CONFUSION MATRIX:\n",
            "[[664  48]\n",
            " [258 211]]\n"
          ],
          "name": "stdout"
        }
      ]
    },
    {
      "cell_type": "markdown",
      "metadata": {
        "id": "3IteAjkcJnEN"
      },
      "source": [
        "#### Plot\r\n",
        "\r\n",
        "We tried to plot different values of parameters to find the optimal one."
      ]
    },
    {
      "cell_type": "code",
      "metadata": {
        "id": "9s1wB2VvKJDn"
      },
      "source": [
        "#packages needed for graphs\r\n",
        "from sklearn.metrics import roc_curve, auc\r\n",
        "import matplotlib as mpl\r\n",
        "import matplotlib.pyplot as plt\r\n",
        "from matplotlib.legend_handler import HandlerLine2D"
      ],
      "execution_count": null,
      "outputs": []
    },
    {
      "cell_type": "markdown",
      "metadata": {
        "id": "a7Mjcm8QKO7K"
      },
      "source": [
        "* n_estimator"
      ]
    },
    {
      "cell_type": "code",
      "metadata": {
        "id": "Hw4Yvs1OQagA"
      },
      "source": [
        "#Create array of values for n_estimators\r\n",
        "n_estimators = [1, 2, 4, 8, 16, 32, 64, 100, 200]\r\n",
        "\r\n",
        "#Build function to test value of array in the model\r\n",
        "train_results = []\r\n",
        "test_results = []\r\n",
        "for estimator in n_estimators:\r\n",
        "   RFC = RandomForestClassifier(n_estimators=estimator, n_jobs=-1) \r\n",
        "   pipe = Pipeline([('vectorizer', tfidf_vector),\r\n",
        "                 ('classifier', RFC)])\r\n",
        "   pipe.fit(X_train, y_train)\r\n",
        "   #Training data curve\r\n",
        "   train_pred = pipe.predict(X_train)\r\n",
        "   false_positive_rate, true_positive_rate, thresholds = roc_curve(y_train, train_pred)\r\n",
        "   roc_auc = auc(false_positive_rate, true_positive_rate)\r\n",
        "   train_results.append(roc_auc)\r\n",
        "   #Test data curve\r\n",
        "   y_pred = pipe.predict(X_test)\r\n",
        "   false_positive_rate, true_positive_rate, thresholds = roc_curve(y_test, y_pred)\r\n",
        "   roc_auc = auc(false_positive_rate, true_positive_rate)\r\n",
        "   test_results.append(roc_auc)\r\n"
      ],
      "execution_count": null,
      "outputs": []
    },
    {
      "cell_type": "code",
      "metadata": {
        "id": "skstE4qYKNsU"
      },
      "source": [
        "#Plotting the curves for train and test accuracy\r\n",
        "line1, = plt.plot(n_estimators, train_results, 'b', label='Train AUC')\r\n",
        "line2, = plt.plot(n_estimators, test_results, 'r', label='Test AUC')\r\n",
        "plt.legend(handler_map={line1: HandlerLine2D(numpoints=2)})\r\n",
        "plt.ylabel('AUC score')\r\n",
        "plt.xlabel('n_estimators')\r\n",
        "plt.show()\r\n",
        "#We can see below a maximum for is between [25;50]"
      ],
      "execution_count": null,
      "outputs": []
    },
    {
      "cell_type": "markdown",
      "metadata": {
        "id": "9BOSqrtHK9xC"
      },
      "source": [
        "* max_depth"
      ]
    },
    {
      "cell_type": "code",
      "metadata": {
        "id": "iunSwvW-LBiY"
      },
      "source": [
        "#Tune max_depths parameters, analyze value between 1 and 100\r\n",
        "max_depths = np.linspace(1, 32, 32, endpoint=True)\r\n",
        "train_results = []\r\n",
        "test_results = []\r\n",
        "#Creating a function\r\n",
        "for max_depth in max_depths:\r\n",
        "   RFC = RandomForestClassifier(max_depth=max_depth, n_jobs=-1)\r\n",
        "   \r\n",
        "   pipe.fit(X_train, y_train)\r\n",
        "   \r\n",
        "   #Train data curve\r\n",
        "   train_pred = pipe.predict(X_train)\r\n",
        "   false_positive_rate, true_positive_rate, thresholds = roc_curve(y_train, train_pred)\r\n",
        "   roc_auc = auc(false_positive_rate, true_positive_rate)\r\n",
        "   train_results.append(roc_auc)\r\n",
        "   #Test data curve\r\n",
        "   y_pred = pipe.predict(X_test)\r\n",
        "   false_positive_rate, true_positive_rate, thresholds = roc_curve(y_test, y_pred)\r\n",
        "   roc_auc = auc(false_positive_rate, true_positive_rate)\r\n",
        "   test_results.append(roc_auc)"
      ],
      "execution_count": null,
      "outputs": []
    },
    {
      "cell_type": "code",
      "metadata": {
        "id": "oxoLmQBMLFKM"
      },
      "source": [
        "#Plotting the curves for train and test accuracy\r\n",
        "line1, = plt.plot(max_depths, train_results, 'b', label='Train AUC')\r\n",
        "line2, = plt.plot(max_depths, test_results, 'r', label='Test AUC')\r\n",
        "plt.legend(handler_map={line1: HandlerLine2D(numpoints=2)})\r\n",
        "plt.ylabel('AUC score')\r\n",
        "plt.xlabel('Tree depth')\r\n",
        "plt.show()"
      ],
      "execution_count": null,
      "outputs": []
    },
    {
      "cell_type": "markdown",
      "metadata": {
        "id": "hliPzOFpLJ1R"
      },
      "source": [
        "* min_samples_split"
      ]
    },
    {
      "cell_type": "code",
      "metadata": {
        "id": "GP-dHBH9LJMW"
      },
      "source": [
        "#Want to know what values between 10% or 100% of the samples is needed\r\n",
        "min_samples_splits = np.linspace(0.1, 1.0, 10, endpoint=True)\r\n",
        "train_results = []\r\n",
        "test_results = []\r\n",
        "#the function\r\n",
        "for min_samples_split in min_samples_splits:\r\n",
        "   RFC = RandomForestClassifier(min_samples_split=min_samples_split)\r\n",
        "   #Train data curve\r\n",
        "   pipe.fit(X_train, y_train)\r\n",
        "   train_pred = pipe.predict(X_train)\r\n",
        "   false_positive_rate, true_positive_rate, thresholds = roc_curve(y_train, train_pred)\r\n",
        "   roc_auc = auc(false_positive_rate, true_positive_rate)\r\n",
        "   train_results.append(roc_auc)\r\n",
        "   #Test data curve\r\n",
        "   y_pred = pipe.predict(X_test)\r\n",
        "   false_positive_rate, true_positive_rate, thresholds = roc_curve(y_test, y_pred)\r\n",
        "   roc_auc = auc(false_positive_rate, true_positive_rate)\r\n",
        "   test_results.append(roc_auc)"
      ],
      "execution_count": null,
      "outputs": []
    },
    {
      "cell_type": "code",
      "metadata": {
        "id": "ntbiGFmKLRjZ"
      },
      "source": [
        "#Plotting the curves for train and test accuracy\r\n",
        "line1, = plt.plot(min_samples_splits, train_results, 'b', label='Train AUC')\r\n",
        "line2, = plt.plot(min_samples_splits, test_results, 'r', label='Test AUC')\r\n",
        "plt.legend(handler_map={line1: HandlerLine2D(numpoints=2)})\r\n",
        "plt.ylabel('AUC score')\r\n",
        "plt.xlabel('min samples split')\r\n",
        "plt.show()"
      ],
      "execution_count": null,
      "outputs": []
    },
    {
      "cell_type": "markdown",
      "metadata": {
        "id": "EMCu5rgVLYPX"
      },
      "source": [
        "* max_features"
      ]
    },
    {
      "cell_type": "code",
      "metadata": {
        "id": "oB40ly2YLfJ6"
      },
      "source": [
        "#nb of features to consider when looking for the best split\r\n",
        "max_features = list(range(1,df_train.shape[1]))\r\n",
        "train_results = []\r\n",
        "test_results = []\r\n",
        "#the function\r\n",
        "for max_feature in max_features:\r\n",
        "   RFC = RandomForestClassifier(max_features=max_feature)   \r\n",
        "   pipe.fit(x_train, y_train)\r\n",
        "   #Train data curve\r\n",
        "   train_pred = pipe.predict(X_train)\r\n",
        "   false_positive_rate, true_positive_rate, thresholds = roc_curve(y_train, train_pred)\r\n",
        "   roc_auc = auc(false_positive_rate, true_positive_rate)\r\n",
        "   train_results.append(roc_auc)\r\n",
        "   #Test data curve\r\n",
        "   y_pred = pipe.predict(X_test)\r\n",
        "   false_positive_rate, true_positive_rate, thresholds = roc_curve(y_test, y_pred)\r\n",
        "   roc_auc = auc(false_positive_rate, true_positive_rate)\r\n",
        "   test_results.append(roc_auc)"
      ],
      "execution_count": null,
      "outputs": []
    },
    {
      "cell_type": "code",
      "metadata": {
        "id": "rpdWSewRLfDr"
      },
      "source": [
        "#Plotting the curves for train and test accuracy\r\n",
        "line1, = plt.plot(max_features, train_results, 'b', label='Train AUC')\r\n",
        "line2, = plt.plot(max_features, test_results, 'r, label='Test AUC')\r\n",
        "plt.legend(handler_map={line1: HandlerLine2D(numpoints=2)})\r\n",
        "plt.ylabel('AUC score')\r\n",
        "plt.xlabel('max features')\r\n",
        "plt.show()"
      ],
      "execution_count": null,
      "outputs": []
    },
    {
      "cell_type": "markdown",
      "metadata": {
        "id": "FQ93JAtJIRSV"
      },
      "source": [
        "## Doc2Vec\r\n",
        "\r\n",
        "Since DOc2Vec focus on the context, we tried to use the DOc2Vec classifier instead of TF-IDF. However it gives worse accuracy than TF-IDF classifier, we decided not to use this classifier anymore."
      ]
    },
    {
      "cell_type": "code",
      "metadata": {
        "id": "GB3BIiIoL_bd"
      },
      "source": [
        "#First we need to tokenize the data\r\n",
        "sample_tagged = df_train.apply(lambda r: TaggedDocument(words=spacy_tokenizer(r['text']), tags=[r.target]), axis=1)\r\n",
        "\r\n",
        "#Setting up the train test split\r\n",
        "train_tagged, test_tagged = train_test_split(sample_tagged, test_size=0.2, random_state=1234)"
      ],
      "execution_count": null,
      "outputs": []
    },
    {
      "cell_type": "code",
      "metadata": {
        "id": "diioLpz_NlVa"
      },
      "source": [
        "#Defining Doc2Vec and build vocabulary\r\n",
        "model_dbow = Doc2Vec(dm=0, vector_size=30, negative=6, hs=0, min_count=1, sample=0, workers=cores, epoch=300)\r\n",
        "model_dbow.build_vocab([x for x in train_tagged.values])"
      ],
      "execution_count": null,
      "outputs": []
    },
    {
      "cell_type": "code",
      "metadata": {
        "id": "Rc1Zdb0ROS8_"
      },
      "source": [
        "#Select X and y\r\n",
        "def vec_for_learning(model, tagged_docs):\r\n",
        "    sents = tagged_docs.values\r\n",
        "    targets, regressors = zip(*[(doc.tags[0], model.infer_vector(doc.words, steps=100)) for doc in sents])\r\n",
        "    return targets, regressors\r\n",
        "\r\n",
        "y_train, X_train = vec_for_learning(model_dbow, train_tagged)\r\n",
        "y_test, X_test = vec_for_learning(model_dbow, test_tagged)"
      ],
      "execution_count": null,
      "outputs": []
    },
    {
      "cell_type": "code",
      "metadata": {
        "colab": {
          "base_uri": "https://localhost:8080/"
        },
        "id": "Ra-Ft2Y2OcS2",
        "outputId": "a9b5bcfb-e899-408a-eac9-cd328c9a3774"
      },
      "source": [
        "#Fit\r\n",
        "logreg = LogisticRegression(max_iter=1000, solver='lbfgs')\r\n",
        "logreg.fit(X_train, y_train)\r\n"
      ],
      "execution_count": null,
      "outputs": [
        {
          "output_type": "execute_result",
          "data": {
            "text/plain": [
              "LogisticRegression(C=1.0, class_weight=None, dual=False, fit_intercept=True,\n",
              "                   intercept_scaling=1, l1_ratio=None, max_iter=1000,\n",
              "                   multi_class='auto', n_jobs=None, penalty='l2',\n",
              "                   random_state=None, solver='lbfgs', tol=0.0001, verbose=0,\n",
              "                   warm_start=False)"
            ]
          },
          "metadata": {
            "tags": []
          },
          "execution_count": 85
        }
      ]
    },
    {
      "cell_type": "markdown",
      "metadata": {
        "id": "lq6C4FO5Orjn"
      },
      "source": [
        "#### Accuracy"
      ]
    },
    {
      "cell_type": "code",
      "metadata": {
        "colab": {
          "base_uri": "https://localhost:8080/"
        },
        "id": "FjmUlAryOzpV",
        "outputId": "be980e51-b0b0-4327-fbb9-95936bb5c7ad"
      },
      "source": [
        "#Accuracy of the train data\r\n",
        "y_pred_train = logreg.predict(X_train)\r\n",
        "print(f\"TRAIN ACCURACY SCORE:\\n{accuracy_score(y_train, y_pred_train):.4f}\")\r\n",
        "print(f\"CONFUSION MATRIX:\\n{confusion_matrix(y_train, y_pred_train)}\")"
      ],
      "execution_count": null,
      "outputs": [
        {
          "output_type": "stream",
          "text": [
            "TRAIN ACCURACY SCORE:\n",
            "0.5939\n",
            "CONFUSION MATRIX:\n",
            "[[2805    0]\n",
            " [1918    0]]\n"
          ],
          "name": "stdout"
        }
      ]
    },
    {
      "cell_type": "code",
      "metadata": {
        "colab": {
          "base_uri": "https://localhost:8080/"
        },
        "id": "to1LL3a_PFaX",
        "outputId": "644b1546-e229-493e-b270-9f7832ceb01d"
      },
      "source": [
        "#Accuracy of the test data\r\n",
        "y_pred_test = logreg.predict(X_test)\r\n",
        "print(f\"TEST ACCURACY SCORE:\\n{accuracy_score(y_test, y_pred_test):.4f}\")\r\n",
        "print(f\"CONFUSION MATRIX:\\n{confusion_matrix(y_test, y_pred_test)}\")"
      ],
      "execution_count": null,
      "outputs": [
        {
          "output_type": "stream",
          "text": [
            "TEST ACCURACY SCORE:\n",
            "0.5876\n",
            "CONFUSION MATRIX:\n",
            "[[694   0]\n",
            " [487   0]]\n"
          ],
          "name": "stdout"
        }
      ]
    },
    {
      "cell_type": "markdown",
      "metadata": {
        "id": "Yme4mSddPK3D"
      },
      "source": [
        "#### Plot"
      ]
    },
    {
      "cell_type": "code",
      "metadata": {
        "id": "avtI2ve2PteE"
      },
      "source": [
        "import seaborn as sns"
      ],
      "execution_count": 40,
      "outputs": []
    },
    {
      "cell_type": "code",
      "metadata": {
        "colab": {
          "base_uri": "https://localhost:8080/",
          "height": 825
        },
        "id": "hPEtbRlNPbII",
        "outputId": "3aa8636d-fae9-4ad6-d935-8a7714f04f8f"
      },
      "source": [
        "#heatmap for evaluation\r\n",
        "conf_mat = confusion_matrix(y_test, y_pred_test)\r\n",
        "fig, ax = plt.subplots(figsize=(15,15))\r\n",
        "sns.heatmap(conf_mat, annot=True, fmt='d')\r\n",
        "plt.ylabel('Actual')\r\n",
        "plt.xlabel('Predicted')\r\n",
        "plt.show()"
      ],
      "execution_count": null,
      "outputs": [
        {
          "output_type": "display_data",
          "data": {
            "image/png": "[encoded data removed]",
            "text/plain": [
              "<Figure size 1080x1080 with 2 Axes>"
            ]
          },
          "metadata": {
            "tags": []
          }
        }
      ]
    },
    {
      "cell_type": "markdown",
      "metadata": {
        "id": "ek6SsqppQuoK"
      },
      "source": [
        "# Optimizing the TF-IDF parameters 🛠\r\n",
        "\r\n",
        "We decided that the TF-IDF classifiers are the most suitable for our model and tried to improve the parameters.\r\n",
        "Further we proceed by running a logistic regression with a random_state=72 for every combination of the tf-idf parameters. Finally we are going to build our optimized vectorizer."
      ]
    },
    {
      "cell_type": "code",
      "metadata": {
        "id": "fZ3tfNO9SDdc"
      },
      "source": [
        "#Evaluate the model\r\n",
        "def evaluate(true, pred):\r\n",
        "  precision = precision_score(true, pred)\r\n",
        "  recall = recall_score(true, pred)\r\n",
        "  f1 = f1_score(true, pred)\r\n",
        "  print(f\"CONFUSION MATRIX:\\n{confusion_matrix(true, pred)}\")\r\n",
        "  print(f\"ACCURACY SCORE:\\n{accuracy_score(true, pred):.4f}\")\r\n",
        "  print(f\"CLASSIFICATION REPORT:\\n\\tPrecision: {precision:.4f}\\n\\tRecall: {recall:.4f}\\n\\tF1_Score: {f1:.4f}\")"
      ],
      "execution_count": 29,
      "outputs": []
    },
    {
      "cell_type": "code",
      "metadata": {
        "id": "Hnn51LNGSPAe"
      },
      "source": [
        "# Create list of configs\r\n",
        "def configs():\r\n",
        "  models = list()   \r\n",
        "  # Define config lists\r\n",
        "  ngram_range = [(1,1), (1,2), (1, 3), (2, 2), (2, 3), (3, 3), (3, 4)]\r\n",
        "  min_df = [1]\r\n",
        "  max_df = [1.0]\r\n",
        "  analyzer=['word', 'char']\r\n",
        "    \r\n",
        "  # Create config instances\r\n",
        "  for n in ngram_range:\r\n",
        "    for i in min_df:\r\n",
        "      for j in max_df:\r\n",
        "        for a in analyzer:\r\n",
        "          cfg = [n, i, j, a]\r\n",
        "          models.append(cfg)\r\n",
        "  return models\r\n",
        "\r\n",
        "configs = configs()"
      ],
      "execution_count": 30,
      "outputs": []
    },
    {
      "cell_type": "code",
      "metadata": {
        "colab": {
          "base_uri": "https://localhost:8080/"
        },
        "id": "5_J9O4CJSpMT",
        "outputId": "75254e24-3b34-4153-8f1b-3a8912d54e22"
      },
      "source": [
        "# Define list for result\r\n",
        "result = []\r\n",
        "\r\n",
        "#Setting up the train test split\r\n",
        "#First for the training data\r\n",
        "X = df_train['text']\r\n",
        "y = df_train['target']\r\n",
        "# Train test split\r\n",
        "X_train, X_test, y_train, y_test = train_test_split(X, y, test_size=0.2, random_state=123)\r\n",
        "\r\n",
        "for config in configs:\r\n",
        "\r\n",
        "    # Redefine vectorizer\r\n",
        "    tfidf_vector = TfidfVectorizer(tokenizer=spacy_tokenizer, \r\n",
        "                                   ngram_range=config[0],\r\n",
        "                                   min_df=config[1], max_df=config[2], analyzer=config[3])\r\n",
        "\r\n",
        "    # Define classifier\r\n",
        "    LR = LogisticRegression(solver=\"lbfgs\", max_iter=1000, random_state=72)\r\n",
        "\r\n",
        "    # Create pipeline\r\n",
        "    pipe = Pipeline([('vectorizer', tfidf_vector),\r\n",
        "                 ('classifier', LR)])\r\n",
        "\r\n",
        "    # Fit model on training set\r\n",
        "    pipe.fit(X_train, y_train)\r\n",
        "\r\n",
        "    # Predictions\r\n",
        "    y_pred = pipe.predict(X_test)\r\n",
        "\r\n",
        "    # Print accuracy on test set\r\n",
        "    print(\"CONFIG: \", config)\r\n",
        "    evaluate(y_test, y_pred)\r\n",
        "    print(\"-----------------------\")\r\n",
        "\r\n",
        "    # Append to result\r\n",
        "    result.append([config, accuracy_score(y_test, y_pred)])"
      ],
      "execution_count": 32,
      "outputs": [
        {
          "output_type": "stream",
          "text": [
            "CONFIG:  [(1, 1), 1, 1.0, 'word']\n",
            "CONFUSION MATRIX:\n",
            "[[660  89]\n",
            " [181 348]]\n",
            "ACCURACY SCORE:\n",
            "0.7887\n",
            "CLASSIFICATION REPORT:\n",
            "\tPrecision: 0.7963\n",
            "\tRecall: 0.6578\n",
            "\tF1_Score: 0.7205\n",
            "-----------------------\n",
            "CONFIG:  [(1, 1), 1, 1.0, 'char']\n",
            "CONFUSION MATRIX:\n",
            "[[581 168]\n",
            " [251 278]]\n",
            "ACCURACY SCORE:\n",
            "0.6721\n",
            "CLASSIFICATION REPORT:\n",
            "\tPrecision: 0.6233\n",
            "\tRecall: 0.5255\n",
            "\tF1_Score: 0.5703\n",
            "-----------------------\n",
            "CONFIG:  [(1, 2), 1, 1.0, 'word']\n",
            "CONFUSION MATRIX:\n",
            "[[661  88]\n",
            " [180 349]]\n",
            "ACCURACY SCORE:\n",
            "0.7903\n",
            "CLASSIFICATION REPORT:\n",
            "\tPrecision: 0.7986\n",
            "\tRecall: 0.6597\n",
            "\tF1_Score: 0.7226\n",
            "-----------------------\n",
            "CONFIG:  [(1, 2), 1, 1.0, 'char']\n",
            "CONFUSION MATRIX:\n",
            "[[615 134]\n",
            " [191 338]]\n",
            "ACCURACY SCORE:\n",
            "0.7457\n",
            "CLASSIFICATION REPORT:\n",
            "\tPrecision: 0.7161\n",
            "\tRecall: 0.6389\n",
            "\tF1_Score: 0.6753\n",
            "-----------------------\n",
            "CONFIG:  [(1, 3), 1, 1.0, 'word']\n",
            "CONFUSION MATRIX:\n",
            "[[665  84]\n",
            " [185 344]]\n",
            "ACCURACY SCORE:\n",
            "0.7895\n",
            "CLASSIFICATION REPORT:\n",
            "\tPrecision: 0.8037\n",
            "\tRecall: 0.6503\n",
            "\tF1_Score: 0.7189\n",
            "-----------------------\n",
            "CONFIG:  [(1, 3), 1, 1.0, 'char']\n",
            "CONFUSION MATRIX:\n",
            "[[657  92]\n",
            " [178 351]]\n",
            "ACCURACY SCORE:\n",
            "0.7887\n",
            "CLASSIFICATION REPORT:\n",
            "\tPrecision: 0.7923\n",
            "\tRecall: 0.6635\n",
            "\tF1_Score: 0.7222\n",
            "-----------------------\n",
            "CONFIG:  [(2, 2), 1, 1.0, 'word']\n",
            "CONFUSION MATRIX:\n",
            "[[717  32]\n",
            " [315 214]]\n",
            "ACCURACY SCORE:\n",
            "0.7285\n",
            "CLASSIFICATION REPORT:\n",
            "\tPrecision: 0.8699\n",
            "\tRecall: 0.4045\n",
            "\tF1_Score: 0.5523\n",
            "-----------------------\n",
            "CONFIG:  [(2, 2), 1, 1.0, 'char']\n",
            "CONFUSION MATRIX:\n",
            "[[615 134]\n",
            " [183 346]]\n",
            "ACCURACY SCORE:\n",
            "0.7520\n",
            "CLASSIFICATION REPORT:\n",
            "\tPrecision: 0.7208\n",
            "\tRecall: 0.6541\n",
            "\tF1_Score: 0.6858\n",
            "-----------------------\n",
            "CONFIG:  [(2, 3), 1, 1.0, 'word']\n",
            "CONFUSION MATRIX:\n",
            "[[721  28]\n",
            " [326 203]]\n",
            "ACCURACY SCORE:\n",
            "0.7230\n",
            "CLASSIFICATION REPORT:\n",
            "\tPrecision: 0.8788\n",
            "\tRecall: 0.3837\n",
            "\tF1_Score: 0.5342\n",
            "-----------------------\n",
            "CONFIG:  [(2, 3), 1, 1.0, 'char']\n",
            "CONFUSION MATRIX:\n",
            "[[660  89]\n",
            " [178 351]]\n",
            "ACCURACY SCORE:\n",
            "0.7911\n",
            "CLASSIFICATION REPORT:\n",
            "\tPrecision: 0.7977\n",
            "\tRecall: 0.6635\n",
            "\tF1_Score: 0.7245\n",
            "-----------------------\n",
            "CONFIG:  [(3, 3), 1, 1.0, 'word']\n",
            "CONFUSION MATRIX:\n",
            "[[737  12]\n",
            " [394 135]]\n",
            "ACCURACY SCORE:\n",
            "0.6823\n",
            "CLASSIFICATION REPORT:\n",
            "\tPrecision: 0.9184\n",
            "\tRecall: 0.2552\n",
            "\tF1_Score: 0.3994\n",
            "-----------------------\n",
            "CONFIG:  [(3, 3), 1, 1.0, 'char']\n",
            "CONFUSION MATRIX:\n",
            "[[669  80]\n",
            " [185 344]]\n",
            "ACCURACY SCORE:\n",
            "0.7926\n",
            "CLASSIFICATION REPORT:\n",
            "\tPrecision: 0.8113\n",
            "\tRecall: 0.6503\n",
            "\tF1_Score: 0.7219\n",
            "-----------------------\n",
            "CONFIG:  [(3, 4), 1, 1.0, 'word']\n",
            "CONFUSION MATRIX:\n",
            "[[739  10]\n",
            " [397 132]]\n",
            "ACCURACY SCORE:\n",
            "0.6815\n",
            "CLASSIFICATION REPORT:\n",
            "\tPrecision: 0.9296\n",
            "\tRecall: 0.2495\n",
            "\tF1_Score: 0.3934\n",
            "-----------------------\n",
            "CONFIG:  [(3, 4), 1, 1.0, 'char']\n",
            "CONFUSION MATRIX:\n",
            "[[680  69]\n",
            " [187 342]]\n",
            "ACCURACY SCORE:\n",
            "0.7997\n",
            "CLASSIFICATION REPORT:\n",
            "\tPrecision: 0.8321\n",
            "\tRecall: 0.6465\n",
            "\tF1_Score: 0.7277\n",
            "-----------------------\n"
          ],
          "name": "stdout"
        }
      ]
    },
    {
      "cell_type": "code",
      "metadata": {
        "id": "eRdHPTH6UZCf"
      },
      "source": [
        "# Improved TF-IDF tokenizer\r\n",
        "tfidf_vector = TfidfVectorizer(tokenizer=spacy_tokenizer, ngram_range=(3, 4), min_df=1, max_df=1.0, analyzer='char')"
      ],
      "execution_count": 33,
      "outputs": []
    },
    {
      "cell_type": "markdown",
      "metadata": {
        "id": "MHp9mfrRUe6F"
      },
      "source": [
        "From this analysis we find out that there is some parameters that works better then the default ones specifically:\r\n",
        "- ngram_range: (3, 4)\r\n",
        "- min_df: 1\r\n",
        "- max_df:  1.0\r\n",
        "- Analyzer: 'char'\r\n",
        "\r\n",
        "So for the rest of our analysis we keep always these parameters for TF-IDF."
      ]
    },
    {
      "cell_type": "markdown",
      "metadata": {
        "id": "uJ2OiBQRVIsd"
      },
      "source": [
        "# Using different model with the oprimized parameters\r\n",
        "\r\n",
        "Now that we have found the optimal parameters for the TF-IDF classifier, we tried using them on different models.\r\n",
        "\r\n",
        "We have seen that the accurancy result from the Logistic regression can present significat change based on the split of the train_ test data(from about 0.78 to 0.82). In fact the train_test split change every time we run the code and also if we set a random_state for comparing results before and after data cleaning,  the result did not reflect the exact accuracy score of the model making difficult the comparison with others methods.\r\n",
        "To be able to compare the different model, we decided to use k-fold cross validation for the test train split which allows us to optain a more reliable model accuracy. \r\n"
      ]
    },
    {
      "cell_type": "markdown",
      "metadata": {
        "id": "vliNuG9-VQCW"
      },
      "source": [
        "## Logistic Regression with cross-validation"
      ]
    },
    {
      "cell_type": "code",
      "metadata": {
        "id": "64HupJMaWpKY"
      },
      "source": [
        "from sklearn.model_selection import KFold\r\n",
        "from sklearn.model_selection import StratifiedKFold\r\n",
        "from sklearn.model_selection import cross_val_score\r\n",
        "from sklearn.neighbors import KNeighborsClassifier"
      ],
      "execution_count": null,
      "outputs": []
    },
    {
      "cell_type": "code",
      "metadata": {
        "id": "5t565pruXQw1"
      },
      "source": [
        "# define features \r\n",
        "X = df_train['text']\r\n",
        "y = df_train['target']\r\n",
        "# Define vectorizer \r\n",
        "tfidf_vector = TfidfVectorizer(tokenizer=spacy_tokenizer, ngram_range=(3, 4), min_df=1, max_df=1.0, analyzer='char')\r\n",
        "X_tdf_vec = tfidf_vector.fit_transform(X)"
      ],
      "execution_count": null,
      "outputs": []
    },
    {
      "cell_type": "code",
      "metadata": {
        "colab": {
          "base_uri": "https://localhost:8080/"
        },
        "id": "CrwHnMsRXR89",
        "outputId": "9e24bf4b-d069-43a0-b054-f956c01bb1f0"
      },
      "source": [
        "# 10-fold cross-validation with the logistic regression\r\n",
        "scores =cross_val_score(LogisticRegression(solver=\"lbfgs\", max_iter=1000, random_state=72, C=2.6), X_tdf_vec, y, cv=10, scoring='accuracy')\r\n",
        "scores = np.array(scores)\r\n",
        "print('Score_mean:', np.mean(scores))\r\n",
        "print('Score_sdt:', np.std(scores))"
      ],
      "execution_count": null,
      "outputs": [
        {
          "output_type": "stream",
          "text": [
            "Score_mean: 0.8008182052826293\n",
            "Score_sdt: 0.016400645017779724\n"
          ],
          "name": "stdout"
        }
      ]
    },
    {
      "cell_type": "markdown",
      "metadata": {
        "id": "Kf4XX4xZXddQ"
      },
      "source": [
        "## Random forest classifier with cross-validation"
      ]
    },
    {
      "cell_type": "code",
      "metadata": {
        "colab": {
          "base_uri": "https://localhost:8080/"
        },
        "id": "wR9zwGU1XsXC",
        "outputId": "f8fc7d29-b761-4999-926c-87c1685aa897"
      },
      "source": [
        "#10- fold cross-validation with the random forrest classifier\r\n",
        "scores_lrcv =cross_val_score(RandomForestClassifier(), X_tdf_vec, y, cv=10, scoring='accuracy')\r\n",
        "scores_lrcv = np.array(scores_lrcv)\r\n",
        "print('Score_mean:', np.mean(scores_lrcv))\r\n",
        "print('Score_sdt:', np.std(scores_lrcv))"
      ],
      "execution_count": null,
      "outputs": [
        {
          "output_type": "stream",
          "text": [
            "Score_mean: 0.7806601852648485\n",
            "Score_sdt: 0.019873883976715696\n"
          ],
          "name": "stdout"
        }
      ]
    },
    {
      "cell_type": "markdown",
      "metadata": {
        "id": "iQfAiFlPXu_c"
      },
      "source": [
        "## kkn model with cross-validation"
      ]
    },
    {
      "cell_type": "code",
      "metadata": {
        "colab": {
          "base_uri": "https://localhost:8080/"
        },
        "id": "PDkzlIseYF6N",
        "outputId": "65e862e4-bf83-4310-c194-5184ab8671b0"
      },
      "source": [
        "# 10-fold cross-vaidation KNN model k=15\r\n",
        "knn = KNeighborsClassifier(n_neighbors=27)\r\n",
        "scores_knn =cross_val_score(knn, X_tdf_vec, y, cv=10, scoring='accuracy')\r\n",
        "scores_knn =np.array(scores_knn)\r\n",
        "print('Score_mean:', np.mean(scores_knn))\r\n",
        "print('Score_std:',  np.std(scores_knn))"
      ],
      "execution_count": null,
      "outputs": [
        {
          "output_type": "stream",
          "text": [
            "Score_mean: 0.7828630015199747\n",
            "Score_std: 0.02609134918751732\n"
          ],
          "name": "stdout"
        }
      ]
    },
    {
      "cell_type": "code",
      "metadata": {
        "id": "jD7BZcYBYMm4"
      },
      "source": [
        "# search for an optimal value of K for KNN\r\n",
        "\r\n",
        "# range of k we want to try\r\n",
        "k_range = range(1, 31)\r\n",
        "# empty list to store scores\r\n",
        "k_scores = []\r\n",
        "\r\n",
        "# 1. we will loop through reasonable values of k\r\n",
        "for k in k_range:\r\n",
        "    # 2. run KNeighborsClassifier with k neighbours\r\n",
        "    knn = KNeighborsClassifier(n_neighbors=k)\r\n",
        "    # 3. obtain cross_val_score for KNeighborsClassifier with k neighbours\r\n",
        "    scores= cross_val_score(knn, X_tdf_vec, y, cv=10, scoring='accuracy')\r\n",
        "    # 4. append mean of scores for k neighbors to k_scores list\r\n",
        "    k_scores.append(scores.mean())"
      ],
      "execution_count": null,
      "outputs": []
    },
    {
      "cell_type": "code",
      "metadata": {
        "colab": {
          "base_uri": "https://localhost:8080/",
          "height": 297
        },
        "id": "ymKBG9qcYO8s",
        "outputId": "e26234ff-297e-4a6b-ee9b-9efbad640bd5"
      },
      "source": [
        "%matplotlib inline\r\n",
        "# Plot how accuracy changes as we vary k\r\n",
        "plt.style.use('dark_background')\r\n",
        "plt.plot(k_range, k_scores)\r\n",
        "plt.xlabel('Value of K for KNN')\r\n",
        "plt.ylabel('Cross-validated accuracy')"
      ],
      "execution_count": null,
      "outputs": [
        {
          "output_type": "execute_result",
          "data": {
            "text/plain": [
              "Text(0, 0.5, 'Cross-validated accuracy')"
            ]
          },
          "metadata": {
            "tags": []
          },
          "execution_count": 113
        },
        {
          "output_type": "display_data",
          "data": {
            "image/png": "[encoded data removed]",
            "text/plain": [
              "<Figure size 432x288 with 1 Axes>"
            ]
          },
          "metadata": {
            "tags": []
          }
        }
      ]
    },
    {
      "cell_type": "markdown",
      "metadata": {
        "id": "vugmQCuxYdap"
      },
      "source": [
        "# Optimizing the logistic regression 🔧\r\n",
        "\r\n",
        "From the model selection we have decided to focus on Logistic regression, which has performed the best accurancy, and try to improve the accuracy by selecting best parameters. \r\n",
        "\r\n",
        "In order to achieve a better result we proceed as follow: \r\n",
        "\r\n",
        "- Exploration of Logistic regression parameters\r\n",
        "- Optimize logistic regression parameters with gridSearchCV \r\n",
        "- Standardization and PCA"
      ]
    },
    {
      "cell_type": "markdown",
      "metadata": {
        "id": "PSJFDYFnZD01"
      },
      "source": [
        "## Exploration of Logistic regression parameters\r\n",
        "\r\n",
        "We are going to do this analysis in order to see how accuracy could improve by changing the LogisticRegression parameters. This is only an explanatory analysis, we will do the optimization of the parameters at the end using GridsearchCV"
      ]
    },
    {
      "cell_type": "code",
      "metadata": {
        "id": "6uj2mKNAaKSO"
      },
      "source": [
        "LR = LogisticRegression(solver=\"lbfgs\", max_iter=1000, random_state=72)"
      ],
      "execution_count": null,
      "outputs": []
    },
    {
      "cell_type": "markdown",
      "metadata": {
        "id": "6kNVo4zoaPRq"
      },
      "source": [
        "* Parameter Solver "
      ]
    },
    {
      "cell_type": "code",
      "metadata": {
        "id": "3KJRBLxOa6hv"
      },
      "source": [
        "# search for an optimal solver \r\n",
        "\r\n",
        "# Type of solver we want to try \r\n",
        "solvers= ['lbfgs', 'saga', 'sag', 'liblinear', 'newton-cg'] \r\n",
        "# empty list to store scores\r\n",
        "solver_scores = []\r\n",
        "\r\n",
        "# 1. we will loop through type of solver \r\n",
        "for k in solvers:\r\n",
        "    # 2. run logistic Regression  with k solver\r\n",
        "    LR = LogisticRegression(solver=k)\r\n",
        "    # 3. obtain cross_val_score for Logistic Regression  with k Solver\r\n",
        "    scores= cross_val_score(LR, X_tdf_vec, y, cv=10, scoring='accuracy')\r\n",
        "    # 4. append mean of scores for k solver to solver_scores list\r\n",
        "    solver_scores.append(scores.mean())"
      ],
      "execution_count": null,
      "outputs": []
    },
    {
      "cell_type": "code",
      "metadata": {
        "colab": {
          "base_uri": "https://localhost:8080/",
          "height": 313
        },
        "id": "iXf_j-Toa-p-",
        "outputId": "8ae6c457-66e6-46b8-921b-5a7fe1590c9b"
      },
      "source": [
        "plt.style.use('dark_background')\r\n",
        "plt.title('Evolution of score by changing solver')\r\n",
        "plt.plot(solvers, solver_scores)\r\n",
        "plt.xlabel('solver')\r\n",
        "plt.ylabel('Score')"
      ],
      "execution_count": null,
      "outputs": [
        {
          "output_type": "execute_result",
          "data": {
            "text/plain": [
              "Text(0, 0.5, 'Score')"
            ]
          },
          "metadata": {
            "tags": []
          },
          "execution_count": 115
        },
        {
          "output_type": "display_data",
          "data": {
            "image/png": "[encoded data removed]",
            "text/plain": [
              "<Figure size 432x288 with 1 Axes>"
            ]
          },
          "metadata": {
            "tags": []
          }
        }
      ]
    },
    {
      "cell_type": "markdown",
      "metadata": {
        "id": "A_jVOMIybHiw"
      },
      "source": [
        "* Parameter C"
      ]
    },
    {
      "cell_type": "code",
      "metadata": {
        "id": "aISRtf4YbSpq"
      },
      "source": [
        "#search for optimal C parameter \r\n",
        "C_param = [1.0, 1.5, 1.8, 1.9, 2.0, 2.1, 2.2, 2.3, 2.4, 2.5, 2.6, 2.8, 2.9, 3.0]\r\n",
        "C_score= []\r\n",
        "# 1. we will loop through reasonable values of C\r\n",
        "for k in C_param:\r\n",
        "    # 2. run LogisticRegression  with value of C=k\r\n",
        "    LR = LogisticRegression(solver='lbfgs', max_iter=1000, random_state=72, C=k)\r\n",
        "    # 3. obtain cross_val_score for LogisticRegression with value of C=k \r\n",
        "    scores_C= cross_val_score(LR, X_tdf_vec, y, cv=10, scoring='accuracy')\r\n",
        "    # 4. append mean of scores for C=k to C_score list\r\n",
        "    C_score.append(scores_C.mean())"
      ],
      "execution_count": null,
      "outputs": []
    },
    {
      "cell_type": "code",
      "metadata": {
        "colab": {
          "base_uri": "https://localhost:8080/",
          "height": 313
        },
        "id": "1xnPz1QwbZe-",
        "outputId": "45e8ccf5-8566-4c44-c733-e70c6253ba5d"
      },
      "source": [
        "# Plot\r\n",
        "C_param_d = pd.DataFrame(C_param)\r\n",
        "C_score_d = pd.DataFrame(C_score)\r\n",
        "C_param_d['score'] = C_score_d\r\n",
        "plt.style.use('dark_background')\r\n",
        "plt.title('Evolution of score by changing C parameters')\r\n",
        "plt.plot(C_param, C_score)\r\n",
        "plt.xlabel('Value of C')\r\n",
        "plt.ylabel('Score')"
      ],
      "execution_count": null,
      "outputs": [
        {
          "output_type": "execute_result",
          "data": {
            "text/plain": [
              "Text(0, 0.5, 'Score')"
            ]
          },
          "metadata": {
            "tags": []
          },
          "execution_count": 117
        },
        {
          "output_type": "display_data",
          "data": {
            "image/png": "[encoded data removed]",
            "text/plain": [
              "<Figure size 432x288 with 1 Axes>"
            ]
          },
          "metadata": {
            "tags": []
          }
        }
      ]
    },
    {
      "cell_type": "markdown",
      "metadata": {
        "id": "8Trd0kbkbdw0"
      },
      "source": [
        "* Parameter max_iteration"
      ]
    },
    {
      "cell_type": "code",
      "metadata": {
        "id": "N9O4KhHxbvtY"
      },
      "source": [
        "#search for optimal max_iter\r\n",
        "# range of k we want to try\r\n",
        "# empty list to store scores\r\n",
        "max_iter = [100, 200, 500, 1000, 2000]\r\n",
        "max_iter_score= []\r\n",
        "# 1. we will loop through reasonable values of max_iter\r\n",
        "for k in max_iter:\r\n",
        "    # 2. run LogisticRegression with max_iter=k\r\n",
        "    LR = LogisticRegression(solver='lbfgs', max_iter=k, random_state=72, C=2.6)\r\n",
        "    # 3. obtain cross_val_score for LogisticRegression with max_iter= k\r\n",
        "    scores_iter= cross_val_score(LR, X_tdf_vec, y, cv=10, scoring='accuracy')\r\n",
        "    # 4. append mean of scores for max_iter=k\r\n",
        "    max_iter_score.append(scores_iter.mean())"
      ],
      "execution_count": null,
      "outputs": []
    },
    {
      "cell_type": "code",
      "metadata": {
        "colab": {
          "base_uri": "https://localhost:8080/",
          "height": 314
        },
        "id": "ZD0l2Lf2b579",
        "outputId": "da1321e5-7b82-45db-af5c-ad0e1d0f4ef5"
      },
      "source": [
        "#Plot\r\n",
        "plt.style.use('dark_background')\r\n",
        "plt.title('Evolution of score by changing max_iter parameters')\r\n",
        "plt.plot(max_iter, max_iter_score)\r\n",
        "plt.xlabel('max_iter')\r\n",
        "plt.ylabel('Score')"
      ],
      "execution_count": null,
      "outputs": [
        {
          "output_type": "execute_result",
          "data": {
            "text/plain": [
              "Text(0, 0.5, 'Score')"
            ]
          },
          "metadata": {
            "tags": []
          },
          "execution_count": 119
        },
        {
          "output_type": "display_data",
          "data": {
            "image/png": "[encoded data removed]",
            "text/plain": [
              "<Figure size 432x288 with 1 Axes>"
            ]
          },
          "metadata": {
            "tags": []
          }
        }
      ]
    },
    {
      "cell_type": "markdown",
      "metadata": {
        "id": "_Y6JxG_7cPVy"
      },
      "source": [
        "## Optimize logistic regression parameters with gridSearchCV \r\n",
        "\r\n",
        "The above logistic regression was run with the default parameters. In this chapter we are trying to improve the accurancy by tuning the hyperparameters using the \"GridSearch\" method. \r\n",
        "We run the logistic regression using the TF-IDF vectorizer with the optimized parameters. \r\n"
      ]
    },
    {
      "cell_type": "code",
      "metadata": {
        "id": "BDgQmKjPdQeH"
      },
      "source": [
        "from sklearn.feature_extraction.text import TfidfVectorizer\r\n",
        "from sklearn.preprocessing import MinMaxScaler\r\n",
        "from sklearn import linear_model, datasets\r\n",
        "from sklearn.model_selection import GridSearchCV\r\n",
        "\r\n",
        "# Define vectorizer - use above cleaning function\r\n",
        "tfidf_vector = TfidfVectorizer(tokenizer=spacy_tokenizer, ngram_range=(3, 4), min_df=1, max_df=1.0, analyzer='char')\r\n",
        "\r\n",
        "# define features \r\n",
        "X = df_train['text']\r\n",
        "y = df_train['target']\r\n",
        "\r\n",
        "# Train test split\r\n",
        "X_train, X_test, y_train, y_test = train_test_split(X, y, test_size=0.2, random_state=0)\r\n",
        "\r\n",
        "# Fit and transform X_train and X_test\r\n",
        "X_train_vec = tfidf_vector.fit_transform(X_train)\r\n",
        "X_test_vec = tfidf_vector.transform(X_test)"
      ],
      "execution_count": 44,
      "outputs": []
    },
    {
      "cell_type": "code",
      "metadata": {
        "id": "ZL8XrXereBWT"
      },
      "source": [
        "# Gridsearch Logistic regression\r\n",
        "parameters = dict({'solver': ['lbfgs', 'saga', 'liblinear'], 'C':[1, 10]})\r\n",
        "LR =linear_model.LogisticRegression(max_iter=1000, random_state=72)\r\n",
        "\r\n",
        "clf = GridSearchCV(\r\n",
        "    LR, parameters, scoring='accuracy'\r\n",
        "    )\r\n",
        "best_model = clf.fit(X_train_vec, y_train)"
      ],
      "execution_count": 45,
      "outputs": []
    },
    {
      "cell_type": "markdown",
      "metadata": {
        "id": "UGOb2HfueY7c"
      },
      "source": [
        "* Accuracy"
      ]
    },
    {
      "cell_type": "code",
      "metadata": {
        "colab": {
          "base_uri": "https://localhost:8080/"
        },
        "id": "nBVCUrptecWo",
        "outputId": "4936dfcd-211b-4d24-e6c9-4479a8190196"
      },
      "source": [
        "#Accuracy of the train data\r\n",
        "y_pred_train_vec = best_model.predict(X_train_vec)\r\n",
        "print(f\"TRAIN ACCURACY SCORE:\\n{accuracy_score(y_train, y_pred_train_vec):.4f}\")\r\n",
        "print(f\"CONFUSION MATRIX:\\n{confusion_matrix(y_train, y_pred_train_vec)}\")"
      ],
      "execution_count": 46,
      "outputs": [
        {
          "output_type": "stream",
          "text": [
            "TRAIN ACCURACY SCORE:\n",
            "0.8892\n",
            "CONFUSION MATRIX:\n",
            "[[2829   95]\n",
            " [ 471 1714]]\n"
          ],
          "name": "stdout"
        }
      ]
    },
    {
      "cell_type": "code",
      "metadata": {
        "colab": {
          "base_uri": "https://localhost:8080/"
        },
        "id": "UD6choAAehEH",
        "outputId": "b313c59f-52bc-4a36-baa1-7a28fdc48f2b"
      },
      "source": [
        "y_pred_test_vec = best_model.predict(X_test_vec)\r\n",
        "print(f\"TEST ACCURACY SCORE:\\n{accuracy_score(y_test, y_pred_test_vec):.4f}\")\r\n",
        "print(f\"CONFUSION MATRIX:\\n{confusion_matrix(y_test, y_pred_test_vec)}\")"
      ],
      "execution_count": 47,
      "outputs": [
        {
          "output_type": "stream",
          "text": [
            "TEST ACCURACY SCORE:\n",
            "0.8122\n",
            "CONFUSION MATRIX:\n",
            "[[685  67]\n",
            " [173 353]]\n"
          ],
          "name": "stdout"
        }
      ]
    },
    {
      "cell_type": "markdown",
      "metadata": {
        "id": "jpAuFNinen6_"
      },
      "source": [
        "## Standardizing and PCA\r\n",
        "\r\n",
        "To reduce some dimensionality in order to improve the speed of our model as well as our test accuracy, we tried standardizing the logistic regression and with PCA."
      ]
    },
    {
      "cell_type": "code",
      "metadata": {
        "id": "hrRp6Qp2fYFT"
      },
      "source": [
        "from sklearn.preprocessing import StandardScaler\r\n",
        "from sklearn.decomposition import PCA\r\n",
        "import time"
      ],
      "execution_count": 34,
      "outputs": []
    },
    {
      "cell_type": "code",
      "metadata": {
        "colab": {
          "base_uri": "https://localhost:8080/"
        },
        "id": "t4QXxWHQfqIS",
        "outputId": "64625fe0-0957-41f7-a161-6c227d85a190"
      },
      "source": [
        "# Vectorize the text\r\n",
        "from sklearn.feature_extraction.text import TfidfVectorizer\r\n",
        "\r\n",
        "# Define vectorizer - use above cleaning function\r\n",
        "tfidf_vector = TfidfVectorizer(tokenizer=spacy_tokenizer, ngram_range=(3, 4), min_df=1, max_df=1.0, analyzer='char')\r\n",
        "\r\n",
        "# Fit and transform X_train and X_test\r\n",
        "X_train_vec = tfidf_vector.fit_transform(X_train).toarray()\r\n",
        "X_test_vec = tfidf_vector.fit_transform(X_test).toarray()\r\n",
        "print(X_train_vec.shape)\r\n",
        "print(X_train_vec)\r\n",
        "print(X_test_vec.shape)"
      ],
      "execution_count": 35,
      "outputs": [
        {
          "output_type": "stream",
          "text": [
            "(5109, 58655)\n",
            "[[0. 0. 0. ... 0. 0. 0.]\n",
            " [0. 0. 0. ... 0. 0. 0.]\n",
            " [0. 0. 0. ... 0. 0. 0.]\n",
            " ...\n",
            " [0. 0. 0. ... 0. 0. 0.]\n",
            " [0. 0. 0. ... 0. 0. 0.]\n",
            " [0. 0. 0. ... 0. 0. 0.]]\n",
            "(1278, 30401)\n"
          ],
          "name": "stdout"
        }
      ]
    },
    {
      "cell_type": "code",
      "metadata": {
        "colab": {
          "base_uri": "https://localhost:8080/"
        },
        "id": "KMmWkEu6gNXg",
        "outputId": "44f13699-5a2c-4471-9d4f-e69547588fc3"
      },
      "source": [
        "# logistic regression with standardization\r\n",
        "\r\n",
        "# Define Scaler\r\n",
        "scaler = StandardScaler()\r\n",
        "# Define classifier\r\n",
        "LR = LogisticRegression(solver=\"lbfgs\", max_iter=2000, random_state=72)\r\n",
        "# Define Model\r\n",
        "pipe = Pipeline([('scaler', scaler),\r\n",
        "                 ('logistic reg', LogisticRegression())\r\n",
        "                 ])\r\n",
        "\r\n",
        "# Fit model\r\n",
        "pipe.fit(X_train_vec, y_train)"
      ],
      "execution_count": 36,
      "outputs": [
        {
          "output_type": "stream",
          "text": [
            "/usr/local/lib/python3.6/dist-packages/sklearn/linear_model/_logistic.py:940: ConvergenceWarning: lbfgs failed to converge (status=1):\n",
            "STOP: TOTAL NO. of ITERATIONS REACHED LIMIT.\n",
            "\n",
            "Increase the number of iterations (max_iter) or scale the data as shown in:\n",
            "    https://scikit-learn.org/stable/modules/preprocessing.html\n",
            "Please also refer to the documentation for alternative solver options:\n",
            "    https://scikit-learn.org/stable/modules/linear_model.html#logistic-regression\n",
            "  extra_warning_msg=_LOGISTIC_SOLVER_CONVERGENCE_MSG)\n"
          ],
          "name": "stderr"
        },
        {
          "output_type": "execute_result",
          "data": {
            "text/plain": [
              "Pipeline(memory=None,\n",
              "         steps=[('scaler',\n",
              "                 StandardScaler(copy=True, with_mean=True, with_std=True)),\n",
              "                ('logistic reg',\n",
              "                 LogisticRegression(C=1.0, class_weight=None, dual=False,\n",
              "                                    fit_intercept=True, intercept_scaling=1,\n",
              "                                    l1_ratio=None, max_iter=100,\n",
              "                                    multi_class='auto', n_jobs=None,\n",
              "                                    penalty='l2', random_state=None,\n",
              "                                    solver='lbfgs', tol=0.0001, verbose=0,\n",
              "                                    warm_start=False))],\n",
              "         verbose=False)"
            ]
          },
          "metadata": {
            "tags": []
          },
          "execution_count": 36
        }
      ]
    },
    {
      "cell_type": "markdown",
      "metadata": {
        "id": "rUiX_W0mg4jQ"
      },
      "source": [
        "* Accuracy with standardization"
      ]
    },
    {
      "cell_type": "code",
      "metadata": {
        "colab": {
          "base_uri": "https://localhost:8080/"
        },
        "id": "PsldXjXWgzJg",
        "outputId": "43c31453-ff59-4069-8af7-d4a2fd82cf2b"
      },
      "source": [
        "#Accuracy of the train data\r\n",
        "print('TRAIN ACCURACY SCORE: ', round(pipe.score(X_train_vec, y_train), 4))"
      ],
      "execution_count": 37,
      "outputs": [
        {
          "output_type": "stream",
          "text": [
            "TRAIN ACCURACY SCORE:  0.9926\n"
          ],
          "name": "stdout"
        }
      ]
    },
    {
      "cell_type": "code",
      "metadata": {
        "colab": {
          "base_uri": "https://localhost:8080/"
        },
        "id": "8liyaKDKiR33",
        "outputId": "11fe3588-3e30-44a8-d633-c67a451c65b4"
      },
      "source": [
        "# logistic regression with PCA and standardization\r\n",
        "\r\n",
        "# Define PCA\r\n",
        "pca = PCA(n_components=2000)\r\n",
        "# Define Model\r\n",
        "pipe = Pipeline([\r\n",
        "                 ('scaler', scaler),\r\n",
        "                 ('pca', pca),\r\n",
        "                 ('logistic reg', LR),\r\n",
        "                 ])\r\n",
        "# Fit model\r\n",
        "start = time.time()\r\n",
        "pipe.fit(X_train_vec, y_train)\r\n",
        "end = time.time()\r\n",
        "print('Time: ', round(end-start, 4))"
      ],
      "execution_count": 38,
      "outputs": [
        {
          "output_type": "stream",
          "text": [
            "Time:  501.4809\n"
          ],
          "name": "stdout"
        }
      ]
    },
    {
      "cell_type": "markdown",
      "metadata": {
        "id": "xaIih5ISimaI"
      },
      "source": [
        "* Accuracy with PCA"
      ]
    },
    {
      "cell_type": "code",
      "metadata": {
        "colab": {
          "base_uri": "https://localhost:8080/"
        },
        "id": "9GszTG5WiptC",
        "outputId": "49ac3ce6-73e7-492f-ba31-2c97e2ec241a"
      },
      "source": [
        "print('Train Accuracy: ', round(pipe.score(X_train_vec, y_train), 4))"
      ],
      "execution_count": 39,
      "outputs": [
        {
          "output_type": "stream",
          "text": [
            "Train Accuracy:  0.9916\n"
          ],
          "name": "stdout"
        }
      ]
    },
    {
      "cell_type": "markdown",
      "metadata": {
        "id": "Ddpflceni6SO"
      },
      "source": [
        "# Model with text and keyword column 🎛️\r\n",
        "\r\n",
        "Finally we tried to include the keyword column in our model. For that we created new column called 'Keyword_Text\" where we added the keyword and text in a single column and cleaned that colomn too (see chapters Importing dataframes & Data cleaning).\r\n",
        "\r\n",
        "In this section we try again different models using the optimized parameters."
      ]
    },
    {
      "cell_type": "markdown",
      "metadata": {
        "id": "ws_SSHLRtEBq"
      },
      "source": [
        "## Logistic Regression with cross-validation"
      ]
    },
    {
      "cell_type": "code",
      "metadata": {
        "id": "M20Vk-U5tDrA"
      },
      "source": [
        "# define features \r\n",
        "X = df_train['Text_keyword']\r\n",
        "y = df_train['target']\r\n",
        "# Define vectorizer \r\n",
        "tfidf_vector = TfidfVectorizer(tokenizer=spacy_tokenizer, ngram_range=(3, 4), min_df=1, max_df=1.0, analyzer='char')\r\n",
        "X_tdf_vec = tfidf_vector.fit_transform(X)"
      ],
      "execution_count": null,
      "outputs": []
    },
    {
      "cell_type": "code",
      "metadata": {
        "colab": {
          "base_uri": "https://localhost:8080/"
        },
        "id": "K07i886ejW3b",
        "outputId": "954aa8db-31ce-4c98-c07b-15a46e49fb0c"
      },
      "source": [
        "# 10-fold cross-validation with the logistic regression\r\n",
        "scores =cross_val_score(LogisticRegression(solver=\"lbfgs\", max_iter=1000, random_state=72, C=2.6), X_tdf_vec, y, cv=10, scoring='accuracy')\r\n",
        "scores = np.array(scores)\r\n",
        "print('Score_mean:', np.mean(scores))\r\n",
        "print('Score_sdt:', np.std(scores))"
      ],
      "execution_count": null,
      "outputs": [
        {
          "output_type": "stream",
          "text": [
            "Score_mean: 0.8055910947010896\n",
            "Score_sdt: 0.016166743742947583\n"
          ],
          "name": "stdout"
        }
      ]
    },
    {
      "cell_type": "markdown",
      "metadata": {
        "id": "avKLZlNKtbhw"
      },
      "source": [
        "## Random forest classifier with cross-validation"
      ]
    },
    {
      "cell_type": "code",
      "metadata": {
        "colab": {
          "base_uri": "https://localhost:8080/"
        },
        "id": "Y_raGUr8tn6i",
        "outputId": "5536ece9-8eff-4ca7-e667-613315fdaa3d"
      },
      "source": [
        "#10- fold cross-validation with the random forrest classifier\r\n",
        "scores_lrcv =cross_val_score(RandomForestClassifier(), X_tdf_vec, y, cv=10, scoring='accuracy')\r\n",
        "scores_lrcv = np.array(scores_lrcv)\r\n",
        "print('Score_mean:', np.mean(scores_lrcv))\r\n",
        "print('Score_sdt:', np.std(scores_lrcv))"
      ],
      "execution_count": null,
      "outputs": [
        {
          "output_type": "stream",
          "text": [
            "Score_mean: 0.7822580952926135\n",
            "Score_sdt: 0.01965396825897961\n"
          ],
          "name": "stdout"
        }
      ]
    },
    {
      "cell_type": "markdown",
      "metadata": {
        "id": "N3DPG0tauNQX"
      },
      "source": [
        "## kkn model with cross-validation"
      ]
    },
    {
      "cell_type": "code",
      "metadata": {
        "colab": {
          "base_uri": "https://localhost:8080/"
        },
        "id": "xqOcYy46uMYS",
        "outputId": "2f461795-1343-4960-df76-913ea6368747"
      },
      "source": [
        "# 10-fold cross-vaidation KNN model k=15\r\n",
        "knn = KNeighborsClassifier(n_neighbors=27)\r\n",
        "scores_knn =cross_val_score(knn, X_tdf_vec, y, cv=10, scoring='accuracy')\r\n",
        "scores_knn =np.array(scores_knn)\r\n",
        "print('Score_mean:', np.mean(scores_knn))\r\n",
        "print('Score_std:',  np.std(scores_knn))"
      ],
      "execution_count": null,
      "outputs": [
        {
          "output_type": "stream",
          "text": [
            "Score_mean: 0.7453221897838075\n",
            "Score_std: 0.018493317435066377\n"
          ],
          "name": "stdout"
        }
      ]
    },
    {
      "cell_type": "markdown",
      "metadata": {
        "id": "jSQoWQ-tFLS-"
      },
      "source": [
        "# Submission 👀\r\n",
        "\r\n",
        "This is the code that we use to create the submission. To use it, we can just copy/paste it below the classifier of our choice and rename the .csv file."
      ]
    },
    {
      "cell_type": "code",
      "metadata": {
        "id": "1Mvv_OYyGslf"
      },
      "source": [
        "target_test = pipe.predict(df_test['text'])\r\n",
        "target_test"
      ],
      "execution_count": null,
      "outputs": []
    },
    {
      "cell_type": "code",
      "metadata": {
        "id": "iNhMrUx2GzwW"
      },
      "source": [
        "sample_submission.assign(target = target_test)\r\n",
        "sample_submission.to_csv('submission-n.csv', index=False)"
      ],
      "execution_count": null,
      "outputs": []
    }
  ]
}