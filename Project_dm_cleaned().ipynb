{
  "nbformat": 4,
  "nbformat_minor": 0,
  "metadata": {
    "colab": {
      "name": "Project_dm_cleaned().ipynb",
      "provenance": [],
      "collapsed_sections": [],
      "include_colab_link": true
    },
    "kernelspec": {
      "name": "python3",
      "display_name": "Python 3"
    }
  },
  "cells": [
    {
      "cell_type": "markdown",
      "metadata": {
        "id": "view-in-github",
        "colab_type": "text"
      },
      "source": [
        "<a href=\"https://colab.research.google.com/github/98bao/Migros/blob/main/Project_dm_cleaned().ipynb\" target=\"_parent\"><img src=\"https://colab.research.google.com/assets/colab-badge.svg\" alt=\"Open In Colab\"/></a>"
      ]
    },
    {
      "cell_type": "markdown",
      "metadata": {
        "id": "XrzyRYGbESJu"
      },
      "source": [
        "#DMML2020 - Project\n",
        "![mod-fr-logo.png](data:image/png;base64,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)\n",
        "##Classification problem\n",
        "In this project we analyze the data to know if a tweet is about a real disaster (target = 1) or not (target = 0).\n",
        "\n",
        "\n",
        "In this first iteration we just fit the training data in the Logistic regression and observe the accuracy."
      ]
    },
    {
      "cell_type": "markdown",
      "metadata": {
        "id": "uUSWtQ-Af2Jb"
      },
      "source": [
        ""
      ]
    },
    {
      "cell_type": "markdown",
      "metadata": {
        "id": "tO9MSBRePXde"
      },
      "source": [
        "#Report 📋\n",
        "\n",
        "1) At first we submitted a simple logistic regression without data cleaning which gave us a satisfying accuracy of **0.805** on AICrowd\n",
        "\n",
        "2) We made EDA on our files in order to be more aware about the database and all its characteristic.\n",
        "  \n",
        "3) We cleaned the text by deleting unecessary elements, then applied a logistic regression with cross validation (LRCV). Although the model built on the train data is pretty good, the accuracy on AICrowd got lower: **0.797**\n",
        "\n",
        "4) We came back on the EDA in order to find if there was something we were missing for the data cleaning. On EDA we find out very frequent words which did not give much information for the analysis quite the opposite represented noise. We deleted them from the text and we ran again the Logistic Regression which increares the test accuracy. We kept going making different combinantion of data cleaning in order to see which one gaves the best result. Previously we cleaned all the nummbers of the text but we realized that making this decreases the model test accuracy. Our hypotesis was that numbers such as dates or ages could give usefull information. Otherwise there was others numbers which represented noise but we weren't able to clean only that part.\n",
        "\n",
        "4) We used the Random Forest Classifier (RFC) and its model accuracy seemed very promising (0.97 for the train data) however, whilst submitting to AICrowd we got only a result of **0.77**. It seems like we are missing an important point as our accuracy keeps getting lower. Perhaps our model is overfitting the train data, thus we have to correct our parameters\n",
        "\n",
        "  5) In order to make a good comparison between different model, we realized that was usefull verify every model using cross-validation. We campared four different models and we found out that LogisticRegression was the most accurate for our analysis.\n",
        "\n",
        "  6) We tried to add keywords on the text column because we thought that this would have add additional information. \n",
        "\n",
        " 7) We performed optimized the result using GridsearchCV and we improved the final result at _____."
      ]
    },
    {
      "cell_type": "markdown",
      "metadata": {
        "id": "N4NAEzRJulWP"
      },
      "source": [
        "#Importing useful tools 🧰"
      ]
    },
    {
      "cell_type": "code",
      "metadata": {
        "id": "8uznVfXhudk5"
      },
      "source": [
        "import multiprocessing\n",
        "cores = multiprocessing.cpu_count()"
      ],
      "execution_count": 51,
      "outputs": []
    },
    {
      "cell_type": "code",
      "metadata": {
        "id": "jD-6gZ29AwoF"
      },
      "source": [
        "#clear output\n",
        "%%capture \n",
        "# Install and update spaCy\n",
        "!pip install -U spacy\n",
        "\n",
        "!python -m spacy download en"
      ],
      "execution_count": 2,
      "outputs": []
    },
    {
      "cell_type": "code",
      "metadata": {
        "id": "U6zvOnxtT_-A"
      },
      "source": [
        "import spacy\r\n",
        "from spacy import displacy"
      ],
      "execution_count": 55,
      "outputs": []
    },
    {
      "cell_type": "code",
      "metadata": {
        "id": "C6d2BmSEP_x_"
      },
      "source": [
        "import spacy\r\n",
        "from spacy import displacy"
      ],
      "execution_count": 54,
      "outputs": []
    },
    {
      "cell_type": "code",
      "metadata": {
        "colab": {
          "base_uri": "https://localhost:8080/"
        },
        "id": "TyLj5HdK0vWr",
        "outputId": "14a598ac-5daf-45cf-80cb-aa42937dddd1"
      },
      "source": [
        "!pip install pyspellchecker"
      ],
      "execution_count": 5,
      "outputs": [
        {
          "output_type": "stream",
          "text": [
            "Requirement already satisfied: pyspellchecker in /usr/local/lib/python3.6/dist-packages (0.5.5)\n"
          ],
          "name": "stdout"
        }
      ]
    },
    {
      "cell_type": "code",
      "metadata": {
        "id": "JIExIErC2XEE"
      },
      "source": [
        "from textblob import TextBlob\n"
      ],
      "execution_count": 56,
      "outputs": []
    },
    {
      "cell_type": "code",
      "metadata": {
        "id": "BL8FAIy_D97-"
      },
      "source": [
        "#clear output\n",
        "%%capture \n",
        "\n",
        "#Importing useful extensions\n",
        "import numpy as np\n",
        "import pandas as pd\n",
        "import re\n",
        "\n",
        "from sklearn.feature_extraction.text import CountVectorizer, TfidfVectorizer\n",
        "from sklearn.pipeline import Pipeline\n",
        "\n",
        "import string\n",
        "from spellchecker import SpellChecker\n",
        "\n",
        "from spacy.lang.en.stop_words import STOP_WORDS\n",
        "from spacy.lang.en import English\n",
        "from sklearn.model_selection import train_test_split\n",
        "from sklearn.linear_model import LogisticRegression\n",
        "from sklearn.metrics import confusion_matrix, accuracy_score, precision_score, recall_score, f1_score\n",
        "from sklearn.model_selection import GridSearchCV\n",
        "from sklearn.svm import SVC\n",
        "from gensim.parsing.preprocessing import remove_stopwords\n",
        "import matplotlib.pyplot as plt"
      ],
      "execution_count": 57,
      "outputs": []
    },
    {
      "cell_type": "markdown",
      "metadata": {
        "id": "Rs646BIHutyE"
      },
      "source": [
        "#Importing the project dataframes in the notebook 📚\n",
        "In the following cells, we import some raw dataframes that we are going to use for the project"
      ]
    },
    {
      "cell_type": "code",
      "metadata": {
        "id": "-SI2JEC6p6MW",
        "colab": {
          "base_uri": "https://localhost:8080/",
          "height": 204
        },
        "outputId": "856c4f4e-ec78-4755-a4cd-d8347194045f"
      },
      "source": [
        "#Reading the dataframe to build our model\n",
        "df_train = pd.read_csv(\"https://raw.githubusercontent.com/98bao/Migros/main/data/training_data.csv\")\n",
        "df_train.head(5)"
      ],
      "execution_count": 58,
      "outputs": [
        {
          "output_type": "execute_result",
          "data": {
            "text/html": [
              "<div>\n",
              "<style scoped>\n",
              "    .dataframe tbody tr th:only-of-type {\n",
              "        vertical-align: middle;\n",
              "    }\n",
              "\n",
              "    .dataframe tbody tr th {\n",
              "        vertical-align: top;\n",
              "    }\n",
              "\n",
              "    .dataframe thead th {\n",
              "        text-align: right;\n",
              "    }\n",
              "</style>\n",
              "<table border=\"1\" class=\"dataframe\">\n",
              "  <thead>\n",
              "    <tr style=\"text-align: right;\">\n",
              "      <th></th>\n",
              "      <th>id</th>\n",
              "      <th>keyword</th>\n",
              "      <th>location</th>\n",
              "      <th>text</th>\n",
              "      <th>target</th>\n",
              "    </tr>\n",
              "  </thead>\n",
              "  <tbody>\n",
              "    <tr>\n",
              "      <th>0</th>\n",
              "      <td>3738</td>\n",
              "      <td>destroyed</td>\n",
              "      <td>USA</td>\n",
              "      <td>Black Eye 9: A space battle occurred at Star O...</td>\n",
              "      <td>0</td>\n",
              "    </tr>\n",
              "    <tr>\n",
              "      <th>1</th>\n",
              "      <td>853</td>\n",
              "      <td>bioterror</td>\n",
              "      <td>NaN</td>\n",
              "      <td>#world FedEx no longer to transport bioterror ...</td>\n",
              "      <td>0</td>\n",
              "    </tr>\n",
              "    <tr>\n",
              "      <th>2</th>\n",
              "      <td>10540</td>\n",
              "      <td>windstorm</td>\n",
              "      <td>Palm Beach County, FL</td>\n",
              "      <td>Reality Training: Train falls off elevated tra...</td>\n",
              "      <td>1</td>\n",
              "    </tr>\n",
              "    <tr>\n",
              "      <th>3</th>\n",
              "      <td>5988</td>\n",
              "      <td>hazardous</td>\n",
              "      <td>USA</td>\n",
              "      <td>#Taiwan Grace: expect that large rocks trees m...</td>\n",
              "      <td>1</td>\n",
              "    </tr>\n",
              "    <tr>\n",
              "      <th>4</th>\n",
              "      <td>6328</td>\n",
              "      <td>hostage</td>\n",
              "      <td>Australia</td>\n",
              "      <td>New ISIS Video: ISIS Threatens to Behead Croat...</td>\n",
              "      <td>1</td>\n",
              "    </tr>\n",
              "  </tbody>\n",
              "</table>\n",
              "</div>"
            ],
            "text/plain": [
              "      id    keyword  ...                                               text target\n",
              "0   3738  destroyed  ...  Black Eye 9: A space battle occurred at Star O...      0\n",
              "1    853  bioterror  ...  #world FedEx no longer to transport bioterror ...      0\n",
              "2  10540  windstorm  ...  Reality Training: Train falls off elevated tra...      1\n",
              "3   5988  hazardous  ...  #Taiwan Grace: expect that large rocks trees m...      1\n",
              "4   6328    hostage  ...  New ISIS Video: ISIS Threatens to Behead Croat...      1\n",
              "\n",
              "[5 rows x 5 columns]"
            ]
          },
          "metadata": {
            "tags": []
          },
          "execution_count": 58
        }
      ]
    },
    {
      "cell_type": "code",
      "metadata": {
        "id": "WKe5CpOADsUu",
        "colab": {
          "base_uri": "https://localhost:8080/",
          "height": 235
        },
        "outputId": "310bce58-282b-4c40-f709-bfec123ce48b"
      },
      "source": [
        "#Reading dataframe which is going to be tested\n",
        "df_test = pd.read_csv(\"https://raw.githubusercontent.com/98bao/Migros/main/data/test_data.csv\")\n",
        "df_test.head(6)"
      ],
      "execution_count": 59,
      "outputs": [
        {
          "output_type": "execute_result",
          "data": {
            "text/html": [
              "<div>\n",
              "<style scoped>\n",
              "    .dataframe tbody tr th:only-of-type {\n",
              "        vertical-align: middle;\n",
              "    }\n",
              "\n",
              "    .dataframe tbody tr th {\n",
              "        vertical-align: top;\n",
              "    }\n",
              "\n",
              "    .dataframe thead th {\n",
              "        text-align: right;\n",
              "    }\n",
              "</style>\n",
              "<table border=\"1\" class=\"dataframe\">\n",
              "  <thead>\n",
              "    <tr style=\"text-align: right;\">\n",
              "      <th></th>\n",
              "      <th>id</th>\n",
              "      <th>keyword</th>\n",
              "      <th>location</th>\n",
              "      <th>text</th>\n",
              "    </tr>\n",
              "  </thead>\n",
              "  <tbody>\n",
              "    <tr>\n",
              "      <th>0</th>\n",
              "      <td>9972</td>\n",
              "      <td>tsunami</td>\n",
              "      <td>NaN</td>\n",
              "      <td>Crptotech tsunami and banks.\\n http://t.co/KHz...</td>\n",
              "    </tr>\n",
              "    <tr>\n",
              "      <th>1</th>\n",
              "      <td>9865</td>\n",
              "      <td>traumatised</td>\n",
              "      <td>Portsmouth, UK</td>\n",
              "      <td>I'm that traumatised that I can't even spell p...</td>\n",
              "    </tr>\n",
              "    <tr>\n",
              "      <th>2</th>\n",
              "      <td>1937</td>\n",
              "      <td>burning%20buildings</td>\n",
              "      <td>NaN</td>\n",
              "      <td>@foxnewsvideo @AIIAmericanGirI @ANHQDC So ... ...</td>\n",
              "    </tr>\n",
              "    <tr>\n",
              "      <th>3</th>\n",
              "      <td>3560</td>\n",
              "      <td>desolate</td>\n",
              "      <td>NaN</td>\n",
              "      <td>Me watching Law &amp;amp; Order (IB: @sauldale305)...</td>\n",
              "    </tr>\n",
              "    <tr>\n",
              "      <th>4</th>\n",
              "      <td>2731</td>\n",
              "      <td>crushed</td>\n",
              "      <td>bahstun/porta reeko</td>\n",
              "      <td>Papi absolutely crushed that ball</td>\n",
              "    </tr>\n",
              "    <tr>\n",
              "      <th>5</th>\n",
              "      <td>10020</td>\n",
              "      <td>twister</td>\n",
              "      <td>NaN</td>\n",
              "      <td>Brain twister let drop up telly structuring ca...</td>\n",
              "    </tr>\n",
              "  </tbody>\n",
              "</table>\n",
              "</div>"
            ],
            "text/plain": [
              "      id  ...                                               text\n",
              "0   9972  ...  Crptotech tsunami and banks.\\n http://t.co/KHz...\n",
              "1   9865  ...  I'm that traumatised that I can't even spell p...\n",
              "2   1937  ...  @foxnewsvideo @AIIAmericanGirI @ANHQDC So ... ...\n",
              "3   3560  ...  Me watching Law &amp; Order (IB: @sauldale305)...\n",
              "4   2731  ...                  Papi absolutely crushed that ball\n",
              "5  10020  ...  Brain twister let drop up telly structuring ca...\n",
              "\n",
              "[6 rows x 4 columns]"
            ]
          },
          "metadata": {
            "tags": []
          },
          "execution_count": 59
        }
      ]
    },
    {
      "cell_type": "code",
      "metadata": {
        "id": "GPXIETd0XWep"
      },
      "source": [
        "#Reading the sample submission\n",
        "sample_submission = pd.read_csv(\"https://raw.githubusercontent.com/98bao/Migros/main/data/sample_submission.csv\")"
      ],
      "execution_count": 61,
      "outputs": []
    },
    {
      "cell_type": "markdown",
      "metadata": {
        "id": "7VsqXyB2Rt_R"
      },
      "source": [
        "#Exploratory data analysis 🕵️\n",
        "\n",
        "1. Data base description   \n",
        "2. Base Rate \n",
        "3. Location Exploration \n",
        "4. Text exploration \n",
        "5. Keywords exploration\n"
      ]
    },
    {
      "cell_type": "markdown",
      "metadata": {
        "id": "cKm98uf126-e"
      },
      "source": [
        "####1.Data description "
      ]
    },
    {
      "cell_type": "code",
      "metadata": {
        "colab": {
          "base_uri": "https://localhost:8080/"
        },
        "id": "5fB9Tvtt24uk",
        "outputId": "080f2bea-8fb0-496f-ab1b-3b2c44b001c4"
      },
      "source": [
        "#shape of data \r\n",
        "print(\"Shape of data:\", df_train.shape)\r\n",
        "print (\"Number of Rows:\", df_train.shape[0])\r\n",
        "print (\"Number of Columns\", df_train.shape[1])"
      ],
      "execution_count": 62,
      "outputs": [
        {
          "output_type": "stream",
          "text": [
            "Shape of data: (6471, 5)\n",
            "Number of Rows: 6471\n",
            "Number of Columns 5\n"
          ],
          "name": "stdout"
        }
      ]
    },
    {
      "cell_type": "code",
      "metadata": {
        "colab": {
          "base_uri": "https://localhost:8080/"
        },
        "id": "xfCBdERl3H-J",
        "outputId": "b048e8d1-1cfd-45e2-98e5-d27b25ba656f"
      },
      "source": [
        "# Name of columns\r\n",
        "df_train.columns"
      ],
      "execution_count": 12,
      "outputs": [
        {
          "output_type": "execute_result",
          "data": {
            "text/plain": [
              "Index(['id', 'keyword', 'location', 'text', 'target'], dtype='object')"
            ]
          },
          "metadata": {
            "tags": []
          },
          "execution_count": 12
        }
      ]
    },
    {
      "cell_type": "code",
      "metadata": {
        "colab": {
          "base_uri": "https://localhost:8080/"
        },
        "id": "Hf2x20Gr3Lvn",
        "outputId": "d3290e4a-802d-4179-a2dc-d1abb5204ac4"
      },
      "source": [
        "#Info \r\n",
        "df_train.info()"
      ],
      "execution_count": 164,
      "outputs": [
        {
          "output_type": "stream",
          "text": [
            "<class 'pandas.core.frame.DataFrame'>\n",
            "RangeIndex: 6471 entries, 0 to 6470\n",
            "Data columns (total 6 columns):\n",
            " #   Column         Non-Null Count  Dtype \n",
            "---  ------         --------------  ----- \n",
            " 0   id             6471 non-null   int64 \n",
            " 1   keyword        6416 non-null   object\n",
            " 2   location       4330 non-null   object\n",
            " 3   text           6471 non-null   object\n",
            " 4   target         6471 non-null   int64 \n",
            " 5   Text_keywords  6471 non-null   object\n",
            "dtypes: int64(2), object(4)\n",
            "memory usage: 303.5+ KB\n"
          ],
          "name": "stdout"
        }
      ]
    },
    {
      "cell_type": "code",
      "metadata": {
        "colab": {
          "base_uri": "https://localhost:8080/"
        },
        "id": "v-7wmJlD3P8f",
        "outputId": "493468d4-c9c3-4f5c-fc10-7e4338b5bfb0"
      },
      "source": [
        "# Sample train_set and test_set\r\n",
        "print(\"Train set sample:\", df_train['text'].sample().values[0])\r\n",
        "print(\"Test set sample:\", df_test['text'].sample().values[0])"
      ],
      "execution_count": 127,
      "outputs": [
        {
          "output_type": "stream",
          "text": [
            "Train set sample: enjoy the impending landslide todd. hehe.\n",
            "Test set sample: inws alert spsgsp from 8/5/2015 10:40 pm to 11:15 pm edt for pickens county: strong thunderstorm will impact... \n"
          ],
          "name": "stdout"
        }
      ]
    },
    {
      "cell_type": "code",
      "metadata": {
        "colab": {
          "base_uri": "https://localhost:8080/"
        },
        "id": "eKTvcgVq3VMa",
        "outputId": "c724d11e-18c9-4266-fca0-a71162218619"
      },
      "source": [
        "# Null values \r\n",
        "df_train.isnull().sum()"
      ],
      "execution_count": 13,
      "outputs": [
        {
          "output_type": "execute_result",
          "data": {
            "text/plain": [
              "id             0\n",
              "keyword       55\n",
              "location    2141\n",
              "text           0\n",
              "target         0\n",
              "dtype: int64"
            ]
          },
          "metadata": {
            "tags": []
          },
          "execution_count": 13
        }
      ]
    },
    {
      "cell_type": "markdown",
      "metadata": {
        "id": "IQNMU60cLMIN"
      },
      "source": [
        "####2. Base rate\n",
        "This indicate how often the most common value appears in the dataframe. We have to obtain an accuracy that is superior to the base rate to say that our classifier is well made."
      ]
    },
    {
      "cell_type": "code",
      "metadata": {
        "id": "x6A5qZLX3a6L",
        "colab": {
          "base_uri": "https://localhost:8080/"
        },
        "outputId": "dc7b6642-8f18-4a94-9e01-e7266f0bd9c6"
      },
      "source": [
        "# Number of tweets in df_train  that support or not a real disaster \r\n",
        "Tweets_support = len(df_train[df_train['target'] == 1])\r\n",
        "Tweets_does_not_support = len(df_train[df_train['target'] == 0])\r\n",
        "print(\"Number of tweets that does not support a real disaster : \", Tweets_does_not_support)\r\n",
        "print(\"Number of tweets that support a real disaster:\", Tweets_support)"
      ],
      "execution_count": 63,
      "outputs": [
        {
          "output_type": "stream",
          "text": [
            "Number of tweets that does not support a real disaster :  3701\n",
            "Number of tweets that support a real disaster: 2770\n"
          ],
          "name": "stdout"
        }
      ]
    },
    {
      "cell_type": "code",
      "metadata": {
        "id": "xwbEL3b8GFtO",
        "colab": {
          "base_uri": "https://localhost:8080/"
        },
        "outputId": "6582e348-e970-4478-c677-2979c30a4592"
      },
      "source": [
        "#Base rate of the train df\n",
        "r = df_train['target'].value_counts() /len(df_train) \n",
        "print(\"Base rate =\", max(r))"
      ],
      "execution_count": 15,
      "outputs": [
        {
          "output_type": "stream",
          "text": [
            "Base rate = 0.5719363313243703\n"
          ],
          "name": "stdout"
        }
      ]
    },
    {
      "cell_type": "markdown",
      "metadata": {
        "id": "fi-5i-9N34os"
      },
      "source": [
        "####3. Location "
      ]
    },
    {
      "cell_type": "code",
      "metadata": {
        "colab": {
          "base_uri": "https://localhost:8080/"
        },
        "id": "5MrFFGBsTTgn",
        "outputId": "67ed7e67-2130-4503-b451-d78f99b41772"
      },
      "source": [
        "df_train['location']"
      ],
      "execution_count": 16,
      "outputs": [
        {
          "output_type": "execute_result",
          "data": {
            "text/plain": [
              "0                         USA\n",
              "1                         NaN\n",
              "2       Palm Beach County, FL\n",
              "3                         USA\n",
              "4                  Australia \n",
              "                ...          \n",
              "6466                ARGENTINA\n",
              "6467                      NaN\n",
              "6468                      NaN\n",
              "6469           Beirut/Toronto\n",
              "6470                      NaN\n",
              "Name: location, Length: 6471, dtype: object"
            ]
          },
          "metadata": {
            "tags": []
          },
          "execution_count": 16
        }
      ]
    },
    {
      "cell_type": "code",
      "metadata": {
        "colab": {
          "base_uri": "https://localhost:8080/"
        },
        "id": "dQrY14Go8pZM",
        "outputId": "01a707e4-c06b-41e8-d4f5-92c2fddae734"
      },
      "source": [
        "len(df_train['location'])"
      ],
      "execution_count": 17,
      "outputs": [
        {
          "output_type": "execute_result",
          "data": {
            "text/plain": [
              "6471"
            ]
          },
          "metadata": {
            "tags": []
          },
          "execution_count": 17
        }
      ]
    },
    {
      "cell_type": "code",
      "metadata": {
        "id": "XklcbmNOKTzn",
        "colab": {
          "base_uri": "https://localhost:8080/"
        },
        "outputId": "9c930492-cd77-4ccf-b0c8-149d697afbd0"
      },
      "source": [
        "#Location null values\n",
        "df_train.location.isnull().sum()"
      ],
      "execution_count": 18,
      "outputs": [
        {
          "output_type": "execute_result",
          "data": {
            "text/plain": [
              "2141"
            ]
          },
          "metadata": {
            "tags": []
          },
          "execution_count": 18
        }
      ]
    },
    {
      "cell_type": "code",
      "metadata": {
        "id": "TQ9dCNuD4Hmr",
        "colab": {
          "base_uri": "https://localhost:8080/"
        },
        "outputId": "419e5e5d-b486-4c18-885f-2cb19485ea27"
      },
      "source": [
        "# Number of location\r\n",
        "loc_len =len(df_train['location'].unique())\r\n",
        "print(\"Number of locations:\", loc_len)"
      ],
      "execution_count": 21,
      "outputs": [
        {
          "output_type": "stream",
          "text": [
            "Number of locations: 2922\n"
          ],
          "name": "stdout"
        }
      ]
    },
    {
      "cell_type": "code",
      "metadata": {
        "id": "mVp-BK4ZZuKx"
      },
      "source": [
        ""
      ],
      "execution_count": null,
      "outputs": []
    },
    {
      "cell_type": "markdown",
      "metadata": {
        "id": "DUfVqft38DuT"
      },
      "source": [
        "####4. Keywords"
      ]
    },
    {
      "cell_type": "code",
      "metadata": {
        "colab": {
          "base_uri": "https://localhost:8080/"
        },
        "id": "O9UHIukm8LKr",
        "outputId": "6911be18-f5e0-48e5-de48-9f24e5cf4af4"
      },
      "source": [
        "df_train['keyword']"
      ],
      "execution_count": null,
      "outputs": [
        {
          "output_type": "execute_result",
          "data": {
            "text/plain": [
              "0                   destroyed\n",
              "1                   bioterror\n",
              "2                   windstorm\n",
              "3                   hazardous\n",
              "4                     hostage\n",
              "                ...          \n",
              "6466               earthquake\n",
              "6467                   derail\n",
              "6468                  trapped\n",
              "6469                  weapons\n",
              "6470    buildings%20on%20fire\n",
              "Name: keyword, Length: 6471, dtype: object"
            ]
          },
          "metadata": {
            "tags": []
          },
          "execution_count": 172
        }
      ]
    },
    {
      "cell_type": "code",
      "metadata": {
        "colab": {
          "base_uri": "https://localhost:8080/"
        },
        "id": "vYNzX6pU8Nds",
        "outputId": "e70faa8b-8e9d-4511-a10b-8c19b68ebe81"
      },
      "source": [
        "#Location null values\r\n",
        "df_train.keyword.isnull().sum()"
      ],
      "execution_count": 39,
      "outputs": [
        {
          "output_type": "execute_result",
          "data": {
            "text/plain": [
              "0"
            ]
          },
          "metadata": {
            "tags": []
          },
          "execution_count": 39
        }
      ]
    },
    {
      "cell_type": "code",
      "metadata": {
        "colab": {
          "base_uri": "https://localhost:8080/"
        },
        "id": "gCC97Afo8Qcd",
        "outputId": "416e5c50-6fc4-4f1e-d45c-4eca068157fb"
      },
      "source": [
        "#Length of Location\r\n",
        "len(df_train['keyword'])"
      ],
      "execution_count": 40,
      "outputs": [
        {
          "output_type": "execute_result",
          "data": {
            "text/plain": [
              "6387"
            ]
          },
          "metadata": {
            "tags": []
          },
          "execution_count": 40
        }
      ]
    },
    {
      "cell_type": "markdown",
      "metadata": {
        "id": "NXnB8MX74Tem"
      },
      "source": [
        "####3. Text Exploration\r\n"
      ]
    },
    {
      "cell_type": "code",
      "metadata": {
        "colab": {
          "base_uri": "https://localhost:8080/"
        },
        "id": "nIhS8xi24YA9",
        "outputId": "108cacd6-ef9d-4366-c648-bf64915054cb"
      },
      "source": [
        "# Total number of word \r\n",
        "print(\"Total Number of Words:\", df_train['text'].apply(lambda x: len(x.split(' '))).sum())\r\n",
        "# Total number of word test_set\r\n",
        "print(\"Total Number of Words test set:\", df_test['text'].apply(lambda x: len(x.split(' '))).sum())"
      ],
      "execution_count": null,
      "outputs": [
        {
          "output_type": "stream",
          "text": [
            "Total Number of Words: 96544\n",
            "Total Number of Words test set: 17110\n"
          ],
          "name": "stdout"
        }
      ]
    },
    {
      "cell_type": "code",
      "metadata": {
        "colab": {
          "base_uri": "https://localhost:8080/"
        },
        "id": "LGyrEZefD-Hv",
        "outputId": "6f215a49-9beb-4381-f845-92c38848c700"
      },
      "source": [
        "# Check duplicates \r\n",
        "print('Entire Duplicated rows:', df_train.duplicated().sum())\r\n",
        "print('Duplicated Text:', df_train['text'].duplicated().sum())\r\n",
        "print('Duplicated Keywords:', df_train['keyword'].duplicated().sum())\r\n",
        "print('Duplicate Locations:', df_train['location'].duplicated().sum())"
      ],
      "execution_count": null,
      "outputs": [
        {
          "output_type": "stream",
          "text": [
            "Entire Duplicated rows: 0\n",
            "Duplicated Text: 0\n",
            "Duplicated Keywords: 6165\n",
            "Duplicate Locations: 3479\n"
          ],
          "name": "stdout"
        }
      ]
    },
    {
      "cell_type": "code",
      "metadata": {
        "id": "TpA5R8RWSIpa"
      },
      "source": [
        ""
      ],
      "execution_count": null,
      "outputs": []
    },
    {
      "cell_type": "code",
      "metadata": {
        "colab": {
          "base_uri": "https://localhost:8080/"
        },
        "id": "R0_0_8JV4o_0",
        "outputId": "7bd8aa97-117c-4b4c-b9c6-93c19b4e3534"
      },
      "source": [
        "# Df_train grouped text message by target \r\n",
        "df_train_grouped =df_train[['target','text']].groupby(by='target').agg(lambda x: ' '.join(x))\r\n",
        "corpus = df_train_grouped['text']\r\n",
        "corpus0 = corpus[[0]]\r\n",
        "corpus1 = corpus[[1]]\r\n",
        "print(corpus)"
      ],
      "execution_count": 66,
      "outputs": [
        {
          "output_type": "stream",
          "text": [
            "target\n",
            "0    Black Eye 9: A space battle occurred at Star O...\n",
            "1    Reality Training: Train falls off elevated tra...\n",
            "Name: text, dtype: object\n"
          ],
          "name": "stdout"
        }
      ]
    },
    {
      "cell_type": "code",
      "metadata": {
        "colab": {
          "base_uri": "https://localhost:8080/"
        },
        "id": "nAgUsaKx6O29",
        "outputId": "e426cdb9-4928-4b5c-c5da-85c267d20084"
      },
      "source": [
        "# Number of words in Tweets that does/does not support real disaster \r\n",
        "print(\"Number of Words tweets does not support Real disaster:\", corpus0.apply(lambda x: len(x.split(' '))).sum())\r\n",
        "print(\"Total Number of Words tweets does support Real disaster:\", corpus1.apply(lambda x: len(x.split(' '))).sum())"
      ],
      "execution_count": 67,
      "outputs": [
        {
          "output_type": "stream",
          "text": [
            "Number of Words tweets does not support Real disaster: 54373\n",
            "Total Number of Words tweets does support Real disaster: 42171\n"
          ],
          "name": "stdout"
        }
      ]
    },
    {
      "cell_type": "markdown",
      "metadata": {
        "id": "cxy2XX1T9m23"
      },
      "source": [
        "####4. Most common Words exploration\r\n"
      ]
    },
    {
      "cell_type": "markdown",
      "metadata": {
        "id": "KH6JzFCx-Sa4"
      },
      "source": [
        "The following barcharts shows most common words in Tweets. This analisis can help us finding words which are very frequent in whole Tweets but that do not give much information for the Classification. The first thing that we can notice is that most frequent words are Stopwords, this kind of words do not give information so the have to be removed. Second thing that can be noticed are words like \"ù_\" \"http\" \"https\" \"amp\" or \"co\" that are extremely frequent in the database but did not give much information quite the opposite they represent disturbance, for that reason they have to be removed in order to improve accuracy results. "
      ]
    },
    {
      "cell_type": "code",
      "metadata": {
        "id": "IUq-pJG54ufw"
      },
      "source": [
        "# Function that find most common words\r\n",
        "def get_top_n_words(corpus, n=None):\r\n",
        "    vec = CountVectorizer().fit(corpus)\r\n",
        "    bag_of_words = vec.transform(corpus)\r\n",
        "    sum_words = bag_of_words.sum(axis=0) \r\n",
        "    words_freq = [(word, sum_words[0, idx]) for word, idx in     vec.vocabulary_.items()]\r\n",
        "    words_freq =sorted(words_freq, key = lambda x: x[1], reverse=True)\r\n",
        "    return words_freq[:n]"
      ],
      "execution_count": 68,
      "outputs": []
    },
    {
      "cell_type": "code",
      "metadata": {
        "colab": {
          "base_uri": "https://localhost:8080/"
        },
        "id": "05ISPhUB4xiK",
        "outputId": "c63839fe-6b2e-481b-9cd2-23ff542423ea"
      },
      "source": [
        "Whole_tweets_most_common_words = get_top_n_words(corpus, 35)\r\n",
        "Tweets_0_most_common_words = get_top_n_words(corpus0, 35)\r\n",
        "Tweets_1_most_common_words = get_top_n_words(corpus1, 33)\r\n",
        "print(\"Corpus:\", Whole_tweets_most_common_words)\r\n",
        "print(\"Corpus 0 :\", Tweets_0_most_common_words)\r\n",
        "print(\"Corpus 1 :\", Tweets_1_most_common_words)"
      ],
      "execution_count": 69,
      "outputs": [
        {
          "output_type": "stream",
          "text": [
            "Corpus: [('co', 4038), ('http', 3663), ('the', 2755), ('in', 1687), ('to', 1649), ('of', 1547), ('and', 1189), ('is', 811), ('you', 769), ('for', 754), ('on', 736), ('it', 658), ('my', 597), ('that', 521), ('with', 496), ('by', 465), ('at', 451), ('this', 402), ('https', 355), ('from', 354), ('are', 341), ('be', 335), ('was', 333), ('have', 329), ('û_', 295), ('amp', 294), ('like', 290), ('me', 287), ('as', 283), ('just', 282), ('up', 278), ('but', 275), ('so', 271), ('not', 253), ('your', 253)]\n",
            "Corpus 0 : [('co', 1892), ('http', 1645), ('the', 1600), ('to', 998), ('and', 762), ('of', 754), ('in', 700), ('you', 642), ('is', 513), ('my', 479), ('it', 454), ('for', 416), ('on', 370), ('that', 345), ('with', 333), ('this', 248), ('https', 239), ('be', 235), ('me', 233), ('by', 219), ('have', 207), ('so', 206), ('like', 206), ('just', 204), ('are', 201), ('your', 198), ('at', 195), ('was', 189), ('but', 188), ('amp', 176), ('can', 174), ('not', 173), ('out', 169), ('up', 166), ('all', 165)]\n",
            "Corpus 1 : [('co', 2146), ('http', 2018), ('the', 1155), ('in', 987), ('of', 793), ('to', 651), ('and', 427), ('on', 366), ('for', 338), ('is', 298), ('at', 256), ('by', 246), ('from', 206), ('it', 204), ('that', 176), ('with', 163), ('after', 157), ('this', 154), ('fire', 151), ('û_', 145), ('as', 145), ('was', 144), ('are', 140), ('you', 127), ('news', 122), ('have', 122), ('my', 118), ('amp', 118), ('https', 116), ('up', 112), ('over', 112), ('disaster', 108), ('more', 107)]\n"
          ],
          "name": "stdout"
        }
      ]
    },
    {
      "cell_type": "code",
      "metadata": {
        "id": "ETesyChd5Nnx"
      },
      "source": [
        "df =  pd.DataFrame(Whole_tweets_most_common_words, columns= ['Token', 'Frequency'])\r\n",
        "df1 = pd.DataFrame(Tweets_1_most_common_words, columns= ['Token', 'Frequency'])\r\n",
        "df0 = pd.DataFrame(Tweets_0_most_common_words, columns= ['Token', 'Frequency'])"
      ],
      "execution_count": 70,
      "outputs": []
    },
    {
      "cell_type": "code",
      "metadata": {
        "id": "GMCg8R2K5aoE"
      },
      "source": [
        "# Most frequent 10 words in tweets that support real disaster \r\n",
        "def barchart_most_frequent_words(data, title):\r\n",
        "    plt.style.use('dark_background')\r\n",
        "    token= data['Token']\r\n",
        "    frequency = data['Frequency']\r\n",
        "    plt.bar(token, frequency)\r\n",
        "    plt.title(title)\r\n",
        "    plt.xlabel('Most frequent Words')\r\n",
        "    plt.ylabel('Frequency')\r\n",
        "    return plt.show()"
      ],
      "execution_count": 71,
      "outputs": []
    },
    {
      "cell_type": "code",
      "metadata": {
        "colab": {
          "base_uri": "https://localhost:8080/",
          "height": 1000
        },
        "id": "a4FELKro5dWb",
        "outputId": "3ed5d571-2a98-4c4a-e2d9-9f06db9cef20"
      },
      "source": [
        "plt.rcParams['figure.figsize']= (30, 5)\r\n",
        "# Barchart Most important word \r\n",
        "barchart_most_frequent_words(df, 'Most frequent words in Tweets')\r\n",
        "barchart_most_frequent_words(df1, 'Most frequent words in Tweets that support real disaster')\r\n",
        "barchart_most_frequent_words (df0, 'Most frequent words in Tweets that does not support real disaster')"
      ],
      "execution_count": 72,
      "outputs": [
        {
          "output_type": "display_data",
          "data": {
            "image/png": "[encoded data removed]",
            "text/plain": [
              "<Figure size 2160x360 with 1 Axes>"
            ]
          },
          "metadata": {
            "tags": []
          }
        },
        {
          "output_type": "display_data",
          "data": {
            "image/png": "[encoded data removed]",
            "text/plain": [
              "<Figure size 2160x360 with 1 Axes>"
            ]
          },
          "metadata": {
            "tags": []
          }
        },
        {
          "output_type": "display_data",
          "data": {
            "image/png": "[encoded data removed]",
            "text/plain": [
              "<Figure size 2160x360 with 1 Axes>"
            ]
          },
          "metadata": {
            "tags": []
          }
        }
      ]
    },
    {
      "cell_type": "markdown",
      "metadata": {
        "id": "3vU01PfeZt5M"
      },
      "source": [
        ""
      ]
    },
    {
      "cell_type": "markdown",
      "metadata": {
        "id": "xr07BaekKej2"
      },
      "source": [
        "#Building the tokenizer 🤖\n",
        "In the following part, we create our tokenizer which will be used to analyze the text column"
      ]
    },
    {
      "cell_type": "code",
      "metadata": {
        "id": "WP_WL2YrJ3nF",
        "colab": {
          "base_uri": "https://localhost:8080/",
          "height": 35
        },
        "outputId": "14ef500a-fd4f-4686-fb96-4c54a562b65c"
      },
      "source": [
        "#Create Tokenizer\n",
        "\n",
        "#Stopwords\n",
        "stop_words = spacy.lang.en.stop_words.STOP_WORDS\n",
        "#Punctuation\n",
        "punctuations = string.punctuation\n",
        "\n",
        "sp = spacy.load('en_core_web_sm')\n",
        "\n",
        "#Tokenizer function\n",
        "def spacy_tokenizer(sentence):\n",
        "    mytokens = sp(sentence)\n",
        "\n",
        "# Lemmatize each token and convert each token into lowercase\n",
        "    mytokens = [ word.lemma_.lower().strip() if word.lemma_ != \"-PRON-\" else word.lower_ for word in mytokens ]  \n",
        "# Remove stop words and punctuation\n",
        "    mytokens = [ word for word in mytokens if word not in stop_words and word not in punctuations ]\n",
        "# Remove words with two letters or less\n",
        "    mytokens = [ word for word in mytokens if len(word)>2 ]   \n",
        "# Return preprocessed list of tokens\n",
        "    return mytokens\n",
        "#demo\n",
        "review = df_train[\"text\"].sample()\n",
        "review.values[0]\n"
      ],
      "execution_count": 73,
      "outputs": [
        {
          "output_type": "execute_result",
          "data": {
            "application/vnd.google.colaboratory.intrinsic+json": {
              "type": "string"
            },
            "text/plain": [
              "'master0fsloths has a crush: http://t.co/SZX6v0bbjF'"
            ]
          },
          "metadata": {
            "tags": []
          },
          "execution_count": 73
        }
      ]
    },
    {
      "cell_type": "markdown",
      "metadata": {
        "id": "b6MnoVaZLu3O"
      },
      "source": [
        "#Logistic regression and pipeline before data cleaning \n",
        "\n",
        "Our first iteration of the model: *No treatement of the dataframe*, just fitted in a logistic regression to see the result. We submitted this first try on AICrowd to check the accuracy of an uncleaned database.\n",
        "\n"
      ]
    },
    {
      "cell_type": "code",
      "metadata": {
        "id": "gq2BiGZiHYQc"
      },
      "source": [
        "#Setting up the train test split\n",
        "\n",
        "#First for the training data\n",
        "X = df_train['text']\n",
        "y = df_train['target']\n",
        "# Train test split\n",
        "X_train, X_test, y_train, y_test = train_test_split(X, y, test_size=0.2, random_state=0)"
      ],
      "execution_count": 74,
      "outputs": []
    },
    {
      "cell_type": "code",
      "metadata": {
        "id": "y3nifglrKSf_"
      },
      "source": [
        "#TF-IDF feature vector\n",
        "tfidf_vector = TfidfVectorizer(tokenizer=spacy_tokenizer)"
      ],
      "execution_count": 75,
      "outputs": []
    },
    {
      "cell_type": "code",
      "metadata": {
        "id": "d6Ys-_WFL7tL"
      },
      "source": [
        "#Linear reg\n",
        "LR = LogisticRegression(solver=\"lbfgs\", max_iter=100, random_state=72)\n",
        "\n",
        "#pipeline\n",
        "pipe = Pipeline([('vectorizer', tfidf_vector),\n",
        "                 ('classifier', LR)])"
      ],
      "execution_count": 76,
      "outputs": []
    },
    {
      "cell_type": "code",
      "metadata": {
        "id": "lRVjRHl8MEWv",
        "colab": {
          "base_uri": "https://localhost:8080/"
        },
        "outputId": "a9c9f4f3-9e60-42a0-c72b-2c9722c08118"
      },
      "source": [
        "pipe.fit(X_train, y_train)"
      ],
      "execution_count": 77,
      "outputs": [
        {
          "output_type": "execute_result",
          "data": {
            "text/plain": [
              "Pipeline(memory=None,\n",
              "         steps=[('vectorizer',\n",
              "                 TfidfVectorizer(analyzer='word', binary=False,\n",
              "                                 decode_error='strict',\n",
              "                                 dtype=<class 'numpy.float64'>,\n",
              "                                 encoding='utf-8', input='content',\n",
              "                                 lowercase=True, max_df=1.0, max_features=None,\n",
              "                                 min_df=1, ngram_range=(1, 1), norm='l2',\n",
              "                                 preprocessor=None, smooth_idf=True,\n",
              "                                 stop_words=None, strip_accents=None,\n",
              "                                 sublinear_tf=False,\n",
              "                                 token_patt...b',\n",
              "                                 tokenizer=<function spacy_tokenizer at 0x7f29d20ada60>,\n",
              "                                 use_idf=True, vocabulary=None)),\n",
              "                ('classifier',\n",
              "                 LogisticRegression(C=1.0, class_weight=None, dual=False,\n",
              "                                    fit_intercept=True, intercept_scaling=1,\n",
              "                                    l1_ratio=None, max_iter=100,\n",
              "                                    multi_class='auto', n_jobs=None,\n",
              "                                    penalty='l2', random_state=72,\n",
              "                                    solver='lbfgs', tol=0.0001, verbose=0,\n",
              "                                    warm_start=False))],\n",
              "         verbose=False)"
            ]
          },
          "metadata": {
            "tags": []
          },
          "execution_count": 77
        }
      ]
    },
    {
      "cell_type": "markdown",
      "metadata": {
        "id": "vkaJup57POCU"
      },
      "source": [
        "####Accuracy"
      ]
    },
    {
      "cell_type": "code",
      "metadata": {
        "id": "7p1LnofbPKVw",
        "colab": {
          "base_uri": "https://localhost:8080/"
        },
        "outputId": "2f2d101d-4f8b-4494-a24f-80124a441b0a"
      },
      "source": [
        "#Accuracy of the train data\n",
        "y_pred_train = pipe.predict(X_train)\n",
        "print(f\"TRAIN ACCURACY SCORE:\\n{accuracy_score(y_train, y_pred_train):.4f}\")\n",
        "print(f\"CONFUSION MATRIX:\\n{confusion_matrix(y_train, y_pred_train)}\")"
      ],
      "execution_count": 78,
      "outputs": [
        {
          "output_type": "stream",
          "text": [
            "TRAIN ACCURACY SCORE:\n",
            "0.8905\n",
            "CONFUSION MATRIX:\n",
            "[[2862   85]\n",
            " [ 482 1747]]\n"
          ],
          "name": "stdout"
        }
      ]
    },
    {
      "cell_type": "code",
      "metadata": {
        "id": "DuqMFRCtIOdm",
        "colab": {
          "base_uri": "https://localhost:8080/"
        },
        "outputId": "d15e9904-c939-4d7f-82c8-8ba5f40b61c7"
      },
      "source": [
        "#Accuracy of the test data\n",
        "y_pred_test = pipe.predict(X_test)\n",
        "print(f\"TEST ACCURACY SCORE:\\n{accuracy_score(y_test, y_pred_test):.4f}\")\n",
        "print(f\"CONFUSION MATRIX:\\n{confusion_matrix(y_test, y_pred_test)}\")"
      ],
      "execution_count": 79,
      "outputs": [
        {
          "output_type": "stream",
          "text": [
            "TEST ACCURACY SCORE:\n",
            "0.8093\n",
            "CONFUSION MATRIX:\n",
            "[[665  89]\n",
            " [158 383]]\n"
          ],
          "name": "stdout"
        }
      ]
    },
    {
      "cell_type": "markdown",
      "metadata": {
        "id": "rLiBgJB_Rsg3"
      },
      "source": [
        "####Using keywords only\n",
        "This is a test to see if using only the keywords would give a good accuracy"
      ]
    },
    {
      "cell_type": "code",
      "metadata": {
        "id": "9EmmQH-AFcBC",
        "colab": {
          "base_uri": "https://localhost:8080/"
        },
        "outputId": "98531da8-483d-4b97-fee5-ad7bc5022d72"
      },
      "source": [
        "#Replace null value by an arbitrary string\n",
        "df_train.keyword.fillna(value ='nokeyword', inplace = True)\n",
        "\n",
        "#Verify\n",
        "df_train.keyword.isnull().sum()"
      ],
      "execution_count": 84,
      "outputs": [
        {
          "output_type": "execute_result",
          "data": {
            "text/plain": [
              "0"
            ]
          },
          "metadata": {
            "tags": []
          },
          "execution_count": 84
        }
      ]
    },
    {
      "cell_type": "code",
      "metadata": {
        "id": "f8EzaA20Savc"
      },
      "source": [
        "#Using keyword in the model\n",
        "\n",
        "\n",
        "X = df_train['keyword']\n",
        "y = df_train['target']\n",
        "# Train test split\n",
        "X_train, X_test, y_train, y_test = train_test_split(X, y, test_size=0.2, random_state=0)"
      ],
      "execution_count": 85,
      "outputs": []
    },
    {
      "cell_type": "code",
      "metadata": {
        "id": "sXph3lkWSpAt"
      },
      "source": [
        "#Linear reg\n",
        "LR = LogisticRegression(solver=\"lbfgs\", max_iter=100, random_state=72)\n",
        "\n",
        "#pipeline\n",
        "pipe = Pipeline([('vectorizer', tfidf_vector),\n",
        "                 ('classifier', LR)])\n",
        "\n"
      ],
      "execution_count": 86,
      "outputs": []
    },
    {
      "cell_type": "code",
      "metadata": {
        "colab": {
          "base_uri": "https://localhost:8080/"
        },
        "id": "G0CScxfjfMmK",
        "outputId": "393d5525-c204-4202-86e7-227bb235cdd8"
      },
      "source": [
        "#Fit\n",
        "pipe.fit(X_train, y_train)"
      ],
      "execution_count": 87,
      "outputs": [
        {
          "output_type": "execute_result",
          "data": {
            "text/plain": [
              "Pipeline(memory=None,\n",
              "         steps=[('vectorizer',\n",
              "                 TfidfVectorizer(analyzer='word', binary=False,\n",
              "                                 decode_error='strict',\n",
              "                                 dtype=<class 'numpy.float64'>,\n",
              "                                 encoding='utf-8', input='content',\n",
              "                                 lowercase=True, max_df=1.0, max_features=None,\n",
              "                                 min_df=1, ngram_range=(1, 1), norm='l2',\n",
              "                                 preprocessor=None, smooth_idf=True,\n",
              "                                 stop_words=None, strip_accents=None,\n",
              "                                 sublinear_tf=False,\n",
              "                                 token_patt...b',\n",
              "                                 tokenizer=<function spacy_tokenizer at 0x7f29d20ada60>,\n",
              "                                 use_idf=True, vocabulary=None)),\n",
              "                ('classifier',\n",
              "                 LogisticRegression(C=1.0, class_weight=None, dual=False,\n",
              "                                    fit_intercept=True, intercept_scaling=1,\n",
              "                                    l1_ratio=None, max_iter=100,\n",
              "                                    multi_class='auto', n_jobs=None,\n",
              "                                    penalty='l2', random_state=72,\n",
              "                                    solver='lbfgs', tol=0.0001, verbose=0,\n",
              "                                    warm_start=False))],\n",
              "         verbose=False)"
            ]
          },
          "metadata": {
            "tags": []
          },
          "execution_count": 87
        }
      ]
    },
    {
      "cell_type": "code",
      "metadata": {
        "colab": {
          "base_uri": "https://localhost:8080/"
        },
        "id": "4EZ8O3oWxSwB",
        "outputId": "66e302b2-e86b-41ce-f59c-0026c56977a8"
      },
      "source": [
        "#Accuracy of the train data\n",
        "y_pred_train = pipe.predict(X_train)\n",
        "print(f\"TRAIN ACCURACY SCORE:\\n{accuracy_score(y_train, y_pred_train):.4f}\")\n",
        "print(f\"CONFUSION MATRIX:\\n{confusion_matrix(y_train, y_pred_train)}\")"
      ],
      "execution_count": 88,
      "outputs": [
        {
          "output_type": "stream",
          "text": [
            "TRAIN ACCURACY SCORE:\n",
            "0.7374\n",
            "CONFUSION MATRIX:\n",
            "[[2375  572]\n",
            " [ 787 1442]]\n"
          ],
          "name": "stdout"
        }
      ]
    },
    {
      "cell_type": "code",
      "metadata": {
        "colab": {
          "base_uri": "https://localhost:8080/"
        },
        "id": "lFe2AOa0sRb9",
        "outputId": "56e6cc5e-9949-4d3e-c7df-3089ce1e0f6d"
      },
      "source": [
        "#Accuracy of the test data\n",
        "y_pred_test = pipe.predict(X_test)\n",
        "print(f\"TEST ACCURACY SCORE:\\n{accuracy_score(y_test, y_pred_test):.4f}\")\n",
        "print(f\"CONFUSION MATRIX:\\n{confusion_matrix(y_test, y_pred_test)}\")"
      ],
      "execution_count": 89,
      "outputs": [
        {
          "output_type": "stream",
          "text": [
            "TEST ACCURACY SCORE:\n",
            "0.7181\n",
            "CONFUSION MATRIX:\n",
            "[[581 173]\n",
            " [192 349]]\n"
          ],
          "name": "stdout"
        }
      ]
    },
    {
      "cell_type": "markdown",
      "metadata": {
        "id": "7tID-6k-Hb9u"
      },
      "source": [
        "#Data cleaning 🧼\n",
        "To further improve the accuracy of our model, we cleaned the text column by removing unecessary elements such as URL, Tags and noise."
      ]
    },
    {
      "cell_type": "code",
      "metadata": {
        "id": "jEl30HhBxnIq"
      },
      "source": [
        "#Need to replace NaN values by blank spaces otherwise some funtions wont run  ----> is it right only on df_test ? \n",
        "df_test['text'] = df_test['text'].replace(np.nan, '')\n"
      ],
      "execution_count": 90,
      "outputs": []
    },
    {
      "cell_type": "code",
      "metadata": {
        "id": "Rv_0IeC8vPnv"
      },
      "source": [
        "#Clean duplicates\n",
        "df_train =  df_train.drop_duplicates(subset=['text'], keep='first')\n",
        "\n",
        "#replacing \"%20\" with space\n",
        "df_train['keyword'] = df_train['keyword'].replace('%20', ' ', regex = True)\n",
        "df_train['text'] = df_train['text'].replace('%20', ' ', regex = True)\n",
        "df_test['keyword'] = df_test['keyword'].replace('%20', ' ', regex = True)\n",
        "df_test['text'] = df_test['text'].replace('%20', ' ', regex = True)\n",
        "\n",
        "\n",
        "#removing twitter tags\n",
        "def remove_tags(text):\n",
        "  text = re.sub(r'@\\S+','',text)\n",
        "  return text\n",
        "\n",
        "df_train['text'] = df_train['text'].apply(lambda x: remove_tags(x))\n",
        "df_test['text'] = df_test['text'].apply(lambda x: remove_tags(x))\n",
        "\n",
        "#removing hashtags\n",
        "def remove_hash(text):\n",
        "  text = re.sub('#','',text)\n",
        "  return text\n",
        "\n",
        "df_train['text'] = df_train['text'].apply(lambda x: remove_hash(x))\n",
        "df_test['text'] = df_test['text'].apply(lambda x: remove_hash(x))\n",
        "\n",
        "#removing amp\n",
        "def amp(text):\n",
        "  text = re.sub('&amp;', '', text)\n",
        "  return text\n",
        "  \n",
        "df_train['text'] = df_train['text'].apply(lambda x: amp(x))\n",
        "df_test['text'] = df_test['text'].apply(lambda x: amp(x))\n",
        "\n",
        "#removing url\n",
        "def remove_url(text):\n",
        "  text = re.sub(r'http\\S+', '', text)\n",
        "  return text\n",
        "  \n",
        "df_train['text'] = df_train['text'].apply(lambda x: remove_url(x))\n",
        "df_test['text'] = df_test['text'].apply(lambda x: remove_url(x))\n",
        "\n"
      ],
      "execution_count": 91,
      "outputs": []
    },
    {
      "cell_type": "code",
      "metadata": {
        "id": "IyYc1rJcG0bF"
      },
      "source": [
        "#removing other noises\n",
        "def remove_noise(text):\n",
        "  text = re.sub('RT ', '', text)\n",
        "  text = re.sub(' co ', '', text)\n",
        "  return text\n",
        "df_train['text'] = df_train['text'].apply(lambda x: remove_noise(x))\n",
        "df_test['text'] = df_test['text'].apply(lambda x: remove_noise(x))\n"
      ],
      "execution_count": 92,
      "outputs": []
    },
    {
      "cell_type": "code",
      "metadata": {
        "id": "xoNp4mFkB4zL"
      },
      "source": [
        "\n",
        "# Remove other strange characters noise\n",
        "def remove_noise_1(text):\n",
        "  \n",
        "  text = re.sub(' & ', '', text)\n",
        "  text = re.sub(' û_ ', '',text)\n",
        "  text = re.sub(' û ', '', text)\n",
        "  text = re.sub('&', '', text)\n",
        "  text = re.sub('', '', text)\n",
        "  text = re.sub('ª', '', text)\n",
        "  text = re.sub(' ûªs ', '',text)\n",
        "\n",
        "  return text\n",
        "\n",
        "df_train['text'] = df_train['text'].apply(lambda x: remove_noise_1(x))\n",
        "df_test['text'] = df_test['text'].apply(lambda x: remove_noise_1(x))\n",
        "\n",
        "#Remove multiple spaces and spaces from Start and End \n",
        "def remove_multiple_spaces(text):\n",
        "  text = re.sub(r\"\\s+\",\" \", text, flags = re.I)\n",
        "  text = re.sub(r\"^\\s+\", \"\", text)\n",
        "  return text\n",
        "df_train['text'] = df_train['text'].apply(lambda x: remove_multiple_spaces(x))\n",
        "df_test['text'] = df_test['text'].apply(lambda x: remove_multiple_spaces(x))\n",
        "\n",
        "#Remove uppercase character\n",
        "def remove_uppercase(text):\n",
        "   text = text.lower()\n",
        "   return text\n",
        "df_train['text'] = df_train['text'].apply(lambda x: remove_uppercase(x))\n",
        "df_test['text'] = df_test['text'].apply(lambda x: remove_uppercase(x))\n",
        "\n",
        "## Remove single charachters\n",
        "def remove_single_characters(text):\n",
        "   text = re.sub(r\"\\s+[a-zA-Z]\\s+\", \" \", text)\n",
        "   return text\n",
        "df_train['text'] = df_train['text'].apply(lambda x: remove_single_characters(x))\n",
        "df_test['text'] = df_test['text'].apply(lambda x: remove_single_characters(x))\n"
      ],
      "execution_count": 93,
      "outputs": []
    },
    {
      "cell_type": "code",
      "metadata": {
        "id": "_CHdluRNH7-A"
      },
      "source": [
        "df_test['Text_keywords'] = df_test['Text_keywords'].apply(lambda x: remove_single_characters(x))\r\n",
        "df_test['Text_keywords'] = df_test['Text_keywords'].apply(lambda x: remove_uppercase(x))\r\n",
        "df_test['Text_keywords'] = df_test['Text_keywords'].apply(lambda x: remove_multiple_spaces(x))\r\n",
        "df_test['Text_keywords'] = df_test['Text_keywords'].apply(lambda x: remove_noise_1(x))\r\n",
        "df_test['Text_keywords'] = df_test['Text_keywords'].apply(lambda x: remove_noise(x))\r\n",
        "df_test['Text_keywords'] = df_test['Text_keywords'].apply(lambda x: remove_url(x)\r\n",
        "df_test['Text_keywords'] = df_test['Text_keywords'].apply(lambda x: amp(x))\r\n",
        "df_train['Text_keywords']=df_test['Text_keywords'].replace('%20', ' ', regex = True)"
      ],
      "execution_count": null,
      "outputs": []
    },
    {
      "cell_type": "markdown",
      "metadata": {
        "id": "lcUWBazrjyb0"
      },
      "source": [
        ""
      ]
    },
    {
      "cell_type": "markdown",
      "metadata": {
        "id": "T0l-J25GYsga"
      },
      "source": [
        "I did not use Following text cleaning methods because they made accuracy worst. \n",
        "\n",
        "\n",
        "- Stopwords are surely helpull in order to improve the result but in \n",
        "\n",
        "```\n",
        "# Remove Stopwords\n",
        "def remove_stopword(text):\n",
        "  text= remove_stopwords(text)\n",
        "  return text\n",
        "  \n",
        "df_train['text'] = df_train['text'].apply(lambda x: remove_stopword(x))\n",
        "df_test['text'] = df_test['text'].apply(lambda x: remove_stopword(x))\n",
        "\n",
        "\n",
        "```\n",
        "\n",
        "\n",
        "\n",
        "- Removing all the numbers makes prediction worse. That could be because of dates and ages which provides usefull information to the machine learning algorithm. \n",
        "\n",
        "```\n",
        "# remove digits\n",
        "def remove_digits(text):\n",
        "  text = re.sub(r\"\\d\", \"\", text)\n",
        "  return text\n",
        "\n",
        "df_train['text'] = df_train['text'].apply(lambda x: remove_digits(x))\n",
        "df_test['text'] = df_test['text'].apply(lambda x: remove_digits(x))\n",
        "\n",
        "\n",
        "```\n",
        "\n",
        "\n",
        "```\n",
        "\n",
        "#removing punctuation\n",
        "def remove_punct(text):\n",
        "  text = \"\".join([char for char in text if char not in string.punctuation])\n",
        "  text = re.sub(r\"[0-9]+\", \"\", text)\n",
        "  return text\n",
        "\n",
        "df_train['text'] = df_train['text'].apply(lambda x: remove_punct(x))\n",
        "df_test['text'] = df_test['text'].apply(lambda x: remove_punct(x))\n",
        "\n",
        "\n",
        "```\n",
        "\n",
        "\n",
        "\n",
        "\n",
        "\n",
        "- Removing all the numbers makes prediction worse Maybe we have to mantain dates and remove only  \"strange\" numbers? (if so HOOOOOW?) \n",
        "\n",
        "\n",
        "\n"
      ]
    },
    {
      "cell_type": "markdown",
      "metadata": {
        "id": "m-esoujZbwzk"
      },
      "source": [
        "#Logistic regression and pipeline after Data cleaning \n",
        "\n",
        "Our second iteration of the model: *treatement of the dataframe with text cleaning*, fitted in a logistic regression to see the result.\n",
        "\n"
      ]
    },
    {
      "cell_type": "code",
      "metadata": {
        "id": "JEj02Wx3bPbn"
      },
      "source": [
        "#Setting up the train test split\n",
        "#First for the training data\n",
        "X = df_train['text']\n",
        "y = df_train['target']\n",
        "# Train test split\n",
        "X_train, X_test, y_train, y_test = train_test_split(X, y, test_size=0.2, random_state=0)"
      ],
      "execution_count": 100,
      "outputs": []
    },
    {
      "cell_type": "code",
      "metadata": {
        "id": "Zi-LT4fOPewE"
      },
      "source": [
        "#TF-IDF feature vector\n",
        "tfidf_vector = TfidfVectorizer(tokenizer=spacy_tokenizer)"
      ],
      "execution_count": 101,
      "outputs": []
    },
    {
      "cell_type": "code",
      "metadata": {
        "id": "iEaTRydWbS-4"
      },
      "source": [
        "#Linear reg\n",
        "LR = LogisticRegression(solver=\"lbfgs\", max_iter=1000, random_state=72)\n",
        "\n",
        "#pipeline\n",
        "pipe = Pipeline([('vectorizer', tfidf_vector),\n",
        "                 ('classifier', LR)])"
      ],
      "execution_count": 102,
      "outputs": []
    },
    {
      "cell_type": "code",
      "metadata": {
        "id": "GvImkegsbZ0m",
        "colab": {
          "base_uri": "https://localhost:8080/"
        },
        "outputId": "6cb2a047-1400-4fee-e4da-ace898f718e2"
      },
      "source": [
        "pipe.fit(X_train, y_train)"
      ],
      "execution_count": 103,
      "outputs": [
        {
          "output_type": "execute_result",
          "data": {
            "text/plain": [
              "Pipeline(memory=None,\n",
              "         steps=[('vectorizer',\n",
              "                 TfidfVectorizer(analyzer='word', binary=False,\n",
              "                                 decode_error='strict',\n",
              "                                 dtype=<class 'numpy.float64'>,\n",
              "                                 encoding='utf-8', input='content',\n",
              "                                 lowercase=True, max_df=1.0, max_features=None,\n",
              "                                 min_df=1, ngram_range=(1, 1), norm='l2',\n",
              "                                 preprocessor=None, smooth_idf=True,\n",
              "                                 stop_words=None, strip_accents=None,\n",
              "                                 sublinear_tf=False,\n",
              "                                 token_patt...',\n",
              "                                 tokenizer=<function spacy_tokenizer at 0x7f29d20ada60>,\n",
              "                                 use_idf=True, vocabulary=None)),\n",
              "                ('classifier',\n",
              "                 LogisticRegression(C=1.0, class_weight=None, dual=False,\n",
              "                                    fit_intercept=True, intercept_scaling=1,\n",
              "                                    l1_ratio=None, max_iter=1000,\n",
              "                                    multi_class='auto', n_jobs=None,\n",
              "                                    penalty='l2', random_state=72,\n",
              "                                    solver='lbfgs', tol=0.0001, verbose=0,\n",
              "                                    warm_start=False))],\n",
              "         verbose=False)"
            ]
          },
          "metadata": {
            "tags": []
          },
          "execution_count": 103
        }
      ]
    },
    {
      "cell_type": "code",
      "metadata": {
        "id": "qRAIymHcbgY8",
        "colab": {
          "base_uri": "https://localhost:8080/"
        },
        "outputId": "6ea2449b-be4b-4075-cdc4-96b5ce50e8d8"
      },
      "source": [
        "#Accuracy of the train data\n",
        "y_pred_train = pipe.predict(X_train)\n",
        "print(f\"TRAIN ACCURACY SCORE:\\n{accuracy_score(y_train, y_pred_train):.4f}\")\n",
        "print(f\"CONFUSION MATRIX:\\n{confusion_matrix(y_train, y_pred_train)}\")"
      ],
      "execution_count": 106,
      "outputs": [
        {
          "output_type": "stream",
          "text": [
            "TRAIN ACCURACY SCORE:\n",
            "0.8843\n",
            "CONFUSION MATRIX:\n",
            "[[2831   93]\n",
            " [ 498 1687]]\n"
          ],
          "name": "stdout"
        }
      ]
    },
    {
      "cell_type": "code",
      "metadata": {
        "id": "HaUS9H3YbprO",
        "colab": {
          "base_uri": "https://localhost:8080/"
        },
        "outputId": "8267f99d-d476-4a48-def6-acde2fe172da"
      },
      "source": [
        "#Accuracy of the test data\n",
        "y_pred_test = pipe.predict(X_test)\n",
        "print(f\"TEST ACCURACY SCORE:\\n{accuracy_score(y_test, y_pred_test):.4f}\")\n",
        "print(f\"CONFUSION MATRIX:\\n{confusion_matrix(y_test, y_pred_test)}\")"
      ],
      "execution_count": 107,
      "outputs": [
        {
          "output_type": "stream",
          "text": [
            "TEST ACCURACY SCORE:\n",
            "0.8146\n",
            "CONFUSION MATRIX:\n",
            "[[676  76]\n",
            " [161 365]]\n"
          ],
          "name": "stdout"
        }
      ]
    },
    {
      "cell_type": "code",
      "metadata": {
        "id": "Dnm23MNsdYCf",
        "colab": {
          "base_uri": "https://localhost:8080/",
          "height": 419
        },
        "outputId": "98640bc1-9a7b-468c-d5cc-3e5d68b7e345"
      },
      "source": [
        "target_test = pipe.predict(df_test['text'])\n",
        "target_test =pd.DataFrame(target_test)\n",
        "target_test"
      ],
      "execution_count": 31,
      "outputs": [
        {
          "output_type": "execute_result",
          "data": {
            "text/html": [
              "<div>\n",
              "<style scoped>\n",
              "    .dataframe tbody tr th:only-of-type {\n",
              "        vertical-align: middle;\n",
              "    }\n",
              "\n",
              "    .dataframe tbody tr th {\n",
              "        vertical-align: top;\n",
              "    }\n",
              "\n",
              "    .dataframe thead th {\n",
              "        text-align: right;\n",
              "    }\n",
              "</style>\n",
              "<table border=\"1\" class=\"dataframe\">\n",
              "  <thead>\n",
              "    <tr style=\"text-align: right;\">\n",
              "      <th></th>\n",
              "      <th>0</th>\n",
              "    </tr>\n",
              "  </thead>\n",
              "  <tbody>\n",
              "    <tr>\n",
              "      <th>0</th>\n",
              "      <td>0</td>\n",
              "    </tr>\n",
              "    <tr>\n",
              "      <th>1</th>\n",
              "      <td>0</td>\n",
              "    </tr>\n",
              "    <tr>\n",
              "      <th>2</th>\n",
              "      <td>1</td>\n",
              "    </tr>\n",
              "    <tr>\n",
              "      <th>3</th>\n",
              "      <td>0</td>\n",
              "    </tr>\n",
              "    <tr>\n",
              "      <th>4</th>\n",
              "      <td>0</td>\n",
              "    </tr>\n",
              "    <tr>\n",
              "      <th>...</th>\n",
              "      <td>...</td>\n",
              "    </tr>\n",
              "    <tr>\n",
              "      <th>1137</th>\n",
              "      <td>1</td>\n",
              "    </tr>\n",
              "    <tr>\n",
              "      <th>1138</th>\n",
              "      <td>1</td>\n",
              "    </tr>\n",
              "    <tr>\n",
              "      <th>1139</th>\n",
              "      <td>1</td>\n",
              "    </tr>\n",
              "    <tr>\n",
              "      <th>1140</th>\n",
              "      <td>0</td>\n",
              "    </tr>\n",
              "    <tr>\n",
              "      <th>1141</th>\n",
              "      <td>1</td>\n",
              "    </tr>\n",
              "  </tbody>\n",
              "</table>\n",
              "<p>1142 rows × 1 columns</p>\n",
              "</div>"
            ],
            "text/plain": [
              "      0\n",
              "0     0\n",
              "1     0\n",
              "2     1\n",
              "3     0\n",
              "4     0\n",
              "...  ..\n",
              "1137  1\n",
              "1138  1\n",
              "1139  1\n",
              "1140  0\n",
              "1141  1\n",
              "\n",
              "[1142 rows x 1 columns]"
            ]
          },
          "metadata": {
            "tags": []
          },
          "execution_count": 31
        }
      ]
    },
    {
      "cell_type": "code",
      "metadata": {
        "id": "QidaT9DidiOG"
      },
      "source": [
        "sample_submission.assign(target = target_test)\n",
        "target_test.to_csv('submission_newparams.csv', index=False)\n"
      ],
      "execution_count": 249,
      "outputs": []
    },
    {
      "cell_type": "markdown",
      "metadata": {
        "id": "I6e_rZ3HJR22"
      },
      "source": [
        "#Optimize the parameters of the TfidfVectorizer\n",
        "\n",
        "In these chapter we are going to see if there are TF-IDF parameters who works better for our analysis. We proceed by running a logistic regression with a random_state=72 for every combination of the tf-idf parameters. Finally we are going to build our optimized vectorizer."
      ]
    },
    {
      "cell_type": "code",
      "metadata": {
        "id": "ZfgEGPDfLUmX"
      },
      "source": [
        "# Evaluate the model\n",
        "def evaluate(true, pred):\n",
        "    precision = precision_score(true, pred)\n",
        "    recall = recall_score(true, pred)\n",
        "    f1 = f1_score(true, pred)\n",
        "    print(f\"CONFUSION MATRIX:\\n{confusion_matrix(true, pred)}\")\n",
        "    print(f\"ACCURACY SCORE:\\n{accuracy_score(true, pred):.4f}\")\n",
        "    print(f\"CLASSIFICATION REPORT:\\n\\tPrecision: {precision:.4f}\\n\\tRecall: {recall:.4f}\\n\\tF1_Score: {f1:.4f}\")"
      ],
      "execution_count": 113,
      "outputs": []
    },
    {
      "cell_type": "code",
      "metadata": {
        "id": "YGtAjqgUJe2x"
      },
      "source": [
        "# Create list of configs\n",
        "def configs():\n",
        "\n",
        "    models = list()\n",
        "    \n",
        "    # Define config lists\n",
        "    ngram_range = [(1,1), (1,2), (1, 3), (2, 2), (2, 3), (3, 3), (3, 4)]\n",
        "    min_df = [1]\n",
        "    max_df = [1.0]\n",
        "    analyzer=['word', 'char']\n",
        "    \n",
        "    # Create config instances\n",
        "    for n in ngram_range:\n",
        "        for i in min_df:\n",
        "            for j in max_df:\n",
        "              for a in analyzer:\n",
        "                    cfg = [n, i, j, a]\n",
        "                    models.append(cfg)\n",
        "    return models\n",
        "\n",
        "configs = configs()"
      ],
      "execution_count": 114,
      "outputs": []
    },
    {
      "cell_type": "code",
      "metadata": {
        "colab": {
          "base_uri": "https://localhost:8080/"
        },
        "id": "F5wn2K6SJkn5",
        "outputId": "235f0c8e-21e5-4679-d2f1-7ce6095926bf"
      },
      "source": [
        "# Define list for result\n",
        "result = []\n",
        "\n",
        "for config in configs:\n",
        "\n",
        "    # Redefine vectorizer\n",
        "    tfidf_vector = TfidfVectorizer(tokenizer=spacy_tokenizer, \n",
        "                                   ngram_range=config[0],\n",
        "                                   min_df=config[1], max_df=config[2], analyzer=config[3])\n",
        "\n",
        "    # Define classifier\n",
        "    LR = LogisticRegression(solver=\"lbfgs\", max_iter=1000, random_state=72)\n",
        "\n",
        "    # Create pipeline\n",
        "    pipe = Pipeline([('vectorizer', tfidf_vector),\n",
        "                 ('classifier', LR)])\n",
        "\n",
        "    # Fit model on training set\n",
        "    pipe.fit(X_train, y_train)\n",
        "\n",
        "    # Predictions\n",
        "    y_pred = pipe.predict(X_test)\n",
        "\n",
        "    # Print accuracy on test set\n",
        "    print(\"CONFIG: \", config)\n",
        "    evaluate(y_test, y_pred)\n",
        "    print(\"-----------------------\")\n",
        "\n",
        "    # Append to result\n",
        "    result.append([config, accuracy_score(y_test, y_pred)])"
      ],
      "execution_count": 115,
      "outputs": [
        {
          "output_type": "stream",
          "text": [
            "CONFIG:  [(1, 1), 1, 1.0, 'word']\n",
            "CONFUSION MATRIX:\n",
            "[[676  76]\n",
            " [161 365]]\n",
            "ACCURACY SCORE:\n",
            "0.8146\n",
            "CLASSIFICATION REPORT:\n",
            "\tPrecision: 0.8277\n",
            "\tRecall: 0.6939\n",
            "\tF1_Score: 0.7549\n",
            "-----------------------\n",
            "CONFIG:  [(1, 1), 1, 1.0, 'char']\n",
            "CONFUSION MATRIX:\n",
            "[[580 172]\n",
            " [242 284]]\n",
            "ACCURACY SCORE:\n",
            "0.6761\n",
            "CLASSIFICATION REPORT:\n",
            "\tPrecision: 0.6228\n",
            "\tRecall: 0.5399\n",
            "\tF1_Score: 0.5784\n",
            "-----------------------\n",
            "CONFIG:  [(1, 2), 1, 1.0, 'word']\n",
            "CONFUSION MATRIX:\n",
            "[[674  78]\n",
            " [164 362]]\n",
            "ACCURACY SCORE:\n",
            "0.8106\n",
            "CLASSIFICATION REPORT:\n",
            "\tPrecision: 0.8227\n",
            "\tRecall: 0.6882\n",
            "\tF1_Score: 0.7495\n",
            "-----------------------\n",
            "CONFIG:  [(1, 2), 1, 1.0, 'char']\n",
            "CONFUSION MATRIX:\n",
            "[[630 122]\n",
            " [196 330]]\n",
            "ACCURACY SCORE:\n",
            "0.7512\n",
            "CLASSIFICATION REPORT:\n",
            "\tPrecision: 0.7301\n",
            "\tRecall: 0.6274\n",
            "\tF1_Score: 0.6748\n",
            "-----------------------\n",
            "CONFIG:  [(1, 3), 1, 1.0, 'word']\n",
            "CONFUSION MATRIX:\n",
            "[[675  77]\n",
            " [168 358]]\n",
            "ACCURACY SCORE:\n",
            "0.8083\n",
            "CLASSIFICATION REPORT:\n",
            "\tPrecision: 0.8230\n",
            "\tRecall: 0.6806\n",
            "\tF1_Score: 0.7451\n",
            "-----------------------\n",
            "CONFIG:  [(1, 3), 1, 1.0, 'char']\n",
            "CONFUSION MATRIX:\n",
            "[[656  96]\n",
            " [178 348]]\n",
            "ACCURACY SCORE:\n",
            "0.7856\n",
            "CLASSIFICATION REPORT:\n",
            "\tPrecision: 0.7838\n",
            "\tRecall: 0.6616\n",
            "\tF1_Score: 0.7175\n",
            "-----------------------\n",
            "CONFIG:  [(2, 2), 1, 1.0, 'word']\n",
            "CONFUSION MATRIX:\n",
            "[[727  25]\n",
            " [306 220]]\n",
            "ACCURACY SCORE:\n",
            "0.7410\n",
            "CLASSIFICATION REPORT:\n",
            "\tPrecision: 0.8980\n",
            "\tRecall: 0.4183\n",
            "\tF1_Score: 0.5707\n",
            "-----------------------\n",
            "CONFIG:  [(2, 2), 1, 1.0, 'char']\n",
            "CONFUSION MATRIX:\n",
            "[[630 122]\n",
            " [195 331]]\n",
            "ACCURACY SCORE:\n",
            "0.7520\n",
            "CLASSIFICATION REPORT:\n",
            "\tPrecision: 0.7307\n",
            "\tRecall: 0.6293\n",
            "\tF1_Score: 0.6762\n",
            "-----------------------\n",
            "CONFIG:  [(2, 3), 1, 1.0, 'word']\n",
            "CONFUSION MATRIX:\n",
            "[[731  21]\n",
            " [315 211]]\n",
            "ACCURACY SCORE:\n",
            "0.7371\n",
            "CLASSIFICATION REPORT:\n",
            "\tPrecision: 0.9095\n",
            "\tRecall: 0.4011\n",
            "\tF1_Score: 0.5567\n",
            "-----------------------\n",
            "CONFIG:  [(2, 3), 1, 1.0, 'char']\n",
            "CONFUSION MATRIX:\n",
            "[[665  87]\n",
            " [177 349]]\n",
            "ACCURACY SCORE:\n",
            "0.7934\n",
            "CLASSIFICATION REPORT:\n",
            "\tPrecision: 0.8005\n",
            "\tRecall: 0.6635\n",
            "\tF1_Score: 0.7256\n",
            "-----------------------\n",
            "CONFIG:  [(3, 3), 1, 1.0, 'word']\n",
            "CONFUSION MATRIX:\n",
            "[[741  11]\n",
            " [380 146]]\n",
            "ACCURACY SCORE:\n",
            "0.6941\n",
            "CLASSIFICATION REPORT:\n",
            "\tPrecision: 0.9299\n",
            "\tRecall: 0.2776\n",
            "\tF1_Score: 0.4275\n",
            "-----------------------\n",
            "CONFIG:  [(3, 3), 1, 1.0, 'char']\n",
            "CONFUSION MATRIX:\n",
            "[[669  83]\n",
            " [174 352]]\n",
            "ACCURACY SCORE:\n",
            "0.7989\n",
            "CLASSIFICATION REPORT:\n",
            "\tPrecision: 0.8092\n",
            "\tRecall: 0.6692\n",
            "\tF1_Score: 0.7326\n",
            "-----------------------\n",
            "CONFIG:  [(3, 4), 1, 1.0, 'word']\n",
            "CONFUSION MATRIX:\n",
            "[[741  11]\n",
            " [381 145]]\n",
            "ACCURACY SCORE:\n",
            "0.6933\n",
            "CLASSIFICATION REPORT:\n",
            "\tPrecision: 0.9295\n",
            "\tRecall: 0.2757\n",
            "\tF1_Score: 0.4252\n",
            "-----------------------\n",
            "CONFIG:  [(3, 4), 1, 1.0, 'char']\n",
            "CONFUSION MATRIX:\n",
            "[[687  65]\n",
            " [172 354]]\n",
            "ACCURACY SCORE:\n",
            "0.8146\n",
            "CLASSIFICATION REPORT:\n",
            "\tPrecision: 0.8449\n",
            "\tRecall: 0.6730\n",
            "\tF1_Score: 0.7492\n",
            "-----------------------\n"
          ],
          "name": "stdout"
        }
      ]
    },
    {
      "cell_type": "code",
      "metadata": {
        "id": "jS_P6aifQ5Lm"
      },
      "source": [
        "# Improved TF-IDF tokenizer\n",
        "tfidf_vector = TfidfVectorizer(tokenizer=spacy_tokenizer, ngram_range=(3, 4), min_df=1, max_df=1.0, analyzer='char')"
      ],
      "execution_count": null,
      "outputs": []
    },
    {
      "cell_type": "markdown",
      "metadata": {
        "id": "MByWiCnhNx-4"
      },
      "source": [
        "### From this analysis we find out that there is some parameters that works better then the default ones specifically:\n",
        "- ngram_range: (3, 4)\n",
        "- min_df: 1\n",
        "- max_df:  1.0\n",
        "- Analyzer: 'char'\n",
        "\n",
        "\n",
        "Improvement in test accurancy score from ____ to _____\n",
        "\n",
        "So for the rest of our analysis we keep always these parameters for td-ifd"
      ]
    },
    {
      "cell_type": "markdown",
      "metadata": {
        "id": "uSZJWMbCQG6e"
      },
      "source": [
        "#K-Fold cross-validation\r\n",
        "We have seen that the accurancy result from the Logistic regression can present significat change based on the split of the train_ test data(from about 0.78 to 0.82). In fact the train_test split change every time we run the code and also if we set a random_state for comparing results before and after data cleaning,  the result did not reflect the exact accuracy score of the model making difficult the comparison with others methods.\r\n",
        "For that reason we decided to use k-fold cross validation for the test train split which allows us to optain a more reliable model accuracy. "
      ]
    },
    {
      "cell_type": "code",
      "metadata": {
        "id": "z8QFMEy3iP6O"
      },
      "source": [
        "import numpy as np\r\n",
        "from sklearn.model_selection import KFold\r\n",
        "from sklearn.model_selection import StratifiedKFold\r\n",
        "from sklearn.model_selection import train_test_split\r\n",
        "from sklearn.model_selection import cross_val_score\r\n",
        "import matplotlib.pyplot as plt\r\n",
        "from sklearn.ensemble import RandomForestClassifier\r\n",
        "from sklearn.linear_model import LogisticRegression\r\n",
        "from sklearn.neighbors import KNeighborsClassifier"
      ],
      "execution_count": 117,
      "outputs": []
    },
    {
      "cell_type": "markdown",
      "metadata": {
        "id": "yu9CsS1KgwS0"
      },
      "source": [
        "## Cross validation Model selection 👨‍💻\r\n",
        "\r\n",
        "We tried different classifier to know which one could predict better our model. In Addition in this part we tried also all the models adding keywords to the text column because we taught that this could give some additional information. The different models that we have tried are the following:\r\n",
        "1. Logistic Regression \r\n",
        "2. RandomForrest Classifier\r\n",
        "3. KNN \r\n"
      ]
    },
    {
      "cell_type": "markdown",
      "metadata": {
        "id": "P6r5qZRF3oet"
      },
      "source": [
        "####1. Logistic Regression with cross-validation "
      ]
    },
    {
      "cell_type": "code",
      "metadata": {
        "id": "2xtIi3leho-h"
      },
      "source": [
        "# define features \r\n",
        "X = df_train['text']\r\n",
        "y = df_train['target']\r\n",
        "# Define vectorizer \r\n",
        "tfidf_vector = TfidfVectorizer(tokenizer=spacy_tokenizer, ngram_range=(3, 4), min_df=1, max_df=1.0, analyzer='char')\r\n",
        "X_tdf_vec = tfidf_vector.fit_transform(X)"
      ],
      "execution_count": 126,
      "outputs": []
    },
    {
      "cell_type": "code",
      "metadata": {
        "colab": {
          "base_uri": "https://localhost:8080/"
        },
        "id": "NIK6Fbq8aXoA",
        "outputId": "71ba989b-3c91-4834-9987-d6356529e1fe"
      },
      "source": [
        "# 10-fold cross-validation with the logistic regression\r\n",
        "scores =cross_val_score(LogisticRegression(solver=\"lbfgs\", max_iter=1000, random_state=72, C=2.6), X_tdf_vec, y, cv=10, scoring='accuracy')\r\n",
        "scores = np.array(scores)\r\n",
        "print('Score_mean:', np.mean(scores))\r\n",
        "print('Score_sdt:', np.std(scores))"
      ],
      "execution_count": 130,
      "outputs": [
        {
          "output_type": "stream",
          "text": [
            "Score_mean: 0.8097735489916161\n",
            "Score_sdt: 0.017335042767657658\n"
          ],
          "name": "stdout"
        }
      ]
    },
    {
      "cell_type": "markdown",
      "metadata": {
        "id": "qMPwim7EPfGG"
      },
      "source": [
        "#### We tried to add keywords on the text column to see if there was some improvement"
      ]
    },
    {
      "cell_type": "code",
      "metadata": {
        "id": "udkDx5UvPqnL"
      },
      "source": [
        "df_train['Text_keyword'] = (df_train['keyword'] + ' ' +  df_train['text']).astype(str)"
      ],
      "execution_count": 131,
      "outputs": []
    },
    {
      "cell_type": "code",
      "metadata": {
        "id": "0hTT9EbCPbxn"
      },
      "source": [
        "# define features \r\n",
        "X = df_train['Text_keyword']\r\n",
        "y = df_train['target']\r\n",
        "# Define vectorizer \r\n",
        "tfidf_vector = TfidfVectorizer(tokenizer=spacy_tokenizer, ngram_range=(3, 4), min_df=1, max_df=1.0, analyzer='char')\r\n",
        "X_tdf_vec = tfidf_vector.fit_transform(X)"
      ],
      "execution_count": 132,
      "outputs": []
    },
    {
      "cell_type": "code",
      "metadata": {
        "colab": {
          "base_uri": "https://localhost:8080/"
        },
        "id": "p3whqCXNQF0m",
        "outputId": "910b86fc-479a-4549-96f4-3b7bb70eb284"
      },
      "source": [
        "# 10-fold cross-validation with the logistic regression\r\n",
        "scores =cross_val_score(LogisticRegression(solver=\"lbfgs\", max_iter=1000, random_state=72, C=2.6), X_tdf_vec, y, cv=10, scoring='accuracy')\r\n",
        "scores = np.array(scores)\r\n",
        "print('Score_mean:', np.mean(scores))\r\n",
        "print('Score_sdt:', np.std(scores))"
      ],
      "execution_count": 133,
      "outputs": [
        {
          "output_type": "stream",
          "text": [
            "Score_mean: 0.8093006313744535\n",
            "Score_sdt: 0.01984641898471786\n"
          ],
          "name": "stdout"
        }
      ]
    },
    {
      "cell_type": "markdown",
      "metadata": {
        "id": "0pV9S4PO4fwb"
      },
      "source": [
        "####2. Random Forrest classifier with cross-validation 🌳🌳🌳"
      ]
    },
    {
      "cell_type": "markdown",
      "metadata": {
        "id": "Ou2K794aceDa"
      },
      "source": [
        "####RandomForrest on Text"
      ]
    },
    {
      "cell_type": "code",
      "metadata": {
        "id": "9pzDuODNcG0g"
      },
      "source": [
        "# define features \r\n",
        "X = df_train['text']\r\n",
        "y = df_train['target']\r\n",
        "# Define vectorizer \r\n",
        "tfidf_vector = TfidfVectorizer(tokenizer=spacy_tokenizer, ngram_range=(3, 4), min_df=1, max_df=1.0, analyzer='char')\r\n",
        "X_tdf_vec = tfidf_vector.fit_transform(X)"
      ],
      "execution_count": 134,
      "outputs": []
    },
    {
      "cell_type": "code",
      "metadata": {
        "colab": {
          "base_uri": "https://localhost:8080/"
        },
        "id": "UNZ0IvVih59s",
        "outputId": "dbec1c57-77cb-4d55-c1a2-cb892c640952"
      },
      "source": [
        "#10- fold cross-validation with the random forrest classifier\r\n",
        "scores_lrcv =cross_val_score(RandomForestClassifier(), X_tdf_vec, y, cv=10, scoring='accuracy')\r\n",
        "scores_lrcv = np.array(scores_lrcv)\r\n",
        "print('Score_mean:', np.mean(scores_lrcv))\r\n",
        "print('Score_sdt:', np.std(scores_lrcv))"
      ],
      "execution_count": 135,
      "outputs": [
        {
          "output_type": "stream",
          "text": [
            "Score_mean: 0.7855038976457139\n",
            "Score_sdt: 0.01779507566966163\n"
          ],
          "name": "stdout"
        }
      ]
    },
    {
      "cell_type": "markdown",
      "metadata": {
        "id": "UcIXSkelcyWw"
      },
      "source": [
        "####RandomForrest on Text + keywords\r\n"
      ]
    },
    {
      "cell_type": "code",
      "metadata": {
        "id": "N4sXDfMHcOEd"
      },
      "source": [
        "# define features \r\n",
        "X = df_train['Text_keyword']\r\n",
        "y = df_train['target']\r\n",
        "# Define vectorizer \r\n",
        "tfidf_vector = TfidfVectorizer(tokenizer=spacy_tokenizer, ngram_range=(3, 4), min_df=1, max_df=1.0, analyzer='char')\r\n",
        "X_tdf_vec = tfidf_vector.fit_transform(X)"
      ],
      "execution_count": 137,
      "outputs": []
    },
    {
      "cell_type": "code",
      "metadata": {
        "colab": {
          "base_uri": "https://localhost:8080/"
        },
        "id": "RWrWTWe4cKDm",
        "outputId": "63edafde-dda7-4d7f-9d54-50ead87c6beb"
      },
      "source": [
        "#10- fold cross-validation with the random forrest classifier\r\n",
        "scores_lrcv =cross_val_score(RandomForestClassifier(), X_tdf_vec, y, cv=10, scoring='accuracy')\r\n",
        "scores_lrcv = np.array(scores_lrcv)\r\n",
        "print('Score_mean:', np.mean(scores_lrcv))\r\n",
        "print('Score_sdt:', np.std(scores_lrcv))"
      ],
      "execution_count": 138,
      "outputs": [
        {
          "output_type": "stream",
          "text": [
            "Score_mean: 0.7922375773274267\n",
            "Score_sdt: 0.019456920788124277\n"
          ],
          "name": "stdout"
        }
      ]
    },
    {
      "cell_type": "markdown",
      "metadata": {
        "id": "XNl80XDz4uVo"
      },
      "source": [
        "####3. KNN model with cross validation\r\n",
        "- KNN using text column\r\n",
        "- KNN using text + keyword column "
      ]
    },
    {
      "cell_type": "markdown",
      "metadata": {
        "id": "POR1Se_CgZKu"
      },
      "source": [
        "##### KNN Using text column"
      ]
    },
    {
      "cell_type": "code",
      "metadata": {
        "id": "Wi6puUllgBVn"
      },
      "source": [
        "# define features \r\n",
        "X = df_train['text']\r\n",
        "y = df_train['target']\r\n",
        "# Define vectorizer \r\n",
        "tfidf_vector = TfidfVectorizer(tokenizer=spacy_tokenizer, ngram_range=(3, 4), min_df=1, max_df=1.0, analyzer='char')\r\n",
        "X_tdf_vec = tfidf_vector.fit_transform(X)"
      ],
      "execution_count": 139,
      "outputs": []
    },
    {
      "cell_type": "code",
      "metadata": {
        "colab": {
          "base_uri": "https://localhost:8080/"
        },
        "id": "h5fPXb65jwBX",
        "outputId": "d979b2d9-53e0-450f-963b-fff85d00c465"
      },
      "source": [
        "# 10-fold cross-vaidation KNN model k=15\r\n",
        "knn = KNeighborsClassifier(n_neighbors=27)\r\n",
        "scores_knn =cross_val_score(knn, X_tdf_vec, y, cv=10, scoring='accuracy')\r\n",
        "scores_knn =np.array(scores_knn)\r\n",
        "print('Score_mean:', np.mean(scores_knn))\r\n",
        "print('Score_std:',  np.std(scores_knn))"
      ],
      "execution_count": 140,
      "outputs": [
        {
          "output_type": "stream",
          "text": [
            "Score_mean: 0.7834670159585168\n",
            "Score_std: 0.023888392538064195\n"
          ],
          "name": "stdout"
        }
      ]
    },
    {
      "cell_type": "code",
      "metadata": {
        "id": "xZNeiD-ZmwIV"
      },
      "source": [
        "# search for an optimal value of K for KNN\r\n",
        "\r\n",
        "# range of k we want to try\r\n",
        "k_range = range(1, 31)\r\n",
        "# empty list to store scores\r\n",
        "k_scores = []\r\n",
        "\r\n",
        "# 1. we will loop through reasonable values of k\r\n",
        "for k in k_range:\r\n",
        "    # 2. run KNeighborsClassifier with k neighbours\r\n",
        "    knn = KNeighborsClassifier(n_neighbors=k)\r\n",
        "    # 3. obtain cross_val_score for KNeighborsClassifier with k neighbours\r\n",
        "    scores= cross_val_score(knn, X_tdf_vec, y, cv=10, scoring='accuracy')\r\n",
        "    # 4. append mean of scores for k neighbors to k_scores list\r\n",
        "    k_scores.append(scores.mean())"
      ],
      "execution_count": 141,
      "outputs": []
    },
    {
      "cell_type": "code",
      "metadata": {
        "colab": {
          "base_uri": "https://localhost:8080/",
          "height": 300
        },
        "id": "xTtUkfWjnWCX",
        "outputId": "8a41b526-ec49-404e-eea9-825510fd38b4"
      },
      "source": [
        "%matplotlib inline\r\n",
        "# Plot how accuracy changes as we vary k\r\n",
        "plt.style.use('dark_background')\r\n",
        "plt.plot(k_range, k_scores)\r\n",
        "plt.xlabel('Value of K for KNN')\r\n",
        "plt.ylabel('Cross-validated accuracy')"
      ],
      "execution_count": 142,
      "outputs": [
        {
          "output_type": "execute_result",
          "data": {
            "text/plain": [
              "Text(0, 0.5, 'Cross-validated accuracy')"
            ]
          },
          "metadata": {
            "tags": []
          },
          "execution_count": 142
        },
        {
          "output_type": "display_data",
          "data": {
            "image/png": "[encoded data removed]",
            "text/plain": [
              "<Figure size 432x288 with 1 Axes>"
            ]
          },
          "metadata": {
            "tags": []
          }
        }
      ]
    },
    {
      "cell_type": "markdown",
      "metadata": {
        "id": "mTerLcvrgoXF"
      },
      "source": [
        "#####KNN using text column + Keyword "
      ]
    },
    {
      "cell_type": "code",
      "metadata": {
        "id": "ptYiUWpxgwVB"
      },
      "source": [
        "# define features \r\n",
        "X = df_train['Text_keyword']\r\n",
        "y = df_train['target']\r\n",
        "# Define vectorizer \r\n",
        "tfidf_vector = TfidfVectorizer(tokenizer=spacy_tokenizer, ngram_range=(3, 4), min_df=1, max_df=1.0, analyzer='char')\r\n",
        "X_tdf_vec = tfidf_vector.fit_transform(X)"
      ],
      "execution_count": 143,
      "outputs": []
    },
    {
      "cell_type": "code",
      "metadata": {
        "colab": {
          "base_uri": "https://localhost:8080/"
        },
        "id": "XbloZiS5gxiB",
        "outputId": "c6769716-904f-4aa7-c30c-42b5d1cfdeda"
      },
      "source": [
        "# 10-fold cross-vaidation KNN model k=15\r\n",
        "knn = KNeighborsClassifier(n_neighbors=27)\r\n",
        "scores_knn =cross_val_score(knn, X_tdf_vec, y, cv=10, scoring='accuracy')\r\n",
        "scores_knn =np.array(scores_knn)\r\n",
        "print('Score_mean:', np.mean(scores_knn))\r\n",
        "print('Score_std:',  np.std(scores_knn))"
      ],
      "execution_count": 144,
      "outputs": [
        {
          "output_type": "stream",
          "text": [
            "Score_mean: 0.7469836784552666\n",
            "Score_std: 0.019971738654797736\n"
          ],
          "name": "stdout"
        }
      ]
    },
    {
      "cell_type": "code",
      "metadata": {
        "id": "XUmycG7yg2CP"
      },
      "source": [
        "# search for an optimal value of K for KNN\r\n",
        "\r\n",
        "# range of k we want to try\r\n",
        "k_range = range(1, 31)\r\n",
        "# empty list to store scores\r\n",
        "k_scores = []\r\n",
        "\r\n",
        "# 1. we will loop through reasonable values of k\r\n",
        "for k in k_range:\r\n",
        "    # 2. run KNeighborsClassifier with k neighbours\r\n",
        "    knn = KNeighborsClassifier(n_neighbors=k)\r\n",
        "    # 3. obtain cross_val_score for KNeighborsClassifier with k neighbours\r\n",
        "    scores= cross_val_score(knn, X_tdf_vec, y, cv=10, scoring='accuracy')\r\n",
        "    # 4. append mean of scores for k neighbors to k_scores list\r\n",
        "    k_scores.append(scores.mean())"
      ],
      "execution_count": 145,
      "outputs": []
    },
    {
      "cell_type": "code",
      "metadata": {
        "colab": {
          "base_uri": "https://localhost:8080/",
          "height": 296
        },
        "id": "PrSuuaCGg4pI",
        "outputId": "1abef836-d151-4a90-9614-2f3877beed1d"
      },
      "source": [
        "%matplotlib inline\r\n",
        "# Plot how accuracy changes as we vary k\r\n",
        "plt.style.use('dark_background')\r\n",
        "plt.plot(k_range, k_scores)\r\n",
        "plt.xlabel('Value of K for KNN')\r\n",
        "plt.ylabel('Cross-validated accuracy')"
      ],
      "execution_count": 146,
      "outputs": [
        {
          "output_type": "execute_result",
          "data": {
            "text/plain": [
              "Text(0, 0.5, 'Cross-validated accuracy')"
            ]
          },
          "metadata": {
            "tags": []
          },
          "execution_count": 146
        },
        {
          "output_type": "display_data",
          "data": {
            "image/png": "[encoded data removed]",
            "text/plain": [
              "<Figure size 432x288 with 1 Axes>"
            ]
          },
          "metadata": {
            "tags": []
          }
        }
      ]
    },
    {
      "cell_type": "markdown",
      "metadata": {
        "id": "38GnzUOSYlVi"
      },
      "source": [
        "#Logistic regression improvement \n",
        "From the model selection we have decided to focus on Logistic regression, which has performed the best accurancy, and try to improve the accuracy by selecting best parameters. \n",
        "In order to achieve a better result we proceed as follow: \n",
        "- Exploration of Logistic regression parameters\n",
        "- Optimize TF-IDF parameters\n",
        "- optimize logistic regression parameters with gridSearchCV \n",
        "- Try some dimensionality reduction in order to improve accurancy and speed (Standardization and PCA)\n"
      ]
    },
    {
      "cell_type": "markdown",
      "metadata": {
        "id": "wasgvlWk04Cu"
      },
      "source": [
        "### Exploring Logistic Regression Parameters scores using cross\r\n",
        "We are going to do this analisis in order to see how accuracy change by changing LogisticRegression parameters. This is only an explanatory analisis, we will do the optimization of the parameters at the end using GridsearchCV"
      ]
    },
    {
      "cell_type": "code",
      "metadata": {
        "id": "829UZe8rrm_3"
      },
      "source": [
        "LR = LogisticRegression(solver=\"lbfgs\", max_iter=1000, random_state=72)"
      ],
      "execution_count": null,
      "outputs": []
    },
    {
      "cell_type": "markdown",
      "metadata": {
        "id": "C_K3EBS66-UL"
      },
      "source": [
        "#### Logistic Regression Parameter: Solver "
      ]
    },
    {
      "cell_type": "code",
      "metadata": {
        "id": "johjpnk_q3eO"
      },
      "source": [
        "# search for an optimal solver \r\n",
        "\r\n",
        "# Type of solver we want to try \r\n",
        "solvers= ['lbfgs', 'saga', 'sag', 'liblinear', 'newton-cg'] \r\n",
        "# empty list to store scores\r\n",
        "solver_scores = []\r\n",
        "\r\n",
        "# 1. we will loop through type of solver \r\n",
        "for k in solvers:\r\n",
        "    # 2. run logistic Regression  with k solver\r\n",
        "    LR = LogisticRegression(solver=k)\r\n",
        "    # 3. obtain cross_val_score for Logistic Regression  with k Solver\r\n",
        "    scores= cross_val_score(LR, X_tdf_vec, y, cv=10, scoring='accuracy')\r\n",
        "    # 4. append mean of scores for k solver to solver_scores list\r\n",
        "    solver_scores.append(scores.mean())"
      ],
      "execution_count": 147,
      "outputs": []
    },
    {
      "cell_type": "code",
      "metadata": {
        "colab": {
          "base_uri": "https://localhost:8080/",
          "height": 312
        },
        "id": "UeIfLbNYzf_F",
        "outputId": "620edfd2-87e9-43da-a449-d6cb078230bd"
      },
      "source": [
        "plt.style.use('dark_background')\r\n",
        "plt.title('Evolution of score by changing solver')\r\n",
        "plt.plot(solvers, solver_scores)\r\n",
        "plt.xlabel('solver')\r\n",
        "plt.ylabel('Score')"
      ],
      "execution_count": 148,
      "outputs": [
        {
          "output_type": "execute_result",
          "data": {
            "text/plain": [
              "Text(0, 0.5, 'Score')"
            ]
          },
          "metadata": {
            "tags": []
          },
          "execution_count": 148
        },
        {
          "output_type": "display_data",
          "data": {
            "image/png": "[encoded data removed]",
            "text/plain": [
              "<Figure size 432x288 with 1 Axes>"
            ]
          },
          "metadata": {
            "tags": []
          }
        }
      ]
    },
    {
      "cell_type": "markdown",
      "metadata": {
        "id": "w1ofSK7J7HuW"
      },
      "source": [
        "####Logistic regression parameter C"
      ]
    },
    {
      "cell_type": "code",
      "metadata": {
        "id": "hVk42jTTs6I9"
      },
      "source": [
        "#search for optimal C parameter \r\n",
        "\r\n",
        "C_param = [1.0, 1.5, 1.8, 1.9, 2.0, 2.1, 2.2, 2.3, 2.4, 2.5, 2.6, 2.8, 2.9, 3.0]\r\n",
        "C_score= []\r\n",
        "# 1. we will loop through reasonable values of C\r\n",
        "for k in C_param:\r\n",
        "    # 2. run LogisticRegression  with value of C=k\r\n",
        "    LR = LogisticRegression(solver='lbfgs', max_iter=1000, random_state=72, C=k)\r\n",
        "    # 3. obtain cross_val_score for LogisticRegression with value of C=k \r\n",
        "    scores_C= cross_val_score(LR, X_tdf_vec, y, cv=10, scoring='accuracy')\r\n",
        "    # 4. append mean of scores for C=k to C_score list\r\n",
        "    C_score.append(scores_C.mean())\r\n",
        "  "
      ],
      "execution_count": 149,
      "outputs": []
    },
    {
      "cell_type": "code",
      "metadata": {
        "colab": {
          "base_uri": "https://localhost:8080/",
          "height": 312
        },
        "id": "KoQvkKsRKMQF",
        "outputId": "fec71edc-684a-4dfd-d2bb-5e34d8752bd2"
      },
      "source": [
        "# Plot\r\n",
        "C_param_d = pd.DataFrame(C_param)\r\n",
        "C_score_d = pd.DataFrame(C_score)\r\n",
        "C_param_d['score'] = C_score_d\r\n",
        "plt.style.use('dark_background')\r\n",
        "plt.title('Evolution of score by changing C parameters')\r\n",
        "plt.plot(C_param, C_score)\r\n",
        "plt.xlabel('Value of C')\r\n",
        "plt.ylabel('Score')"
      ],
      "execution_count": 150,
      "outputs": [
        {
          "output_type": "execute_result",
          "data": {
            "text/plain": [
              "Text(0, 0.5, 'Score')"
            ]
          },
          "metadata": {
            "tags": []
          },
          "execution_count": 150
        },
        {
          "output_type": "display_data",
          "data": {
            "image/png": "[encoded data removed]",
            "text/plain": [
              "<Figure size 432x288 with 1 Axes>"
            ]
          },
          "metadata": {
            "tags": []
          }
        }
      ]
    },
    {
      "cell_type": "markdown",
      "metadata": {
        "id": "9dfNMetL7Nig"
      },
      "source": [
        "#### LogisticRegression parameter: Max_iteration "
      ]
    },
    {
      "cell_type": "code",
      "metadata": {
        "id": "eQFyhfu52CCF"
      },
      "source": [
        "#search for optimal max_iter\r\n",
        "# range of k we want to try\r\n",
        " \r\n",
        "# empty list to store scores\r\n",
        "max_iter = [100, 200, 500, 1000, 2000]\r\n",
        "max_iter_score= []\r\n",
        "# 1. we will loop through reasonable values of max_iter\r\n",
        "for k in max_iter:\r\n",
        "    # 2. run LogisticRegression with max_iter=k\r\n",
        "    LR = LogisticRegression(solver='lbfgs', max_iter=k, random_state=72, C=2.6)\r\n",
        "    # 3. obtain cross_val_score for LogisticRegression with max_iter= k\r\n",
        "    scores_iter= cross_val_score(LR, X_tdf_vec, y, cv=10, scoring='accuracy')\r\n",
        "    # 4. append mean of scores for max_iter=k\r\n",
        "    max_iter_score.append(scores_iter.mean())"
      ],
      "execution_count": 151,
      "outputs": []
    },
    {
      "cell_type": "code",
      "metadata": {
        "colab": {
          "base_uri": "https://localhost:8080/",
          "height": 313
        },
        "id": "sZNYU1E94mXu",
        "outputId": "39dee30d-ca6e-4557-f00a-68bf6454ee1a"
      },
      "source": [
        "#Plot\r\n",
        "plt.style.use('dark_background')\r\n",
        "plt.title('Evolution of score by changing max_iter parameters')\r\n",
        "plt.plot(max_iter, max_iter_score)\r\n",
        "plt.xlabel('max_iter')\r\n",
        "plt.ylabel('Score')"
      ],
      "execution_count": 152,
      "outputs": [
        {
          "output_type": "execute_result",
          "data": {
            "text/plain": [
              "Text(0, 0.5, 'Score')"
            ]
          },
          "metadata": {
            "tags": []
          },
          "execution_count": 152
        },
        {
          "output_type": "display_data",
          "data": {
            "image/png": "[encoded data removed]",
            "text/plain": [
              "<Figure size 432x288 with 1 Axes>"
            ]
          },
          "metadata": {
            "tags": []
          }
        }
      ]
    },
    {
      "cell_type": "markdown",
      "metadata": {
        "id": "DqxEnhAFNV1-"
      },
      "source": [
        ""
      ]
    },
    {
      "cell_type": "markdown",
      "metadata": {
        "id": "BVu5osrWZyoV"
      },
      "source": [
        "###Optimize logistic regression parameters with gridSearchCV \n",
        "The above logistic regression was run with the default parameters.In this chapter we are trying to improve the accurancy by tuning the hyperparameters using the \"GridSearch\" method. \n",
        "We run the logistic regression using the TF-IDF vectorizer with the optimized parameters. \n"
      ]
    },
    {
      "cell_type": "code",
      "metadata": {
        "colab": {
          "base_uri": "https://localhost:8080/"
        },
        "id": "z5gfIN-Rg9-t",
        "outputId": "e9cfe70d-f57a-4621-a530-65e2663c8846"
      },
      "source": [
        "from sklearn.feature_extraction.text import TfidfVectorizer\n",
        "\n",
        "# Define vectorizer - use above cleaning function\n",
        "tfidf_vector = TfidfVectorizer(tokenizer=spacy_tokenizer, ngram_range=(3, 4), min_df=1, max_df=1.0, analyzer='char')\n",
        "\n",
        "# Fit and transform X_train and X_test\n",
        "X_train_vec = tfidf_vector.fit_transform(X_train)\n",
        "X_test_vec = tfidf_vector.transform(X_test)\n",
        "X_test_vec_s = tfidf_vector.transform(df_test['text'])\n",
        "print(X_train_vec.shape)\n",
        "print(X_test_vec.shape)\n",
        "print(X_test_vec_s.shape)\n",
        "X_train_vec"
      ],
      "execution_count": 153,
      "outputs": [
        {
          "output_type": "stream",
          "text": [
            "(5109, 58770)\n",
            "(1278, 58770)\n",
            "(1142, 58770)\n"
          ],
          "name": "stdout"
        },
        {
          "output_type": "execute_result",
          "data": {
            "text/plain": [
              "<5109x58770 sparse matrix of type '<class 'numpy.float64'>'\n",
              "\twith 758678 stored elements in Compressed Sparse Row format>"
            ]
          },
          "metadata": {
            "tags": []
          },
          "execution_count": 153
        }
      ]
    },
    {
      "cell_type": "code",
      "metadata": {
        "id": "mmN_hFRHZ4sd"
      },
      "source": [
        "# Gridsearch Logistic regression\n",
        "from sklearn.model_selection import GridSearchCV\n",
        "from sklearn import linear_model,  datasets\n",
        "\n",
        "parameters = dict({'solver': ['lbfgs', 'saga', 'liblinear'], 'C':[1, 10]})\n",
        "LR = LogisticRegression(max_iter=1000, random_state=72)\n",
        "\n",
        "clf = GridSearchCV(\n",
        "    LR, parameters, scoring='accuracy'\n",
        "    )\n",
        "best_clf = clf.fit(X_train_vec, y_train)"
      ],
      "execution_count": 154,
      "outputs": []
    },
    {
      "cell_type": "code",
      "metadata": {
        "colab": {
          "base_uri": "https://localhost:8080/"
        },
        "id": "j6aOKmSBpx9G",
        "outputId": "69c9627e-9789-4cfd-8ad0-00c57b33bd48"
      },
      "source": [
        "best_clf"
      ],
      "execution_count": 155,
      "outputs": [
        {
          "output_type": "execute_result",
          "data": {
            "text/plain": [
              "GridSearchCV(cv=None, error_score=nan,\n",
              "             estimator=LogisticRegression(C=1.0, class_weight=None, dual=False,\n",
              "                                          fit_intercept=True,\n",
              "                                          intercept_scaling=1, l1_ratio=None,\n",
              "                                          max_iter=1000, multi_class='auto',\n",
              "                                          n_jobs=None, penalty='l2',\n",
              "                                          random_state=72, solver='lbfgs',\n",
              "                                          tol=0.0001, verbose=0,\n",
              "                                          warm_start=False),\n",
              "             iid='deprecated', n_jobs=None,\n",
              "             param_grid={'C': [1, 10],\n",
              "                         'solver': ['lbfgs', 'saga', 'liblinear']},\n",
              "             pre_dispatch='2*n_jobs', refit=True, return_train_score=False,\n",
              "             scoring='accuracy', verbose=0)"
            ]
          },
          "metadata": {
            "tags": []
          },
          "execution_count": 155
        }
      ]
    },
    {
      "cell_type": "code",
      "metadata": {
        "id": "NocUTLUG1Cma"
      },
      "source": [
        ""
      ],
      "execution_count": null,
      "outputs": []
    },
    {
      "cell_type": "code",
      "metadata": {
        "colab": {
          "base_uri": "https://localhost:8080/"
        },
        "id": "SGLUADjEteHC",
        "outputId": "3d1f920e-3d05-4935-c71c-638133001b62"
      },
      "source": [
        "y_pred_test_vec = best_clf.predict(X_test_vec)\r\n",
        "print(f\"TEST ACCURACY SCORE:\\n{accuracy_score(y_test, y_pred_test_vec):.4f}\")\r\n",
        "print(f\"CONFUSION MATRIX:\\n{confusion_matrix(y_test, y_pred_test_vec)}\")"
      ],
      "execution_count": 157,
      "outputs": [
        {
          "output_type": "stream",
          "text": [
            "TEST ACCURACY SCORE:\n",
            "0.8146\n",
            "CONFUSION MATRIX:\n",
            "[[687  65]\n",
            " [172 354]]\n"
          ],
          "name": "stdout"
        }
      ]
    },
    {
      "cell_type": "code",
      "metadata": {
        "colab": {
          "base_uri": "https://localhost:8080/"
        },
        "id": "txjB38LS1GOy",
        "outputId": "bff3bc57-990b-4c64-e3df-5cb43883cae9"
      },
      "source": [
        "y_pred_test_vec = best_clf.predict(X_test_vec_s)\r\n",
        "y_pred_test_vec"
      ],
      "execution_count": 158,
      "outputs": [
        {
          "output_type": "execute_result",
          "data": {
            "text/plain": [
              "array([0, 0, 1, ..., 1, 0, 1])"
            ]
          },
          "metadata": {
            "tags": []
          },
          "execution_count": 158
        }
      ]
    },
    {
      "cell_type": "code",
      "metadata": {
        "colab": {
          "base_uri": "https://localhost:8080/",
          "height": 419
        },
        "id": "9lGMtSlBuxhc",
        "outputId": "a180d48c-53c0-4f42-9985-5f432232bfc4"
      },
      "source": [
        "target_test = best_clf.predict(X_test_vec_s)\r\n",
        "target_test =pd.DataFrame(target_test)\r\n",
        "target_test"
      ],
      "execution_count": 159,
      "outputs": [
        {
          "output_type": "execute_result",
          "data": {
            "text/html": [
              "<div>\n",
              "<style scoped>\n",
              "    .dataframe tbody tr th:only-of-type {\n",
              "        vertical-align: middle;\n",
              "    }\n",
              "\n",
              "    .dataframe tbody tr th {\n",
              "        vertical-align: top;\n",
              "    }\n",
              "\n",
              "    .dataframe thead th {\n",
              "        text-align: right;\n",
              "    }\n",
              "</style>\n",
              "<table border=\"1\" class=\"dataframe\">\n",
              "  <thead>\n",
              "    <tr style=\"text-align: right;\">\n",
              "      <th></th>\n",
              "      <th>0</th>\n",
              "    </tr>\n",
              "  </thead>\n",
              "  <tbody>\n",
              "    <tr>\n",
              "      <th>0</th>\n",
              "      <td>0</td>\n",
              "    </tr>\n",
              "    <tr>\n",
              "      <th>1</th>\n",
              "      <td>0</td>\n",
              "    </tr>\n",
              "    <tr>\n",
              "      <th>2</th>\n",
              "      <td>1</td>\n",
              "    </tr>\n",
              "    <tr>\n",
              "      <th>3</th>\n",
              "      <td>0</td>\n",
              "    </tr>\n",
              "    <tr>\n",
              "      <th>4</th>\n",
              "      <td>0</td>\n",
              "    </tr>\n",
              "    <tr>\n",
              "      <th>...</th>\n",
              "      <td>...</td>\n",
              "    </tr>\n",
              "    <tr>\n",
              "      <th>1137</th>\n",
              "      <td>1</td>\n",
              "    </tr>\n",
              "    <tr>\n",
              "      <th>1138</th>\n",
              "      <td>1</td>\n",
              "    </tr>\n",
              "    <tr>\n",
              "      <th>1139</th>\n",
              "      <td>1</td>\n",
              "    </tr>\n",
              "    <tr>\n",
              "      <th>1140</th>\n",
              "      <td>0</td>\n",
              "    </tr>\n",
              "    <tr>\n",
              "      <th>1141</th>\n",
              "      <td>1</td>\n",
              "    </tr>\n",
              "  </tbody>\n",
              "</table>\n",
              "<p>1142 rows × 1 columns</p>\n",
              "</div>"
            ],
            "text/plain": [
              "      0\n",
              "0     0\n",
              "1     0\n",
              "2     1\n",
              "3     0\n",
              "4     0\n",
              "...  ..\n",
              "1137  1\n",
              "1138  1\n",
              "1139  1\n",
              "1140  0\n",
              "1141  1\n",
              "\n",
              "[1142 rows x 1 columns]"
            ]
          },
          "metadata": {
            "tags": []
          },
          "execution_count": 159
        }
      ]
    },
    {
      "cell_type": "code",
      "metadata": {
        "id": "Mx8504ELwGVh"
      },
      "source": [
        "sample_submission.assign(target = target_test)\r\n",
        "target_test.to_csv('submission_gridsearch.csv', index=False)\r\n"
      ],
      "execution_count": null,
      "outputs": []
    },
    {
      "cell_type": "markdown",
      "metadata": {
        "id": "lT2R0A5PaBvV"
      },
      "source": [
        "### Dimensionality reduction in order to improve accurancy and speed (Standardization and PCA)"
      ]
    },
    {
      "cell_type": "code",
      "metadata": {
        "id": "xhtI18TCaOGu"
      },
      "source": [
        "from sklearn.preprocessing import StandardScaler\n",
        "from sklearn.decomposition import PCA\n",
        "import numpy as np\n",
        "import time"
      ],
      "execution_count": 160,
      "outputs": []
    },
    {
      "cell_type": "code",
      "metadata": {
        "id": "IUMstUWuE0Cw"
      },
      "source": [
        "# Define vectorizer - use above cleaning function\r\n",
        "tfidf_vector = TfidfVectorizer(tokenizer=spacy_tokenizer, ngram_range=(3, 4), min_df=1, max_df=1.0, analyzer='char')"
      ],
      "execution_count": 161,
      "outputs": []
    },
    {
      "cell_type": "code",
      "metadata": {
        "colab": {
          "base_uri": "https://localhost:8080/"
        },
        "id": "CYFmjpfEc4RG",
        "outputId": "1ba52076-6db0-427b-f345-360f4cece239"
      },
      "source": [
        "# Vectorize the text\n",
        "\n",
        "from sklearn.feature_extraction.text import TfidfVectorizer\n",
        "\n",
        "# Define vectorizer - use above cleaning function\n",
        "tfidf_vector = TfidfVectorizer(tokenizer=spacy_tokenizer, ngram_range=(3, 4), min_df=1, max_df=1.0, analyzer='char')\n",
        "\n",
        "# Fit and transform X_train and X_test\n",
        "X_train_vec = tfidf_vector.fit_transform(X_train).toarray()\n",
        "X_test_vec = tfidf_vector.fit_transform(X_test).toarray()\n",
        "print(X_train_vec.shape)\n",
        "print(X_train_vec)\n",
        "print(X_test_vec.shape)\n"
      ],
      "execution_count": 162,
      "outputs": [
        {
          "output_type": "stream",
          "text": [
            "(5109, 58770)\n",
            "[[0. 0. 0. ... 0. 0. 0.]\n",
            " [0. 0. 0. ... 0. 0. 0.]\n",
            " [0. 0. 0. ... 0. 0. 0.]\n",
            " ...\n",
            " [0. 0. 0. ... 0. 0. 0.]\n",
            " [0. 0. 0. ... 0. 0. 0.]\n",
            " [0. 0. 0. ... 0. 0. 0.]]\n",
            "(1278, 30234)\n"
          ],
          "name": "stdout"
        }
      ]
    },
    {
      "cell_type": "code",
      "metadata": {
        "id": "xlUSc706FmlO"
      },
      "source": [
        ""
      ],
      "execution_count": null,
      "outputs": []
    },
    {
      "cell_type": "markdown",
      "metadata": {
        "id": "5mVrLKqfmrOj"
      },
      "source": [
        "###PCA"
      ]
    },
    {
      "cell_type": "code",
      "metadata": {
        "id": "1DhZ2CXvFNax"
      },
      "source": [
        "# Define Scaler\r\n",
        "scaler = StandardScaler()\r\n",
        "\r\n",
        "# Define PCA\r\n",
        "pca = PCA(n_components=2000)\r\n",
        "\r\n",
        "# Example on X_train_vec\r\n",
        "X_train_vec_pca = pca.fit_transform(X_train_vec)"
      ],
      "execution_count": 163,
      "outputs": []
    },
    {
      "cell_type": "code",
      "metadata": {
        "colab": {
          "base_uri": "https://localhost:8080/"
        },
        "id": "j7yTM6-KJ89P",
        "outputId": "e3bedae7-7a99-4533-b122-fbbad37e4234"
      },
      "source": [
        "print('Shape after PCA: ', X_train_vec_pca)\r\n",
        "print('Number of components:', pca.n_components_)\r\n",
        "print('Explained variance ratio: ', sum(pca.explained_variance_ratio_))"
      ],
      "execution_count": 164,
      "outputs": [
        {
          "output_type": "stream",
          "text": [
            "Shape after PCA:  [[-1.19580568e-01  8.73345745e-02  2.06730660e-01 ...  9.42808323e-04\n",
            "   1.10438062e-04  8.13643012e-04]\n",
            " [-2.96510728e-02  7.75859761e-02 -4.22614709e-02 ...  6.47622995e-03\n",
            "   2.83409923e-03  8.06113066e-03]\n",
            " [-9.43125417e-03  3.33307239e-02 -3.67782329e-02 ...  8.14746141e-03\n",
            "  -2.11423698e-02  4.77962945e-03]\n",
            " ...\n",
            " [-1.69496613e-02  1.16579013e-02 -3.31769117e-03 ... -1.73354896e-04\n",
            "  -9.73410797e-04  5.29308679e-03]\n",
            " [ 2.57629279e-03 -3.75593995e-02 -2.43630884e-03 ...  9.07199971e-05\n",
            "   4.38102536e-03  2.79207930e-02]\n",
            " [ 1.63390728e-03 -8.87691656e-02  4.67873196e-02 ...  8.02474039e-03\n",
            "  -7.60547031e-03  1.73195832e-03]]\n",
            "Number of components: 2000\n",
            "Explained variance ratio:  0.8069865781078029\n"
          ],
          "name": "stdout"
        }
      ]
    },
    {
      "cell_type": "markdown",
      "metadata": {
        "id": "_XzoFFdFisvD"
      },
      "source": [
        "###Logistic regression \r\n",
        "- With standardisation\r\n"
      ]
    },
    {
      "cell_type": "code",
      "metadata": {
        "colab": {
          "base_uri": "https://localhost:8080/"
        },
        "id": "EcHtlOKLovUl",
        "outputId": "878efcf7-4305-44f2-f195-127e26fb3b49"
      },
      "source": [
        "# With Standardization\r\n",
        "from sklearn.linear_model import LogisticRegression\r\n",
        "from sklearn.pipeline import Pipeline\r\n",
        "import time\r\n",
        " # Define classifier\r\n",
        "LR = LogisticRegression(solver=\"lbfgs\", max_iter=2000, random_state=72)\r\n",
        "# Define Model\r\n",
        "pipe = Pipeline([('scaler', scaler),\r\n",
        "                 ('logistic reg', LogisticRegression())\r\n",
        "                 ])\r\n",
        "\r\n",
        "# Fit model\r\n",
        "pipe.fit(X_train_vec, y_train)\r\n",
        "print('Train Accuracy: ', round(pipe.score(X_train_vec, y_train), 4))\r\n",
        "print('Test Accuracy: ', round(pipe.score(X_test_vec, y_test), 4))"
      ],
      "execution_count": null,
      "outputs": [
        {
          "output_type": "stream",
          "text": [
            "/usr/local/lib/python3.6/dist-packages/sklearn/linear_model/_logistic.py:940: ConvergenceWarning: lbfgs failed to converge (status=1):\n",
            "STOP: TOTAL NO. of ITERATIONS REACHED LIMIT.\n",
            "\n",
            "Increase the number of iterations (max_iter) or scale the data as shown in:\n",
            "    https://scikit-learn.org/stable/modules/preprocessing.html\n",
            "Please also refer to the documentation for alternative solver options:\n",
            "    https://scikit-learn.org/stable/modules/linear_model.html#logistic-regression\n",
            "  extra_warning_msg=_LOGISTIC_SOLVER_CONVERGENCE_MSG)\n"
          ],
          "name": "stderr"
        },
        {
          "output_type": "stream",
          "text": [
            "Train Accuracy:  0.9979\n",
            "Test Accuracy:  0.7398\n"
          ],
          "name": "stdout"
        }
      ]
    },
    {
      "cell_type": "code",
      "metadata": {
        "id": "GJLys6XLkKQf",
        "colab": {
          "base_uri": "https://localhost:8080/",
          "height": 375
        },
        "outputId": "8387f9ea-270e-4db6-ad5b-93bef8a9007f"
      },
      "source": [
        "# With PCA\n",
        "\n",
        "# Define Model\n",
        "pipe = Pipeline([\n",
        "                 ('pca', pca),\n",
        "                 ('logistic reg', LR),\n",
        "                 ])\n",
        "# Fit model\n",
        "start = time.time()\n",
        "pipe.fit(X_train_vec, y_train)\n",
        "end = time.time()\n",
        "print('Time: ', round(end-start, 4))\n",
        "print('Train Accuracy: ', round(pipe.score(X_train_vec, y_train), 4))\n",
        "print('Test Accuracy: ', round(pipe.score(X_test_vec, y_test), 4))"
      ],
      "execution_count": 165,
      "outputs": [
        {
          "output_type": "stream",
          "text": [
            "Time:  465.752\n",
            "Train Accuracy:  0.8657\n"
          ],
          "name": "stdout"
        },
        {
          "output_type": "error",
          "ename": "ValueError",
          "evalue": "ignored",
          "traceback": [
            "\u001b[0;31m---------------------------------------------------------------------------\u001b[0m",
            "\u001b[0;31mValueError\u001b[0m                                Traceback (most recent call last)",
            "\u001b[0;32m<ipython-input-165-14c4fa446c3e>\u001b[0m in \u001b[0;36m<module>\u001b[0;34m()\u001b[0m\n\u001b[1;32m     12\u001b[0m \u001b[0mprint\u001b[0m\u001b[0;34m(\u001b[0m\u001b[0;34m'Time: '\u001b[0m\u001b[0;34m,\u001b[0m \u001b[0mround\u001b[0m\u001b[0;34m(\u001b[0m\u001b[0mend\u001b[0m\u001b[0;34m-\u001b[0m\u001b[0mstart\u001b[0m\u001b[0;34m,\u001b[0m \u001b[0;36m4\u001b[0m\u001b[0;34m)\u001b[0m\u001b[0;34m)\u001b[0m\u001b[0;34m\u001b[0m\u001b[0;34m\u001b[0m\u001b[0m\n\u001b[1;32m     13\u001b[0m \u001b[0mprint\u001b[0m\u001b[0;34m(\u001b[0m\u001b[0;34m'Train Accuracy: '\u001b[0m\u001b[0;34m,\u001b[0m \u001b[0mround\u001b[0m\u001b[0;34m(\u001b[0m\u001b[0mpipe\u001b[0m\u001b[0;34m.\u001b[0m\u001b[0mscore\u001b[0m\u001b[0;34m(\u001b[0m\u001b[0mX_train_vec\u001b[0m\u001b[0;34m,\u001b[0m \u001b[0my_train\u001b[0m\u001b[0;34m)\u001b[0m\u001b[0;34m,\u001b[0m \u001b[0;36m4\u001b[0m\u001b[0;34m)\u001b[0m\u001b[0;34m)\u001b[0m\u001b[0;34m\u001b[0m\u001b[0;34m\u001b[0m\u001b[0m\n\u001b[0;32m---> 14\u001b[0;31m \u001b[0mprint\u001b[0m\u001b[0;34m(\u001b[0m\u001b[0;34m'Test Accuracy: '\u001b[0m\u001b[0;34m,\u001b[0m \u001b[0mround\u001b[0m\u001b[0;34m(\u001b[0m\u001b[0mpipe\u001b[0m\u001b[0;34m.\u001b[0m\u001b[0mscore\u001b[0m\u001b[0;34m(\u001b[0m\u001b[0mX_test_vec\u001b[0m\u001b[0;34m,\u001b[0m \u001b[0my_test\u001b[0m\u001b[0;34m)\u001b[0m\u001b[0;34m,\u001b[0m \u001b[0;36m4\u001b[0m\u001b[0;34m)\u001b[0m\u001b[0;34m)\u001b[0m\u001b[0;34m\u001b[0m\u001b[0;34m\u001b[0m\u001b[0m\n\u001b[0m",
            "\u001b[0;32m/usr/local/lib/python3.6/dist-packages/sklearn/utils/metaestimators.py\u001b[0m in \u001b[0;36m<lambda>\u001b[0;34m(*args, **kwargs)\u001b[0m\n\u001b[1;32m    114\u001b[0m \u001b[0;34m\u001b[0m\u001b[0m\n\u001b[1;32m    115\u001b[0m         \u001b[0;31m# lambda, but not partial, allows help() to work with update_wrapper\u001b[0m\u001b[0;34m\u001b[0m\u001b[0;34m\u001b[0m\u001b[0;34m\u001b[0m\u001b[0m\n\u001b[0;32m--> 116\u001b[0;31m         \u001b[0mout\u001b[0m \u001b[0;34m=\u001b[0m \u001b[0;32mlambda\u001b[0m \u001b[0;34m*\u001b[0m\u001b[0margs\u001b[0m\u001b[0;34m,\u001b[0m \u001b[0;34m**\u001b[0m\u001b[0mkwargs\u001b[0m\u001b[0;34m:\u001b[0m \u001b[0mself\u001b[0m\u001b[0;34m.\u001b[0m\u001b[0mfn\u001b[0m\u001b[0;34m(\u001b[0m\u001b[0mobj\u001b[0m\u001b[0;34m,\u001b[0m \u001b[0;34m*\u001b[0m\u001b[0margs\u001b[0m\u001b[0;34m,\u001b[0m \u001b[0;34m**\u001b[0m\u001b[0mkwargs\u001b[0m\u001b[0;34m)\u001b[0m\u001b[0;34m\u001b[0m\u001b[0;34m\u001b[0m\u001b[0m\n\u001b[0m\u001b[1;32m    117\u001b[0m         \u001b[0;31m# update the docstring of the returned function\u001b[0m\u001b[0;34m\u001b[0m\u001b[0;34m\u001b[0m\u001b[0;34m\u001b[0m\u001b[0m\n\u001b[1;32m    118\u001b[0m         \u001b[0mupdate_wrapper\u001b[0m\u001b[0;34m(\u001b[0m\u001b[0mout\u001b[0m\u001b[0;34m,\u001b[0m \u001b[0mself\u001b[0m\u001b[0;34m.\u001b[0m\u001b[0mfn\u001b[0m\u001b[0;34m)\u001b[0m\u001b[0;34m\u001b[0m\u001b[0;34m\u001b[0m\u001b[0m\n",
            "\u001b[0;32m/usr/local/lib/python3.6/dist-packages/sklearn/pipeline.py\u001b[0m in \u001b[0;36mscore\u001b[0;34m(self, X, y, sample_weight)\u001b[0m\n\u001b[1;32m    613\u001b[0m         \u001b[0mXt\u001b[0m \u001b[0;34m=\u001b[0m \u001b[0mX\u001b[0m\u001b[0;34m\u001b[0m\u001b[0;34m\u001b[0m\u001b[0m\n\u001b[1;32m    614\u001b[0m         \u001b[0;32mfor\u001b[0m \u001b[0m_\u001b[0m\u001b[0;34m,\u001b[0m \u001b[0mname\u001b[0m\u001b[0;34m,\u001b[0m \u001b[0mtransform\u001b[0m \u001b[0;32min\u001b[0m \u001b[0mself\u001b[0m\u001b[0;34m.\u001b[0m\u001b[0m_iter\u001b[0m\u001b[0;34m(\u001b[0m\u001b[0mwith_final\u001b[0m\u001b[0;34m=\u001b[0m\u001b[0;32mFalse\u001b[0m\u001b[0;34m)\u001b[0m\u001b[0;34m:\u001b[0m\u001b[0;34m\u001b[0m\u001b[0;34m\u001b[0m\u001b[0m\n\u001b[0;32m--> 615\u001b[0;31m             \u001b[0mXt\u001b[0m \u001b[0;34m=\u001b[0m \u001b[0mtransform\u001b[0m\u001b[0;34m.\u001b[0m\u001b[0mtransform\u001b[0m\u001b[0;34m(\u001b[0m\u001b[0mXt\u001b[0m\u001b[0;34m)\u001b[0m\u001b[0;34m\u001b[0m\u001b[0;34m\u001b[0m\u001b[0m\n\u001b[0m\u001b[1;32m    616\u001b[0m         \u001b[0mscore_params\u001b[0m \u001b[0;34m=\u001b[0m \u001b[0;34m{\u001b[0m\u001b[0;34m}\u001b[0m\u001b[0;34m\u001b[0m\u001b[0;34m\u001b[0m\u001b[0m\n\u001b[1;32m    617\u001b[0m         \u001b[0;32mif\u001b[0m \u001b[0msample_weight\u001b[0m \u001b[0;32mis\u001b[0m \u001b[0;32mnot\u001b[0m \u001b[0;32mNone\u001b[0m\u001b[0;34m:\u001b[0m\u001b[0;34m\u001b[0m\u001b[0;34m\u001b[0m\u001b[0m\n",
            "\u001b[0;32m/usr/local/lib/python3.6/dist-packages/sklearn/decomposition/_base.py\u001b[0m in \u001b[0;36mtransform\u001b[0;34m(self, X)\u001b[0m\n\u001b[1;32m    127\u001b[0m         \u001b[0mX\u001b[0m \u001b[0;34m=\u001b[0m \u001b[0mcheck_array\u001b[0m\u001b[0;34m(\u001b[0m\u001b[0mX\u001b[0m\u001b[0;34m)\u001b[0m\u001b[0;34m\u001b[0m\u001b[0;34m\u001b[0m\u001b[0m\n\u001b[1;32m    128\u001b[0m         \u001b[0;32mif\u001b[0m \u001b[0mself\u001b[0m\u001b[0;34m.\u001b[0m\u001b[0mmean_\u001b[0m \u001b[0;32mis\u001b[0m \u001b[0;32mnot\u001b[0m \u001b[0;32mNone\u001b[0m\u001b[0;34m:\u001b[0m\u001b[0;34m\u001b[0m\u001b[0;34m\u001b[0m\u001b[0m\n\u001b[0;32m--> 129\u001b[0;31m             \u001b[0mX\u001b[0m \u001b[0;34m=\u001b[0m \u001b[0mX\u001b[0m \u001b[0;34m-\u001b[0m \u001b[0mself\u001b[0m\u001b[0;34m.\u001b[0m\u001b[0mmean_\u001b[0m\u001b[0;34m\u001b[0m\u001b[0;34m\u001b[0m\u001b[0m\n\u001b[0m\u001b[1;32m    130\u001b[0m         \u001b[0mX_transformed\u001b[0m \u001b[0;34m=\u001b[0m \u001b[0mnp\u001b[0m\u001b[0;34m.\u001b[0m\u001b[0mdot\u001b[0m\u001b[0;34m(\u001b[0m\u001b[0mX\u001b[0m\u001b[0;34m,\u001b[0m \u001b[0mself\u001b[0m\u001b[0;34m.\u001b[0m\u001b[0mcomponents_\u001b[0m\u001b[0;34m.\u001b[0m\u001b[0mT\u001b[0m\u001b[0;34m)\u001b[0m\u001b[0;34m\u001b[0m\u001b[0;34m\u001b[0m\u001b[0m\n\u001b[1;32m    131\u001b[0m         \u001b[0;32mif\u001b[0m \u001b[0mself\u001b[0m\u001b[0;34m.\u001b[0m\u001b[0mwhiten\u001b[0m\u001b[0;34m:\u001b[0m\u001b[0;34m\u001b[0m\u001b[0;34m\u001b[0m\u001b[0m\n",
            "\u001b[0;31mValueError\u001b[0m: operands could not be broadcast together with shapes (1278,30234) (58770,) "
          ]
        }
      ]
    },
    {
      "cell_type": "code",
      "metadata": {
        "colab": {
          "base_uri": "https://localhost:8080/"
        },
        "id": "ihMh9YbcgkwE",
        "outputId": "e6a9265a-83c1-4377-f368-66f55b72ab6d"
      },
      "source": [
        "print(X_test_vec.shape)\r\n",
        "print(y_test.shape)"
      ],
      "execution_count": null,
      "outputs": [
        {
          "output_type": "stream",
          "text": [
            "(1278, 30376)\n",
            "(1278,)\n"
          ],
          "name": "stdout"
        }
      ]
    },
    {
      "cell_type": "code",
      "metadata": {
        "colab": {
          "base_uri": "https://localhost:8080/"
        },
        "id": "YCHoKRlehdNT",
        "outputId": "69c8ce72-63d8-4a20-e197-b12962590869"
      },
      "source": [
        "print(X_train_vec.shape)\r\n",
        "print(y_train.shape)"
      ],
      "execution_count": null,
      "outputs": [
        {
          "output_type": "stream",
          "text": [
            "(5109, 59028)\n",
            "(5109,)\n"
          ],
          "name": "stdout"
        }
      ]
    },
    {
      "cell_type": "code",
      "metadata": {
        "colab": {
          "base_uri": "https://localhost:8080/",
          "height": 232
        },
        "id": "5WqjDfbhigKX",
        "outputId": "f853033b-a946-4327-e4d0-ed6186930e33"
      },
      "source": [
        "# Define Scaler\n",
        "scaler = StandardScaler()\n",
        "\n",
        "# Define PCA\n",
        "pca = PCA(n_components=5000)\n",
        "\n",
        "# Example on X_train_vec\n",
        "X_train_vec_pca = pca.fit_transform(X_train_vec)\n",
        "print('Shape after PCA: ', X_train_vec_pca.shape)\n",
        "print('Number of components: ', pca.n_components_)\n",
        "print('Explained variance ratio: ', sum(pca.explained_variance_ratio_))"
      ],
      "execution_count": null,
      "outputs": [
        {
          "output_type": "error",
          "ename": "NameError",
          "evalue": "ignored",
          "traceback": [
            "\u001b[0;31m---------------------------------------------------------------------------\u001b[0m",
            "\u001b[0;31mNameError\u001b[0m                                 Traceback (most recent call last)",
            "\u001b[0;32m<ipython-input-4-355a6d5acb25>\u001b[0m in \u001b[0;36m<module>\u001b[0;34m()\u001b[0m\n\u001b[1;32m      1\u001b[0m \u001b[0;31m# Define Scaler\u001b[0m\u001b[0;34m\u001b[0m\u001b[0;34m\u001b[0m\u001b[0;34m\u001b[0m\u001b[0m\n\u001b[0;32m----> 2\u001b[0;31m \u001b[0mscaler\u001b[0m \u001b[0;34m=\u001b[0m \u001b[0mStandardScaler\u001b[0m\u001b[0;34m(\u001b[0m\u001b[0;34m)\u001b[0m\u001b[0;34m\u001b[0m\u001b[0;34m\u001b[0m\u001b[0m\n\u001b[0m\u001b[1;32m      3\u001b[0m \u001b[0;34m\u001b[0m\u001b[0m\n\u001b[1;32m      4\u001b[0m \u001b[0;31m# Define PCA\u001b[0m\u001b[0;34m\u001b[0m\u001b[0;34m\u001b[0m\u001b[0;34m\u001b[0m\u001b[0m\n\u001b[1;32m      5\u001b[0m \u001b[0mpca\u001b[0m \u001b[0;34m=\u001b[0m \u001b[0mPCA\u001b[0m\u001b[0;34m(\u001b[0m\u001b[0mn_components\u001b[0m\u001b[0;34m=\u001b[0m\u001b[0;36m5000\u001b[0m\u001b[0;34m)\u001b[0m\u001b[0;34m\u001b[0m\u001b[0;34m\u001b[0m\u001b[0m\n",
            "\u001b[0;31mNameError\u001b[0m: name 'StandardScaler' is not defined"
          ]
        }
      ]
    },
    {
      "cell_type": "code",
      "metadata": {
        "id": "FOtLwc45kM9S",
        "colab": {
          "base_uri": "https://localhost:8080/",
          "height": 232
        },
        "outputId": "416fd3c9-489a-4607-850d-f860e3261100"
      },
      "source": [
        "# With PCA and standardization\n",
        "from sklearn.linear_model import LogisticRegression\n",
        "from sklearn.pipeline import Pipeline\n",
        "import time\n",
        "\n",
        "# Define Model\n",
        "pipe = Pipeline([\n",
        "                 ('scaler', scaler),\n",
        "                 ('pca', pca),\n",
        "                 ('logistic reg', LR),\n",
        "                 ])\n",
        "# Fit model\n",
        "start = time.time()\n",
        "pipe.fit(X_train_vec, y_train)\n",
        "end = time.time()\n",
        "print('Time: ', round(end-start, 4))\n",
        "print('Train Accuracy: ', round(pipe.score(X_train_vec, y_train), 4))\n",
        "print('Test Accuracy: ', round(pipe.score(X_test_vec, y_test), 4))"
      ],
      "execution_count": null,
      "outputs": [
        {
          "output_type": "error",
          "ename": "NameError",
          "evalue": "ignored",
          "traceback": [
            "\u001b[0;31m---------------------------------------------------------------------------\u001b[0m",
            "\u001b[0;31mNameError\u001b[0m                                 Traceback (most recent call last)",
            "\u001b[0;32m<ipython-input-3-f46c769cd24f>\u001b[0m in \u001b[0;36m<module>\u001b[0;34m()\u001b[0m\n\u001b[1;32m      4\u001b[0m \u001b[0;31m# Define Model\u001b[0m\u001b[0;34m\u001b[0m\u001b[0;34m\u001b[0m\u001b[0;34m\u001b[0m\u001b[0m\n\u001b[1;32m      5\u001b[0m pipe = Pipeline([\n\u001b[0;32m----> 6\u001b[0;31m                  \u001b[0;34m(\u001b[0m\u001b[0;34m'scaler'\u001b[0m\u001b[0;34m,\u001b[0m \u001b[0mscaler\u001b[0m\u001b[0;34m)\u001b[0m\u001b[0;34m,\u001b[0m\u001b[0;34m\u001b[0m\u001b[0;34m\u001b[0m\u001b[0m\n\u001b[0m\u001b[1;32m      7\u001b[0m                  \u001b[0;34m(\u001b[0m\u001b[0;34m'pca'\u001b[0m\u001b[0;34m,\u001b[0m \u001b[0mpca\u001b[0m\u001b[0;34m)\u001b[0m\u001b[0;34m,\u001b[0m\u001b[0;34m\u001b[0m\u001b[0;34m\u001b[0m\u001b[0m\n\u001b[1;32m      8\u001b[0m                  \u001b[0;34m(\u001b[0m\u001b[0;34m'logistic reg'\u001b[0m\u001b[0;34m,\u001b[0m \u001b[0mLR\u001b[0m\u001b[0;34m)\u001b[0m\u001b[0;34m,\u001b[0m\u001b[0;34m\u001b[0m\u001b[0;34m\u001b[0m\u001b[0m\n",
            "\u001b[0;31mNameError\u001b[0m: name 'scaler' is not defined"
          ]
        }
      ]
    },
    {
      "cell_type": "markdown",
      "metadata": {
        "id": "iQxubR10T8oJ"
      },
      "source": [
        "##Submission 👀\n",
        "This is the code that we use to create the submission. To use it, we can just copy/paste it below the classifier of our choice and rename the .csv file."
      ]
    },
    {
      "cell_type": "code",
      "metadata": {
        "id": "BbciTNBET70C"
      },
      "source": [
        "target_test = pipe.predict(df_test['text'])\n",
        "target_test"
      ],
      "execution_count": null,
      "outputs": []
    },
    {
      "cell_type": "code",
      "metadata": {
        "id": "8OvzdksGVZST"
      },
      "source": [
        "sample_submission.assign(target = target_test)\n",
        "sample_submission.to_csv('submission-n.csv', index=False)"
      ],
      "execution_count": null,
      "outputs": []
    },
    {
      "cell_type": "code",
      "metadata": {
        "id": "6JKiR4pNpVDF"
      },
      "source": [
        ""
      ],
      "execution_count": null,
      "outputs": []
    }
  ]
}