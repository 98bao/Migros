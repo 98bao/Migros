{
  "nbformat": 4,
  "nbformat_minor": 0,
  "metadata": {
    "colab": {
      "name": "Project_last.ipynb",
      "provenance": [],
      "toc_visible": true,
      "include_colab_link": true
    },
    "kernelspec": {
      "name": "python3",
      "display_name": "Python 3"
    }
  },
  "cells": [
    {
      "cell_type": "markdown",
      "metadata": {
        "id": "view-in-github",
        "colab_type": "text"
      },
      "source": [
        "<a href=\"https://colab.research.google.com/github/98bao/Migros/blob/main/Project_last.ipynb\" target=\"_parent\"><img src=\"https://colab.research.google.com/assets/colab-badge.svg\" alt=\"Open In Colab\"/></a>"
      ]
    },
    {
      "cell_type": "markdown",
      "metadata": {
        "id": "XrzyRYGbESJu"
      },
      "source": [
        "#DMML2020 - Project\n",
        "![mod-fr-logo.png](data:image/png;base64,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)\n",
        "##Classification problem\n",
        "In this project we analyze the data to know if a tweet is about a real disaster (target = 1) or not (target = 0).\n",
        "\n",
        "\n",
        "In this first iteration we just fit the training data in the Logistic regression and observe the accuracy."
      ]
    },
    {
      "cell_type": "markdown",
      "metadata": {
        "id": "tO9MSBRePXde"
      },
      "source": [
        "#Report 📋\n",
        "  1) At first we submitted a simple logistic regression without data cleaning which gave us a satisfying accuracy of **0.805** on AICrowd\n",
        "  \n",
        "  2) We cleaned the text by deleting unecessary elements, then applied a logistic regression with cross validation (LRCV). Although the model built on the train data is pretty good, the accuracy on AICrowd got lower: **0.797**\n",
        "\n",
        "  3) We used the Random Forest Classifier (RFC) and its model accuracy seemed very promising (0.97 for the train data) however, whilst submitting to AICrowd we got only a result of **0.77**. It seems like we are missing an important point as our accuracy keeps getting lower. Perhaps our model is overfitting the train data, thus we have to correct our parameters"
      ]
    },
    {
      "cell_type": "markdown",
      "metadata": {
        "id": "N4NAEzRJulWP"
      },
      "source": [
        "#Importing useful tools 🧰"
      ]
    },
    {
      "cell_type": "code",
      "metadata": {
        "id": "8uznVfXhudk5"
      },
      "source": [
        "import multiprocessing\n",
        "cores = multiprocessing.cpu_count()"
      ],
      "execution_count": 1,
      "outputs": []
    },
    {
      "cell_type": "code",
      "metadata": {
        "id": "jD-6gZ29AwoF"
      },
      "source": [
        "#clear output\n",
        "%%capture \n",
        "# Install and update spaCy\n",
        "!pip install -U spacy\n",
        "\n",
        "!python -m spacy download en\n",
        "import spacy\n",
        "from spacy import displacy"
      ],
      "execution_count": 2,
      "outputs": []
    },
    {
      "cell_type": "code",
      "metadata": {
        "colab": {
          "base_uri": "https://localhost:8080/"
        },
        "id": "TyLj5HdK0vWr",
        "outputId": "8a9307d6-4b2f-4876-a238-40fd29ce9837"
      },
      "source": [
        "!pip install pyspellchecker"
      ],
      "execution_count": 3,
      "outputs": [
        {
          "output_type": "stream",
          "text": [
            "Collecting pyspellchecker\n",
            "\u001b[?25l  Downloading https://files.pythonhosted.org/packages/f1/96/827c132397d0eb5731c1eda05dbfb019ede064ca8c7d0f329160ce0a4acd/pyspellchecker-0.5.5-py2.py3-none-any.whl (1.9MB)\n",
            "\u001b[K     |████████████████████████████████| 1.9MB 4.3MB/s \n",
            "\u001b[?25hInstalling collected packages: pyspellchecker\n",
            "Successfully installed pyspellchecker-0.5.5\n"
          ],
          "name": "stdout"
        }
      ]
    },
    {
      "cell_type": "code",
      "metadata": {
        "id": "JIExIErC2XEE"
      },
      "source": [
        "from textblob import TextBlob\n"
      ],
      "execution_count": 4,
      "outputs": []
    },
    {
      "cell_type": "code",
      "metadata": {
        "id": "BL8FAIy_D97-"
      },
      "source": [
        "#clear output\n",
        "%%capture \n",
        "\n",
        "#Importing useful extensions\n",
        "import numpy as np\n",
        "import pandas as pd\n",
        "import re\n",
        "\n",
        "from sklearn.feature_extraction.text import CountVectorizer, TfidfVectorizer\n",
        "from sklearn.pipeline import Pipeline\n",
        "\n",
        "import string\n",
        "from spellchecker import SpellChecker\n",
        "\n",
        "from spacy.lang.en.stop_words import STOP_WORDS\n",
        "from spacy.lang.en import English\n",
        "from sklearn.model_selection import train_test_split\n",
        "from sklearn.linear_model import LogisticRegression\n",
        "from sklearn.metrics import confusion_matrix, accuracy_score, precision_score, recall_score, f1_score\n"
      ],
      "execution_count": 5,
      "outputs": []
    },
    {
      "cell_type": "markdown",
      "metadata": {
        "id": "Rs646BIHutyE"
      },
      "source": [
        "#Importing the project dataframes in the notebook 📚\n",
        "In the following cells, we import some raw dataframes that we are going to use for the project"
      ]
    },
    {
      "cell_type": "code",
      "metadata": {
        "id": "-SI2JEC6p6MW",
        "colab": {
          "base_uri": "https://localhost:8080/",
          "height": 289
        },
        "outputId": "5a6e289e-b357-4b4c-9afc-60a623391e82"
      },
      "source": [
        "#Reading the dataframe to build our model\n",
        "df_train = pd.read_csv(\"https://raw.githubusercontent.com/98bao/Migros/main/data/training_data.csv\")\n",
        "df_train.head(5)"
      ],
      "execution_count": 6,
      "outputs": [
        {
          "output_type": "execute_result",
          "data": {
            "text/html": [
              "<div>\n",
              "<style scoped>\n",
              "    .dataframe tbody tr th:only-of-type {\n",
              "        vertical-align: middle;\n",
              "    }\n",
              "\n",
              "    .dataframe tbody tr th {\n",
              "        vertical-align: top;\n",
              "    }\n",
              "\n",
              "    .dataframe thead th {\n",
              "        text-align: right;\n",
              "    }\n",
              "</style>\n",
              "<table border=\"1\" class=\"dataframe\">\n",
              "  <thead>\n",
              "    <tr style=\"text-align: right;\">\n",
              "      <th></th>\n",
              "      <th>id</th>\n",
              "      <th>keyword</th>\n",
              "      <th>location</th>\n",
              "      <th>text</th>\n",
              "      <th>target</th>\n",
              "    </tr>\n",
              "  </thead>\n",
              "  <tbody>\n",
              "    <tr>\n",
              "      <th>0</th>\n",
              "      <td>3738</td>\n",
              "      <td>destroyed</td>\n",
              "      <td>USA</td>\n",
              "      <td>Black Eye 9: A space battle occurred at Star O...</td>\n",
              "      <td>0</td>\n",
              "    </tr>\n",
              "    <tr>\n",
              "      <th>1</th>\n",
              "      <td>853</td>\n",
              "      <td>bioterror</td>\n",
              "      <td>NaN</td>\n",
              "      <td>#world FedEx no longer to transport bioterror ...</td>\n",
              "      <td>0</td>\n",
              "    </tr>\n",
              "    <tr>\n",
              "      <th>2</th>\n",
              "      <td>10540</td>\n",
              "      <td>windstorm</td>\n",
              "      <td>Palm Beach County, FL</td>\n",
              "      <td>Reality Training: Train falls off elevated tra...</td>\n",
              "      <td>1</td>\n",
              "    </tr>\n",
              "    <tr>\n",
              "      <th>3</th>\n",
              "      <td>5988</td>\n",
              "      <td>hazardous</td>\n",
              "      <td>USA</td>\n",
              "      <td>#Taiwan Grace: expect that large rocks trees m...</td>\n",
              "      <td>1</td>\n",
              "    </tr>\n",
              "    <tr>\n",
              "      <th>4</th>\n",
              "      <td>6328</td>\n",
              "      <td>hostage</td>\n",
              "      <td>Australia</td>\n",
              "      <td>New ISIS Video: ISIS Threatens to Behead Croat...</td>\n",
              "      <td>1</td>\n",
              "    </tr>\n",
              "  </tbody>\n",
              "</table>\n",
              "</div>"
            ],
            "text/plain": [
              "      id    keyword  ...                                               text target\n",
              "0   3738  destroyed  ...  Black Eye 9: A space battle occurred at Star O...      0\n",
              "1    853  bioterror  ...  #world FedEx no longer to transport bioterror ...      0\n",
              "2  10540  windstorm  ...  Reality Training: Train falls off elevated tra...      1\n",
              "3   5988  hazardous  ...  #Taiwan Grace: expect that large rocks trees m...      1\n",
              "4   6328    hostage  ...  New ISIS Video: ISIS Threatens to Behead Croat...      1\n",
              "\n",
              "[5 rows x 5 columns]"
            ]
          },
          "metadata": {
            "tags": []
          },
          "execution_count": 6
        }
      ]
    },
    {
      "cell_type": "code",
      "metadata": {
        "id": "WKe5CpOADsUu",
        "colab": {
          "base_uri": "https://localhost:8080/",
          "height": 303
        },
        "outputId": "5832ee9f-b919-471f-cdbc-f6f9f14b5642"
      },
      "source": [
        "#Reading dataframe which is going to be tested\n",
        "df_test = pd.read_csv(\"https://raw.githubusercontent.com/98bao/Migros/main/data/test_data.csv\")\n",
        "df_test.head(6)"
      ],
      "execution_count": 7,
      "outputs": [
        {
          "output_type": "execute_result",
          "data": {
            "text/html": [
              "<div>\n",
              "<style scoped>\n",
              "    .dataframe tbody tr th:only-of-type {\n",
              "        vertical-align: middle;\n",
              "    }\n",
              "\n",
              "    .dataframe tbody tr th {\n",
              "        vertical-align: top;\n",
              "    }\n",
              "\n",
              "    .dataframe thead th {\n",
              "        text-align: right;\n",
              "    }\n",
              "</style>\n",
              "<table border=\"1\" class=\"dataframe\">\n",
              "  <thead>\n",
              "    <tr style=\"text-align: right;\">\n",
              "      <th></th>\n",
              "      <th>id</th>\n",
              "      <th>keyword</th>\n",
              "      <th>location</th>\n",
              "      <th>text</th>\n",
              "    </tr>\n",
              "  </thead>\n",
              "  <tbody>\n",
              "    <tr>\n",
              "      <th>0</th>\n",
              "      <td>9972</td>\n",
              "      <td>tsunami</td>\n",
              "      <td>NaN</td>\n",
              "      <td>Crptotech tsunami and banks.\\n http://t.co/KHz...</td>\n",
              "    </tr>\n",
              "    <tr>\n",
              "      <th>1</th>\n",
              "      <td>9865</td>\n",
              "      <td>traumatised</td>\n",
              "      <td>Portsmouth, UK</td>\n",
              "      <td>I'm that traumatised that I can't even spell p...</td>\n",
              "    </tr>\n",
              "    <tr>\n",
              "      <th>2</th>\n",
              "      <td>1937</td>\n",
              "      <td>burning%20buildings</td>\n",
              "      <td>NaN</td>\n",
              "      <td>@foxnewsvideo @AIIAmericanGirI @ANHQDC So ... ...</td>\n",
              "    </tr>\n",
              "    <tr>\n",
              "      <th>3</th>\n",
              "      <td>3560</td>\n",
              "      <td>desolate</td>\n",
              "      <td>NaN</td>\n",
              "      <td>Me watching Law &amp;amp; Order (IB: @sauldale305)...</td>\n",
              "    </tr>\n",
              "    <tr>\n",
              "      <th>4</th>\n",
              "      <td>2731</td>\n",
              "      <td>crushed</td>\n",
              "      <td>bahstun/porta reeko</td>\n",
              "      <td>Papi absolutely crushed that ball</td>\n",
              "    </tr>\n",
              "    <tr>\n",
              "      <th>5</th>\n",
              "      <td>10020</td>\n",
              "      <td>twister</td>\n",
              "      <td>NaN</td>\n",
              "      <td>Brain twister let drop up telly structuring ca...</td>\n",
              "    </tr>\n",
              "  </tbody>\n",
              "</table>\n",
              "</div>"
            ],
            "text/plain": [
              "      id  ...                                               text\n",
              "0   9972  ...  Crptotech tsunami and banks.\\n http://t.co/KHz...\n",
              "1   9865  ...  I'm that traumatised that I can't even spell p...\n",
              "2   1937  ...  @foxnewsvideo @AIIAmericanGirI @ANHQDC So ... ...\n",
              "3   3560  ...  Me watching Law &amp; Order (IB: @sauldale305)...\n",
              "4   2731  ...                  Papi absolutely crushed that ball\n",
              "5  10020  ...  Brain twister let drop up telly structuring ca...\n",
              "\n",
              "[6 rows x 4 columns]"
            ]
          },
          "metadata": {
            "tags": []
          },
          "execution_count": 7
        }
      ]
    },
    {
      "cell_type": "code",
      "metadata": {
        "id": "GPXIETd0XWep"
      },
      "source": [
        "#Reading the sample submission\n",
        "sample_submission = pd.read_csv(\"https://raw.githubusercontent.com/98bao/Migros/main/data/sample_submission.csv\")"
      ],
      "execution_count": 8,
      "outputs": []
    },
    {
      "cell_type": "markdown",
      "metadata": {
        "id": "7VsqXyB2Rt_R"
      },
      "source": [
        "#Exploratory data analysis 🕵️\n",
        "\n",
        "1.   Base rate\n",
        "2.   List item\n",
        "\n"
      ]
    },
    {
      "cell_type": "markdown",
      "metadata": {
        "id": "IQNMU60cLMIN"
      },
      "source": [
        "####1. Base rate\n",
        "This indicate how often the most common value appears in the dataframe. We have to obtain an accuracy that is superior to the base rate to say that our classifier is well made."
      ]
    },
    {
      "cell_type": "code",
      "metadata": {
        "id": "xwbEL3b8GFtO",
        "colab": {
          "base_uri": "https://localhost:8080/"
        },
        "outputId": "2ff20dda-9090-44cc-cc42-0266ce07c4ab"
      },
      "source": [
        "#Base rate of the train df\n",
        "df_train['target'].value_counts() /len(df_train) \n",
        "\n",
        "#The base rate of this dataframe is 0.572"
      ],
      "execution_count": 9,
      "outputs": [
        {
          "output_type": "execute_result",
          "data": {
            "text/plain": [
              "0    0.571936\n",
              "1    0.428064\n",
              "Name: target, dtype: float64"
            ]
          },
          "metadata": {
            "tags": []
          },
          "execution_count": 9
        }
      ]
    },
    {
      "cell_type": "code",
      "metadata": {
        "colab": {
          "base_uri": "https://localhost:8080/"
        },
        "id": "5MrFFGBsTTgn",
        "outputId": "0d305638-9873-4d08-e068-9dd257938426"
      },
      "source": [
        "#Are there null values ?\n",
        "print(df_train.text.isnull().sum())\n",
        "print(df_train.keyword.isnull().sum())"
      ],
      "execution_count": 10,
      "outputs": [
        {
          "output_type": "stream",
          "text": [
            "0\n",
            "55\n"
          ],
          "name": "stdout"
        }
      ]
    },
    {
      "cell_type": "markdown",
      "metadata": {
        "id": "xr07BaekKej2"
      },
      "source": [
        "#Building the tokenizer 🤖\n",
        "In the following part, we create our tokenizer which will be used to analyze the text column"
      ]
    },
    {
      "cell_type": "code",
      "metadata": {
        "id": "WP_WL2YrJ3nF",
        "colab": {
          "base_uri": "https://localhost:8080/",
          "height": 52
        },
        "outputId": "2b3e7dcf-e07a-4bb9-c98f-f2ca414ee23a"
      },
      "source": [
        "#Create Tokenizer\n",
        "\n",
        "#Stopwords\n",
        "stop_words = spacy.lang.en.stop_words.STOP_WORDS\n",
        "#Punctuation\n",
        "punctuations = string.punctuation\n",
        "\n",
        "sp = spacy.load('en_core_web_sm')\n",
        "\n",
        "#Tokenizer function\n",
        "def spacy_tokenizer(sentence):\n",
        "    mytokens = sp(sentence)\n",
        "\n",
        "# Lemmatize each token and convert each token into lowercase\n",
        "    mytokens = [ word.lemma_.lower().strip() if word.lemma_ != \"-PRON-\" else word.lower_ for word in mytokens ]  \n",
        "# Remove stop words and punctuation\n",
        "    mytokens = [ word for word in mytokens if word not in stop_words and word not in punctuations ]\n",
        "# Remove words with two letters or less\n",
        "    mytokens = [ word for word in mytokens if len(word)>2 ]   \n",
        "# Return preprocessed list of tokens\n",
        "    return mytokens\n",
        "#demo\n",
        "review = df_train[\"text\"].sample()\n",
        "review.values[0]\n"
      ],
      "execution_count": 11,
      "outputs": [
        {
          "output_type": "execute_result",
          "data": {
            "application/vnd.google.colaboratory.intrinsic+json": {
              "type": "string"
            },
            "text/plain": [
              "\"@canagal Good to hear it's back.. that storm's been given you guys trouble though :( ^SJ\""
            ]
          },
          "metadata": {
            "tags": []
          },
          "execution_count": 11
        }
      ]
    },
    {
      "cell_type": "code",
      "metadata": {
        "id": "y3nifglrKSf_"
      },
      "source": [
        "#TF-IDF feature vector\n",
        "tfidf_vector = TfidfVectorizer(tokenizer=spacy_tokenizer)"
      ],
      "execution_count": 12,
      "outputs": []
    },
    {
      "cell_type": "markdown",
      "metadata": {
        "id": "b6MnoVaZLu3O"
      },
      "source": [
        "#Logistic regression and pipeline\n",
        "\n",
        "Our first iteration of the model: *No treatement of the dataframe*, just fitted in a logistic regression to see the result. We submitted this first try on AICrowd to check the accuracy of an uncleaned database.\n",
        "\n"
      ]
    },
    {
      "cell_type": "code",
      "metadata": {
        "id": "gq2BiGZiHYQc"
      },
      "source": [
        "#Setting up the train test split\n",
        "\n",
        "#First for the training data\n",
        "X = df_train['text']\n",
        "y = df_train['target']\n",
        "# Train test split\n",
        "X_train, X_test, y_train, y_test = train_test_split(X, y, test_size=0.2, random_state=123)"
      ],
      "execution_count": 13,
      "outputs": []
    },
    {
      "cell_type": "code",
      "metadata": {
        "id": "d6Ys-_WFL7tL"
      },
      "source": [
        "#Linear reg\n",
        "LR = LogisticRegression(solver=\"lbfgs\", max_iter=100)\n",
        "\n",
        "#pipeline\n",
        "pipe = Pipeline([('vectorizer', tfidf_vector),\n",
        "                 ('classifier', LR)])"
      ],
      "execution_count": 14,
      "outputs": []
    },
    {
      "cell_type": "code",
      "metadata": {
        "id": "lRVjRHl8MEWv",
        "colab": {
          "base_uri": "https://localhost:8080/"
        },
        "outputId": "11e03c98-c2f9-4938-b681-177d85837abe"
      },
      "source": [
        "pipe.fit(X_train, y_train)"
      ],
      "execution_count": 15,
      "outputs": [
        {
          "output_type": "execute_result",
          "data": {
            "text/plain": [
              "Pipeline(memory=None,\n",
              "         steps=[('vectorizer',\n",
              "                 TfidfVectorizer(analyzer='word', binary=False,\n",
              "                                 decode_error='strict',\n",
              "                                 dtype=<class 'numpy.float64'>,\n",
              "                                 encoding='utf-8', input='content',\n",
              "                                 lowercase=True, max_df=1.0, max_features=None,\n",
              "                                 min_df=1, ngram_range=(1, 1), norm='l2',\n",
              "                                 preprocessor=None, smooth_idf=True,\n",
              "                                 stop_words=None, strip_accents=None,\n",
              "                                 sublinear_tf=False,\n",
              "                                 token_patt...,\n",
              "                                 tokenizer=<function spacy_tokenizer at 0x7fb1bedfba60>,\n",
              "                                 use_idf=True, vocabulary=None)),\n",
              "                ('classifier',\n",
              "                 LogisticRegression(C=1.0, class_weight=None, dual=False,\n",
              "                                    fit_intercept=True, intercept_scaling=1,\n",
              "                                    l1_ratio=None, max_iter=100,\n",
              "                                    multi_class='auto', n_jobs=None,\n",
              "                                    penalty='l2', random_state=None,\n",
              "                                    solver='lbfgs', tol=0.0001, verbose=0,\n",
              "                                    warm_start=False))],\n",
              "         verbose=False)"
            ]
          },
          "metadata": {
            "tags": []
          },
          "execution_count": 15
        }
      ]
    },
    {
      "cell_type": "markdown",
      "metadata": {
        "id": "vkaJup57POCU"
      },
      "source": [
        "####Accuracy"
      ]
    },
    {
      "cell_type": "code",
      "metadata": {
        "id": "7p1LnofbPKVw",
        "colab": {
          "base_uri": "https://localhost:8080/"
        },
        "outputId": "237884ac-89be-455b-b80e-bd34550b9f95"
      },
      "source": [
        "#Accuracy of the train data\n",
        "y_pred_train = pipe.predict(X_train)\n",
        "print(f\"TRAIN ACCURACY SCORE:\\n{accuracy_score(y_train, y_pred_train):.4f}\")\n",
        "print(f\"CONFUSION MATRIX:\\n{confusion_matrix(y_train, y_pred_train)}\")"
      ],
      "execution_count": 16,
      "outputs": [
        {
          "output_type": "stream",
          "text": [
            "TRAIN ACCURACY SCORE:\n",
            "0.8937\n",
            "CONFUSION MATRIX:\n",
            "[[2882   79]\n",
            " [ 471 1744]]\n"
          ],
          "name": "stdout"
        }
      ]
    },
    {
      "cell_type": "code",
      "metadata": {
        "id": "DuqMFRCtIOdm",
        "colab": {
          "base_uri": "https://localhost:8080/"
        },
        "outputId": "fd8d52bd-86fa-4a76-eb58-7761659e642c"
      },
      "source": [
        "#Accuracy of the test data\n",
        "y_pred_test = pipe.predict(X_test)\n",
        "print(f\"TEST ACCURACY SCORE:\\n{accuracy_score(y_test, y_pred_test):.4f}\")\n",
        "print(f\"CONFUSION MATRIX:\\n{confusion_matrix(y_test, y_pred_test)}\")"
      ],
      "execution_count": 17,
      "outputs": [
        {
          "output_type": "stream",
          "text": [
            "TEST ACCURACY SCORE:\n",
            "0.7884\n",
            "CONFUSION MATRIX:\n",
            "[[656  84]\n",
            " [190 365]]\n"
          ],
          "name": "stdout"
        }
      ]
    },
    {
      "cell_type": "markdown",
      "metadata": {
        "id": "rLiBgJB_Rsg3"
      },
      "source": [
        "####Using keywords only\n",
        "This is a test to see if using only the keywords would give a good accuracy"
      ]
    },
    {
      "cell_type": "code",
      "metadata": {
        "id": "9EmmQH-AFcBC",
        "colab": {
          "base_uri": "https://localhost:8080/"
        },
        "outputId": "eb5aa963-a4e5-44e0-a204-4558acef96a3"
      },
      "source": [
        "#Replace null value by an arbitrary string\n",
        "df_train.keyword.fillna(value = 'nokeyword', inplace = True)\n",
        "\n",
        "#Verify\n",
        "df_train.keyword.isnull().sum()"
      ],
      "execution_count": 18,
      "outputs": [
        {
          "output_type": "execute_result",
          "data": {
            "text/plain": [
              "0"
            ]
          },
          "metadata": {
            "tags": []
          },
          "execution_count": 18
        }
      ]
    },
    {
      "cell_type": "code",
      "metadata": {
        "id": "f8EzaA20Savc"
      },
      "source": [
        "#Using keyword in the model\n",
        "features = ['keyword', 'text']\n",
        "\n",
        "X = df_train['keyword']\n",
        "y = df_train['target']\n",
        "# Train test split\n",
        "X_train, X_test, y_train, y_test = train_test_split(X, y, test_size=0.2, random_state=123)"
      ],
      "execution_count": 19,
      "outputs": []
    },
    {
      "cell_type": "code",
      "metadata": {
        "id": "sXph3lkWSpAt"
      },
      "source": [
        "#Linear reg\n",
        "LR = LogisticRegression(solver=\"lbfgs\", max_iter=100)\n",
        "\n",
        "#pipeline\n",
        "pipe = Pipeline([('vectorizer', tfidf_vector),\n",
        "                 ('classifier', LR)])\n",
        "\n"
      ],
      "execution_count": 20,
      "outputs": []
    },
    {
      "cell_type": "code",
      "metadata": {
        "colab": {
          "base_uri": "https://localhost:8080/"
        },
        "id": "G0CScxfjfMmK",
        "outputId": "48653972-17c8-4295-d00f-119e94ec4bfe"
      },
      "source": [
        "#Fit\n",
        "pipe.fit(X_train, y_train)"
      ],
      "execution_count": 21,
      "outputs": [
        {
          "output_type": "execute_result",
          "data": {
            "text/plain": [
              "Pipeline(memory=None,\n",
              "         steps=[('vectorizer',\n",
              "                 TfidfVectorizer(analyzer='word', binary=False,\n",
              "                                 decode_error='strict',\n",
              "                                 dtype=<class 'numpy.float64'>,\n",
              "                                 encoding='utf-8', input='content',\n",
              "                                 lowercase=True, max_df=1.0, max_features=None,\n",
              "                                 min_df=1, ngram_range=(1, 1), norm='l2',\n",
              "                                 preprocessor=None, smooth_idf=True,\n",
              "                                 stop_words=None, strip_accents=None,\n",
              "                                 sublinear_tf=False,\n",
              "                                 token_patt...,\n",
              "                                 tokenizer=<function spacy_tokenizer at 0x7fb1bedfba60>,\n",
              "                                 use_idf=True, vocabulary=None)),\n",
              "                ('classifier',\n",
              "                 LogisticRegression(C=1.0, class_weight=None, dual=False,\n",
              "                                    fit_intercept=True, intercept_scaling=1,\n",
              "                                    l1_ratio=None, max_iter=100,\n",
              "                                    multi_class='auto', n_jobs=None,\n",
              "                                    penalty='l2', random_state=None,\n",
              "                                    solver='lbfgs', tol=0.0001, verbose=0,\n",
              "                                    warm_start=False))],\n",
              "         verbose=False)"
            ]
          },
          "metadata": {
            "tags": []
          },
          "execution_count": 21
        }
      ]
    },
    {
      "cell_type": "code",
      "metadata": {
        "colab": {
          "base_uri": "https://localhost:8080/"
        },
        "id": "4EZ8O3oWxSwB",
        "outputId": "a2a71625-18b6-42a1-c8b1-74840178cef5"
      },
      "source": [
        "#Accuracy of the train data\n",
        "y_pred_train = pipe.predict(X_train)\n",
        "print(f\"TRAIN ACCURACY SCORE:\\n{accuracy_score(y_train, y_pred_train):.4f}\")\n",
        "print(f\"CONFUSION MATRIX:\\n{confusion_matrix(y_train, y_pred_train)}\")"
      ],
      "execution_count": 22,
      "outputs": [
        {
          "output_type": "stream",
          "text": [
            "TRAIN ACCURACY SCORE:\n",
            "0.7361\n",
            "CONFUSION MATRIX:\n",
            "[[2374  587]\n",
            " [ 779 1436]]\n"
          ],
          "name": "stdout"
        }
      ]
    },
    {
      "cell_type": "markdown",
      "metadata": {
        "id": "7tID-6k-Hb9u"
      },
      "source": [
        "#Data cleaning 🧼\n",
        "To further improve the accuracy of our model, we cleaned the text column by removing unecessary elements such as URL, Tags and noise."
      ]
    },
    {
      "cell_type": "code",
      "metadata": {
        "id": "jEl30HhBxnIq"
      },
      "source": [
        "#Need to replace NaN values by blank spaces otherwise some funtions wont run\n",
        "df_test['text'] = df_test['text'].replace(np.nan, '')\n"
      ],
      "execution_count": 23,
      "outputs": []
    },
    {
      "cell_type": "code",
      "metadata": {
        "id": "Rv_0IeC8vPnv"
      },
      "source": [
        "\n",
        "#Clean duplicates\n",
        "df_train =  df_train.drop_duplicates(subset=['text'], keep='first')\n",
        "\n",
        "#replacing \"%20\" with space\n",
        "df_train['keyword'] = df_train['keyword'].replace('%20', ' ', regex = True)\n",
        "df_train['text'] = df_train['text'].replace('%20', ' ', regex = True)\n",
        "df_test['keyword'] = df_test['keyword'].replace('%20', ' ', regex = True)\n",
        "df_test['text'] = df_test['text'].replace('%20', ' ', regex = True)\n",
        "\n",
        "#removing twitter tags\n",
        "def remove_tags(text):\n",
        "  text = re.sub(r'@\\S+','',text)\n",
        "  return text\n",
        "\n",
        "df_train['text'] = df_train['text'].apply(lambda x: remove_tags(x))\n",
        "df_test['text'] = df_test['text'].apply(lambda x: remove_tags(x))\n",
        "\n",
        "#removing hashtags\n",
        "def remove_hash(text):\n",
        "  text = re.sub('#','',text)\n",
        "  return text\n",
        "\n",
        "df_train['text'] = df_train['text'].apply(lambda x: remove_hash(x))\n",
        "df_test['text'] = df_test['text'].apply(lambda x: remove_hash(x))\n",
        "\n",
        "#removing amp\n",
        "def amp(text):\n",
        "  text = re.sub('&amp;', '', text)\n",
        "  return text\n",
        "  \n",
        "df_train['text'] = df_train['text'].apply(lambda x: amp(x))\n",
        "df_test['text'] = df_test['text'].apply(lambda x: amp(x))\n",
        "\n",
        "#removing url\n",
        "def remove_url(text):\n",
        "  text = re.sub(r'http\\S+', '', text)\n",
        "  return text\n",
        "  \n",
        "df_train['text'] = df_train['text'].apply(lambda x: remove_url(x))\n",
        "df_test['text'] = df_test['text'].apply(lambda x: remove_url(x))\n",
        "\n",
        "#removing punctuation\n",
        "def remove_punct(text):\n",
        "  text = \"\".join([char for char in text if char not in string.punctuation])\n",
        "  text = re.sub('[0-9]+', '', text)\n",
        "  return text\n",
        "\n",
        "df_train['text'] = df_train['text'].apply(lambda x: remove_tags(x))\n",
        "df_test['text'] = df_test['text'].apply(lambda x: remove_tags(x))\n",
        "\n",
        "#removing noises\n",
        "def remove_noise(text):\n",
        "  text = re.sub('RT', '', text)\n",
        "  text = re.sub('rT', '', text)\n",
        "  text = re.sub('Rt', '', text)\n",
        "  text = re.sub('rt', '', text)\n",
        "  text = re.sub('IB', '', text)\n",
        "  return text\n",
        "  \n",
        "df_train['text'] = df_train['text'].apply(lambda x: remove_noise(x))\n",
        "df_test['text'] = df_test['text'].apply(lambda x: remove_noise(x))"
      ],
      "execution_count": 24,
      "outputs": []
    },
    {
      "cell_type": "code",
      "metadata": {
        "id": "wJk-Uz782a0E"
      },
      "source": [
        "#Spellchecking the text (it takes too much time)\n",
        "#df_train.text.apply(lambda txt: ''.join(TextBlob(txt).correct()))\n"
      ],
      "execution_count": 25,
      "outputs": []
    },
    {
      "cell_type": "code",
      "metadata": {
        "id": "CGVWfOwHvXZK"
      },
      "source": [
        "#Convert dataframes to csv file to check if the rows of text looks good\n",
        "df_train.to_csv('df_train.csv')\n",
        "df_test.to_csv('df_test.csv')"
      ],
      "execution_count": 26,
      "outputs": []
    },
    {
      "cell_type": "markdown",
      "metadata": {
        "id": "NDbV_klpaMtr"
      },
      "source": [
        "#Using different classifiers 👨‍💻\n",
        "\n",
        "We tried different classifier to know which one could predict the best our model\n",
        "\n",
        "##Logistic regression with cross validation"
      ]
    },
    {
      "cell_type": "code",
      "metadata": {
        "id": "esE7sSgDD0W-"
      },
      "source": [
        "#Setting up the train test split\n",
        "\n",
        "#First for the training data\n",
        "X = df_train['text']\n",
        "y = df_train['target']\n",
        "# Train test split\n",
        "X_train, X_test, y_train, y_test = train_test_split(X, y, test_size=0.2, random_state=42,stratify=y )"
      ],
      "execution_count": 27,
      "outputs": []
    },
    {
      "cell_type": "code",
      "metadata": {
        "id": "X_f-4J4Ec3-Z"
      },
      "source": [
        "#Logistic regressin cross validation\n",
        "from sklearn.linear_model import LogisticRegressionCV\n",
        "LRCV = LRCV = LogisticRegressionCV(solver='lbfgs', cv=5, max_iter=1000, random_state=42)\n",
        "#Create pipeline\n",
        "pipe = Pipeline([('vectorizer', tfidf_vector),\n",
        "                 ('classifier', LRCV)])\n",
        "\n"
      ],
      "execution_count": 28,
      "outputs": []
    },
    {
      "cell_type": "code",
      "metadata": {
        "colab": {
          "base_uri": "https://localhost:8080/"
        },
        "id": "-u_W7jCSxFuT",
        "outputId": "2a404f44-cfc7-48f7-d5c5-c1a7ea7308ff"
      },
      "source": [
        "#Fit\n",
        "pipe.fit(X_train,y_train)"
      ],
      "execution_count": 29,
      "outputs": [
        {
          "output_type": "execute_result",
          "data": {
            "text/plain": [
              "Pipeline(memory=None,\n",
              "         steps=[('vectorizer',\n",
              "                 TfidfVectorizer(analyzer='word', binary=False,\n",
              "                                 decode_error='strict',\n",
              "                                 dtype=<class 'numpy.float64'>,\n",
              "                                 encoding='utf-8', input='content',\n",
              "                                 lowercase=True, max_df=1.0, max_features=None,\n",
              "                                 min_df=1, ngram_range=(1, 1), norm='l2',\n",
              "                                 preprocessor=None, smooth_idf=True,\n",
              "                                 stop_words=None, strip_accents=None,\n",
              "                                 sublinear_tf=False,\n",
              "                                 token_patt...\n",
              "                                 tokenizer=<function spacy_tokenizer at 0x7fb1bedfba60>,\n",
              "                                 use_idf=True, vocabulary=None)),\n",
              "                ('classifier',\n",
              "                 LogisticRegressionCV(Cs=10, class_weight=None, cv=5,\n",
              "                                      dual=False, fit_intercept=True,\n",
              "                                      intercept_scaling=1.0, l1_ratios=None,\n",
              "                                      max_iter=1000, multi_class='auto',\n",
              "                                      n_jobs=None, penalty='l2',\n",
              "                                      random_state=42, refit=True, scoring=None,\n",
              "                                      solver='lbfgs', tol=0.0001, verbose=0))],\n",
              "         verbose=False)"
            ]
          },
          "metadata": {
            "tags": []
          },
          "execution_count": 29
        }
      ]
    },
    {
      "cell_type": "code",
      "metadata": {
        "colab": {
          "base_uri": "https://localhost:8080/"
        },
        "id": "AyiGzPk7xHKx",
        "outputId": "c075efd3-2661-403e-dc10-dc5609281439"
      },
      "source": [
        "#Accuracy of the train data\n",
        "y_pred_train = pipe.predict(X_train)\n",
        "print(f\"TRAIN ACCURACY SCORE:\\n{accuracy_score(y_train, y_pred_train):.4f}\")\n",
        "print(f\"CONFUSION MATRIX:\\n{confusion_matrix(y_train, y_pred_train)}\")"
      ],
      "execution_count": 30,
      "outputs": [
        {
          "output_type": "stream",
          "text": [
            "TRAIN ACCURACY SCORE:\n",
            "0.9313\n",
            "CONFUSION MATRIX:\n",
            "[[2868   72]\n",
            " [ 279 1890]]\n"
          ],
          "name": "stdout"
        }
      ]
    },
    {
      "cell_type": "code",
      "metadata": {
        "colab": {
          "base_uri": "https://localhost:8080/"
        },
        "id": "zI2EZnmQEfKV",
        "outputId": "1eaa706c-4dc7-4022-cc45-2be7b464a752"
      },
      "source": [
        "#Accuracy of the test data\n",
        "y_pred_test = pipe.predict(X_test)\n",
        "print(f\"TEST ACCURACY SCORE:\\n{accuracy_score(y_test, y_pred_test):.4f}\")\n",
        "print(f\"CONFUSION MATRIX:\\n{confusion_matrix(y_test, y_pred_test)}\")"
      ],
      "execution_count": 31,
      "outputs": [
        {
          "output_type": "stream",
          "text": [
            "TEST ACCURACY SCORE:\n",
            "0.7934\n",
            "CONFUSION MATRIX:\n",
            "[[629 107]\n",
            " [157 385]]\n"
          ],
          "name": "stdout"
        }
      ]
    },
    {
      "cell_type": "code",
      "metadata": {
        "colab": {
          "base_uri": "https://localhost:8080/"
        },
        "id": "-vD9wEX2Igze",
        "outputId": "a26ff280-88e6-44f7-86f8-94de860d3ec4"
      },
      "source": [
        "target_test = pipe.predict(df_test['text'])\n",
        "target_test"
      ],
      "execution_count": 32,
      "outputs": [
        {
          "output_type": "execute_result",
          "data": {
            "text/plain": [
              "array([0, 0, 1, ..., 1, 0, 1])"
            ]
          },
          "metadata": {
            "tags": []
          },
          "execution_count": 32
        }
      ]
    },
    {
      "cell_type": "code",
      "metadata": {
        "id": "sz8uqYQqIhfP"
      },
      "source": [
        "sample_submission.target = target_test\n",
        "sample_submission.to_csv('submission-12.csv', index=False)"
      ],
      "execution_count": 33,
      "outputs": []
    },
    {
      "cell_type": "markdown",
      "metadata": {
        "id": "TxIlB9TLtoQG"
      },
      "source": [
        "##Random forest classifier 🌳🌳🌳\n",
        "According to the documentation, the RFC looks like the most fitting classifier for our case. Thus we allocated a lot of ressources to improve its accuracy: in the section below there is a take on parameters tuning for RFC."
      ]
    },
    {
      "cell_type": "code",
      "metadata": {
        "id": "vSo9mpXdvwUv"
      },
      "source": [
        "from sklearn.ensemble import RandomForestClassifier"
      ],
      "execution_count": 34,
      "outputs": []
    },
    {
      "cell_type": "code",
      "metadata": {
        "id": "petfEC5-Mblp"
      },
      "source": [
        "#Setting up the train test split\n",
        "\n",
        "#First for the training data\n",
        "X = df_train['text']\n",
        "y = df_train['target']\n",
        "# Train test split\n",
        "X_train, X_test, y_train, y_test = train_test_split(X, y, test_size=0.2, random_state=42)"
      ],
      "execution_count": 35,
      "outputs": []
    },
    {
      "cell_type": "code",
      "metadata": {
        "id": "a8kaQNLzwu3n"
      },
      "source": [
        "#Define classifier\n",
        "RFC = RandomForestClassifier(n_estimators = 16,max_depth = 60,random_state =42)\n",
        "#Create pipeline\n",
        "pipe = Pipeline([('vectorizer', tfidf_vector),\n",
        "                 ('classifier', RFC)])"
      ],
      "execution_count": 36,
      "outputs": []
    },
    {
      "cell_type": "code",
      "metadata": {
        "colab": {
          "base_uri": "https://localhost:8080/"
        },
        "id": "RAtRRzNCxYYw",
        "outputId": "79e97020-cff9-48a7-bcb8-3612f5c56d59"
      },
      "source": [
        "#Fit\n",
        "pipe.fit(X_train, y_train)"
      ],
      "execution_count": 37,
      "outputs": [
        {
          "output_type": "execute_result",
          "data": {
            "text/plain": [
              "Pipeline(memory=None,\n",
              "         steps=[('vectorizer',\n",
              "                 TfidfVectorizer(analyzer='word', binary=False,\n",
              "                                 decode_error='strict',\n",
              "                                 dtype=<class 'numpy.float64'>,\n",
              "                                 encoding='utf-8', input='content',\n",
              "                                 lowercase=True, max_df=1.0, max_features=None,\n",
              "                                 min_df=1, ngram_range=(1, 1), norm='l2',\n",
              "                                 preprocessor=None, smooth_idf=True,\n",
              "                                 stop_words=None, strip_accents=None,\n",
              "                                 sublinear_tf=False,\n",
              "                                 token_patt...\n",
              "                 RandomForestClassifier(bootstrap=True, ccp_alpha=0.0,\n",
              "                                        class_weight=None, criterion='gini',\n",
              "                                        max_depth=60, max_features='auto',\n",
              "                                        max_leaf_nodes=None, max_samples=None,\n",
              "                                        min_impurity_decrease=0.0,\n",
              "                                        min_impurity_split=None,\n",
              "                                        min_samples_leaf=1, min_samples_split=2,\n",
              "                                        min_weight_fraction_leaf=0.0,\n",
              "                                        n_estimators=60, n_jobs=None,\n",
              "                                        oob_score=False, random_state=42,\n",
              "                                        verbose=0, warm_start=False))],\n",
              "         verbose=False)"
            ]
          },
          "metadata": {
            "tags": []
          },
          "execution_count": 37
        }
      ]
    },
    {
      "cell_type": "code",
      "metadata": {
        "colab": {
          "base_uri": "https://localhost:8080/"
        },
        "id": "cbiQfd8kxeV0",
        "outputId": "30d4e0b7-d171-4953-d93e-2a5641dd8379"
      },
      "source": [
        "#Accuracy of the train data\n",
        "y_pred_train = pipe.predict(X_train)\n",
        "print(f\"TRAIN ACCURACY SCORE:\\n{accuracy_score(y_train, y_pred_train):.4f}\")\n",
        "print(f\"CONFUSION MATRIX:\\n{confusion_matrix(y_train, y_pred_train)}\")"
      ],
      "execution_count": 38,
      "outputs": [
        {
          "output_type": "stream",
          "text": [
            "TRAIN ACCURACY SCORE:\n",
            "0.8381\n",
            "CONFUSION MATRIX:\n",
            "[[2933    1]\n",
            " [ 826 1349]]\n"
          ],
          "name": "stdout"
        }
      ]
    },
    {
      "cell_type": "code",
      "metadata": {
        "colab": {
          "base_uri": "https://localhost:8080/"
        },
        "id": "SkhvhW1OLpKv",
        "outputId": "6ac022dc-5fe2-43ca-ccc3-2813d2a74c3e"
      },
      "source": [
        "#Accuracy of the test data\n",
        "y_pred_test = pipe.predict(X_test)\n",
        "print(f\"TEST ACCURACY SCORE:\\n{accuracy_score(y_test, y_pred_test):.4f}\")\n",
        "print(f\"CONFUSION MATRIX:\\n{confusion_matrix(y_test, y_pred_test)}\")"
      ],
      "execution_count": 39,
      "outputs": [
        {
          "output_type": "stream",
          "text": [
            "TEST ACCURACY SCORE:\n",
            "0.7512\n",
            "CONFUSION MATRIX:\n",
            "[[694  48]\n",
            " [270 266]]\n"
          ],
          "name": "stdout"
        }
      ]
    },
    {
      "cell_type": "code",
      "metadata": {
        "id": "2VPRXs6gJ3aI",
        "colab": {
          "base_uri": "https://localhost:8080/"
        },
        "outputId": "0d49a794-009f-471a-edea-2538546dbc4e"
      },
      "source": [
        "target_test = pipe.predict(df_test['text'])\n",
        "target_test"
      ],
      "execution_count": 40,
      "outputs": [
        {
          "output_type": "execute_result",
          "data": {
            "text/plain": [
              "array([0, 0, 1, ..., 0, 0, 1])"
            ]
          },
          "metadata": {
            "tags": []
          },
          "execution_count": 40
        }
      ]
    },
    {
      "cell_type": "code",
      "metadata": {
        "id": "yKGv4yYUJ4hX"
      },
      "source": [
        "sample_submission.target = target_test\n",
        "sample_submission.to_csv('submission-13.csv', index=False)"
      ],
      "execution_count": 41,
      "outputs": []
    },
    {
      "cell_type": "markdown",
      "metadata": {
        "id": "vB6_uh6N4oRD"
      },
      "source": [
        "####Plot different values of parameters to find which one is optimal\n",
        "####1. n_estimator"
      ]
    },
    {
      "cell_type": "code",
      "metadata": {
        "id": "ZyFadvdwtU7i"
      },
      "source": [
        "#packages needed for graphs\n",
        "from sklearn.metrics import roc_curve, auc\n",
        "import matplotlib as mpl\n",
        "import matplotlib.pyplot as plt\n",
        "from matplotlib.legend_handler import HandlerLine2D"
      ],
      "execution_count": 42,
      "outputs": []
    },
    {
      "cell_type": "code",
      "metadata": {
        "id": "HQXct903rr8p"
      },
      "source": [
        "#Create array of values for n_estimators\n",
        "n_estimators = [1, 2, 4, 8, 16, 32, 64, 100, 200]\n",
        "\n",
        "#Build function to test value of array in the model\n",
        "train_results = []\n",
        "test_results = []\n",
        "for estimator in n_estimators:\n",
        "   RFC = RandomForestClassifier(n_estimators=estimator, n_jobs=-1) \n",
        "   pipe = Pipeline([('vectorizer', tfidf_vector),\n",
        "                 ('classifier', RFC)])\n",
        "   pipe.fit(X_train, y_train)\n",
        "   #Training data curve\n",
        "   train_pred = pipe.predict(X_train)\n",
        "   false_positive_rate, true_positive_rate, thresholds = roc_curve(y_train, train_pred)\n",
        "   roc_auc = auc(false_positive_rate, true_positive_rate)\n",
        "   train_results.append(roc_auc)\n",
        "   #Test data curve\n",
        "   y_pred = pipe.predict(X_test)\n",
        "   false_positive_rate, true_positive_rate, thresholds = roc_curve(y_test, y_pred)\n",
        "   roc_auc = auc(false_positive_rate, true_positive_rate)\n",
        "   test_results.append(roc_auc)\n"
      ],
      "execution_count": 47,
      "outputs": []
    },
    {
      "cell_type": "code",
      "metadata": {
        "colab": {
          "base_uri": "https://localhost:8080/",
          "height": 282
        },
        "id": "gCUWK84i4k1X",
        "outputId": "8b8d724d-71f4-4228-8b70-2184c456c9c9"
      },
      "source": [
        "#Plotting the curves for train and test accuracy\n",
        "line1, = plt.plot(n_estimators, train_results, 'b', label='Train AUC')\n",
        "line2, = plt.plot(n_estimators, test_results, 'r', label='Test AUC')\n",
        "plt.legend(handler_map={line1: HandlerLine2D(numpoints=2)})\n",
        "plt.ylabel('AUC score')\n",
        "plt.xlabel('n_estimators')\n",
        "plt.show()\n",
        "#We can see below a maximum for is between [25;50]"
      ],
      "execution_count": 48,
      "outputs": [
        {
          "output_type": "display_data",
          "data": {
            "image/png": "[encoded data removed]",
            "text/plain": [
              "<Figure size 432x288 with 1 Axes>"
            ]
          },
          "metadata": {
            "tags": [],
            "needs_background": "light"
          }
        }
      ]
    },
    {
      "cell_type": "markdown",
      "metadata": {
        "id": "pkpmuKAA5NGH"
      },
      "source": [
        "####2. max_depth"
      ]
    },
    {
      "cell_type": "code",
      "metadata": {
        "id": "93GLpTsJ5Uzx"
      },
      "source": [
        "#Tune max_depths parameters, analyze value between 1 and 100\n",
        "max_depths = np.linspace(1, 32, 32, endpoint=True)\n",
        "train_results = []\n",
        "test_results = []\n",
        "#Creating a function\n",
        "for max_depth in max_depths:\n",
        "   RFC = RandomForestClassifier(max_depth=max_depth, n_jobs=-1)\n",
        "   \n",
        "   pipe.fit(X_train, y_train)\n",
        "   \n",
        "   #Train data curve\n",
        "   train_pred = pipe.predict(X_train)\n",
        "   false_positive_rate, true_positive_rate, thresholds = roc_curve(y_train, train_pred)\n",
        "   roc_auc = auc(false_positive_rate, true_positive_rate)\n",
        "   train_results.append(roc_auc)\n",
        "   #Test data curve\n",
        "   y_pred = pipe.predict(X_test)\n",
        "   false_positive_rate, true_positive_rate, thresholds = roc_curve(y_test, y_pred)\n",
        "   roc_auc = auc(false_positive_rate, true_positive_rate)\n",
        "   test_results.append(roc_auc)"
      ],
      "execution_count": 49,
      "outputs": []
    },
    {
      "cell_type": "code",
      "metadata": {
        "id": "Yi0PjfWW7VkC",
        "colab": {
          "base_uri": "https://localhost:8080/",
          "height": 283
        },
        "outputId": "8be268f5-506e-4df0-cb01-e957fccd1704"
      },
      "source": [
        "#Plotting the curves for train and test accuracy\n",
        "line1, = plt.plot(max_depths, train_results, 'b', label='Train AUC')\n",
        "line2, = plt.plot(max_depths, test_results, 'r', label='Test AUC')\n",
        "plt.legend(handler_map={line1: HandlerLine2D(numpoints=2)})\n",
        "plt.ylabel('AUC score')\n",
        "plt.xlabel('Tree depth')\n",
        "plt.show()"
      ],
      "execution_count": 50,
      "outputs": [
        {
          "output_type": "display_data",
          "data": {
            "image/png": "[encoded data removed]",
            "text/plain": [
              "<Figure size 432x288 with 1 Axes>"
            ]
          },
          "metadata": {
            "tags": [],
            "needs_background": "light"
          }
        }
      ]
    },
    {
      "cell_type": "markdown",
      "metadata": {
        "id": "XHBHDVl0Kxvn"
      },
      "source": [
        "####3. min_samples_split"
      ]
    },
    {
      "cell_type": "code",
      "metadata": {
        "id": "EDqN1iS7Kw_E"
      },
      "source": [
        "#Want to know what values between 10% or 100% of the samples is needed\n",
        "min_samples_splits = np.linspace(0.1, 1.0, 10, endpoint=True)\n",
        "train_results = []\n",
        "test_results = []\n",
        "#the function\n",
        "for min_samples_split in min_samples_splits:\n",
        "   RFC = RandomForestClassifier(min_samples_split=min_samples_split)\n",
        "   #Train data curve\n",
        "   pipe.fit(X_train, y_train)\n",
        "   train_pred = pipe.predict(X_train)\n",
        "   false_positive_rate, true_positive_rate, thresholds = roc_curve(y_train, train_pred)\n",
        "   roc_auc = auc(false_positive_rate, true_positive_rate)\n",
        "   train_results.append(roc_auc)\n",
        "   #Test data curve\n",
        "   y_pred = pipe.predict(X_test)\n",
        "   false_positive_rate, true_positive_rate, thresholds = roc_curve(y_test, y_pred)\n",
        "   roc_auc = auc(false_positive_rate, true_positive_rate)\n",
        "   test_results.append(roc_auc)"
      ],
      "execution_count": null,
      "outputs": []
    },
    {
      "cell_type": "code",
      "metadata": {
        "id": "QXyvuG04Lurj"
      },
      "source": [
        "#Plotting the curves for train and test accuracy\n",
        "line1, = plt.plot(min_samples_splits, train_results, 'b', label='Train AUC')\n",
        "line2, = plt.plot(min_samples_splits, test_results, 'r', label='Test AUC')\n",
        "plt.legend(handler_map={line1: HandlerLine2D(numpoints=2)})\n",
        "plt.ylabel('AUC score')\n",
        "plt.xlabel('min samples split')\n",
        "plt.show()"
      ],
      "execution_count": null,
      "outputs": []
    },
    {
      "cell_type": "markdown",
      "metadata": {
        "id": "n4h1hR5KMziS"
      },
      "source": [
        "####4. max_features"
      ]
    },
    {
      "cell_type": "code",
      "metadata": {
        "id": "J-bh5b-zM24c"
      },
      "source": [
        "#nb of features to consider when looking for the best split\n",
        "max_features = list(range(1,df_train.shape[1]))\n",
        "train_results = []\n",
        "test_results = []\n",
        "#the function\n",
        "for max_feature in max_features:\n",
        "   RFC = RandomForestClassifier(max_features=max_feature)   \n",
        "   pipe.fit(x_train, y_train)\n",
        "   #Train data curve\n",
        "   train_pred = pipe.predict(X_train)\n",
        "   false_positive_rate, true_positive_rate, thresholds = roc_curve(y_train, train_pred)\n",
        "   roc_auc = auc(false_positive_rate, true_positive_rate)\n",
        "   train_results.append(roc_auc)\n",
        "   #Test data curve\n",
        "   y_pred = pipe.predict(X_test)\n",
        "   false_positive_rate, true_positive_rate, thresholds = roc_curve(y_test, y_pred)\n",
        "   roc_auc = auc(false_positive_rate, true_positive_rate)\n",
        "   test_results.append(roc_auc)"
      ],
      "execution_count": null,
      "outputs": []
    },
    {
      "cell_type": "code",
      "metadata": {
        "id": "bwPtXfTLM73H"
      },
      "source": [
        "#Plotting the curves for train and test accuracy\n",
        "line1, = plt.plot(max_features, train_results, 'b', label='Train AUC')\n",
        "line2, = plt.plot(max_features, test_results, 'r, label='Test AUC')\n",
        "plt.legend(handler_map={line1: HandlerLine2D(numpoints=2)})\n",
        "plt.ylabel('AUC score')\n",
        "plt.xlabel('max features')\n",
        "plt.show()"
      ],
      "execution_count": null,
      "outputs": []
    },
    {
      "cell_type": "markdown",
      "metadata": {
        "id": "iQxubR10T8oJ"
      },
      "source": [
        "##Submission 👀\n",
        "This is the code that we use to create the submission. To use it, we can just copy/paste it below the classifier of our choice and rename the .csv file."
      ]
    },
    {
      "cell_type": "code",
      "metadata": {
        "id": "BbciTNBET70C"
      },
      "source": [
        "target_test = pipe.predict(df_test['text'])\n",
        "target_test"
      ],
      "execution_count": null,
      "outputs": []
    },
    {
      "cell_type": "code",
      "metadata": {
        "id": "8OvzdksGVZST"
      },
      "source": [
        "sample_submission.assign(target = target_test)\n",
        "sample_submission.to_csv('submission-n.csv', index=False)"
      ],
      "execution_count": null,
      "outputs": []
    }
  ]
}